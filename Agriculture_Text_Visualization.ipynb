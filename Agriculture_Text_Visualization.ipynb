{
  "nbformat": 4,
  "nbformat_minor": 0,
  "metadata": {
    "colab": {
      "provenance": [],
      "collapsed_sections": [
        "hn-T0c-phzjz"
      ],
      "authorship_tag": "ABX9TyMc/Ou/QAy3Z23yIpNjHBke",
      "include_colab_link": true
    },
    "kernelspec": {
      "name": "python3",
      "display_name": "Python 3"
    },
    "language_info": {
      "name": "python"
    }
  },
  "cells": [
    {
      "cell_type": "markdown",
      "metadata": {
        "id": "view-in-github",
        "colab_type": "text"
      },
      "source": [
        "<a href=\"https://colab.research.google.com/github/OlenaBugaiova/collecting-data-about-norwegian-agriculture/blob/main/Agriculture_Text_Visualization.ipynb\" target=\"_parent\"><img src=\"https://colab.research.google.com/assets/colab-badge.svg\" alt=\"Open In Colab\"/></a>"
      ]
    },
    {
      "cell_type": "markdown",
      "source": [
        "# Task\n",
        "\n",
        "Visualize text data collected from norwegian websites on agriculture:\n",
        "\n",
        "\n",
        "\n",
        "*   https://www.nibio.no\n",
        "*   https://www.plantevernleksikonet.no/\n",
        "*   https://www.nlr.no/fagartikler\n",
        "\n"
      ],
      "metadata": {
        "id": "2hX__iNuTse3"
      }
    },
    {
      "cell_type": "code",
      "execution_count": null,
      "metadata": {
        "id": "-ZOOtPD7SREd"
      },
      "outputs": [],
      "source": [
        "NIBIO_TEXT_FILE_URL = 'nibio_text_data.json'\n",
        "PLANTEVERNLEKSIKONET_TEXT_FILE_URL = 'plantevernleksikonet_text_data.json'\n",
        "OM_NORSK_LANDBRUKS_RADGIVING_URL = 'nlr_text_data.json'"
      ]
    },
    {
      "cell_type": "markdown",
      "source": [
        "# Import Libraries"
      ],
      "metadata": {
        "id": "KixM4ODQWSpN"
      }
    },
    {
      "cell_type": "code",
      "source": [
        "!pip install nltk"
      ],
      "metadata": {
        "colab": {
          "base_uri": "https://localhost:8080/"
        },
        "id": "LYZ4spHWnfv6",
        "outputId": "8d7b7287-f862-4057-93e1-bd97e8403023"
      },
      "execution_count": null,
      "outputs": [
        {
          "output_type": "stream",
          "name": "stdout",
          "text": [
            "Requirement already satisfied: nltk in /usr/local/lib/python3.10/dist-packages (3.8.1)\n",
            "Requirement already satisfied: click in /usr/local/lib/python3.10/dist-packages (from nltk) (8.1.7)\n",
            "Requirement already satisfied: joblib in /usr/local/lib/python3.10/dist-packages (from nltk) (1.4.2)\n",
            "Requirement already satisfied: regex>=2021.8.3 in /usr/local/lib/python3.10/dist-packages (from nltk) (2024.5.15)\n",
            "Requirement already satisfied: tqdm in /usr/local/lib/python3.10/dist-packages (from nltk) (4.66.4)\n"
          ]
        }
      ]
    },
    {
      "cell_type": "code",
      "source": [
        "from google.colab import files\n",
        "import io\n",
        "\n",
        "import json\n",
        "\n",
        "# libraries for text processing\n",
        "import re\n",
        "import string\n",
        "import pprint\n",
        "\n",
        "import nltk\n",
        "nltk.download('punkt')\n",
        "nltk.download('stopwords')\n",
        "from nltk.corpus import stopwords\n",
        "from nltk.collocations import BigramAssocMeasures, BigramCollocationFinder\n",
        "from nltk.collocations import TrigramAssocMeasures, TrigramCollocationFinder\n",
        "\n",
        "from wordcloud import WordCloud\n",
        "\n",
        "import matplotlib.pyplot as plt\n",
        "%matplotlib inline\n",
        "import seaborn as sns\n",
        "\n",
        "import pandas as pd\n",
        "pd.set_option(\"display.max_rows\", None)\n",
        "pd.set_option(\"display.max_columns\", None)\n",
        "pd.set_option('display.max_colwidth', None)\n",
        "\n",
        "import numpy as np"
      ],
      "metadata": {
        "id": "u8oKUaxdWvRk",
        "colab": {
          "base_uri": "https://localhost:8080/"
        },
        "outputId": "698bc1af-f25a-44ea-835c-6600e7f64091"
      },
      "execution_count": null,
      "outputs": [
        {
          "output_type": "stream",
          "name": "stderr",
          "text": [
            "[nltk_data] Downloading package punkt to /root/nltk_data...\n",
            "[nltk_data]   Package punkt is already up-to-date!\n",
            "[nltk_data] Downloading package stopwords to /root/nltk_data...\n",
            "[nltk_data]   Package stopwords is already up-to-date!\n"
          ]
        }
      ]
    },
    {
      "cell_type": "code",
      "source": [
        "RANDOM_STATE = 311"
      ],
      "metadata": {
        "id": "h4VLrFgXdo3J"
      },
      "execution_count": null,
      "outputs": []
    },
    {
      "cell_type": "markdown",
      "source": [
        "# Methods for Data Preprocessing and Visualization"
      ],
      "metadata": {
        "id": "hn-T0c-phzjz"
      }
    },
    {
      "cell_type": "code",
      "source": [
        "def upload_text_file(file_name):\n",
        "\n",
        "    uploaded = files.upload()\n",
        "\n",
        "    for fn in uploaded.keys():\n",
        "      print('User uploaded file \"{name}\" with length {length} bytes'.format(\n",
        "          name=fn, length=len(uploaded[fn])))\n",
        "\n",
        "\n",
        "    text_file = open(file_name)\n",
        "    text_file_content = text_file.read()\n",
        "\n",
        "    text_file_content_json = json.loads(text_file_content)\n",
        "\n",
        "    return text_file_content_json"
      ],
      "metadata": {
        "id": "nh7gl4LfiaUb"
      },
      "execution_count": null,
      "outputs": []
    },
    {
      "cell_type": "markdown",
      "source": [
        "When we combine text from different paragraphs together we can have etra new line symbols, tabs or dots. We want to clean up them"
      ],
      "metadata": {
        "id": "bHde6TMQfiBF"
      }
    },
    {
      "cell_type": "code",
      "source": [
        "def tidy_up_new_line_symbols(article):\n",
        "\n",
        "    # we will remove tab symbol and keep only new line symbol\n",
        "    # when a new line symbol occurs more than once consecutively\n",
        "    # we replace it with only one\n",
        "\n",
        "    article = article.replace('\\t', '\\n')\n",
        "\n",
        "    while '\\n\\n' in article:\n",
        "        article = article.replace('\\n\\n', '\\n')\n",
        "\n",
        "    while '\\n \\n' in article:\n",
        "        article = article.replace('\\n \\n', '\\n')\n",
        "\n",
        "    article = article.replace('\\n', '\\n ')\n",
        "\n",
        "    return article\n",
        "\n",
        "def tidy_up_dots(article):\n",
        "\n",
        "    # ensure that each article ends with a dot\n",
        "    # when a dot symbol occurs more than once consecutively\n",
        "    # we replace it with only one\n",
        "\n",
        "    article = article + '.'\n",
        "\n",
        "    while '..' in article:\n",
        "        article = article.replace('..', '.')\n",
        "\n",
        "    while '?.' in article:\n",
        "        article = article.replace('?.', '.')\n",
        "\n",
        "    return article\n",
        "\n",
        "def tidy_up_punctuation(text: dict):\n",
        "\n",
        "    titles = text.keys()\n",
        "\n",
        "    for title in titles:\n",
        "\n",
        "        article = text[title]\n",
        "        article = tidy_up_new_line_symbols(article)\n",
        "        article = tidy_up_dots(article)\n",
        "\n",
        "        text[title] = article\n",
        "    return text"
      ],
      "metadata": {
        "id": "MvEz0XJTDnbI"
      },
      "execution_count": null,
      "outputs": []
    },
    {
      "cell_type": "markdown",
      "source": [
        "Text preview"
      ],
      "metadata": {
        "id": "l2fC-i7JrV4_"
      }
    },
    {
      "cell_type": "code",
      "source": [
        "def preview_text(text_dict):\n",
        "\n",
        "    text_df = pd.DataFrame(text_dict.items(), columns = ['Title', 'Article'])\n",
        "    display(text_df.head(5))"
      ],
      "metadata": {
        "id": "QJe8HDXfrbf1"
      },
      "execution_count": null,
      "outputs": []
    },
    {
      "cell_type": "markdown",
      "source": [
        "Remove stop words, punctuation, numbers, single sybmol words from the vocabulary. Not all stop words were included into norwegian language. That's why we remove stop words found in our text as they occur often but don't bring much of information"
      ],
      "metadata": {
        "id": "IPUXflJYjv6I"
      }
    },
    {
      "cell_type": "code",
      "source": [
        "def clean_text_data(vocabulary):\n",
        "\n",
        "    stop_words = stopwords.words('norwegian')\n",
        "\n",
        "    stop_words_extended = [\n",
        "        'ei', 'et', 'en', 'under', 'over', 'da', 'bak', 'foran', 'ved', 'mot',\n",
        "        'til', 'for', 'siden', 'av', 'ned', 'opp', 'to', 'andre', 'mer',\n",
        "        'litt', 'flere', 'må', 'ofte', 'mye', 'god', 'godt', 'stor',\n",
        "        'store', 'ca', 'mindre', 'hos', 'mest', 'nye', 'ny', 'derfor', 'ulike',\n",
        "        'gjennom', 'større', 'dersom', 'hele', 'arter', 'første', 'lange',\n",
        "        'lite', 'per', 'mens', 'lang', 'rundt', 'nok', 'lett', 'kg', 'først',\n",
        "        'fleste', 'eng', 'bedre', 'gode', 'pr', 'best', 'hvert', 'siste',\n",
        "        'langs', 'igjen', 'nlr', 'like', 'helt', 'annet', 'prosent', 'stort',\n",
        "        'langt', 'dårlig', 'meir', 'størst', 'alt', 'ikke', 'det', 'e', 'pa',\n",
        "        'de', 'den', 'ma', 'v', 't', 'g', 'se', 's', 'f', 'brun', 'svart', 'ga',\n",
        "        'h', 'o', 'en', 'd', 'al', 'sa', 'gra', 'rød', 'grå', 'daa',\n",
        "        'danne', 'eller', 'svært', 'lid'\n",
        "        ]\n",
        "    stop_words.extend(stop_words_extended)\n",
        "\n",
        "    # remove punctuation\n",
        "    filtered_vocabulary = [\n",
        "        word for word in vocabulary if word not in string.punctuation\n",
        "    ]\n",
        "\n",
        "    # remove leading special characters from words\n",
        "    filtered_vocabulary = [re.sub(r'^\\W+', '', w) for w in filtered_vocabulary]\n",
        "\n",
        "    # remove numbers and arithmetic expressions\n",
        "    pattern_numbers_and_expressions = re.compile('^(([-+/*,.])+)?\\d+')\n",
        "\n",
        "    filtered_vocabulary =[\n",
        "        word for word in filtered_vocabulary if not (\n",
        "            pattern_numbers_and_expressions.match(word)\n",
        "        )\n",
        "    ]\n",
        "\n",
        "    # remove stop words\n",
        "    words_to_remove = stop_words\n",
        "    filtered_vocabulary = [\n",
        "        word for word in filtered_vocabulary if word not in words_to_remove\n",
        "    ]\n",
        "\n",
        "    # remove words with only one symbol\n",
        "    filtered_vocabulary = list(filter(\n",
        "        lambda x: (len(x) > 1), filtered_vocabulary\n",
        "    ))\n",
        "\n",
        "    return filtered_vocabulary"
      ],
      "metadata": {
        "id": "3ovYcH44iGWO"
      },
      "execution_count": null,
      "outputs": []
    },
    {
      "cell_type": "markdown",
      "source": [
        "Quantitative characteristics of the text"
      ],
      "metadata": {
        "id": "0K9jazF8xoDU"
      }
    },
    {
      "cell_type": "code",
      "source": [
        "def describe_text_quantitatively(text_dict):\n",
        "\n",
        "    print(f'Number of articles: {len(text_dict)}\\n')\n",
        "\n",
        "    articles = text_dict.values()\n",
        "\n",
        "    full_text = ' '.join(articles).lower()\n",
        "\n",
        "    sentences_all = nltk.sent_tokenize(full_text)\n",
        "\n",
        "    # don't count one word sentences\n",
        "    sentences = [sentence for sentence in sentences_all if len(sentence) > 1]\n",
        "    print(f'Number of sentences in the text: {len(sentences)}\\n')\n",
        "\n",
        "    tokens = nltk.word_tokenize(' '.join(sentences_all))\n",
        "    print(f'Number of tokens in the text: {len(tokens)}\\n')\n",
        "\n",
        "    vocabulary = sorted(set(tokens))\n",
        "    vocabulary = clean_text_data(vocabulary)\n",
        "    print(f'Size of the text vocabulary: {len(vocabulary)}\\n')\n",
        "\n",
        "    return tokens, vocabulary"
      ],
      "metadata": {
        "id": "vFXUfxD5xpHD"
      },
      "execution_count": null,
      "outputs": []
    },
    {
      "cell_type": "code",
      "source": [
        "def clean_tokens(vocabulary, tokens):\n",
        "\n",
        "    cleaned_tokens = [token for token in tokens if token in vocabulary]\n",
        "    return cleaned_tokens"
      ],
      "metadata": {
        "id": "I_okSYmsx-9L"
      },
      "execution_count": null,
      "outputs": []
    },
    {
      "cell_type": "code",
      "source": [
        "def plot_frequency_tokens(tokens):\n",
        "\n",
        "    word_freq = nltk.FreqDist(tokens)\n",
        "    # print(*list(word_freq)[:200], sep = '\\n')\n",
        "\n",
        "    plt.figure(figsize = (17, 3))\n",
        "    word_freq.plot(60, title = 'The most frequent words in text')\n",
        "\n",
        "    return word_freq"
      ],
      "metadata": {
        "id": "MkghUJuXzbOI"
      },
      "execution_count": null,
      "outputs": []
    },
    {
      "cell_type": "code",
      "source": [
        "def plot_word_cloud(word_freq):\n",
        "\n",
        "    # The wordcloud\n",
        "    plt.figure(figsize = (10, 8))\n",
        "    wc = WordCloud(background_color = 'white', colormap = 'YlGnBu', max_words = 100, max_font_size = 60,  width = 500, height = 250)\n",
        "    wc.generate(' '.join(word_freq))\n",
        "    plt.imshow(wc.recolor( colormap = 'Spectral' , random_state = RANDOM_STATE), alpha = 0.98, interpolation = 'bilinear', )\n",
        "    plt.axis('off')"
      ],
      "metadata": {
        "id": "F3KZ2aYQ0TqF"
      },
      "execution_count": null,
      "outputs": []
    },
    {
      "cell_type": "markdown",
      "source": [
        "Plot collocations. A collocation is a series of words or terms that co-occur more often than would be expected by chance."
      ],
      "metadata": {
        "id": "EbThHnawz6S_"
      }
    },
    {
      "cell_type": "code",
      "source": [
        "def get_bigram_collocations(tokens):\n",
        "    bigram_frequency_creteria = 10\n",
        "    max_number_allocations = 1000\n",
        "\n",
        "    bigram_measures = BigramAssocMeasures()\n",
        "    finder = BigramCollocationFinder.from_words(tokens)\n",
        "    finder.apply_freq_filter(bigram_frequency_creteria)\n",
        "\n",
        "    bigram_collocation = finder.nbest(bigram_measures.likelihood_ratio, max_number_allocations)\n",
        "    bigram_collocation = [' '.join(col) for col in bigram_collocation]\n",
        "\n",
        "    return bigram_collocation"
      ],
      "metadata": {
        "id": "wseav0PH0YbK"
      },
      "execution_count": null,
      "outputs": []
    },
    {
      "cell_type": "code",
      "source": [
        "def get_trigram_collocations(tokens):\n",
        "    trigram_frequency_creteria = 5\n",
        "    max_number_allocations = 500\n",
        "\n",
        "    trigram_measures = TrigramAssocMeasures()\n",
        "\n",
        "    finder = TrigramCollocationFinder.from_words(tokens)\n",
        "    finder.apply_freq_filter(trigram_frequency_creteria)\n",
        "\n",
        "    trigram_collocation = finder.nbest(trigram_measures.likelihood_ratio, max_number_allocations)\n",
        "    trigram_collocation = [' '.join(col) for col in trigram_collocation]\n",
        "\n",
        "    return trigram_collocation"
      ],
      "metadata": {
        "id": "tOFiMGOi0rPn"
      },
      "execution_count": null,
      "outputs": []
    },
    {
      "cell_type": "code",
      "source": [
        "def display_the_most_frequent_word_items(tokens, bigrams, trigrams, top_n):\n",
        "\n",
        "    freq_df = pd.DataFrame(\n",
        "    {\n",
        "        'words': tokens[:top_n],\n",
        "        'bigrams': bigrams[:top_n],\n",
        "        'trigrams': trigrams[:top_n]\n",
        "    })\n",
        "\n",
        "    print(f'{top_n} the most used items in text:')\n",
        "    display(freq_df)"
      ],
      "metadata": {
        "id": "FXfnCee0bPz_"
      },
      "execution_count": null,
      "outputs": []
    },
    {
      "cell_type": "markdown",
      "source": [
        "# Nibio"
      ],
      "metadata": {
        "id": "8VxrtSnjffQl"
      }
    },
    {
      "cell_type": "markdown",
      "source": [
        "Upload text data"
      ],
      "metadata": {
        "id": "nR3Nh4W9WdPI"
      }
    },
    {
      "cell_type": "code",
      "source": [
        "nibio_text_file_content_json = upload_text_file(NIBIO_TEXT_FILE_URL)"
      ],
      "metadata": {
        "colab": {
          "base_uri": "https://localhost:8080/",
          "height": 91
        },
        "id": "uISondQPWbrs",
        "outputId": "452b94b9-4f64-406c-9ab9-eaec5d3cff1b"
      },
      "execution_count": null,
      "outputs": [
        {
          "output_type": "display_data",
          "data": {
            "text/plain": [
              "<IPython.core.display.HTML object>"
            ],
            "text/html": [
              "\n",
              "     <input type=\"file\" id=\"files-7621dd8e-e07d-4ded-a1d5-39ef1c081092\" name=\"files[]\" multiple disabled\n",
              "        style=\"border:none\" />\n",
              "     <output id=\"result-7621dd8e-e07d-4ded-a1d5-39ef1c081092\">\n",
              "      Upload widget is only available when the cell has been executed in the\n",
              "      current browser session. Please rerun this cell to enable.\n",
              "      </output>\n",
              "      <script>// Copyright 2017 Google LLC\n",
              "//\n",
              "// Licensed under the Apache License, Version 2.0 (the \"License\");\n",
              "// you may not use this file except in compliance with the License.\n",
              "// You may obtain a copy of the License at\n",
              "//\n",
              "//      http://www.apache.org/licenses/LICENSE-2.0\n",
              "//\n",
              "// Unless required by applicable law or agreed to in writing, software\n",
              "// distributed under the License is distributed on an \"AS IS\" BASIS,\n",
              "// WITHOUT WARRANTIES OR CONDITIONS OF ANY KIND, either express or implied.\n",
              "// See the License for the specific language governing permissions and\n",
              "// limitations under the License.\n",
              "\n",
              "/**\n",
              " * @fileoverview Helpers for google.colab Python module.\n",
              " */\n",
              "(function(scope) {\n",
              "function span(text, styleAttributes = {}) {\n",
              "  const element = document.createElement('span');\n",
              "  element.textContent = text;\n",
              "  for (const key of Object.keys(styleAttributes)) {\n",
              "    element.style[key] = styleAttributes[key];\n",
              "  }\n",
              "  return element;\n",
              "}\n",
              "\n",
              "// Max number of bytes which will be uploaded at a time.\n",
              "const MAX_PAYLOAD_SIZE = 100 * 1024;\n",
              "\n",
              "function _uploadFiles(inputId, outputId) {\n",
              "  const steps = uploadFilesStep(inputId, outputId);\n",
              "  const outputElement = document.getElementById(outputId);\n",
              "  // Cache steps on the outputElement to make it available for the next call\n",
              "  // to uploadFilesContinue from Python.\n",
              "  outputElement.steps = steps;\n",
              "\n",
              "  return _uploadFilesContinue(outputId);\n",
              "}\n",
              "\n",
              "// This is roughly an async generator (not supported in the browser yet),\n",
              "// where there are multiple asynchronous steps and the Python side is going\n",
              "// to poll for completion of each step.\n",
              "// This uses a Promise to block the python side on completion of each step,\n",
              "// then passes the result of the previous step as the input to the next step.\n",
              "function _uploadFilesContinue(outputId) {\n",
              "  const outputElement = document.getElementById(outputId);\n",
              "  const steps = outputElement.steps;\n",
              "\n",
              "  const next = steps.next(outputElement.lastPromiseValue);\n",
              "  return Promise.resolve(next.value.promise).then((value) => {\n",
              "    // Cache the last promise value to make it available to the next\n",
              "    // step of the generator.\n",
              "    outputElement.lastPromiseValue = value;\n",
              "    return next.value.response;\n",
              "  });\n",
              "}\n",
              "\n",
              "/**\n",
              " * Generator function which is called between each async step of the upload\n",
              " * process.\n",
              " * @param {string} inputId Element ID of the input file picker element.\n",
              " * @param {string} outputId Element ID of the output display.\n",
              " * @return {!Iterable<!Object>} Iterable of next steps.\n",
              " */\n",
              "function* uploadFilesStep(inputId, outputId) {\n",
              "  const inputElement = document.getElementById(inputId);\n",
              "  inputElement.disabled = false;\n",
              "\n",
              "  const outputElement = document.getElementById(outputId);\n",
              "  outputElement.innerHTML = '';\n",
              "\n",
              "  const pickedPromise = new Promise((resolve) => {\n",
              "    inputElement.addEventListener('change', (e) => {\n",
              "      resolve(e.target.files);\n",
              "    });\n",
              "  });\n",
              "\n",
              "  const cancel = document.createElement('button');\n",
              "  inputElement.parentElement.appendChild(cancel);\n",
              "  cancel.textContent = 'Cancel upload';\n",
              "  const cancelPromise = new Promise((resolve) => {\n",
              "    cancel.onclick = () => {\n",
              "      resolve(null);\n",
              "    };\n",
              "  });\n",
              "\n",
              "  // Wait for the user to pick the files.\n",
              "  const files = yield {\n",
              "    promise: Promise.race([pickedPromise, cancelPromise]),\n",
              "    response: {\n",
              "      action: 'starting',\n",
              "    }\n",
              "  };\n",
              "\n",
              "  cancel.remove();\n",
              "\n",
              "  // Disable the input element since further picks are not allowed.\n",
              "  inputElement.disabled = true;\n",
              "\n",
              "  if (!files) {\n",
              "    return {\n",
              "      response: {\n",
              "        action: 'complete',\n",
              "      }\n",
              "    };\n",
              "  }\n",
              "\n",
              "  for (const file of files) {\n",
              "    const li = document.createElement('li');\n",
              "    li.append(span(file.name, {fontWeight: 'bold'}));\n",
              "    li.append(span(\n",
              "        `(${file.type || 'n/a'}) - ${file.size} bytes, ` +\n",
              "        `last modified: ${\n",
              "            file.lastModifiedDate ? file.lastModifiedDate.toLocaleDateString() :\n",
              "                                    'n/a'} - `));\n",
              "    const percent = span('0% done');\n",
              "    li.appendChild(percent);\n",
              "\n",
              "    outputElement.appendChild(li);\n",
              "\n",
              "    const fileDataPromise = new Promise((resolve) => {\n",
              "      const reader = new FileReader();\n",
              "      reader.onload = (e) => {\n",
              "        resolve(e.target.result);\n",
              "      };\n",
              "      reader.readAsArrayBuffer(file);\n",
              "    });\n",
              "    // Wait for the data to be ready.\n",
              "    let fileData = yield {\n",
              "      promise: fileDataPromise,\n",
              "      response: {\n",
              "        action: 'continue',\n",
              "      }\n",
              "    };\n",
              "\n",
              "    // Use a chunked sending to avoid message size limits. See b/62115660.\n",
              "    let position = 0;\n",
              "    do {\n",
              "      const length = Math.min(fileData.byteLength - position, MAX_PAYLOAD_SIZE);\n",
              "      const chunk = new Uint8Array(fileData, position, length);\n",
              "      position += length;\n",
              "\n",
              "      const base64 = btoa(String.fromCharCode.apply(null, chunk));\n",
              "      yield {\n",
              "        response: {\n",
              "          action: 'append',\n",
              "          file: file.name,\n",
              "          data: base64,\n",
              "        },\n",
              "      };\n",
              "\n",
              "      let percentDone = fileData.byteLength === 0 ?\n",
              "          100 :\n",
              "          Math.round((position / fileData.byteLength) * 100);\n",
              "      percent.textContent = `${percentDone}% done`;\n",
              "\n",
              "    } while (position < fileData.byteLength);\n",
              "  }\n",
              "\n",
              "  // All done.\n",
              "  yield {\n",
              "    response: {\n",
              "      action: 'complete',\n",
              "    }\n",
              "  };\n",
              "}\n",
              "\n",
              "scope.google = scope.google || {};\n",
              "scope.google.colab = scope.google.colab || {};\n",
              "scope.google.colab._files = {\n",
              "  _uploadFiles,\n",
              "  _uploadFilesContinue,\n",
              "};\n",
              "})(self);\n",
              "</script> "
            ]
          },
          "metadata": {}
        },
        {
          "output_type": "stream",
          "name": "stdout",
          "text": [
            "Saving nibio_text_data.json to nibio_text_data.json\n",
            "User uploaded file \"nibio_text_data.json\" with length 989136 bytes\n"
          ]
        }
      ]
    },
    {
      "cell_type": "code",
      "source": [
        "# print(json.dumps(nibio_text_file_content_json, ensure_ascii = False, indent = 4))"
      ],
      "metadata": {
        "id": "0r-7TY8gaiSO"
      },
      "execution_count": null,
      "outputs": []
    },
    {
      "cell_type": "markdown",
      "source": [
        "Reorganize text in a form of dictionary with titles and articles:"
      ],
      "metadata": {
        "id": "89hKl6N1aUzs"
      }
    },
    {
      "cell_type": "code",
      "source": [
        "nibio_text_file_content = {}\n",
        "\n",
        "sections = nibio_text_file_content_json\n",
        "\n",
        "while len(sections) > 0:\n",
        "\n",
        "    section = sections.pop(0)\n",
        "    title = section['title']\n",
        "    article = section['text']\n",
        "    nibio_text_file_content[title] = article\n",
        "\n",
        "    if 'children' in section:\n",
        "        sections.extend(section['children'])"
      ],
      "metadata": {
        "id": "rpl_4Sx4afKq"
      },
      "execution_count": null,
      "outputs": []
    },
    {
      "cell_type": "code",
      "source": [
        "nibio_text_file_content = tidy_up_punctuation(nibio_text_file_content)"
      ],
      "metadata": {
        "id": "EpDR8XNIogrq"
      },
      "execution_count": null,
      "outputs": []
    },
    {
      "cell_type": "markdown",
      "source": [
        "Text preview"
      ],
      "metadata": {
        "id": "CNdumbnZW_34"
      }
    },
    {
      "cell_type": "code",
      "source": [
        "preview_text(nibio_text_file_content)"
      ],
      "metadata": {
        "colab": {
          "base_uri": "https://localhost:8080/",
          "height": 293
        },
        "id": "iIFaeVgaYAuW",
        "outputId": "4f6de4d8-8746-4b8f-9700-0527cd516dad"
      },
      "execution_count": null,
      "outputs": [
        {
          "output_type": "display_data",
          "data": {
            "text/plain": [
              "         Title  \\\n",
              "0         Skog   \n",
              "1         Jord   \n",
              "2          Mat   \n",
              "3  Plantehelse   \n",
              "4     Landskap   \n",
              "\n",
              "                                                                                                                                                                                                                                                                                                                         Article  \n",
              "0  Hvor mye skog er det i Norge og hvordan kan vi best utnytte og ta vare på den? Hvordan påvirker skogen klimaet? Ved NIBIO har vi oversikt over skogressursene og skogens vekst og utvikling i Norge. Vi forsker på effektiv skogskjøtsel og -drift, bruk av tre og karbonlagring. Vi overvåker forekomst av skader på skogen.  \n",
              "1                        Hvor er den beste matjorda? Hva består jorda av og hvordan fungerer den? Hvor og hvordan er landbruksarealene fordelt?   NIBIO kartlegger hva slags jordressurser vi har, hvor de er og hvilke egenskaper jorda har. Vi overvåker også hvor store lagrene er og endringer i jordkarbon i skog og beite.  \n",
              "2                    Hvordan kan vi produsere nok mat til alle, uten å forurense miljøet og drikkevannet, og uten å bidra til at klimaendringene blir verre? NIBIO forsker på hvilke plantesorter som produserer mest mat, og hvordan maten bør dyrkes. Ny teknologi gjør det mulig å produsere mer mat på en miljøvennlig måte.  \n",
              "3                                                                           Hvorfor blir planter sjuke? NIBIO overvåker plantesjukdommer, skadedyr og ugras, studerer hvorfor skader på planter oppstår, og hvordan vi kan holde planter friske. Vi analyserer også rester av plantevernmidler og ulike andre stoffer i planter.  \n",
              "4                                                                 I NIBIO forsker vi på landskap som mennesker har påvirket med jord- og skogbruk. Slike landskap finnes i lavlandet og på fjellet, i daler og langs fjorder, landlig og bynært. Vi kartlegger og overvåker bruk av arealer, biologisk mangfold og kulturminner.  "
            ],
            "text/html": [
              "\n",
              "  <div id=\"df-2e2ffb20-7f95-4db0-92de-9cc96ec94030\" class=\"colab-df-container\">\n",
              "    <div>\n",
              "<style scoped>\n",
              "    .dataframe tbody tr th:only-of-type {\n",
              "        vertical-align: middle;\n",
              "    }\n",
              "\n",
              "    .dataframe tbody tr th {\n",
              "        vertical-align: top;\n",
              "    }\n",
              "\n",
              "    .dataframe thead th {\n",
              "        text-align: right;\n",
              "    }\n",
              "</style>\n",
              "<table border=\"1\" class=\"dataframe\">\n",
              "  <thead>\n",
              "    <tr style=\"text-align: right;\">\n",
              "      <th></th>\n",
              "      <th>Title</th>\n",
              "      <th>Article</th>\n",
              "    </tr>\n",
              "  </thead>\n",
              "  <tbody>\n",
              "    <tr>\n",
              "      <th>0</th>\n",
              "      <td>Skog</td>\n",
              "      <td>Hvor mye skog er det i Norge og hvordan kan vi best utnytte og ta vare på den? Hvordan påvirker skogen klimaet? Ved NIBIO har vi oversikt over skogressursene og skogens vekst og utvikling i Norge. Vi forsker på effektiv skogskjøtsel og -drift, bruk av tre og karbonlagring. Vi overvåker forekomst av skader på skogen.</td>\n",
              "    </tr>\n",
              "    <tr>\n",
              "      <th>1</th>\n",
              "      <td>Jord</td>\n",
              "      <td>Hvor er den beste matjorda? Hva består jorda av og hvordan fungerer den? Hvor og hvordan er landbruksarealene fordelt?   NIBIO kartlegger hva slags jordressurser vi har, hvor de er og hvilke egenskaper jorda har. Vi overvåker også hvor store lagrene er og endringer i jordkarbon i skog og beite.</td>\n",
              "    </tr>\n",
              "    <tr>\n",
              "      <th>2</th>\n",
              "      <td>Mat</td>\n",
              "      <td>Hvordan kan vi produsere nok mat til alle, uten å forurense miljøet og drikkevannet, og uten å bidra til at klimaendringene blir verre? NIBIO forsker på hvilke plantesorter som produserer mest mat, og hvordan maten bør dyrkes. Ny teknologi gjør det mulig å produsere mer mat på en miljøvennlig måte.</td>\n",
              "    </tr>\n",
              "    <tr>\n",
              "      <th>3</th>\n",
              "      <td>Plantehelse</td>\n",
              "      <td>Hvorfor blir planter sjuke? NIBIO overvåker plantesjukdommer, skadedyr og ugras, studerer hvorfor skader på planter oppstår, og hvordan vi kan holde planter friske. Vi analyserer også rester av plantevernmidler og ulike andre stoffer i planter.</td>\n",
              "    </tr>\n",
              "    <tr>\n",
              "      <th>4</th>\n",
              "      <td>Landskap</td>\n",
              "      <td>I NIBIO forsker vi på landskap som mennesker har påvirket med jord- og skogbruk. Slike landskap finnes i lavlandet og på fjellet, i daler og langs fjorder, landlig og bynært. Vi kartlegger og overvåker bruk av arealer, biologisk mangfold og kulturminner.</td>\n",
              "    </tr>\n",
              "  </tbody>\n",
              "</table>\n",
              "</div>\n",
              "    <div class=\"colab-df-buttons\">\n",
              "\n",
              "  <div class=\"colab-df-container\">\n",
              "    <button class=\"colab-df-convert\" onclick=\"convertToInteractive('df-2e2ffb20-7f95-4db0-92de-9cc96ec94030')\"\n",
              "            title=\"Convert this dataframe to an interactive table.\"\n",
              "            style=\"display:none;\">\n",
              "\n",
              "  <svg xmlns=\"http://www.w3.org/2000/svg\" height=\"24px\" viewBox=\"0 -960 960 960\">\n",
              "    <path d=\"M120-120v-720h720v720H120Zm60-500h600v-160H180v160Zm220 220h160v-160H400v160Zm0 220h160v-160H400v160ZM180-400h160v-160H180v160Zm440 0h160v-160H620v160ZM180-180h160v-160H180v160Zm440 0h160v-160H620v160Z\"/>\n",
              "  </svg>\n",
              "    </button>\n",
              "\n",
              "  <style>\n",
              "    .colab-df-container {\n",
              "      display:flex;\n",
              "      gap: 12px;\n",
              "    }\n",
              "\n",
              "    .colab-df-convert {\n",
              "      background-color: #E8F0FE;\n",
              "      border: none;\n",
              "      border-radius: 50%;\n",
              "      cursor: pointer;\n",
              "      display: none;\n",
              "      fill: #1967D2;\n",
              "      height: 32px;\n",
              "      padding: 0 0 0 0;\n",
              "      width: 32px;\n",
              "    }\n",
              "\n",
              "    .colab-df-convert:hover {\n",
              "      background-color: #E2EBFA;\n",
              "      box-shadow: 0px 1px 2px rgba(60, 64, 67, 0.3), 0px 1px 3px 1px rgba(60, 64, 67, 0.15);\n",
              "      fill: #174EA6;\n",
              "    }\n",
              "\n",
              "    .colab-df-buttons div {\n",
              "      margin-bottom: 4px;\n",
              "    }\n",
              "\n",
              "    [theme=dark] .colab-df-convert {\n",
              "      background-color: #3B4455;\n",
              "      fill: #D2E3FC;\n",
              "    }\n",
              "\n",
              "    [theme=dark] .colab-df-convert:hover {\n",
              "      background-color: #434B5C;\n",
              "      box-shadow: 0px 1px 3px 1px rgba(0, 0, 0, 0.15);\n",
              "      filter: drop-shadow(0px 1px 2px rgba(0, 0, 0, 0.3));\n",
              "      fill: #FFFFFF;\n",
              "    }\n",
              "  </style>\n",
              "\n",
              "    <script>\n",
              "      const buttonEl =\n",
              "        document.querySelector('#df-2e2ffb20-7f95-4db0-92de-9cc96ec94030 button.colab-df-convert');\n",
              "      buttonEl.style.display =\n",
              "        google.colab.kernel.accessAllowed ? 'block' : 'none';\n",
              "\n",
              "      async function convertToInteractive(key) {\n",
              "        const element = document.querySelector('#df-2e2ffb20-7f95-4db0-92de-9cc96ec94030');\n",
              "        const dataTable =\n",
              "          await google.colab.kernel.invokeFunction('convertToInteractive',\n",
              "                                                    [key], {});\n",
              "        if (!dataTable) return;\n",
              "\n",
              "        const docLinkHtml = 'Like what you see? Visit the ' +\n",
              "          '<a target=\"_blank\" href=https://colab.research.google.com/notebooks/data_table.ipynb>data table notebook</a>'\n",
              "          + ' to learn more about interactive tables.';\n",
              "        element.innerHTML = '';\n",
              "        dataTable['output_type'] = 'display_data';\n",
              "        await google.colab.output.renderOutput(dataTable, element);\n",
              "        const docLink = document.createElement('div');\n",
              "        docLink.innerHTML = docLinkHtml;\n",
              "        element.appendChild(docLink);\n",
              "      }\n",
              "    </script>\n",
              "  </div>\n",
              "\n",
              "\n",
              "<div id=\"df-0e63928d-8eaf-417e-9a02-68df3a4df460\">\n",
              "  <button class=\"colab-df-quickchart\" onclick=\"quickchart('df-0e63928d-8eaf-417e-9a02-68df3a4df460')\"\n",
              "            title=\"Suggest charts\"\n",
              "            style=\"display:none;\">\n",
              "\n",
              "<svg xmlns=\"http://www.w3.org/2000/svg\" height=\"24px\"viewBox=\"0 0 24 24\"\n",
              "     width=\"24px\">\n",
              "    <g>\n",
              "        <path d=\"M19 3H5c-1.1 0-2 .9-2 2v14c0 1.1.9 2 2 2h14c1.1 0 2-.9 2-2V5c0-1.1-.9-2-2-2zM9 17H7v-7h2v7zm4 0h-2V7h2v10zm4 0h-2v-4h2v4z\"/>\n",
              "    </g>\n",
              "</svg>\n",
              "  </button>\n",
              "\n",
              "<style>\n",
              "  .colab-df-quickchart {\n",
              "      --bg-color: #E8F0FE;\n",
              "      --fill-color: #1967D2;\n",
              "      --hover-bg-color: #E2EBFA;\n",
              "      --hover-fill-color: #174EA6;\n",
              "      --disabled-fill-color: #AAA;\n",
              "      --disabled-bg-color: #DDD;\n",
              "  }\n",
              "\n",
              "  [theme=dark] .colab-df-quickchart {\n",
              "      --bg-color: #3B4455;\n",
              "      --fill-color: #D2E3FC;\n",
              "      --hover-bg-color: #434B5C;\n",
              "      --hover-fill-color: #FFFFFF;\n",
              "      --disabled-bg-color: #3B4455;\n",
              "      --disabled-fill-color: #666;\n",
              "  }\n",
              "\n",
              "  .colab-df-quickchart {\n",
              "    background-color: var(--bg-color);\n",
              "    border: none;\n",
              "    border-radius: 50%;\n",
              "    cursor: pointer;\n",
              "    display: none;\n",
              "    fill: var(--fill-color);\n",
              "    height: 32px;\n",
              "    padding: 0;\n",
              "    width: 32px;\n",
              "  }\n",
              "\n",
              "  .colab-df-quickchart:hover {\n",
              "    background-color: var(--hover-bg-color);\n",
              "    box-shadow: 0 1px 2px rgba(60, 64, 67, 0.3), 0 1px 3px 1px rgba(60, 64, 67, 0.15);\n",
              "    fill: var(--button-hover-fill-color);\n",
              "  }\n",
              "\n",
              "  .colab-df-quickchart-complete:disabled,\n",
              "  .colab-df-quickchart-complete:disabled:hover {\n",
              "    background-color: var(--disabled-bg-color);\n",
              "    fill: var(--disabled-fill-color);\n",
              "    box-shadow: none;\n",
              "  }\n",
              "\n",
              "  .colab-df-spinner {\n",
              "    border: 2px solid var(--fill-color);\n",
              "    border-color: transparent;\n",
              "    border-bottom-color: var(--fill-color);\n",
              "    animation:\n",
              "      spin 1s steps(1) infinite;\n",
              "  }\n",
              "\n",
              "  @keyframes spin {\n",
              "    0% {\n",
              "      border-color: transparent;\n",
              "      border-bottom-color: var(--fill-color);\n",
              "      border-left-color: var(--fill-color);\n",
              "    }\n",
              "    20% {\n",
              "      border-color: transparent;\n",
              "      border-left-color: var(--fill-color);\n",
              "      border-top-color: var(--fill-color);\n",
              "    }\n",
              "    30% {\n",
              "      border-color: transparent;\n",
              "      border-left-color: var(--fill-color);\n",
              "      border-top-color: var(--fill-color);\n",
              "      border-right-color: var(--fill-color);\n",
              "    }\n",
              "    40% {\n",
              "      border-color: transparent;\n",
              "      border-right-color: var(--fill-color);\n",
              "      border-top-color: var(--fill-color);\n",
              "    }\n",
              "    60% {\n",
              "      border-color: transparent;\n",
              "      border-right-color: var(--fill-color);\n",
              "    }\n",
              "    80% {\n",
              "      border-color: transparent;\n",
              "      border-right-color: var(--fill-color);\n",
              "      border-bottom-color: var(--fill-color);\n",
              "    }\n",
              "    90% {\n",
              "      border-color: transparent;\n",
              "      border-bottom-color: var(--fill-color);\n",
              "    }\n",
              "  }\n",
              "</style>\n",
              "\n",
              "  <script>\n",
              "    async function quickchart(key) {\n",
              "      const quickchartButtonEl =\n",
              "        document.querySelector('#' + key + ' button');\n",
              "      quickchartButtonEl.disabled = true;  // To prevent multiple clicks.\n",
              "      quickchartButtonEl.classList.add('colab-df-spinner');\n",
              "      try {\n",
              "        const charts = await google.colab.kernel.invokeFunction(\n",
              "            'suggestCharts', [key], {});\n",
              "      } catch (error) {\n",
              "        console.error('Error during call to suggestCharts:', error);\n",
              "      }\n",
              "      quickchartButtonEl.classList.remove('colab-df-spinner');\n",
              "      quickchartButtonEl.classList.add('colab-df-quickchart-complete');\n",
              "    }\n",
              "    (() => {\n",
              "      let quickchartButtonEl =\n",
              "        document.querySelector('#df-0e63928d-8eaf-417e-9a02-68df3a4df460 button');\n",
              "      quickchartButtonEl.style.display =\n",
              "        google.colab.kernel.accessAllowed ? 'block' : 'none';\n",
              "    })();\n",
              "  </script>\n",
              "</div>\n",
              "\n",
              "    </div>\n",
              "  </div>\n"
            ],
            "application/vnd.google.colaboratory.intrinsic+json": {
              "type": "dataframe",
              "summary": "{\n  \"name\": \"preview_text(nibio_text_file_content)\",\n  \"rows\": 5,\n  \"fields\": [\n    {\n      \"column\": \"Title\",\n      \"properties\": {\n        \"dtype\": \"string\",\n        \"num_unique_values\": 5,\n        \"samples\": [\n          \"Jord\",\n          \"Landskap\",\n          \"Mat\"\n        ],\n        \"semantic_type\": \"\",\n        \"description\": \"\"\n      }\n    },\n    {\n      \"column\": \"Article\",\n      \"properties\": {\n        \"dtype\": \"string\",\n        \"num_unique_values\": 5,\n        \"samples\": [\n          \"Hvor er den beste matjorda? Hva best\\u00e5r jorda av og hvordan fungerer den? Hvor og hvordan er landbruksarealene fordelt?   NIBIO kartlegger hva slags jordressurser vi har, hvor de er og hvilke egenskaper jorda har. Vi overv\\u00e5ker ogs\\u00e5 hvor store lagrene er og endringer i jordkarbon i skog og beite.\",\n          \"I NIBIO forsker vi p\\u00e5 landskap som mennesker har p\\u00e5virket med jord- og skogbruk. Slike landskap finnes i lavlandet og p\\u00e5 fjellet, i daler og langs fjorder, landlig og byn\\u00e6rt. Vi kartlegger og overv\\u00e5ker bruk av arealer, biologisk mangfold og kulturminner.\",\n          \"Hvordan kan vi produsere nok mat til alle, uten \\u00e5 forurense milj\\u00f8et og drikkevannet, og uten \\u00e5 bidra til at klimaendringene blir verre? NIBIO forsker p\\u00e5 hvilke plantesorter som produserer mest mat, og hvordan maten b\\u00f8r dyrkes. Ny teknologi gj\\u00f8r det mulig \\u00e5 produsere mer mat p\\u00e5 en milj\\u00f8vennlig m\\u00e5te.\"\n        ],\n        \"semantic_type\": \"\",\n        \"description\": \"\"\n      }\n    }\n  ]\n}"
            }
          },
          "metadata": {}
        }
      ]
    },
    {
      "cell_type": "markdown",
      "source": [
        "This is high level brief description of the topics, later articles contain more text"
      ],
      "metadata": {
        "id": "OO35cfr0kYFA"
      }
    },
    {
      "cell_type": "markdown",
      "source": [
        "Quantitative characteristics"
      ],
      "metadata": {
        "id": "jcmRymSuXnrL"
      }
    },
    {
      "cell_type": "code",
      "source": [
        "tokens, vocabulary = describe_text_quantitatively(nibio_text_file_content)"
      ],
      "metadata": {
        "colab": {
          "base_uri": "https://localhost:8080/"
        },
        "id": "Lsdi9pKCYI79",
        "outputId": "a9e8b487-d90a-4cd7-a403-432f8b6e066a"
      },
      "execution_count": null,
      "outputs": [
        {
          "output_type": "stream",
          "name": "stdout",
          "text": [
            "Number of articles: 497\n",
            "\n",
            "Number of sentences in the text: 6970\n",
            "\n",
            "Number of tokens in the text: 144511\n",
            "\n",
            "Size of the text vocabulary: 16330\n",
            "\n"
          ]
        }
      ]
    },
    {
      "cell_type": "markdown",
      "source": [
        "# Plantevernleksikonet"
      ],
      "metadata": {
        "id": "pzuXi3jTgg93"
      }
    },
    {
      "cell_type": "markdown",
      "source": [
        "Upload text data"
      ],
      "metadata": {
        "id": "WY-eN6gTWWWk"
      }
    },
    {
      "cell_type": "code",
      "source": [
        "plantevernleksikonet_text_file_content_json = upload_text_file(PLANTEVERNLEKSIKONET_TEXT_FILE_URL)"
      ],
      "metadata": {
        "colab": {
          "base_uri": "https://localhost:8080/",
          "height": 91
        },
        "id": "eqZqVYYiWaXw",
        "outputId": "b069175e-6e23-4290-c876-f52c2bee4435"
      },
      "execution_count": null,
      "outputs": [
        {
          "output_type": "display_data",
          "data": {
            "text/plain": [
              "<IPython.core.display.HTML object>"
            ],
            "text/html": [
              "\n",
              "     <input type=\"file\" id=\"files-85c22404-44f8-4dee-b42d-523872c1d342\" name=\"files[]\" multiple disabled\n",
              "        style=\"border:none\" />\n",
              "     <output id=\"result-85c22404-44f8-4dee-b42d-523872c1d342\">\n",
              "      Upload widget is only available when the cell has been executed in the\n",
              "      current browser session. Please rerun this cell to enable.\n",
              "      </output>\n",
              "      <script>// Copyright 2017 Google LLC\n",
              "//\n",
              "// Licensed under the Apache License, Version 2.0 (the \"License\");\n",
              "// you may not use this file except in compliance with the License.\n",
              "// You may obtain a copy of the License at\n",
              "//\n",
              "//      http://www.apache.org/licenses/LICENSE-2.0\n",
              "//\n",
              "// Unless required by applicable law or agreed to in writing, software\n",
              "// distributed under the License is distributed on an \"AS IS\" BASIS,\n",
              "// WITHOUT WARRANTIES OR CONDITIONS OF ANY KIND, either express or implied.\n",
              "// See the License for the specific language governing permissions and\n",
              "// limitations under the License.\n",
              "\n",
              "/**\n",
              " * @fileoverview Helpers for google.colab Python module.\n",
              " */\n",
              "(function(scope) {\n",
              "function span(text, styleAttributes = {}) {\n",
              "  const element = document.createElement('span');\n",
              "  element.textContent = text;\n",
              "  for (const key of Object.keys(styleAttributes)) {\n",
              "    element.style[key] = styleAttributes[key];\n",
              "  }\n",
              "  return element;\n",
              "}\n",
              "\n",
              "// Max number of bytes which will be uploaded at a time.\n",
              "const MAX_PAYLOAD_SIZE = 100 * 1024;\n",
              "\n",
              "function _uploadFiles(inputId, outputId) {\n",
              "  const steps = uploadFilesStep(inputId, outputId);\n",
              "  const outputElement = document.getElementById(outputId);\n",
              "  // Cache steps on the outputElement to make it available for the next call\n",
              "  // to uploadFilesContinue from Python.\n",
              "  outputElement.steps = steps;\n",
              "\n",
              "  return _uploadFilesContinue(outputId);\n",
              "}\n",
              "\n",
              "// This is roughly an async generator (not supported in the browser yet),\n",
              "// where there are multiple asynchronous steps and the Python side is going\n",
              "// to poll for completion of each step.\n",
              "// This uses a Promise to block the python side on completion of each step,\n",
              "// then passes the result of the previous step as the input to the next step.\n",
              "function _uploadFilesContinue(outputId) {\n",
              "  const outputElement = document.getElementById(outputId);\n",
              "  const steps = outputElement.steps;\n",
              "\n",
              "  const next = steps.next(outputElement.lastPromiseValue);\n",
              "  return Promise.resolve(next.value.promise).then((value) => {\n",
              "    // Cache the last promise value to make it available to the next\n",
              "    // step of the generator.\n",
              "    outputElement.lastPromiseValue = value;\n",
              "    return next.value.response;\n",
              "  });\n",
              "}\n",
              "\n",
              "/**\n",
              " * Generator function which is called between each async step of the upload\n",
              " * process.\n",
              " * @param {string} inputId Element ID of the input file picker element.\n",
              " * @param {string} outputId Element ID of the output display.\n",
              " * @return {!Iterable<!Object>} Iterable of next steps.\n",
              " */\n",
              "function* uploadFilesStep(inputId, outputId) {\n",
              "  const inputElement = document.getElementById(inputId);\n",
              "  inputElement.disabled = false;\n",
              "\n",
              "  const outputElement = document.getElementById(outputId);\n",
              "  outputElement.innerHTML = '';\n",
              "\n",
              "  const pickedPromise = new Promise((resolve) => {\n",
              "    inputElement.addEventListener('change', (e) => {\n",
              "      resolve(e.target.files);\n",
              "    });\n",
              "  });\n",
              "\n",
              "  const cancel = document.createElement('button');\n",
              "  inputElement.parentElement.appendChild(cancel);\n",
              "  cancel.textContent = 'Cancel upload';\n",
              "  const cancelPromise = new Promise((resolve) => {\n",
              "    cancel.onclick = () => {\n",
              "      resolve(null);\n",
              "    };\n",
              "  });\n",
              "\n",
              "  // Wait for the user to pick the files.\n",
              "  const files = yield {\n",
              "    promise: Promise.race([pickedPromise, cancelPromise]),\n",
              "    response: {\n",
              "      action: 'starting',\n",
              "    }\n",
              "  };\n",
              "\n",
              "  cancel.remove();\n",
              "\n",
              "  // Disable the input element since further picks are not allowed.\n",
              "  inputElement.disabled = true;\n",
              "\n",
              "  if (!files) {\n",
              "    return {\n",
              "      response: {\n",
              "        action: 'complete',\n",
              "      }\n",
              "    };\n",
              "  }\n",
              "\n",
              "  for (const file of files) {\n",
              "    const li = document.createElement('li');\n",
              "    li.append(span(file.name, {fontWeight: 'bold'}));\n",
              "    li.append(span(\n",
              "        `(${file.type || 'n/a'}) - ${file.size} bytes, ` +\n",
              "        `last modified: ${\n",
              "            file.lastModifiedDate ? file.lastModifiedDate.toLocaleDateString() :\n",
              "                                    'n/a'} - `));\n",
              "    const percent = span('0% done');\n",
              "    li.appendChild(percent);\n",
              "\n",
              "    outputElement.appendChild(li);\n",
              "\n",
              "    const fileDataPromise = new Promise((resolve) => {\n",
              "      const reader = new FileReader();\n",
              "      reader.onload = (e) => {\n",
              "        resolve(e.target.result);\n",
              "      };\n",
              "      reader.readAsArrayBuffer(file);\n",
              "    });\n",
              "    // Wait for the data to be ready.\n",
              "    let fileData = yield {\n",
              "      promise: fileDataPromise,\n",
              "      response: {\n",
              "        action: 'continue',\n",
              "      }\n",
              "    };\n",
              "\n",
              "    // Use a chunked sending to avoid message size limits. See b/62115660.\n",
              "    let position = 0;\n",
              "    do {\n",
              "      const length = Math.min(fileData.byteLength - position, MAX_PAYLOAD_SIZE);\n",
              "      const chunk = new Uint8Array(fileData, position, length);\n",
              "      position += length;\n",
              "\n",
              "      const base64 = btoa(String.fromCharCode.apply(null, chunk));\n",
              "      yield {\n",
              "        response: {\n",
              "          action: 'append',\n",
              "          file: file.name,\n",
              "          data: base64,\n",
              "        },\n",
              "      };\n",
              "\n",
              "      let percentDone = fileData.byteLength === 0 ?\n",
              "          100 :\n",
              "          Math.round((position / fileData.byteLength) * 100);\n",
              "      percent.textContent = `${percentDone}% done`;\n",
              "\n",
              "    } while (position < fileData.byteLength);\n",
              "  }\n",
              "\n",
              "  // All done.\n",
              "  yield {\n",
              "    response: {\n",
              "      action: 'complete',\n",
              "    }\n",
              "  };\n",
              "}\n",
              "\n",
              "scope.google = scope.google || {};\n",
              "scope.google.colab = scope.google.colab || {};\n",
              "scope.google.colab._files = {\n",
              "  _uploadFiles,\n",
              "  _uploadFilesContinue,\n",
              "};\n",
              "})(self);\n",
              "</script> "
            ]
          },
          "metadata": {}
        },
        {
          "output_type": "stream",
          "name": "stdout",
          "text": [
            "Saving plantevernleksikonet_text_data.json to plantevernleksikonet_text_data.json\n",
            "User uploaded file \"plantevernleksikonet_text_data.json\" with length 3297081 bytes\n"
          ]
        }
      ]
    },
    {
      "cell_type": "code",
      "source": [
        "# print(json.dumps(\n",
        "#     plantevernleksikonet_text_file_content_json,\n",
        "#     ensure_ascii = False,\n",
        "#     indent = 4\n",
        "#     ))"
      ],
      "metadata": {
        "id": "thDjtEZxlFeI"
      },
      "execution_count": null,
      "outputs": []
    },
    {
      "cell_type": "markdown",
      "source": [
        "Reorganize text in a form of dictionary with titles and articles\n",
        "\n",
        "We want to keep information from headers about latin name and group in additional text file"
      ],
      "metadata": {
        "id": "BLspDAUugNYt"
      }
    },
    {
      "cell_type": "code",
      "source": [
        "plantevernleksikonet_text_file_content = {}\n",
        "plantevernleksikonet_text_file_content_with_headers = {}\n",
        "\n",
        "for title in plantevernleksikonet_text_file_content_json.keys():\n",
        "\n",
        "    article_info = plantevernleksikonet_text_file_content_json[title]\n",
        "\n",
        "    headers = article_info['headers'].split('\\n')\n",
        "    headers_text = ''\n",
        "\n",
        "    if len(headers) > 1:\n",
        "        headers_text = 'Name in latin: ' + headers[1].lower() + '. '\n",
        "\n",
        "        if len(headers) > 2:\n",
        "            headers_group = 'Group: ' + headers[2].lower() + '. '\n",
        "            headers_text = headers_text + headers_group\n",
        "\n",
        "    article_text = ' '.join([\n",
        "        article_info['summary'], article_info['content'\n",
        "        ]])\n",
        "    article_text_with_headers = ' '.join([\n",
        "        headers_text, article_info['summary'], article_info['content']\n",
        "        ])\n",
        "\n",
        "    plantevernleksikonet_text_file_content[title] = article_text\n",
        "    plantevernleksikonet_text_file_content_with_headers[title] = article_text_with_headers"
      ],
      "metadata": {
        "id": "ToBBGjcKgjHl"
      },
      "execution_count": null,
      "outputs": []
    },
    {
      "cell_type": "code",
      "source": [
        "plantevernleksikonet_text_file_content = tidy_up_punctuation(\n",
        "    plantevernleksikonet_text_file_content\n",
        "    )\n",
        "\n",
        "plantevernleksikonet_text_file_content_with_headers = tidy_up_punctuation(\n",
        "    plantevernleksikonet_text_file_content_with_headers\n",
        "    )"
      ],
      "metadata": {
        "id": "uDtMAddXou3N"
      },
      "execution_count": null,
      "outputs": []
    },
    {
      "cell_type": "markdown",
      "source": [
        "Text preview"
      ],
      "metadata": {
        "id": "d4ZrQZ7QW-zu"
      }
    },
    {
      "cell_type": "code",
      "source": [
        "preview_text(plantevernleksikonet_text_file_content)"
      ],
      "metadata": {
        "colab": {
          "base_uri": "https://localhost:8080/",
          "height": 1000
        },
        "id": "TTXT6hnhX1C9",
        "outputId": "be9203d6-f539-4ec3-b19d-62d89834ad7d"
      },
      "execution_count": null,
      "outputs": [
        {
          "output_type": "display_data",
          "data": {
            "text/plain": [
              "            Title  \\\n",
              "0        Hestehov   \n",
              "1   Bomullsmellus   \n",
              "2  Veksthusmellus   \n",
              "3          Mellus   \n",
              "4         Bladlus   \n",
              "\n",
              "                                                                                                                                                                                                                                                                                                                                                                                                                                                                                                                                                                                                                                                                                                                                                                                                                                                                                                                                                                                                                                                                                                                                                                                                                                                                                                                                                                                                                                                                                                                                                                                                                                                                                                                                                                                                                                                                                                                                                                                                                                                                                                                                                                                                                                                                                                                                                                                                                                                                                                                                                                                                                                                                                                                                                                                                                                                                                                                                                                                                                                                                                                                                                                                                                                                                                                                                                                                                                                                                                                                                                                                                                                                                                                                                                                                                                                                                                                                                                                                                                                                                                                                                                                                                                                                                                                                                                                                                                                                                                                                                                                                                                                                                                                                                                                                                                                                                                                                                                                                                                                                                                                                                                                                                                                                                                                                                                                                                                                                                                                                                                                                                                                                                                                                                                                                                                                                                                                                                                                                                              Article  \n",
              "0  Hestehov hører til den biologiske gruppen flerårig vandrende med jordstengler. Planten kan danne tette bestander. Jordstenglene er lange, hvite, med hvite skjellblad, de er saftige og sprø, sterkt greinet, og vokser horisontalt både i matjordlaget og i undergrunnen. Bladene er grunnstilte, langstilkete, 10-30 cm brede, nyre- eller hjerteformet, som en hestesko (derav navnet), grunt lappet, småtannet i kanten, til å begynne med hvitfiltret på over- og undersiden, senere bare på undersiden. Bladene vokser fram først etter blomstring. Bladstilken har dyp fure på oversiden. De enslige gule blomsterkorgene, ca. 2 cm i diameter, sitter i enden av ullhårete skaft med spredte skjellblad. Formeringen og spredningen skjer med frø og krypende jordstengler. Forekommer på dyrket og udyrket mark. Liker best tung, fuktig, leirrik jord. Opptrer som ugras i eng, beite og i alle slags kulturer. I åker spres hestehov mest med jordstengler. Eventuelle frøplanter vil lett gå til grunne under jordarbeiding om våren. Aktuelle tiltak er radrensing i poteter eller andre radkulturer, eller med sprøyting med ugrasmidler som inneholder fenoksysyrer (f.eks. MCPA), på samme tid som vi normalt bekjemper andre rotugras. Forveksling\\n  Blomsten: Ingen forvekslingsarter. Bladene: kan minne om planter i pestrotslekten.\\n  Utbredelse\\n Hestehov er nokså vanlig i det meste av landet, men sjelden i ytre kyststrøk på Vestlandet nord for Rogaland, men synes å være i spredning også her. Den vokser opptil 1400 m.o.h. i Ullensvang i Hordaland.\\n  Kjennetegn\\n  Planten kan danne tette bestander. Jordstenglene er lange, hvite, med hvite skjellblad, de er saftige og sprø, sterkt greinet, og vokser horisontalt både i matjordlaget og i undergrunnen.\\n  Bladene er grunnstilte, langstilkete, 10-30 cm brede, nyre- eller hjerteformet, som en hestesko (derav navnet), grunt lappet, småtannet i kanten, til å begynne med hvitfiltret på over- og undersiden, senere bare på undersiden. Bladene vokser fram først etter blomstring. Bladstilken har dyp fure på oversiden.\\n  Planten har de enslige blomsterkorgene, ca. 2 cm i diameter, i enden av ullhårete skaft med spredte skjellblad. Korgdekket er klokkeformet, med 2 rader av jevnlange, oftest fiolette blad. Blomsterbunnen er flat og naken. Kantblomstene er mange, hunnlige, kronene tungeformet, smale og gullgule med rødlig underside. Midtblomstene er få, hannlige med rudiment av griffel, kronene er rørformete, fem-tannete og gule.\\n  Frukten er en nøtt med fnokk av ett lag tannete hår. Frukten er om lag sylindrisk i tverrsnitt, noe bøyd og med langsgående furer. Basis er avrundet og ender i en lys tapp, toppen er krageformet, ofte med rester av fnokken. Fargen er gulbrun.\\n  Småplantene har kortstilkete, avlange-elliptiske frøblad, ca. 7 mm lange og 2 mm brede.\\n  Biologi\\n  Formeringen og spredningen skjer med frø og krypende jordstengler. Frøene har fnokk, og kan derved lett spres med vinden. Frøene spirer fra små dyp, 0-1 cm. Frøene er spirevillige, og kan spire straks etter modning, men mister spireevnen i løpet av ca. 4 måneder. Antall frø pr. korg er gjennomsnittlig 200-350.\\n  Blomstringen og frøsettingen skjer svært tidlig på våren, ofte før våronnen. Blomsterknoppene er så å si ferdig utviklet på den underjordiske delen av stengelen allerede høsten i forveien.\\n  Vokseplasser\\n Hestehov forekommer på dyrket og udyrket mark. Den liker best tung, fuktig, leirrik jord.\\n  Nytte og skade\\n  Hestehov opptrer som ugras i eng, beite og i alle slags kulturer. I åker spres hestehov mest med jordstengler. Eventuelle frøplanter vil lett gå til grunne under jordarbeiding om våren. Derimot kan frøplanter i åkerkanten utvikle seg i fred og \"vandre inn\" i åkeren med jordstengler (se også under 'biologi'). Siden jordstenglene er svært skjøre, har de lett for å bli oppdelt og spredd passivt med jordarbeidingsredskaper. Biter som det finnes leddknuter på, kan spire og lage nye planter. Ifølge danske forsøk kan de spire fra 35 cm, men dette er avhengig av lengden. Jo kortere stengelbiten er, jo grunnere blir det maksimale spiredypet.\\n  Fægri (1970) beskrev de vakre vårblomstene og de store \"motbydelige\" sommerbladene: «Når de første hestehovene, leirfivlene, eller hva de nå heter, legger gullstykker i solbakken om våren, fryder alle seg, og poetene løper til avisene med vårdikt: vinteren er omme, våren er der! Litt usikkert kanskje, hestehov er så tidlig ute at det ennå kan bli et tilbakeslag. Men det tenker man ikke på når de intenst gule kurvene lyser opp. Og bare ekstra surmagete personer tenker at utpå sommeren kommer det opp en krattskog av store, brede, støvete utseende blad som kveler all vegetasjon og gjør hestehov til et usedvanlig motbydelig ugress». Disse store bladene «er jo så ulikt vårens glade symbol, at mange - forbløffende mange - simpelthen ikke er klar over at det er samme plante».\\n  Kulturhistorie: I folkemedisinen er bladene blitt brukt på sår og svuller ifølge Høeg (1975). Som en kuriositet kan det nevnes at de hvitfiltete bladene (undersiden) ble brukt i blomsteroppsatser da Oslo by ble pyntet til kronprinsbryllupet 25. august i 2001. \\n  Bekjempelse\\n  Mekaniske tiltak \\n  Hestehov kan bekjempes mekanisk med radrensing der vi har poteter eller andre radkulturer.\\n  Kjemiske tiltak \\n  I kornåker vil fenoksysyrer (f.eks. MCPA) alene eller i blanding med andre herbicider (ugrasmidler) når hestehoven har fått utvoksne blad, dvs. på samme tid som vi normalt bruker disse midlene mot andre rotugras, ha rimelig bra virkning.\\n  For ytterligere informasjon om ulike ugrasmidler, søk i https://www.plantevernguiden.no/ eller https://www.mattilsynet.no/plantevernmidler/. \\n  I VIPS-Ugras 2.0 kan du også få hjelp til planlegging og gjennomføring av ugrasbekjempelse i åkeren din.  \n",
              "1                                                                                                                                                                                                                                                                                                                                                                                                                                                                                                                                                                                                                                                                                                                                                                                                                                                                                                                                                                                                                                                                                                                                                                                                                                                                                                                                                                                                                                                                                                                                                                                                                                                                                                                                                                                                                                                                                                                                                                                                                                                                                                                                                                                                                                                                                                                                                                                                                                                                                                                                                                                                                                                                                                                                                                                                                                                                                                                                                                                                                                                                                                                                                                                                                                                                                                                                                                                                                                                                                                                                                                                                      Bomullsmellus er et relativt nytt skadedyr i norske veksthus, og den regnes som karanteneskadegjører dersom den kommer fra land utenfor Europa. Den ligner på veksthusmellus og gjør samme skade, men den kan også overføre en rekke plantevirus. Selv om dette er et skadedyr som kan leve på svært mange vertplanter, finner vi den hos oss først og fremst på julestjerne. Utseende\\n Bomullsmellus ligner veksthusmellus, men er litt mindre. Eggene er først lyse gule og til slutt gråbrune. Nymfene er lysegrønne til melkehvite og gule. Fjerde og siste nymfestadium er ikke fortykket og har rundere kanter og kortere behåring enn veksthusmellus. \\n  Utbredelse\\n I Norge finnes bomullsmellus som skadedyr i veksthus.\\n  Vertplanter\\n Selv om dette er en polyfag art finner vi den hos oss først og fremst på poinsettia. Angrep på ugras er sjeldent.\\n  Livssyklus\\n  Hunnene er eggleggingsdyktige 2 - 6 dager etter framkomst. Av ubefrukete egg blir det bare utviklet hanner, men etter parring består avkommet av både hanner og hunner. Eggleggingen er optimal ved 33 °C. Gjennom­føring av livssyklus fra egg til voksen er avhengig av temperaturforholdene og vertplante. På julestjerne varer livssyklusen 65 dager ved 15 °C. 35 dager ved 20 °C, 24 dager ved 25 °C og 17 dager ved 30 °C.\\n  Skadevirkninger\\n  Direkte skade på plantene er den samme som for veksthusmellus. Plantene svekkes i veksten og tilgrises med svertesopper. I tillegg overføres en rekke plantevirus, bl.a. \"tomato yellow leaf curl virus\" (TYLCV), som kan føre til omfattende skade i tomat, Eustoma og enkelte andre kulturer.\\n  Bekjempelse\\n  Bekjempelsesmidlene er stort sett som for veksthusmellus (se Plantevernguiden). Problemet er at bomullsmellus er multiresistent, så det er ingen godkjente kjemiske midler som er tilstrekkelig effektive. For å kunne bekjempe bomullsmellus er det derfor helt avgjørende at det finnes nytteorganismer på markedet. Snyltevepsen Eretmocerus eremicus kan brukes alene, eller suppleres med Encarsia formosa, Macrolophus caliginosus og Amblyseius swirskii. Av nevnte nyttedyr er E. eremicus best egnet mot bomullsmellus ved optimale klimaforhold. Parasitterte nymfer blir fortykket gule med brune prikker og striper. Ved oppformering av planter (høy RF) er det best å bruke nyttesoppen Paecilomyces fumosoroseus (PreFeRal).  \n",
              "2                                                                                                                                                                                                                                                                                                                                                                                                                                                                                                                                                                                                                                                                                                                                                                                                                                                                                                                                                                                                                                                                                                                                                                                                                         Veskthusmellus er et av de vanligste skadedyrene i norske veksthus. Den kan leve på mer enn 200 ulike urte- eller treaktige vekster. I vektsthus angripes særlig tomat, agurk og mange prydplanter. De ovale og flate nymfene sitter vanligvis uørlig på bladundersidene og suger plantesaft. Plantene svekkes i veksten og tilgrises med honningdugg og svertesopper. Utseende\\n  Voksne mellus er vingete ca. 2 mm lange og dekket av et hvit voksbelegg. De finnes vanligvis på bladundersidene, fortrinnsvis på ynge blad i skuddtopper. Eggene er langstrakte (0,24 mm), først lyse gule og senere gråbrune. De plasseres endestillet på bladundersidene ofte flere sammen i en klynge. Nymfene er ovale, flate, lysegrønne til melkehvite og gule. De to første nymfestadier er vanskelige å se, men de to siste er godt synlige. Fjerde og siste nymfestadium blir 0,7 mm langt, er tykkere enn de øvrige med en loddrett vegg rundt kanten og forsynt med lange hår. Når den voksne mellus er kommet fram blir huden etter fjerde nymfestadium sittende igjen som ett pergamentaktig skall. Det er lettest å oppdage voksne mellus, fjerde nymfestadium eller tomme nymfehuder på bladundersidene.\\n  Utbredelse\\n Veksthusmellus finnes i veksthus over hele landet. Den kan også angripe planter på friland på sommeren.\\n  Vertplanter\\n  Veksthusmellus kan leve på mer enn 200 ulike urte- eller treaktige vekster. I vektsthus angripes særlig tomat, agurk, Gerbera, Hypoestes, poinsettia, Fuchsia, og engelsk pelargonium. Den kan også leve på ugrasplanter som for eksempel vassarve m.fl. I planteskoler kan veksthusmellus leve på småplanter av bjørk.\\n  Livssyklus\\n  Voksne mellus har preferanse for unge blad i forhold til eldre blad. Derfor starter mellusenes etablering og egglegging på plantenes yngste blad. Utviklingen foregår fra eggstadiet og fire nymfestadier til voksen mellus kommer fram. Det er kun første nymfestadium som er bevegelig, de øvrige nymfestadiene sitter på samme sted resten av utviklingstiden. Formering uten befruktning er vanlig. Hunnen er eggleggingsdyktig 1 - 2 døgn etter fremkomst. Eggleggingsevnen varierer med vertplante, men er også påvirket av temperatur og bestandens tetthet, dvs. lavere formeringsevne når mellusbestanden er liten enn når den er stor. \\n  Hele livssyklusen foregår på bladundersidene. Utviklingstiden fra egg til voksen (vertplante = tomat) varierer med temperaturforholdene fra 51 dager ved 15°C til ca. 33 dager ved 20°C og 21 dager ved 25°C. Nymfene og de voksnes levedyktighet avhenger også av vertplanten. Agurk er en gunstigere vert enn tomat, mens paprika er en svært dårlig vertplante.\\n  Veksthusmellus kan normalt ikke overvintre på friland hos oss. Voksne og nymfer dør i løpet av få dager ved -3°C. Eggene er mer hardføre og kan tåle opptil 15 dager ved denne temperaturen. Senkes temperaturen til -6°C, dør også eggene i løpet av 4 - 5 dager. Eggene må klekke på friske blad dersom nymfene skal overleve.\\n  Egg og nymfer spres med plantematerialet. Om sommeren kan vingete eksemplarer danne kolonier på planter utenfor veksthusene. Fra disse kolonier spres de voksne med vinden. Slik spredning forårsaker ofte smitte av veksthuskulturene på ettersommer og høst. \\n  Veksthusmellus: virkning av vertplante på utviklingstid (dager) og dødlighet (for egg og nymfer), levetid (dager, for voksne) og eggleggingsevne. Temperatur 22-23°C.\\n  Vertplante  Utviklingstid Dødelighet Levetid Antall egg                \\n  Eggplante         9,2             25          40,4        416\\n  Agurk              7,4              26         16,7         123\\n  Tomat             21,7             28          8,6            8\\n  Paprika           92,5             30          3,2           0,9\\n  Hibiscus        88,0             33           -             50\\n  Gerbera         76,0             26            -            160\\n  Skadevirkninger\\n  Både voksne mellus og nymfestadiene suger plantesaft og nedsetter vekstkraften hos plantene. Av større betydning er mellusenes klebrige ekskrementer (honningdugg) som danner grobunn for svertesopper. Dette belegget reduserer bladenes funksjon og er dessuten skjemmende på blad (prydplanter) og frukter (grønnsaker).\\n  Bekjempelse\\n  Forebyggende tiltak\\n  For å unngå mellusangrep er det svært viktig å starte med rent plantemateriale og sørge for ugrasrenhold i og utenfor veksthuset. Dessuten bør det brukes insektsnett foran lufteluker og kulturen bør overvåkes jevnlig ved hjelp av limfeller og undersøkelse av bladundersidene med en god lupe. Evt. smittede kulturer må isoleres slik at ikke angrepet spres. \\n  Biologiske bekjempelse.  \n",
              "3                                                                                                                                                                                                                                                                                                                                                                                                                                                                                                                                                                                                                                                                                                                                                                                                                                                                                                                                                                                                                                                                                                                                                                                                                                                                                                                                                                                                                                                                                                                                                                                                                                                                                                                                                                                                                                                                                                                                                                                                                                                                                                                                                                                                                                                                                                                                                                                                                                                                                                                                                                                                                                                                                                                                                                                                                                                                                                                                                                                                                                                                                                                                                                                                                                                                                                                                                                                                                                                                                                                                                                                                                                                                                                                                                                                                                                                                                                                                                                                                                                                                                                                                                                                                                                                                                                                                                                                                                                                                                                                                                                                                                                                                                                                                                                                                                                                                                                                                                                                                                                                                                                                                                                                                                                                                                                                                                                                                                                                                                                                                                                                                                                                                                                                                                                                                                                                   I denne overfamilien er det mange viktige skadedyr på veksthusplanter og i jordbær; blant annet alperosemellus, bomullsmellus, jordbærmellus og veksthusmellus. .  \n",
              "4                                                             Bladlus er små insekter (2-3 mm lange) med lange bein og antenner. Det forekommer både vingete og uvingete former av samme art. Bladlus har sugende munndeler og suger plantesaft på en lang rekke planter. De har vanligvis en komplisert livssyklus med veksling mellom vinterverter, ofte treaktige planter, hvor de overvinterer som befruktede egg, og sommerverter som ofte er urteaktige planter og da gjerne viktige kulturplanter. Gjennom vekstsesongen utvikler bladlus mange generasjoner, spesielt i tørre og varme perioder. Sugingen av plantesaft nedsetter plantenes vekst. I tillegg produserer bladlus klebrige ekskrementer, honningdugg, som dekker plantene og som blir grobunn for svertesopper. Bladlus angriper jord- og hagebruksvekster og er viktige skadedyr på korn, potet, grønnsaker, på frukt og i veksthus, både på grønnsaker og prydplanter. Bladlus forekommer også i stort antall på en lang rekke planter i en vanlig hage, for eksempel på roser. Utseende\\n  Bladlus er tynnhudete insekter med lange antenner og bein. Kroppen består av hode, tre brystsegmenter og åtte bakkroppssegmenter. De sugende munndeler sitter bakerst på undersiden av hodet. Antennene er 5-6 leddet. De to første ledd er alltid kortere enn de øvrige. Det forekommer både uvingete og vingete former. Et par ryggrør på bakkroppen er karakteristisk for bladlusene. Ryggrørene, som er bladlusenes \"forsvarsvåpen\" da de produserer alarmferomoner, kan være redusert til porelignende åpninger eller mangle helt. På grønnsaker på friland finnes en bladlusart som mangler ryggrør, salatrotlus (Pemphigus bursarius), og også på bærvekstene er det én art som mangler ryggrør, nemlig ripsrotlus (Schizoneura ulmi). Bakkroppen er forlenget med en utvekst som kalles cauda (hale). Enkelte arter kan være utstyrt med små utvekster langs kroppsidene (marginale tuberkler) og eller langs rygglinjen (spinale tuberkler).\\n  Livssyklus\\n  Livssyklus er satt sammen av ulike former med kort levetid og tilpasset de livsbetingelser årstidene gir. I tempererte områder er holosyklisk utvikling det vanligste. Det vil si en livssyklus som veksler mellom seksualformer (ovipare hunner og hanner) og partenogenetiske vivipare hunner (hunner som uten befruktning føder nymfer). Ovipare hunner og hanner blir vanligvis produsert om høsten. Etter paring legger hunnene egg som overvintrer og klekker neste vår. Første generasjon - stammødre (fundatrix) - består av uvingete vivipare hunner. Senere vivipare generasjoner består av både uvingete og vingete hunner.\\n  Hos vertvekslende arter skjer vanligvis overvintring som egg på en treaktig plante (= primærvert). På forsommeren flytter vingete vivipare hunner over på bestemte urteaktige planter (sekundærvert). Her utvikles flere generasjoner med uvingete eller vingete vivipare hunner i løpet av sommeren. Om høsten dannes vingete vivipare hunner som oppsøker primærverten og er opphav til ovipare hunner (gynopare). Hannene blir, hos de fleste arter, produsert på sekundærverten og flyr over til primærverten og befrukter hunnene.\\n  Noen bladlusarter danner ikke seksualformer, men utvikles partenogenetisk hele året. Dette kalles anholosyklisk levevis. Enkelte arter som f.eks. ferskenbladlus har både holosykliske og anholosykliske raser.\\n  Stimuli fra omgivelsene styrer formdannelsen og synkroniserer utviklingssyklus. Dette skjer med utskilling av hormonlignende stoffer som påvirker fosterets utviklingsretning. Dannelsen av seksualformer skjer vanligvis ved kort dag. Lave temperaturer forsterker ofte virkningen av kort dag. Stammødrene og de første etterfølgende generasjoner er ikke mottakelige for stimuli til dannelse av seksualformer. Vingedannelse eller ikke hos vivipare hunner er i det vesentlige bestemt av berøring mellom bladlus. Berøringsstimuli, dvs. stor bladlustetthet, fører til dannelse av vingete bladlus. Lavt innhold av aminosyrer i plantesaften senker vanligvis terskelen for berøringsstimuli.\\n  Skadevirkninger\\n  Spredning av bladlus foregår med plantemateriale eller med uvingete eller vingete eksemplarer. Det vanligste og mest effektive er spredning av vingete eksemplarer. For at vingete bladlus skal ta av for flukt må det være en viss temperatur. Temperaturkravet varierer med bladlusart og -form. Eksempelvis forlater havrebladlus primærverten når temperaturen om våren overstiger 16 °C. Ved flytting mellom sekundærvertene om sommeren er temperaturterskelen 13 °C, mens de gynopare om høsten tar av for flukt allerede ved  9 °C. Med luftstrømmer kan bladlus transporteres flere hundre kilometer før de lander.\\n  Vivipare hunner identifiserer vertplanten på prøver av plantesaften, mens seksualformene også nytter lukt og farge. Har bladlusene havnet på \"feil\" plante vil de straks ta av på ny flukt.\\n  Næringen suges i det vesentlige av plantenes silvev. Samtidig med næringsopptaket injiserer bladlusene stoffer som endrer plantenes vekst og metabolisme. De injiserte stoffer er giftige og har ofte større betydning for plantene enn det bladlusene fjerner ved næringsopptaket. Angrepsstedene kan derfor få lokale misdannelser, bladkrølling, galledannelse o.l. eller fargeforandringer. Mange bladlusarter forstyrrer også plantenes vekst uten at det er distinkte skadesymptom. Betebladlus endrer plantenes metabolisme slik at aldring påskyndes. På den annen side bedrer dette bladlusenes næringsforhold. Et annet tilfelle er ferskenbladlus som endrer plantenes innhold av veksthormon. Innhold av vekst­stimulerende hormon reduseres, mens veksthemmende hormon øker. Det antas at dette skyldes både stoffer som fjernes og injiseres av ferskenbladlus.\\n  Indirekte gjør bladlusene skade som vektorer av plantevirus. Dessuten danner ekskrementene grobunn for svertesopper.  "
            ],
            "text/html": [
              "\n",
              "  <div id=\"df-010e333e-cf79-40c9-a719-dc00caf497f1\" class=\"colab-df-container\">\n",
              "    <div>\n",
              "<style scoped>\n",
              "    .dataframe tbody tr th:only-of-type {\n",
              "        vertical-align: middle;\n",
              "    }\n",
              "\n",
              "    .dataframe tbody tr th {\n",
              "        vertical-align: top;\n",
              "    }\n",
              "\n",
              "    .dataframe thead th {\n",
              "        text-align: right;\n",
              "    }\n",
              "</style>\n",
              "<table border=\"1\" class=\"dataframe\">\n",
              "  <thead>\n",
              "    <tr style=\"text-align: right;\">\n",
              "      <th></th>\n",
              "      <th>Title</th>\n",
              "      <th>Article</th>\n",
              "    </tr>\n",
              "  </thead>\n",
              "  <tbody>\n",
              "    <tr>\n",
              "      <th>0</th>\n",
              "      <td>Hestehov</td>\n",
              "      <td>Hestehov hører til den biologiske gruppen flerårig vandrende med jordstengler. Planten kan danne tette bestander. Jordstenglene er lange, hvite, med hvite skjellblad, de er saftige og sprø, sterkt greinet, og vokser horisontalt både i matjordlaget og i undergrunnen. Bladene er grunnstilte, langstilkete, 10-30 cm brede, nyre- eller hjerteformet, som en hestesko (derav navnet), grunt lappet, småtannet i kanten, til å begynne med hvitfiltret på over- og undersiden, senere bare på undersiden. Bladene vokser fram først etter blomstring. Bladstilken har dyp fure på oversiden. De enslige gule blomsterkorgene, ca. 2 cm i diameter, sitter i enden av ullhårete skaft med spredte skjellblad. Formeringen og spredningen skjer med frø og krypende jordstengler. Forekommer på dyrket og udyrket mark. Liker best tung, fuktig, leirrik jord. Opptrer som ugras i eng, beite og i alle slags kulturer. I åker spres hestehov mest med jordstengler. Eventuelle frøplanter vil lett gå til grunne under jordarbeiding om våren. Aktuelle tiltak er radrensing i poteter eller andre radkulturer, eller med sprøyting med ugrasmidler som inneholder fenoksysyrer (f.eks. MCPA), på samme tid som vi normalt bekjemper andre rotugras. Forveksling\\n  Blomsten: Ingen forvekslingsarter. Bladene: kan minne om planter i pestrotslekten.\\n  Utbredelse\\n Hestehov er nokså vanlig i det meste av landet, men sjelden i ytre kyststrøk på Vestlandet nord for Rogaland, men synes å være i spredning også her. Den vokser opptil 1400 m.o.h. i Ullensvang i Hordaland.\\n  Kjennetegn\\n  Planten kan danne tette bestander. Jordstenglene er lange, hvite, med hvite skjellblad, de er saftige og sprø, sterkt greinet, og vokser horisontalt både i matjordlaget og i undergrunnen.\\n  Bladene er grunnstilte, langstilkete, 10-30 cm brede, nyre- eller hjerteformet, som en hestesko (derav navnet), grunt lappet, småtannet i kanten, til å begynne med hvitfiltret på over- og undersiden, senere bare på undersiden. Bladene vokser fram først etter blomstring. Bladstilken har dyp fure på oversiden.\\n  Planten har de enslige blomsterkorgene, ca. 2 cm i diameter, i enden av ullhårete skaft med spredte skjellblad. Korgdekket er klokkeformet, med 2 rader av jevnlange, oftest fiolette blad. Blomsterbunnen er flat og naken. Kantblomstene er mange, hunnlige, kronene tungeformet, smale og gullgule med rødlig underside. Midtblomstene er få, hannlige med rudiment av griffel, kronene er rørformete, fem-tannete og gule.\\n  Frukten er en nøtt med fnokk av ett lag tannete hår. Frukten er om lag sylindrisk i tverrsnitt, noe bøyd og med langsgående furer. Basis er avrundet og ender i en lys tapp, toppen er krageformet, ofte med rester av fnokken. Fargen er gulbrun.\\n  Småplantene har kortstilkete, avlange-elliptiske frøblad, ca. 7 mm lange og 2 mm brede.\\n  Biologi\\n  Formeringen og spredningen skjer med frø og krypende jordstengler. Frøene har fnokk, og kan derved lett spres med vinden. Frøene spirer fra små dyp, 0-1 cm. Frøene er spirevillige, og kan spire straks etter modning, men mister spireevnen i løpet av ca. 4 måneder. Antall frø pr. korg er gjennomsnittlig 200-350.\\n  Blomstringen og frøsettingen skjer svært tidlig på våren, ofte før våronnen. Blomsterknoppene er så å si ferdig utviklet på den underjordiske delen av stengelen allerede høsten i forveien.\\n  Vokseplasser\\n Hestehov forekommer på dyrket og udyrket mark. Den liker best tung, fuktig, leirrik jord.\\n  Nytte og skade\\n  Hestehov opptrer som ugras i eng, beite og i alle slags kulturer. I åker spres hestehov mest med jordstengler. Eventuelle frøplanter vil lett gå til grunne under jordarbeiding om våren. Derimot kan frøplanter i åkerkanten utvikle seg i fred og \"vandre inn\" i åkeren med jordstengler (se også under 'biologi'). Siden jordstenglene er svært skjøre, har de lett for å bli oppdelt og spredd passivt med jordarbeidingsredskaper. Biter som det finnes leddknuter på, kan spire og lage nye planter. Ifølge danske forsøk kan de spire fra 35 cm, men dette er avhengig av lengden. Jo kortere stengelbiten er, jo grunnere blir det maksimale spiredypet.\\n  Fægri (1970) beskrev de vakre vårblomstene og de store \"motbydelige\" sommerbladene: «Når de første hestehovene, leirfivlene, eller hva de nå heter, legger gullstykker i solbakken om våren, fryder alle seg, og poetene løper til avisene med vårdikt: vinteren er omme, våren er der! Litt usikkert kanskje, hestehov er så tidlig ute at det ennå kan bli et tilbakeslag. Men det tenker man ikke på når de intenst gule kurvene lyser opp. Og bare ekstra surmagete personer tenker at utpå sommeren kommer det opp en krattskog av store, brede, støvete utseende blad som kveler all vegetasjon og gjør hestehov til et usedvanlig motbydelig ugress». Disse store bladene «er jo så ulikt vårens glade symbol, at mange - forbløffende mange - simpelthen ikke er klar over at det er samme plante».\\n  Kulturhistorie: I folkemedisinen er bladene blitt brukt på sår og svuller ifølge Høeg (1975). Som en kuriositet kan det nevnes at de hvitfiltete bladene (undersiden) ble brukt i blomsteroppsatser da Oslo by ble pyntet til kronprinsbryllupet 25. august i 2001. \\n  Bekjempelse\\n  Mekaniske tiltak \\n  Hestehov kan bekjempes mekanisk med radrensing der vi har poteter eller andre radkulturer.\\n  Kjemiske tiltak \\n  I kornåker vil fenoksysyrer (f.eks. MCPA) alene eller i blanding med andre herbicider (ugrasmidler) når hestehoven har fått utvoksne blad, dvs. på samme tid som vi normalt bruker disse midlene mot andre rotugras, ha rimelig bra virkning.\\n  For ytterligere informasjon om ulike ugrasmidler, søk i https://www.plantevernguiden.no/ eller https://www.mattilsynet.no/plantevernmidler/. \\n  I VIPS-Ugras 2.0 kan du også få hjelp til planlegging og gjennomføring av ugrasbekjempelse i åkeren din.</td>\n",
              "    </tr>\n",
              "    <tr>\n",
              "      <th>1</th>\n",
              "      <td>Bomullsmellus</td>\n",
              "      <td>Bomullsmellus er et relativt nytt skadedyr i norske veksthus, og den regnes som karanteneskadegjører dersom den kommer fra land utenfor Europa. Den ligner på veksthusmellus og gjør samme skade, men den kan også overføre en rekke plantevirus. Selv om dette er et skadedyr som kan leve på svært mange vertplanter, finner vi den hos oss først og fremst på julestjerne. Utseende\\n Bomullsmellus ligner veksthusmellus, men er litt mindre. Eggene er først lyse gule og til slutt gråbrune. Nymfene er lysegrønne til melkehvite og gule. Fjerde og siste nymfestadium er ikke fortykket og har rundere kanter og kortere behåring enn veksthusmellus. \\n  Utbredelse\\n I Norge finnes bomullsmellus som skadedyr i veksthus.\\n  Vertplanter\\n Selv om dette er en polyfag art finner vi den hos oss først og fremst på poinsettia. Angrep på ugras er sjeldent.\\n  Livssyklus\\n  Hunnene er eggleggingsdyktige 2 - 6 dager etter framkomst. Av ubefrukete egg blir det bare utviklet hanner, men etter parring består avkommet av både hanner og hunner. Eggleggingen er optimal ved 33 °C. Gjennom­føring av livssyklus fra egg til voksen er avhengig av temperaturforholdene og vertplante. På julestjerne varer livssyklusen 65 dager ved 15 °C. 35 dager ved 20 °C, 24 dager ved 25 °C og 17 dager ved 30 °C.\\n  Skadevirkninger\\n  Direkte skade på plantene er den samme som for veksthusmellus. Plantene svekkes i veksten og tilgrises med svertesopper. I tillegg overføres en rekke plantevirus, bl.a. \"tomato yellow leaf curl virus\" (TYLCV), som kan føre til omfattende skade i tomat, Eustoma og enkelte andre kulturer.\\n  Bekjempelse\\n  Bekjempelsesmidlene er stort sett som for veksthusmellus (se Plantevernguiden). Problemet er at bomullsmellus er multiresistent, så det er ingen godkjente kjemiske midler som er tilstrekkelig effektive. For å kunne bekjempe bomullsmellus er det derfor helt avgjørende at det finnes nytteorganismer på markedet. Snyltevepsen Eretmocerus eremicus kan brukes alene, eller suppleres med Encarsia formosa, Macrolophus caliginosus og Amblyseius swirskii. Av nevnte nyttedyr er E. eremicus best egnet mot bomullsmellus ved optimale klimaforhold. Parasitterte nymfer blir fortykket gule med brune prikker og striper. Ved oppformering av planter (høy RF) er det best å bruke nyttesoppen Paecilomyces fumosoroseus (PreFeRal).</td>\n",
              "    </tr>\n",
              "    <tr>\n",
              "      <th>2</th>\n",
              "      <td>Veksthusmellus</td>\n",
              "      <td>Veskthusmellus er et av de vanligste skadedyrene i norske veksthus. Den kan leve på mer enn 200 ulike urte- eller treaktige vekster. I vektsthus angripes særlig tomat, agurk og mange prydplanter. De ovale og flate nymfene sitter vanligvis uørlig på bladundersidene og suger plantesaft. Plantene svekkes i veksten og tilgrises med honningdugg og svertesopper. Utseende\\n  Voksne mellus er vingete ca. 2 mm lange og dekket av et hvit voksbelegg. De finnes vanligvis på bladundersidene, fortrinnsvis på ynge blad i skuddtopper. Eggene er langstrakte (0,24 mm), først lyse gule og senere gråbrune. De plasseres endestillet på bladundersidene ofte flere sammen i en klynge. Nymfene er ovale, flate, lysegrønne til melkehvite og gule. De to første nymfestadier er vanskelige å se, men de to siste er godt synlige. Fjerde og siste nymfestadium blir 0,7 mm langt, er tykkere enn de øvrige med en loddrett vegg rundt kanten og forsynt med lange hår. Når den voksne mellus er kommet fram blir huden etter fjerde nymfestadium sittende igjen som ett pergamentaktig skall. Det er lettest å oppdage voksne mellus, fjerde nymfestadium eller tomme nymfehuder på bladundersidene.\\n  Utbredelse\\n Veksthusmellus finnes i veksthus over hele landet. Den kan også angripe planter på friland på sommeren.\\n  Vertplanter\\n  Veksthusmellus kan leve på mer enn 200 ulike urte- eller treaktige vekster. I vektsthus angripes særlig tomat, agurk, Gerbera, Hypoestes, poinsettia, Fuchsia, og engelsk pelargonium. Den kan også leve på ugrasplanter som for eksempel vassarve m.fl. I planteskoler kan veksthusmellus leve på småplanter av bjørk.\\n  Livssyklus\\n  Voksne mellus har preferanse for unge blad i forhold til eldre blad. Derfor starter mellusenes etablering og egglegging på plantenes yngste blad. Utviklingen foregår fra eggstadiet og fire nymfestadier til voksen mellus kommer fram. Det er kun første nymfestadium som er bevegelig, de øvrige nymfestadiene sitter på samme sted resten av utviklingstiden. Formering uten befruktning er vanlig. Hunnen er eggleggingsdyktig 1 - 2 døgn etter fremkomst. Eggleggingsevnen varierer med vertplante, men er også påvirket av temperatur og bestandens tetthet, dvs. lavere formeringsevne når mellusbestanden er liten enn når den er stor. \\n  Hele livssyklusen foregår på bladundersidene. Utviklingstiden fra egg til voksen (vertplante = tomat) varierer med temperaturforholdene fra 51 dager ved 15°C til ca. 33 dager ved 20°C og 21 dager ved 25°C. Nymfene og de voksnes levedyktighet avhenger også av vertplanten. Agurk er en gunstigere vert enn tomat, mens paprika er en svært dårlig vertplante.\\n  Veksthusmellus kan normalt ikke overvintre på friland hos oss. Voksne og nymfer dør i løpet av få dager ved -3°C. Eggene er mer hardføre og kan tåle opptil 15 dager ved denne temperaturen. Senkes temperaturen til -6°C, dør også eggene i løpet av 4 - 5 dager. Eggene må klekke på friske blad dersom nymfene skal overleve.\\n  Egg og nymfer spres med plantematerialet. Om sommeren kan vingete eksemplarer danne kolonier på planter utenfor veksthusene. Fra disse kolonier spres de voksne med vinden. Slik spredning forårsaker ofte smitte av veksthuskulturene på ettersommer og høst. \\n  Veksthusmellus: virkning av vertplante på utviklingstid (dager) og dødlighet (for egg og nymfer), levetid (dager, for voksne) og eggleggingsevne. Temperatur 22-23°C.\\n  Vertplante  Utviklingstid Dødelighet Levetid Antall egg                \\n  Eggplante         9,2             25          40,4        416\\n  Agurk              7,4              26         16,7         123\\n  Tomat             21,7             28          8,6            8\\n  Paprika           92,5             30          3,2           0,9\\n  Hibiscus        88,0             33           -             50\\n  Gerbera         76,0             26            -            160\\n  Skadevirkninger\\n  Både voksne mellus og nymfestadiene suger plantesaft og nedsetter vekstkraften hos plantene. Av større betydning er mellusenes klebrige ekskrementer (honningdugg) som danner grobunn for svertesopper. Dette belegget reduserer bladenes funksjon og er dessuten skjemmende på blad (prydplanter) og frukter (grønnsaker).\\n  Bekjempelse\\n  Forebyggende tiltak\\n  For å unngå mellusangrep er det svært viktig å starte med rent plantemateriale og sørge for ugrasrenhold i og utenfor veksthuset. Dessuten bør det brukes insektsnett foran lufteluker og kulturen bør overvåkes jevnlig ved hjelp av limfeller og undersøkelse av bladundersidene med en god lupe. Evt. smittede kulturer må isoleres slik at ikke angrepet spres. \\n  Biologiske bekjempelse.</td>\n",
              "    </tr>\n",
              "    <tr>\n",
              "      <th>3</th>\n",
              "      <td>Mellus</td>\n",
              "      <td>I denne overfamilien er det mange viktige skadedyr på veksthusplanter og i jordbær; blant annet alperosemellus, bomullsmellus, jordbærmellus og veksthusmellus. .</td>\n",
              "    </tr>\n",
              "    <tr>\n",
              "      <th>4</th>\n",
              "      <td>Bladlus</td>\n",
              "      <td>Bladlus er små insekter (2-3 mm lange) med lange bein og antenner. Det forekommer både vingete og uvingete former av samme art. Bladlus har sugende munndeler og suger plantesaft på en lang rekke planter. De har vanligvis en komplisert livssyklus med veksling mellom vinterverter, ofte treaktige planter, hvor de overvinterer som befruktede egg, og sommerverter som ofte er urteaktige planter og da gjerne viktige kulturplanter. Gjennom vekstsesongen utvikler bladlus mange generasjoner, spesielt i tørre og varme perioder. Sugingen av plantesaft nedsetter plantenes vekst. I tillegg produserer bladlus klebrige ekskrementer, honningdugg, som dekker plantene og som blir grobunn for svertesopper. Bladlus angriper jord- og hagebruksvekster og er viktige skadedyr på korn, potet, grønnsaker, på frukt og i veksthus, både på grønnsaker og prydplanter. Bladlus forekommer også i stort antall på en lang rekke planter i en vanlig hage, for eksempel på roser. Utseende\\n  Bladlus er tynnhudete insekter med lange antenner og bein. Kroppen består av hode, tre brystsegmenter og åtte bakkroppssegmenter. De sugende munndeler sitter bakerst på undersiden av hodet. Antennene er 5-6 leddet. De to første ledd er alltid kortere enn de øvrige. Det forekommer både uvingete og vingete former. Et par ryggrør på bakkroppen er karakteristisk for bladlusene. Ryggrørene, som er bladlusenes \"forsvarsvåpen\" da de produserer alarmferomoner, kan være redusert til porelignende åpninger eller mangle helt. På grønnsaker på friland finnes en bladlusart som mangler ryggrør, salatrotlus (Pemphigus bursarius), og også på bærvekstene er det én art som mangler ryggrør, nemlig ripsrotlus (Schizoneura ulmi). Bakkroppen er forlenget med en utvekst som kalles cauda (hale). Enkelte arter kan være utstyrt med små utvekster langs kroppsidene (marginale tuberkler) og eller langs rygglinjen (spinale tuberkler).\\n  Livssyklus\\n  Livssyklus er satt sammen av ulike former med kort levetid og tilpasset de livsbetingelser årstidene gir. I tempererte områder er holosyklisk utvikling det vanligste. Det vil si en livssyklus som veksler mellom seksualformer (ovipare hunner og hanner) og partenogenetiske vivipare hunner (hunner som uten befruktning føder nymfer). Ovipare hunner og hanner blir vanligvis produsert om høsten. Etter paring legger hunnene egg som overvintrer og klekker neste vår. Første generasjon - stammødre (fundatrix) - består av uvingete vivipare hunner. Senere vivipare generasjoner består av både uvingete og vingete hunner.\\n  Hos vertvekslende arter skjer vanligvis overvintring som egg på en treaktig plante (= primærvert). På forsommeren flytter vingete vivipare hunner over på bestemte urteaktige planter (sekundærvert). Her utvikles flere generasjoner med uvingete eller vingete vivipare hunner i løpet av sommeren. Om høsten dannes vingete vivipare hunner som oppsøker primærverten og er opphav til ovipare hunner (gynopare). Hannene blir, hos de fleste arter, produsert på sekundærverten og flyr over til primærverten og befrukter hunnene.\\n  Noen bladlusarter danner ikke seksualformer, men utvikles partenogenetisk hele året. Dette kalles anholosyklisk levevis. Enkelte arter som f.eks. ferskenbladlus har både holosykliske og anholosykliske raser.\\n  Stimuli fra omgivelsene styrer formdannelsen og synkroniserer utviklingssyklus. Dette skjer med utskilling av hormonlignende stoffer som påvirker fosterets utviklingsretning. Dannelsen av seksualformer skjer vanligvis ved kort dag. Lave temperaturer forsterker ofte virkningen av kort dag. Stammødrene og de første etterfølgende generasjoner er ikke mottakelige for stimuli til dannelse av seksualformer. Vingedannelse eller ikke hos vivipare hunner er i det vesentlige bestemt av berøring mellom bladlus. Berøringsstimuli, dvs. stor bladlustetthet, fører til dannelse av vingete bladlus. Lavt innhold av aminosyrer i plantesaften senker vanligvis terskelen for berøringsstimuli.\\n  Skadevirkninger\\n  Spredning av bladlus foregår med plantemateriale eller med uvingete eller vingete eksemplarer. Det vanligste og mest effektive er spredning av vingete eksemplarer. For at vingete bladlus skal ta av for flukt må det være en viss temperatur. Temperaturkravet varierer med bladlusart og -form. Eksempelvis forlater havrebladlus primærverten når temperaturen om våren overstiger 16 °C. Ved flytting mellom sekundærvertene om sommeren er temperaturterskelen 13 °C, mens de gynopare om høsten tar av for flukt allerede ved  9 °C. Med luftstrømmer kan bladlus transporteres flere hundre kilometer før de lander.\\n  Vivipare hunner identifiserer vertplanten på prøver av plantesaften, mens seksualformene også nytter lukt og farge. Har bladlusene havnet på \"feil\" plante vil de straks ta av på ny flukt.\\n  Næringen suges i det vesentlige av plantenes silvev. Samtidig med næringsopptaket injiserer bladlusene stoffer som endrer plantenes vekst og metabolisme. De injiserte stoffer er giftige og har ofte større betydning for plantene enn det bladlusene fjerner ved næringsopptaket. Angrepsstedene kan derfor få lokale misdannelser, bladkrølling, galledannelse o.l. eller fargeforandringer. Mange bladlusarter forstyrrer også plantenes vekst uten at det er distinkte skadesymptom. Betebladlus endrer plantenes metabolisme slik at aldring påskyndes. På den annen side bedrer dette bladlusenes næringsforhold. Et annet tilfelle er ferskenbladlus som endrer plantenes innhold av veksthormon. Innhold av vekst­stimulerende hormon reduseres, mens veksthemmende hormon øker. Det antas at dette skyldes både stoffer som fjernes og injiseres av ferskenbladlus.\\n  Indirekte gjør bladlusene skade som vektorer av plantevirus. Dessuten danner ekskrementene grobunn for svertesopper.</td>\n",
              "    </tr>\n",
              "  </tbody>\n",
              "</table>\n",
              "</div>\n",
              "    <div class=\"colab-df-buttons\">\n",
              "\n",
              "  <div class=\"colab-df-container\">\n",
              "    <button class=\"colab-df-convert\" onclick=\"convertToInteractive('df-010e333e-cf79-40c9-a719-dc00caf497f1')\"\n",
              "            title=\"Convert this dataframe to an interactive table.\"\n",
              "            style=\"display:none;\">\n",
              "\n",
              "  <svg xmlns=\"http://www.w3.org/2000/svg\" height=\"24px\" viewBox=\"0 -960 960 960\">\n",
              "    <path d=\"M120-120v-720h720v720H120Zm60-500h600v-160H180v160Zm220 220h160v-160H400v160Zm0 220h160v-160H400v160ZM180-400h160v-160H180v160Zm440 0h160v-160H620v160ZM180-180h160v-160H180v160Zm440 0h160v-160H620v160Z\"/>\n",
              "  </svg>\n",
              "    </button>\n",
              "\n",
              "  <style>\n",
              "    .colab-df-container {\n",
              "      display:flex;\n",
              "      gap: 12px;\n",
              "    }\n",
              "\n",
              "    .colab-df-convert {\n",
              "      background-color: #E8F0FE;\n",
              "      border: none;\n",
              "      border-radius: 50%;\n",
              "      cursor: pointer;\n",
              "      display: none;\n",
              "      fill: #1967D2;\n",
              "      height: 32px;\n",
              "      padding: 0 0 0 0;\n",
              "      width: 32px;\n",
              "    }\n",
              "\n",
              "    .colab-df-convert:hover {\n",
              "      background-color: #E2EBFA;\n",
              "      box-shadow: 0px 1px 2px rgba(60, 64, 67, 0.3), 0px 1px 3px 1px rgba(60, 64, 67, 0.15);\n",
              "      fill: #174EA6;\n",
              "    }\n",
              "\n",
              "    .colab-df-buttons div {\n",
              "      margin-bottom: 4px;\n",
              "    }\n",
              "\n",
              "    [theme=dark] .colab-df-convert {\n",
              "      background-color: #3B4455;\n",
              "      fill: #D2E3FC;\n",
              "    }\n",
              "\n",
              "    [theme=dark] .colab-df-convert:hover {\n",
              "      background-color: #434B5C;\n",
              "      box-shadow: 0px 1px 3px 1px rgba(0, 0, 0, 0.15);\n",
              "      filter: drop-shadow(0px 1px 2px rgba(0, 0, 0, 0.3));\n",
              "      fill: #FFFFFF;\n",
              "    }\n",
              "  </style>\n",
              "\n",
              "    <script>\n",
              "      const buttonEl =\n",
              "        document.querySelector('#df-010e333e-cf79-40c9-a719-dc00caf497f1 button.colab-df-convert');\n",
              "      buttonEl.style.display =\n",
              "        google.colab.kernel.accessAllowed ? 'block' : 'none';\n",
              "\n",
              "      async function convertToInteractive(key) {\n",
              "        const element = document.querySelector('#df-010e333e-cf79-40c9-a719-dc00caf497f1');\n",
              "        const dataTable =\n",
              "          await google.colab.kernel.invokeFunction('convertToInteractive',\n",
              "                                                    [key], {});\n",
              "        if (!dataTable) return;\n",
              "\n",
              "        const docLinkHtml = 'Like what you see? Visit the ' +\n",
              "          '<a target=\"_blank\" href=https://colab.research.google.com/notebooks/data_table.ipynb>data table notebook</a>'\n",
              "          + ' to learn more about interactive tables.';\n",
              "        element.innerHTML = '';\n",
              "        dataTable['output_type'] = 'display_data';\n",
              "        await google.colab.output.renderOutput(dataTable, element);\n",
              "        const docLink = document.createElement('div');\n",
              "        docLink.innerHTML = docLinkHtml;\n",
              "        element.appendChild(docLink);\n",
              "      }\n",
              "    </script>\n",
              "  </div>\n",
              "\n",
              "\n",
              "<div id=\"df-f716a272-4e06-403b-91e8-e6872469fd27\">\n",
              "  <button class=\"colab-df-quickchart\" onclick=\"quickchart('df-f716a272-4e06-403b-91e8-e6872469fd27')\"\n",
              "            title=\"Suggest charts\"\n",
              "            style=\"display:none;\">\n",
              "\n",
              "<svg xmlns=\"http://www.w3.org/2000/svg\" height=\"24px\"viewBox=\"0 0 24 24\"\n",
              "     width=\"24px\">\n",
              "    <g>\n",
              "        <path d=\"M19 3H5c-1.1 0-2 .9-2 2v14c0 1.1.9 2 2 2h14c1.1 0 2-.9 2-2V5c0-1.1-.9-2-2-2zM9 17H7v-7h2v7zm4 0h-2V7h2v10zm4 0h-2v-4h2v4z\"/>\n",
              "    </g>\n",
              "</svg>\n",
              "  </button>\n",
              "\n",
              "<style>\n",
              "  .colab-df-quickchart {\n",
              "      --bg-color: #E8F0FE;\n",
              "      --fill-color: #1967D2;\n",
              "      --hover-bg-color: #E2EBFA;\n",
              "      --hover-fill-color: #174EA6;\n",
              "      --disabled-fill-color: #AAA;\n",
              "      --disabled-bg-color: #DDD;\n",
              "  }\n",
              "\n",
              "  [theme=dark] .colab-df-quickchart {\n",
              "      --bg-color: #3B4455;\n",
              "      --fill-color: #D2E3FC;\n",
              "      --hover-bg-color: #434B5C;\n",
              "      --hover-fill-color: #FFFFFF;\n",
              "      --disabled-bg-color: #3B4455;\n",
              "      --disabled-fill-color: #666;\n",
              "  }\n",
              "\n",
              "  .colab-df-quickchart {\n",
              "    background-color: var(--bg-color);\n",
              "    border: none;\n",
              "    border-radius: 50%;\n",
              "    cursor: pointer;\n",
              "    display: none;\n",
              "    fill: var(--fill-color);\n",
              "    height: 32px;\n",
              "    padding: 0;\n",
              "    width: 32px;\n",
              "  }\n",
              "\n",
              "  .colab-df-quickchart:hover {\n",
              "    background-color: var(--hover-bg-color);\n",
              "    box-shadow: 0 1px 2px rgba(60, 64, 67, 0.3), 0 1px 3px 1px rgba(60, 64, 67, 0.15);\n",
              "    fill: var(--button-hover-fill-color);\n",
              "  }\n",
              "\n",
              "  .colab-df-quickchart-complete:disabled,\n",
              "  .colab-df-quickchart-complete:disabled:hover {\n",
              "    background-color: var(--disabled-bg-color);\n",
              "    fill: var(--disabled-fill-color);\n",
              "    box-shadow: none;\n",
              "  }\n",
              "\n",
              "  .colab-df-spinner {\n",
              "    border: 2px solid var(--fill-color);\n",
              "    border-color: transparent;\n",
              "    border-bottom-color: var(--fill-color);\n",
              "    animation:\n",
              "      spin 1s steps(1) infinite;\n",
              "  }\n",
              "\n",
              "  @keyframes spin {\n",
              "    0% {\n",
              "      border-color: transparent;\n",
              "      border-bottom-color: var(--fill-color);\n",
              "      border-left-color: var(--fill-color);\n",
              "    }\n",
              "    20% {\n",
              "      border-color: transparent;\n",
              "      border-left-color: var(--fill-color);\n",
              "      border-top-color: var(--fill-color);\n",
              "    }\n",
              "    30% {\n",
              "      border-color: transparent;\n",
              "      border-left-color: var(--fill-color);\n",
              "      border-top-color: var(--fill-color);\n",
              "      border-right-color: var(--fill-color);\n",
              "    }\n",
              "    40% {\n",
              "      border-color: transparent;\n",
              "      border-right-color: var(--fill-color);\n",
              "      border-top-color: var(--fill-color);\n",
              "    }\n",
              "    60% {\n",
              "      border-color: transparent;\n",
              "      border-right-color: var(--fill-color);\n",
              "    }\n",
              "    80% {\n",
              "      border-color: transparent;\n",
              "      border-right-color: var(--fill-color);\n",
              "      border-bottom-color: var(--fill-color);\n",
              "    }\n",
              "    90% {\n",
              "      border-color: transparent;\n",
              "      border-bottom-color: var(--fill-color);\n",
              "    }\n",
              "  }\n",
              "</style>\n",
              "\n",
              "  <script>\n",
              "    async function quickchart(key) {\n",
              "      const quickchartButtonEl =\n",
              "        document.querySelector('#' + key + ' button');\n",
              "      quickchartButtonEl.disabled = true;  // To prevent multiple clicks.\n",
              "      quickchartButtonEl.classList.add('colab-df-spinner');\n",
              "      try {\n",
              "        const charts = await google.colab.kernel.invokeFunction(\n",
              "            'suggestCharts', [key], {});\n",
              "      } catch (error) {\n",
              "        console.error('Error during call to suggestCharts:', error);\n",
              "      }\n",
              "      quickchartButtonEl.classList.remove('colab-df-spinner');\n",
              "      quickchartButtonEl.classList.add('colab-df-quickchart-complete');\n",
              "    }\n",
              "    (() => {\n",
              "      let quickchartButtonEl =\n",
              "        document.querySelector('#df-f716a272-4e06-403b-91e8-e6872469fd27 button');\n",
              "      quickchartButtonEl.style.display =\n",
              "        google.colab.kernel.accessAllowed ? 'block' : 'none';\n",
              "    })();\n",
              "  </script>\n",
              "</div>\n",
              "\n",
              "    </div>\n",
              "  </div>\n"
            ],
            "application/vnd.google.colaboratory.intrinsic+json": {
              "type": "dataframe",
              "summary": "{\n  \"name\": \"preview_text(plantevernleksikonet_text_file_content)\",\n  \"rows\": 5,\n  \"fields\": [\n    {\n      \"column\": \"Title\",\n      \"properties\": {\n        \"dtype\": \"string\",\n        \"num_unique_values\": 5,\n        \"samples\": [\n          \"Bomullsmellus\",\n          \"Bladlus\",\n          \"Veksthusmellus\"\n        ],\n        \"semantic_type\": \"\",\n        \"description\": \"\"\n      }\n    },\n    {\n      \"column\": \"Article\",\n      \"properties\": {\n        \"dtype\": \"string\",\n        \"num_unique_values\": 5,\n        \"samples\": [\n          \"Bomullsmellus er et relativt nytt skadedyr i norske veksthus, og den regnes som karanteneskadegj\\u00f8rer dersom den kommer fra land utenfor Europa. Den ligner p\\u00e5 veksthusmellus og gj\\u00f8r samme skade, men den kan ogs\\u00e5 overf\\u00f8re en rekke plantevirus. Selv om dette er et skadedyr som kan leve p\\u00e5 sv\\u00e6rt mange vertplanter, finner vi den hos oss f\\u00f8rst og fremst p\\u00e5 julestjerne. Utseende\\n Bomullsmellus ligner veksthusmellus, men er litt mindre. Eggene er f\\u00f8rst lyse gule og til slutt gr\\u00e5brune. Nymfene er lysegr\\u00f8nne til melkehvite og gule. Fjerde og siste nymfestadium er ikke fortykket og har rundere kanter og kortere beh\\u00e5ring enn veksthusmellus.\\u00a0\\n  Utbredelse\\n I Norge finnes bomullsmellus som skadedyr i\\u00a0veksthus.\\n  Vertplanter\\n Selv om dette er en polyfag art finner vi den hos oss f\\u00f8rst og fremst p\\u00e5 poinsettia. Angrep p\\u00e5 ugras er sjeldent.\\n  Livssyklus\\n  Hunnene er eggleggingsdyktige 2 - 6 dager etter framkomst. Av ubefrukete egg blir det bare utviklet hanner, men etter parring best\\u00e5r avkommet av b\\u00e5de hanner og hunner. Eggleggingen er optimal ved 33 \\u00b0C. Gjennom\\u00adf\\u00f8ring av livssyklus fra egg til voksen er avhengig av temperaturforholdene og vertplante. P\\u00e5 julestjerne varer livssyklusen 65 dager ved 15 \\u00b0C. 35 dager ved 20 \\u00b0C, 24 dager ved 25 \\u00b0C og 17 dager ved 30 \\u00b0C.\\n  Skadevirkninger\\n  Direkte skade p\\u00e5 plantene er den samme som for veksthusmellus. Plantene svekkes i veksten og tilgrises med svertesopper. I tillegg overf\\u00f8res en rekke plantevirus, bl.a. \\\"tomato yellow leaf curl virus\\\" (TYLCV), som kan f\\u00f8re til omfattende skade i tomat, Eustoma og enkelte andre kulturer.\\n  Bekjempelse\\n  Bekjempelsesmidlene er stort sett som for veksthusmellus (se Plantevernguiden). Problemet er at bomullsmellus er multiresistent, s\\u00e5 det er ingen godkjente kjemiske midler som er tilstrekkelig effektive. For \\u00e5 kunne bekjempe bomullsmellus er det derfor helt avgj\\u00f8rende at det finnes nytteorganismer p\\u00e5 markedet. Snyltevepsen Eretmocerus eremicus kan brukes alene, eller suppleres med Encarsia formosa, Macrolophus caliginosus og Amblyseius swirskii. Av nevnte nyttedyr er E. eremicus best egnet mot bomullsmellus ved optimale klimaforhold. Parasitterte nymfer blir fortykket gule med brune prikker og striper. Ved oppformering av planter (h\\u00f8y RF) er det best \\u00e5 bruke nyttesoppen Paecilomyces fumosoroseus (PreFeRal).\",\n          \"Bladlus er sm\\u00e5 insekter (2-3 mm lange) med lange bein og antenner. Det forekommer b\\u00e5de vingete og uvingete former av samme art. Bladlus har sugende munndeler og suger plantesaft p\\u00e5 en lang rekke planter. De har vanligvis en komplisert livssyklus med veksling mellom vinterverter, ofte treaktige planter, hvor de overvinterer som befruktede egg, og sommerverter som ofte er urteaktige planter og da gjerne viktige kulturplanter. Gjennom vekstsesongen utvikler bladlus mange generasjoner, spesielt i t\\u00f8rre og varme perioder. Sugingen av plantesaft nedsetter plantenes vekst. I tillegg produserer bladlus klebrige ekskrementer, honningdugg, som dekker plantene og som blir grobunn for svertesopper. Bladlus angriper jord- og hagebruksvekster og er viktige skadedyr p\\u00e5 korn, potet, gr\\u00f8nnsaker, p\\u00e5 frukt og i veksthus, b\\u00e5de p\\u00e5 gr\\u00f8nnsaker og prydplanter. Bladlus forekommer ogs\\u00e5 i stort antall p\\u00e5 en lang rekke planter i en vanlig hage, for eksempel p\\u00e5 roser. Utseende\\n  Bladlus er tynnhudete insekter med lange antenner og bein. Kroppen best\\u00e5r av hode, tre brystsegmenter og \\u00e5tte bakkroppssegmenter. De sugende munndeler sitter bakerst p\\u00e5 undersiden av hodet. Antennene er 5-6 leddet. De to f\\u00f8rste ledd er alltid kortere enn de \\u00f8vrige. Det forekommer b\\u00e5de uvingete og vingete former. Et par ryggr\\u00f8r p\\u00e5 bakkroppen er karakteristisk for bladlusene. Ryggr\\u00f8rene, som er bladlusenes \\\"forsvarsv\\u00e5pen\\\" da de produserer alarmferomoner, kan v\\u00e6re redusert til porelignende \\u00e5pninger eller mangle helt. P\\u00e5 gr\\u00f8nnsaker p\\u00e5 friland finnes en bladlusart som mangler ryggr\\u00f8r, salatrotlus (Pemphigus bursarius), og ogs\\u00e5 p\\u00e5 b\\u00e6rvekstene er det\\u00a0\\u00e9n art som mangler ryggr\\u00f8r, nemlig ripsrotlus (Schizoneura ulmi). Bakkroppen er forlenget med en utvekst som kalles cauda (hale). Enkelte arter kan v\\u00e6re utstyrt med sm\\u00e5 utvekster langs kroppsidene (marginale tuberkler) og eller langs rygglinjen (spinale tuberkler).\\n  Livssyklus\\n  Livssyklus er satt sammen av ulike former med kort levetid og tilpasset de livsbetingelser \\u00e5rstidene gir. I tempererte omr\\u00e5der er holosyklisk utvikling det vanligste. Det vil si en livssyklus som veksler mellom seksualformer (ovipare hunner og hanner) og partenogenetiske vivipare hunner (hunner som uten befruktning f\\u00f8der nymfer). Ovipare hunner og hanner blir vanligvis produsert om h\\u00f8sten. Etter paring legger hunnene egg som overvintrer og klekker neste v\\u00e5r. F\\u00f8rste generasjon - stamm\\u00f8dre (fundatrix) - best\\u00e5r av uvingete vivipare hunner. Senere vivipare generasjoner best\\u00e5r av b\\u00e5de uvingete og vingete hunner.\\n  Hos vertvekslende arter skjer vanligvis overvintring som egg p\\u00e5 en treaktig plante (= prim\\u00e6rvert). P\\u00e5 forsommeren flytter vingete vivipare hunner over p\\u00e5 bestemte urteaktige planter (sekund\\u00e6rvert). Her utvikles flere generasjoner med uvingete eller vingete vivipare hunner i l\\u00f8pet av sommeren. Om h\\u00f8sten dannes vingete vivipare hunner som opps\\u00f8ker prim\\u00e6rverten og er opphav til ovipare hunner (gynopare). Hannene blir, hos de fleste arter, produsert p\\u00e5 sekund\\u00e6rverten og flyr over til prim\\u00e6rverten og befrukter hunnene.\\n  Noen bladlusarter danner ikke seksualformer, men utvikles partenogenetisk hele \\u00e5ret. Dette kalles anholosyklisk levevis. Enkelte arter som f.eks. ferskenbladlus har b\\u00e5de holosykliske og anholosykliske raser.\\n  Stimuli fra omgivelsene styrer formdannelsen og synkroniserer utviklingssyklus. Dette skjer med utskilling av hormonlignende stoffer som p\\u00e5virker fosterets utviklingsretning. Dannelsen av seksualformer skjer vanligvis ved kort dag. Lave temperaturer forsterker ofte virkningen av kort dag. Stamm\\u00f8drene og de f\\u00f8rste etterf\\u00f8lgende generasjoner er ikke mottakelige for stimuli til dannelse av seksualformer. Vingedannelse eller ikke hos vivipare hunner er i det vesentlige bestemt av ber\\u00f8ring mellom bladlus. Ber\\u00f8ringsstimuli, dvs. stor bladlustetthet, f\\u00f8rer til dannelse av vingete bladlus. Lavt innhold av aminosyrer i plantesaften senker vanligvis terskelen for ber\\u00f8ringsstimuli.\\n  Skadevirkninger\\n  Spredning av bladlus foreg\\u00e5r med plantemateriale eller med uvingete eller vingete eksemplarer. Det vanligste og mest effektive er spredning av vingete eksemplarer. For at vingete bladlus skal ta av for flukt m\\u00e5 det v\\u00e6re en viss temperatur. Temperaturkravet varierer med bladlusart og -form. Eksempelvis forlater havrebladlus prim\\u00e6rverten n\\u00e5r temperaturen om v\\u00e5ren overstiger 16 \\u00b0C. Ved flytting mellom sekund\\u00e6rvertene om sommeren er temperaturterskelen 13 \\u00b0C, mens de gynopare om h\\u00f8sten tar av for flukt allerede ved\\u00a0 9 \\u00b0C. Med luftstr\\u00f8mmer kan bladlus transporteres flere hundre kilometer f\\u00f8r de lander.\\n  Vivipare hunner identifiserer vertplanten p\\u00e5 pr\\u00f8ver av plantesaften, mens seksualformene ogs\\u00e5 nytter lukt og farge. Har bladlusene havnet p\\u00e5 \\\"feil\\\" plante vil de straks ta av p\\u00e5 ny flukt.\\n  N\\u00e6ringen suges i det vesentlige av plantenes silvev. Samtidig med n\\u00e6ringsopptaket injiserer bladlusene stoffer som endrer plantenes vekst og metabolisme. De injiserte stoffer er giftige og har ofte st\\u00f8rre betydning for plantene enn det bladlusene fjerner ved n\\u00e6ringsopptaket. Angrepsstedene kan derfor f\\u00e5 lokale misdannelser, bladkr\\u00f8lling, galledannelse o.l. eller fargeforandringer. Mange bladlusarter forstyrrer ogs\\u00e5 plantenes vekst uten at det er distinkte skadesymptom. Betebladlus endrer plantenes metabolisme slik at aldring p\\u00e5skyndes. P\\u00e5 den annen side bedrer dette bladlusenes n\\u00e6ringsforhold. Et annet tilfelle er ferskenbladlus som endrer plantenes innhold av veksthormon. Innhold av vekst\\u00adstimulerende hormon reduseres, mens veksthemmende hormon \\u00f8ker. Det antas at dette skyldes b\\u00e5de stoffer som fjernes og injiseres av ferskenbladlus.\\n  Indirekte gj\\u00f8r bladlusene skade som vektorer av plantevirus. Dessuten danner ekskrementene grobunn for svertesopper.\",\n          \"Veskthusmellus er et av de vanligste skadedyrene i norske veksthus. Den kan leve p\\u00e5 mer enn 200 ulike urte- eller treaktige vekster. I vektsthus angripes s\\u00e6rlig tomat, agurk og mange prydplanter. De ovale og flate nymfene sitter vanligvis u\\u00f8rlig p\\u00e5 bladundersidene og suger plantesaft. Plantene svekkes i veksten og tilgrises med honningdugg og svertesopper. Utseende\\n  Voksne mellus er vingete ca. 2 mm lange og dekket av et hvit voksbelegg. De finnes vanligvis p\\u00e5 bladundersidene, fortrinnsvis p\\u00e5\\u00a0ynge blad\\u00a0i skuddtopper. Eggene er langstrakte (0,24 mm), f\\u00f8rst lyse gule og senere gr\\u00e5brune. De plasseres endestillet p\\u00e5 bladundersidene ofte flere sammen i en klynge. Nymfene er ovale, flate, lysegr\\u00f8nne til melkehvite og gule. De to f\\u00f8rste nymfestadier er vanskelige \\u00e5 se, men de to siste er godt synlige. Fjerde og siste nymfestadium blir 0,7 mm langt, er tykkere enn de \\u00f8vrige med en loddrett vegg rundt kanten og forsynt med lange h\\u00e5r. N\\u00e5r den voksne mellus er kommet fram blir huden etter fjerde nymfestadium sittende igjen som ett pergamentaktig skall. Det er lettest \\u00e5 oppdage voksne mellus, fjerde nymfestadium eller tomme nymfehuder p\\u00e5 bladundersidene.\\n  Utbredelse\\n Veksthusmellus finnes i veksthus over hele landet. Den kan ogs\\u00e5 angripe planter p\\u00e5 friland p\\u00e5 sommeren.\\n  Vertplanter\\n  Veksthusmellus kan leve p\\u00e5 mer enn 200 ulike urte- eller treaktige vekster. I vektsthus angripes s\\u00e6rlig tomat, agurk, Gerbera, Hypoestes, poinsettia, Fuchsia, og engelsk pelargonium. Den kan ogs\\u00e5 leve p\\u00e5 ugrasplanter som for eksempel vassarve m.fl. I planteskoler kan veksthusmellus leve p\\u00e5 sm\\u00e5planter av bj\\u00f8rk.\\n  Livssyklus\\n  Voksne mellus har preferanse for unge blad i forhold til eldre blad. Derfor starter mellusenes etablering og egglegging p\\u00e5 plantenes yngste blad. Utviklingen foreg\\u00e5r fra eggstadiet og fire nymfestadier til voksen mellus kommer fram. Det er kun f\\u00f8rste nymfestadium som er bevegelig, de \\u00f8vrige nymfestadiene sitter p\\u00e5 samme sted resten av utviklingstiden. Formering uten befruktning er vanlig. Hunnen er eggleggingsdyktig 1 - 2 d\\u00f8gn etter fremkomst. Eggleggingsevnen varierer med vertplante, men er ogs\\u00e5 p\\u00e5virket av temperatur og bestandens tetthet, dvs. lavere formeringsevne n\\u00e5r mellusbestanden er liten enn n\\u00e5r den er stor. \\n  Hele livssyklusen foreg\\u00e5r p\\u00e5 bladundersidene. Utviklingstiden fra egg til voksen (vertplante = tomat) varierer med temperaturforholdene fra\\u00a051 dager ved 15\\u00b0C til ca. 33 dager ved 20\\u00b0C og 21 dager ved 25\\u00b0C. Nymfene og de voksnes levedyktighet avhenger ogs\\u00e5 av vertplanten. Agurk er en gunstigere vert enn tomat, mens paprika er en sv\\u00e6rt d\\u00e5rlig vertplante.\\n  Veksthusmellus kan normalt ikke overvintre p\\u00e5 friland hos oss. Voksne og nymfer d\\u00f8r i l\\u00f8pet av f\\u00e5 dager ved -3\\u00b0C. Eggene er mer hardf\\u00f8re og kan t\\u00e5le opptil 15 dager ved denne temperaturen. Senkes temperaturen til -6\\u00b0C, d\\u00f8r ogs\\u00e5 eggene i l\\u00f8pet av 4 - 5 dager. Eggene m\\u00e5 klekke p\\u00e5 friske blad dersom nymfene skal overleve.\\n  Egg og nymfer spres med plantematerialet. Om sommeren kan vingete eksemplarer danne kolonier p\\u00e5 planter utenfor veksthusene. Fra disse kolonier spres de voksne med vinden. Slik spredning for\\u00e5rsaker ofte smitte av veksthuskulturene p\\u00e5 ettersommer og h\\u00f8st. \\n  Veksthusmellus: virkning av vertplante p\\u00e5 utviklingstid (dager) og d\\u00f8dlighet (for egg og nymfer), levetid (dager, for voksne) og eggleggingsevne. Temperatur 22-23\\u00b0C.\\n  Vertplante\\u00a0\\u00a0Utviklingstid\\u00a0D\\u00f8delighet Levetid Antall egg\\u00a0\\u00a0\\u00a0\\u00a0\\u00a0\\u00a0\\u00a0\\u00a0\\u00a0\\u00a0\\u00a0\\u00a0\\u00a0\\u00a0\\u00a0 \\n  Eggplante\\u00a0\\u00a0\\u00a0\\u00a0\\u00a0 \\u00a0\\u00a0 9,2\\u00a0\\u00a0\\u00a0\\u00a0\\u00a0\\u00a0\\u00a0\\u00a0\\u00a0\\u00a0\\u00a0\\u00a0 25\\u00a0\\u00a0\\u00a0\\u00a0\\u00a0\\u00a0\\u00a0\\u00a0\\u00a0 40,4\\u00a0\\u00a0\\u00a0\\u00a0\\u00a0\\u00a0\\u00a0\\u00a0416\\n  Agurk\\u00a0\\u00a0\\u00a0\\u00a0\\u00a0\\u00a0\\u00a0\\u00a0\\u00a0 \\u00a0\\u00a0\\u00a0 7,4\\u00a0\\u00a0\\u00a0\\u00a0\\u00a0\\u00a0\\u00a0\\u00a0\\u00a0\\u00a0\\u00a0\\u00a0\\u00a0 26\\u00a0\\u00a0\\u00a0\\u00a0\\u00a0\\u00a0\\u00a0\\u00a0 16,7\\u00a0\\u00a0\\u00a0\\u00a0\\u00a0\\u00a0\\u00a0\\u00a0\\u00a0123\\n  Tomat\\u00a0\\u00a0\\u00a0\\u00a0\\u00a0\\u00a0\\u00a0 \\u00a0\\u00a0 \\u00a0 21,7\\u00a0\\u00a0\\u00a0\\u00a0\\u00a0\\u00a0\\u00a0\\u00a0\\u00a0\\u00a0\\u00a0\\u00a0 28\\u00a0\\u00a0\\u00a0\\u00a0\\u00a0\\u00a0\\u00a0\\u00a0\\u00a0 8,6\\u00a0\\u00a0\\u00a0\\u00a0\\u00a0\\u00a0\\u00a0\\u00a0\\u00a0\\u00a0\\u00a0 8\\n  Paprika\\u00a0 \\u00a0\\u00a0\\u00a0 \\u00a0\\u00a0 \\u00a0 92,5\\u00a0\\u00a0\\u00a0\\u00a0\\u00a0\\u00a0\\u00a0\\u00a0\\u00a0\\u00a0\\u00a0\\u00a0 30\\u00a0\\u00a0\\u00a0\\u00a0\\u00a0\\u00a0\\u00a0\\u00a0\\u00a0 3,2\\u00a0\\u00a0\\u00a0\\u00a0\\u00a0\\u00a0\\u00a0\\u00a0\\u00a0\\u00a0 0,9\\n  Hibiscus\\u00a0\\u00a0\\u00a0\\u00a0\\u00a0 \\u00a0 88,0\\u00a0\\u00a0\\u00a0\\u00a0\\u00a0\\u00a0\\u00a0\\u00a0\\u00a0\\u00a0\\u00a0\\u00a0 33\\u00a0\\u00a0\\u00a0\\u00a0\\u00a0\\u00a0\\u00a0\\u00a0\\u00a0\\u00a0 -\\u00a0\\u00a0\\u00a0\\u00a0\\u00a0\\u00a0\\u00a0\\u00a0\\u00a0\\u00a0\\u00a0\\u00a0 50\\n  Gerbera\\u00a0\\u00a0\\u00a0\\u00a0 \\u00a0\\u00a0\\u00a0 76,0\\u00a0\\u00a0\\u00a0\\u00a0\\u00a0\\u00a0\\u00a0\\u00a0\\u00a0\\u00a0\\u00a0\\u00a0 26\\u00a0\\u00a0\\u00a0\\u00a0\\u00a0\\u00a0\\u00a0\\u00a0\\u00a0\\u00a0\\u00a0 -\\u00a0\\u00a0\\u00a0\\u00a0\\u00a0\\u00a0\\u00a0\\u00a0\\u00a0\\u00a0\\u00a0\\u00a0160\\n  Skadevirkninger\\n  B\\u00e5de voksne mellus og nymfestadiene suger plantesaft og nedsetter vekstkraften hos plantene. Av st\\u00f8rre betydning er mellusenes klebrige ekskrementer (honningdugg) som danner grobunn for svertesopper. Dette belegget reduserer bladenes funksjon og er dessuten skjemmende p\\u00e5 blad (prydplanter) og frukter (gr\\u00f8nnsaker).\\n  Bekjempelse\\n  Forebyggende tiltak\\n  For \\u00e5 unng\\u00e5 mellusangrep er det sv\\u00e6rt viktig \\u00e5 starte med rent plantemateriale og s\\u00f8rge for ugrasrenhold i og utenfor veksthuset. Dessuten b\\u00f8r det brukes insektsnett foran lufteluker og kulturen b\\u00f8r overv\\u00e5kes jevnlig ved hjelp av limfeller og unders\\u00f8kelse av bladundersidene med en god lupe. Evt. smittede kulturer m\\u00e5 isoleres slik at ikke angrepet spres. \\n  Biologiske bekjempelse.\"\n        ],\n        \"semantic_type\": \"\",\n        \"description\": \"\"\n      }\n    }\n  ]\n}"
            }
          },
          "metadata": {}
        }
      ]
    },
    {
      "cell_type": "markdown",
      "source": [
        "Quantitative characteristics"
      ],
      "metadata": {
        "id": "iSMQkc6hXmyd"
      }
    },
    {
      "cell_type": "code",
      "source": [
        "tokens, vocabulary = describe_text_quantitatively(plantevernleksikonet_text_file_content)"
      ],
      "metadata": {
        "colab": {
          "base_uri": "https://localhost:8080/"
        },
        "id": "RQqSB8BKYHxK",
        "outputId": "9a246d7e-2e96-493d-afb1-67c9d20605d6"
      },
      "execution_count": null,
      "outputs": [
        {
          "output_type": "stream",
          "name": "stdout",
          "text": [
            "Number of articles: 1090\n",
            "\n",
            "Number of sentences in the text: 33928\n",
            "\n",
            "Number of tokens in the text: 525705\n",
            "\n",
            "Size of the text vocabulary: 27092\n",
            "\n"
          ]
        }
      ]
    },
    {
      "cell_type": "markdown",
      "source": [
        "# NLR"
      ],
      "metadata": {
        "id": "h7PS4wq-fb7_"
      }
    },
    {
      "cell_type": "markdown",
      "source": [
        "Upload text data"
      ],
      "metadata": {
        "id": "nysh8nC_npcB"
      }
    },
    {
      "cell_type": "code",
      "source": [
        "nlr_text_file_content_json = upload_text_file(OM_NORSK_LANDBRUKS_RADGIVING_URL)"
      ],
      "metadata": {
        "colab": {
          "base_uri": "https://localhost:8080/",
          "height": 91
        },
        "id": "sI3f51hLm7q7",
        "outputId": "ab58a842-2548-4bef-f9fd-aad2ff637185"
      },
      "execution_count": null,
      "outputs": [
        {
          "output_type": "display_data",
          "data": {
            "text/plain": [
              "<IPython.core.display.HTML object>"
            ],
            "text/html": [
              "\n",
              "     <input type=\"file\" id=\"files-9ddca9a9-653e-41b5-8490-86c94feb999a\" name=\"files[]\" multiple disabled\n",
              "        style=\"border:none\" />\n",
              "     <output id=\"result-9ddca9a9-653e-41b5-8490-86c94feb999a\">\n",
              "      Upload widget is only available when the cell has been executed in the\n",
              "      current browser session. Please rerun this cell to enable.\n",
              "      </output>\n",
              "      <script>// Copyright 2017 Google LLC\n",
              "//\n",
              "// Licensed under the Apache License, Version 2.0 (the \"License\");\n",
              "// you may not use this file except in compliance with the License.\n",
              "// You may obtain a copy of the License at\n",
              "//\n",
              "//      http://www.apache.org/licenses/LICENSE-2.0\n",
              "//\n",
              "// Unless required by applicable law or agreed to in writing, software\n",
              "// distributed under the License is distributed on an \"AS IS\" BASIS,\n",
              "// WITHOUT WARRANTIES OR CONDITIONS OF ANY KIND, either express or implied.\n",
              "// See the License for the specific language governing permissions and\n",
              "// limitations under the License.\n",
              "\n",
              "/**\n",
              " * @fileoverview Helpers for google.colab Python module.\n",
              " */\n",
              "(function(scope) {\n",
              "function span(text, styleAttributes = {}) {\n",
              "  const element = document.createElement('span');\n",
              "  element.textContent = text;\n",
              "  for (const key of Object.keys(styleAttributes)) {\n",
              "    element.style[key] = styleAttributes[key];\n",
              "  }\n",
              "  return element;\n",
              "}\n",
              "\n",
              "// Max number of bytes which will be uploaded at a time.\n",
              "const MAX_PAYLOAD_SIZE = 100 * 1024;\n",
              "\n",
              "function _uploadFiles(inputId, outputId) {\n",
              "  const steps = uploadFilesStep(inputId, outputId);\n",
              "  const outputElement = document.getElementById(outputId);\n",
              "  // Cache steps on the outputElement to make it available for the next call\n",
              "  // to uploadFilesContinue from Python.\n",
              "  outputElement.steps = steps;\n",
              "\n",
              "  return _uploadFilesContinue(outputId);\n",
              "}\n",
              "\n",
              "// This is roughly an async generator (not supported in the browser yet),\n",
              "// where there are multiple asynchronous steps and the Python side is going\n",
              "// to poll for completion of each step.\n",
              "// This uses a Promise to block the python side on completion of each step,\n",
              "// then passes the result of the previous step as the input to the next step.\n",
              "function _uploadFilesContinue(outputId) {\n",
              "  const outputElement = document.getElementById(outputId);\n",
              "  const steps = outputElement.steps;\n",
              "\n",
              "  const next = steps.next(outputElement.lastPromiseValue);\n",
              "  return Promise.resolve(next.value.promise).then((value) => {\n",
              "    // Cache the last promise value to make it available to the next\n",
              "    // step of the generator.\n",
              "    outputElement.lastPromiseValue = value;\n",
              "    return next.value.response;\n",
              "  });\n",
              "}\n",
              "\n",
              "/**\n",
              " * Generator function which is called between each async step of the upload\n",
              " * process.\n",
              " * @param {string} inputId Element ID of the input file picker element.\n",
              " * @param {string} outputId Element ID of the output display.\n",
              " * @return {!Iterable<!Object>} Iterable of next steps.\n",
              " */\n",
              "function* uploadFilesStep(inputId, outputId) {\n",
              "  const inputElement = document.getElementById(inputId);\n",
              "  inputElement.disabled = false;\n",
              "\n",
              "  const outputElement = document.getElementById(outputId);\n",
              "  outputElement.innerHTML = '';\n",
              "\n",
              "  const pickedPromise = new Promise((resolve) => {\n",
              "    inputElement.addEventListener('change', (e) => {\n",
              "      resolve(e.target.files);\n",
              "    });\n",
              "  });\n",
              "\n",
              "  const cancel = document.createElement('button');\n",
              "  inputElement.parentElement.appendChild(cancel);\n",
              "  cancel.textContent = 'Cancel upload';\n",
              "  const cancelPromise = new Promise((resolve) => {\n",
              "    cancel.onclick = () => {\n",
              "      resolve(null);\n",
              "    };\n",
              "  });\n",
              "\n",
              "  // Wait for the user to pick the files.\n",
              "  const files = yield {\n",
              "    promise: Promise.race([pickedPromise, cancelPromise]),\n",
              "    response: {\n",
              "      action: 'starting',\n",
              "    }\n",
              "  };\n",
              "\n",
              "  cancel.remove();\n",
              "\n",
              "  // Disable the input element since further picks are not allowed.\n",
              "  inputElement.disabled = true;\n",
              "\n",
              "  if (!files) {\n",
              "    return {\n",
              "      response: {\n",
              "        action: 'complete',\n",
              "      }\n",
              "    };\n",
              "  }\n",
              "\n",
              "  for (const file of files) {\n",
              "    const li = document.createElement('li');\n",
              "    li.append(span(file.name, {fontWeight: 'bold'}));\n",
              "    li.append(span(\n",
              "        `(${file.type || 'n/a'}) - ${file.size} bytes, ` +\n",
              "        `last modified: ${\n",
              "            file.lastModifiedDate ? file.lastModifiedDate.toLocaleDateString() :\n",
              "                                    'n/a'} - `));\n",
              "    const percent = span('0% done');\n",
              "    li.appendChild(percent);\n",
              "\n",
              "    outputElement.appendChild(li);\n",
              "\n",
              "    const fileDataPromise = new Promise((resolve) => {\n",
              "      const reader = new FileReader();\n",
              "      reader.onload = (e) => {\n",
              "        resolve(e.target.result);\n",
              "      };\n",
              "      reader.readAsArrayBuffer(file);\n",
              "    });\n",
              "    // Wait for the data to be ready.\n",
              "    let fileData = yield {\n",
              "      promise: fileDataPromise,\n",
              "      response: {\n",
              "        action: 'continue',\n",
              "      }\n",
              "    };\n",
              "\n",
              "    // Use a chunked sending to avoid message size limits. See b/62115660.\n",
              "    let position = 0;\n",
              "    do {\n",
              "      const length = Math.min(fileData.byteLength - position, MAX_PAYLOAD_SIZE);\n",
              "      const chunk = new Uint8Array(fileData, position, length);\n",
              "      position += length;\n",
              "\n",
              "      const base64 = btoa(String.fromCharCode.apply(null, chunk));\n",
              "      yield {\n",
              "        response: {\n",
              "          action: 'append',\n",
              "          file: file.name,\n",
              "          data: base64,\n",
              "        },\n",
              "      };\n",
              "\n",
              "      let percentDone = fileData.byteLength === 0 ?\n",
              "          100 :\n",
              "          Math.round((position / fileData.byteLength) * 100);\n",
              "      percent.textContent = `${percentDone}% done`;\n",
              "\n",
              "    } while (position < fileData.byteLength);\n",
              "  }\n",
              "\n",
              "  // All done.\n",
              "  yield {\n",
              "    response: {\n",
              "      action: 'complete',\n",
              "    }\n",
              "  };\n",
              "}\n",
              "\n",
              "scope.google = scope.google || {};\n",
              "scope.google.colab = scope.google.colab || {};\n",
              "scope.google.colab._files = {\n",
              "  _uploadFiles,\n",
              "  _uploadFilesContinue,\n",
              "};\n",
              "})(self);\n",
              "</script> "
            ]
          },
          "metadata": {}
        },
        {
          "output_type": "stream",
          "name": "stdout",
          "text": [
            "Saving nlr_text_data.json to nlr_text_data.json\n",
            "User uploaded file \"nlr_text_data.json\" with length 2909637 bytes\n"
          ]
        }
      ]
    },
    {
      "cell_type": "code",
      "source": [
        "# print(json.dumps(\n",
        "#     nlr_text_file_content_json,\n",
        "#     ensure_ascii = False,\n",
        "#     indent = 4\n",
        "#     ))"
      ],
      "metadata": {
        "id": "35q1zvm_lgvJ"
      },
      "execution_count": null,
      "outputs": []
    },
    {
      "cell_type": "code",
      "source": [
        "nlr_text_file_content = tidy_up_punctuation(\n",
        "    nlr_text_file_content_json\n",
        "    )"
      ],
      "metadata": {
        "id": "hNMO9-9Ur9iA"
      },
      "execution_count": null,
      "outputs": []
    },
    {
      "cell_type": "markdown",
      "source": [
        "Text preview"
      ],
      "metadata": {
        "id": "PD-z8A4iQfpH"
      }
    },
    {
      "cell_type": "code",
      "source": [
        "preview_text(nlr_text_file_content)"
      ],
      "metadata": {
        "colab": {
          "base_uri": "https://localhost:8080/",
          "height": 1000
        },
        "id": "echkG7grsbAq",
        "outputId": "22dd5aa7-0055-4190-a55c-3d5a5b087534"
      },
      "execution_count": null,
      "outputs": [
        {
          "output_type": "display_data",
          "data": {
            "text/plain": [
              "                                                        Title  \\\n",
              "0  Fossilfri maskinpark – muligheter for landbruket og status   \n",
              "1       Strømproduksjon fra husdyrgjødsel – enkel betraktning   \n",
              "2                   Høgaktuelt med energiproduksjon på garden   \n",
              "3                                       Bioenergi er lønnsomt   \n",
              "4                                 Garden som energiprodusent?   \n",
              "\n",
              "                                                                                                                                                                                                                                                                                                                                                                                                                                                                                                                                                                                                                                                                                                                                                                                                                                                                                                                                                                                                                                                                                                                                                                                                                                                                                                                                                                                                                                                                                                                                                                                                                                                                                                                                                                                                                                                                                                                                                                                                                                                                                                                                                                                                                                                                                                                                                                                                                                                                                                                                                                                                                                                                                                                                                                                                                                                                                                                                                                                                                                                                                                                                                                                                                                                                                                                                                                                                                                                                                                                                                                                                                                                                                                                                                                                                                                                                                                                                                                                                                                                                                                                                                                                                                                                                                                                                                                                                                                                                                                                                                                                                                                                                                                                                                                                                                                                                                                                                                                                                                                                                                                                                                                                                                                                                                                                                                                                                                                                                                                                                                                                                                                                                                                                                                                                                                                                                                                                                                                                                                                                                                                                                                                                                                                                                                                                                                                                    Article  \n",
              "0                                                                                                                                                                                                                                                                                                                                                                                                                                                                                                                                                                                                                                                                                                                                                                                                                                                                                                                                                                                                                                                                                                                                                                                                                                                                                                                                                                                                                                                                                                                                                                                                                                                                                                                                                                                                                                                                                                                                                                                                                                                                                                                                                                                                                                                                                                                                                                                                                                                                                                                                                                                                                                                                                                                                                                                                                                                                                                                                                                                                             \\n Et av satsingsområdene i landbrukets klimaplan er utfasing av fossilt drivstoff og overgang til biodrivstoff eller maskiner som går på elektrisitet, biogass eller hydrogen. Mål om klimagassreduksjon er på 600 000 – 1 470 000t CO₂ ekvivalenter.\\n «Klimakur 2030» forteller om ca. 160 000 registrerte traktorer i jordbruket som står for ca. 90 % av de totale utslippene fra næringens maskinpark. Et grovt anslag på CO₂-utslippet fra fossilt drivstoff brukt i traktorene kan beregnes til ca. 550 000t CO₂ ekv.\\n Bruk av biodrivstoff ansees som et smertefritt tiltak, siden den ikke gir store driftsmessige eller tekniske konsekvenser. Avanserte biodrivstoff er mest brukt i Norge, og lages i all hovedsak av slakteavfall og brukt frityrolje. Konvensjonelle biodrivstoff baserer seg på landbruksvekster som raps og har fått en langt mindre avsetning i de senere årene. Det skal nevnes at prislappen på biodrivstoff er ca. 30 % høyere pr. liter enn fossil diesel. Pr. dags dato er det heller ikke noen norsk produksjon av biodiesel og tilgjengelig drivstoff blir produsert utenlandsk og underligger en streng sertifisering. \\n Elektrisitet kan være et alternativ for mindre maskiner, som minilaster eller teleskoplastere. For traktorer vil dagens kapasitet på batteripakka være for liten for å gjennomføre de tyngre oppgavene i gårdsdrifta. Selv om en produsent tilbyr en 100Hk batteridreven smalsportraktor vil ikke denne traktoren være et alternativ for jordbrukeren og trolig passe mer til lettere oppgaver i kommunal drift. \\n Gassdrevne traktorer med CBG (komprimert biogass)\\n produseres i serie, et fåtall finnes i Norge pr. dags dato. New Holland T6 modell utstyrte med en 160Hk motor og etter opplysninger fra produsenten skal det komme en sterkere modell med 270Hk i slutten av 2024. CBG tankene på disse traktorene kan lagre maks 47kg CBG som tilsvarer ca. 61l diesel på energibasis. Prisen på CBG traktorer er ca. 25 – 30 % høyere enn hos tilsvarende dieselmodeller. Lønnsomheten for CBG som drivstoff forutsetter hyppig og jevn avsetning av gassen.\\n Hydrogen som drivstoff kan være et fremtidig alternativ. Imidlertid kreves det en kostbar prosess for å lage hydrogen gjennom elektrolysen. Andre faktorer som lite energitetthet pr. volum i både gass – og flytende form og et lite utbygd distribusjonsnett tilsier at kommersiell bruk av den typen drivstoff neppe vil være et alternativ frem til 2030.\\n Økte investerings- og driftskostnader ved overgang til fossilfri drivstoff må følges med tilskuddsordninger eller kostnadskompensasjoner. Vi registrerer et levende CO₂-marked for drivstoffdistributører i flere land i Europa, som gjør det lønnsomt å erstatte fossil med fossilfri drivstoff. Markedsprisen på CO₂ kvoten (€/t CO₂ – ekv) graderes etter substrat for å lage fossilfri drivstoff, der f.eks. husdyrgjødsel har høyest gradering og dermed kan gi høyere inntekter enn plantebasert drivstoff. Andre tiltak i andre EU-land er skattelettelse på fossilfri drivstoff.\\n Det er vel å merke at landbruket kan produsere egen CBG fra egen husdyrgjødsel som da kan brukes i egne traktorer. Utenlandske erfaringer viser til at teknikken er moden både på oppgraderingsanlegg for mindre biogassanlegg, traktorer og private fyllestasjoner.  \n",
              "1                                                                                                                                                                                                                                                                                                                                                                                                                                                                                                                                                                                                                                                                                                                                                                                                                                                                                                                                                                                                                                                                                                                                                                                                                                                                                                                                                                                                                                                                                                                                                                                                                                                                                                                                                                                                                                                                                                                                                                                                                                                                                                                                                                                                                                                                                                                                                                                                                                                                                                                                                                                                                                                                                                                                                                                                                                                                                                                                                                                                                                                                                                                                                                                                                                                                                                                                                                                                                                                                                                                                                                                                                                                                                                                                                                                                                                                                                                                                                                                                                                                                                                                                                                                                                                                                                                                                                                                                                                                                                                                                                        \\n Husdyrgjødsel ansees som bøndenes gull fordi den har en bestemt gjødselverdi og sørger for at organisk materiale tilføres jorda som mat for mikroorganismene oppå og under torva. \\n Den siste tiden har det vært mange spørsmål om husdyrgjødsel, biogass og strømproduksjon. Nedenfor står noen enkle betraktninger om denne tematikken som konkluderes med at husdyrgjødsel fungerer som strømkilde.\\n I husdyrgjødsel ligger det en god del ufordøyde plantefibre og kornrester som har et gasspotensiale. Gassutbytte fra husdyrgjødsel er avhengig av hva produksjonsdyret fôres med. Eksempelvis vil gjødsla fra ei høytytende melkeku gi potensiell mer energi i sammenligning med ei ammeku, hvor fôringen baserer seg på sent slått gress. Rågassen kan da brukes til energiproduksjonen.\\n I litteraturen finner man at 1t husdyrgjødsel, som brukes i et biogassanlegg, produserer grovt mellom 20 - 30m3 rågass. Faktorer som behandling og lagring av gjødsla bestemmer mulig utbytte av gass. I tillegg vil tiden mellom utskilt gjødsel frem til den ender opp i et anlegg bestemme hvor mye energi man muligens kan utvinne.\\n Ikke all energi som ligger i husdyrgjødsel kan omformes til strømproduksjon, pga. høye energitap under prosessen. Grovt kan man si at 1m3 rågass gir 2,2kWh i strøm. Det må anmerkes at energitapet som oppstår under strømproduksjon kan gjenvinnes i form av overskuddsvarme.\\n Tar man utgangspunkt i 20m3 rågass i 1m3 husdyrgjødsel storfe så kan denne mengden produsere 44kWh strøm. Ei melkeku med en ytelse på 8000t EKM produserer ca. 20t husdyrgjødsel pr år, som kan generere ca. 880kWh strøm.\\n Så kan man selv se på strømforbruket sitt i hus, redskapshus eller fjøs og bli overrasket det ikke er mange melkekyr som skal til for å dekke strømbehovet sitt.  \n",
              "2  \\n Høye energipriser gjør det aktuelt for bønder å produsere mer av sin egen energi enten i form av elektrisitet og/eller varme. Energiproduksjon for salg også aktuelt. \\n De fleste tiltak er søknadspliktige. NLR har landsdekkende rådgivere som kan bistå med rådgiving, søknad om tilskudd, byggesøknad osv.\\n Les meir om tenesta vår på området:\\n Fornybar energi\\n Solceller på tak er en effektiv måte å produsere egen strøm uten mye ettersyn og vedlikehold. Hos Innovasjon Norge vektlegges og prioriteres anlegg som har et betydelig forbruk i næring der landbruksvirksomheten er viktig for sysselsetting på gården. Det gis ikke støtte til mindre anlegg og anleggene må ha tilstrekkelig lønnsomhet etter investering. Egne regler for veksthus.\\n Enova gir støtte til mindre private anlegg.\\n En av ulempene med solceller at de produserer normalt lite av årsproduksjonen i perioden november – februar. Belegg fra støv fra ventilasjon fra gris og fjørfe kan også være en utfordring i forhold til virkningsgrad.\\n Forventet levetid + 30år.\\n Vindkraft tilpasset energibehovet til gården begynner å bli et lønnsomt alternativ. Men her er regelverk og støtteordninger ikke på plass. I Time kommune. Rogaland, er det gitt dispensasjon* for å sette opp 1 stk 26 meter høy gårdsvindmølle med ytelse 25kW og årsproduksjon 70 000 – 110 000 kW årlig. *Skal behandles i Rogaland fylkeskommune.\\n Enova gir støtte til små private vindturbiner, men er lite aktuelt for landbruk. \\n Vindturbiner tilpasset gårdsnivå har ikke støtteordning foreløpig.\\n Ulempene med vindkraft er ca 35% produksjon i forhold til installert effekt, samt støy og det visuelle med tanke på naboer. Ikke alle områder at netteier har kapasitet på nett, trafo o.l. til å ta imot overskuddsproduksjon.\\n Forventet levetid 20-30 år.\\n Prisnivå: fra kr 1,3 millioner + mva\\n I landbruk vil luft-luft fungere dårlig pga mye støv og gasser i husdyrrom. Det gis heller ikke støtte til luft-luft eller luft-vann løsninger til næring. Noen kommuner gir nå støtte til installasjon av luft-luft varmepumpe til bolig som et ekstraordinært tiltak (sjekk med din kommune).\\n Større luft-vann varmepumper er det rimeligste alternativet og fungerer godt langs sør- og vestlandskysten, også om vinteren. Luft-vann varmepumper kan leveres som lavtemperatur (maks 50 oC) og høytemperatur (maks 80 oC), eller som begge deler. Vedlikeholdsbehovet er lavt ved varmepumpeløsning.\\n Prisnivå: fra kr 150 000,-\\n Væske-vann varmepumpe kan også være en god løsning ved bruk av vannbåren varme, spesielt i områder med mye lave temperaturer i vinterhalvåret.\\n Innovasjon Norge: det gis støtte til væske-vann varmepumper som skal levere energi til næring alene eller sammen med leveranse til boliger. Det er en forutsetting av det monteres energimåler og at eiendommen kan dokumentere avgiftspliktig omsetning.\\n Anleggene må ha tilstrekkelig lønnsomhet etter investering. Behovet for energi må dokumenteres.\\n Med væske-vann menes nedgravd kollektorslange i jord, kollektorslange i vann/sjø eller kollektorslange i borehull. \\n Enova\\n gir inntil 10 000 kr i støtte til væske-vann varmepumpe til bolig.\\n Forventet levetid væske-vann varmepumpe 10 – 20 år. Etanol eller glykol blir mye brukt som energibærer i kollektorslange.\\n Kollektorslange nedgravd på ca 1 meter i jord fungerer best i område uten tung trafikk, f.eks. hage.\\n Kollektorslange i vann/sjø krever nærhet til vann/sjø. I sjø kan «groe» som isolerer kollektorslange være et problem \\n Borehull (energibrønn) vil kunne brukes for uttak av energi i +100 år. Det mest negative med borehulls-løsning er høy investeringskostnad. Borehull er også dårlig løsning i løse grunnmasser.\\n Prisnivå: fra kr 200 000,- + borehull\\n Ved/flisfyr er et godt varmealternativ i områder med god tilgang på trevirke. Akkumulatortank (godt isolert stor vannbeholder) kreves for å få jevn belastning av fyren. \\n Eksempel på løsning kan være å støpe dekke i betongsilo som er ute av bruk og dermed få brannsikkert fyrrom under. Dekket over kan brukes til vedlager eller flismagasin.\\n Pellets fylles på i magasin og mates inn i en fyrkjel som tilpasser forbrenningen etter behovet i varmemagasinet. Pelletsfyring er en automatisert løsning som krever lite tilsyn, men noe manuell håndtering av pellets.\\n Kjøp av pellets gir relativt høy kWh-pris\\n Prisnivå: fra 35 000,- \\n Varmesystem med manuelt innlegg av ved 0,5 - 2 ganger / døgn. Fyren varmer opp stort varmemagasin der varme til f.eks. bolig hentes fra. \\n Krever mye manuell håndtering av ved til faste tider, men gir lav kWh-pris ved høy egeninnsats i vedproduksjonen.\\n Prisnivå: fra kr 75 000,- \\n Hele tømmerstokker tørkes og flises opp med stor flisekutter. Flis fylles på i magasin med bunnuttak. Flisen skrues inn i en fyrkjel som tilpasser forbrenningen etter behovet i varmemagasinet. Flisfyring er en automatisert løsning som krever lite tilsyn / manuell håndtering.\\n Store flisfyringsanlegg egner seg også godt til salg av varme.\\n Innovasjon Norge gir støtte til anlegg basert på biovarme.\\n Enova gir ikke støtte til biovarme på landbrukseiendom\\n Prisnivå: fra kr 300 000,-\\n Solfanger er lite aktuelt i landbruk på våre breddegrader dersom varmebehovet ikke er stort på sommeren. Lav effekt i vinterhalvåret.\\n Blanding av husdyrgjødsel, matavfall og annet organisk avfall pumpes inn i en tett råtnetank hvor anaerobe mikroorganismer bryter ned og produserer gasser som i hovedsak består av metan og CO2. Denne gassmiksen kaller vi biogass. Det bør være tilgang til minst 4000 m3 husdyrgjødsel i tillegg til andre substrater for å få lønnsomhet ut av et biogassanlegg.\\n Biogassen kan brennes direkte for varmeproduksjon. I stasjonære motorer eller gassturbiner kan gassen brukes til elektrisitet- og varmeproduksjon. Ca 1/3 blir elektrisitet og ca 2/3 blir til varme.\\n Biogassen kan også oppgraderes til ren metangass og brukes til drivstoff.\\n Innholdet i råtnetanken etter uttak av biogass kalles for biorest, og er en homogen blanding som kan brukes som gjødsel.\\n 1 m3 biogass gir 6,2 kWh\\n Innovasjon Norge støtter biogassprosjekt i landbruket.\\n Prisnivå: fra kr 4 millioner .  \n",
              "3                                                                                                                                                                                                                                                                                                                                                                                                                                                                                                                                                                                                                                                                                                                                                                                                                                                                                                                                                                                                                                                                                                                                                                                                                                                                                                                                                                                                                                                                                                                                                                                                                                                                                                                                                                                                                                                                                                                                                                                                                                                                                                                                                                                                                                                                                                                                                                                                                                                                                                                                                                                                                                                                                                                                                                                                                                                                                                                                                                                                                                                                                                                                                                                                                                                                \\n Det har vært skrevet metervis av artikler og fagskrifter om det grønne skifte. Alt er grønt, og et av de viktigste tiltakene for Norge skal komme fra den grønne skogen. Det er sant, men det skjer også i dag, halvparten av CO2 utslippet på fastlands Norge blir tatt opp av skogen. Videre mål blir å redusere CO2 utslippet. Den enkleste og mest lønnsomme måten man gjør det på er å velge bioenergi som oppvarmingskilde. Nå har alle gårdeiere i Sør-Norge mulighet til å få gratis befaring og hjelp til å se på mulighetene på egen gård.\\n Eiere av landbrukseiendommer har et kjempefortrinn. De kan være selvforsynt med energi. En gård kan hente varmen fra bioenergi hentet i egen skog, og låvetaket er velegnet for solcellepaneler. Og med dette spare energikostnader. Du blir ikke lenger påvirket av høye nettleier eller høye strømpriser på gitte tider av døgnet. I snitt betaler du kanskje bare 50 øre/kWh for biovarme. Merkostnaden ved å bruke litt mer flis altså øke varmebehovet er ikke mer enn 25 øre/kWh. Jeg vil tro at de som krabber på gulvet eller går i gangen inne blir glad for en jevn varm temperatur i huset. Samtidig blir ikke virke med lav kommersiell verdi stående igjen etter en hogst, den blir brukt til varme på gården. Tilveksten øker, og verdien av skogen øker. Synergien av å øke varmen kan også gi økonomisk gevinst, tilveksten hos kylling og gris øker, veterinærkostnaden reduseres. Fòr kostnaden til kua går ned når drikkevannet varmes til 12-14 grader, da bruker kua ikke samme energi på å få opp kroppstemperaturen. Kanskje blir redskapen overhalt i et varmt verksted før våronna?\\n Potensialet er stort for bioenergi. Du får til og med økonomisk støtte fra Innovasjon Norge, de kan bidra med hjelp, opptil en tredjedel av investeringskostnaden kan du få.\\n Blir du fristet til spare penger? Lurer du på om det er lønnsomt for akkurat din gård?\\n Prosjektleder for Bioenergiprosjektet, Kjetil Øi hjelper deg gjerne på veien mot en grønnere og varmere gård. Bioenergiprosjektet kan hjelpe deg med vurderingen. Jeg hjelper til med å beregne energibehov og effektbehov på din gård. Sammen ser vi på praktiske løsninger og sørger for at jobben blir lite arbeidskrevende i fremtiden. God planlegging er avgjørende for at du blir fornøyd. Videre ser vi lønnsomheten og jeg hjelper deg med å skrive søknad til Innovasjon Norge.\\n Dette gratis tilbudet varer ut prosjektperioden som er i august. Så benytt sjansen nå.\\n Bioenergiprosjektet er et samarbeidsprosjekt mellom fire fylker og er finansiert av Fylkesmannen i Aust- og Vest-Agder, Fylkesmannen i Telemark, Fylkesmannen i Vestfold, fylkeskommunene i Aust-Agder, Vest-Agder og Vestfold og Innovasjon Norge.\\n Så ta kontakt med Kjetil Øi for en hyggelig prat. Prosjektleder bioenergi\\n Fylkesmannen i Aust- og Vest-Agder, Landbruksavdelinga, fmavkoi@fylkesmannen.no\\n Tlf 37 01 78 38 eller mob 97 13 01 19\\n Artikkelen er skrevet av Kjetil Øi fra Fylkesmannen i Aust- og Vest Agder på oppdrag fra Norsk Landbruksrådgiving Agder.  \n",
              "4                                                                                                                                                                                                                           \\n Økonomi, høge energiprisar, klimakrise – det kan vere mange grunnar til at gardbrukarar vurderer å investere i bioenergi.\\n Interessa for å produsere eigen energi er større enn nokon gong. Nokon går til og med så langt at dei ynskjer å vere såkalla off grid, dvs. ein bustad, eit gardsbruk eller ein livsstil der ein er sjølvforsynt. Gardsbruka har mange ressursar som kan nyttast til energiproduksjon, men kva høver for din gard?\\n Frå solstrålar til straum\\n Solcelleanlegg er ei lågthengande frukt dersom du ynskjer å produsere eigen straum. Det finst fleire nettstader der du skriv inn adressa di, og får berekna kva taka dine kan gje. Prøv for eksempel https://solkart.no/. Det er ikkje berre tak som egner seg til solceller; fasadar kan òg vere aktuelle. Straumbehovet er ofte ulikt gjennom døgeret, og det kan vere nyttig å få oversikt over korleis døgnvariasjonen er på din gard.\\n I periodar med mykje lys, men lågt energiforbruk på garden, kan det hende du produserer meir straum enn du treng. Då vert overskotet av straum sendt ut på nettet. Prisen er den same som spotprisen på straum i den aktuelle timen.\\n Kva er effekten og ytinga på solcellene? Effekten til straum målast i watt, medan effekten for solceller målast i wattpeak (wp). Med «peak» meinast den høgaste effekten ein kan oppnå under optimale tilhøve. 3 kWp tyder at eit solcelleanlegg med «full tilgjengeleg solkraft» kan levere opptil 3000 watt. Nyttar du til dømes eit mjølkeanlegg i ein båsfjøs kan det vere at dette treng 3000 watt (eller 3 kW). Vi har ikkje full solkraft heile tida. Det varierer med vèret og er ulikt mellom landsdelar. På Vestlandet opererer vi ofte med 650-700 kWh/kWp.\\n Frå solstrålar til varmt vatn\\n Solfangarar gjer om energien i solstrålane til varme. Dersom det er varmt vatn du treng så er det dette du skal investere i. Hugs at også her vert det produsert mest varmt vatn om sommaren då du kanskje har eit mindre oppvarmingsbehov.\\n Eit solfangaranlegg består av solfangar, røyr akkumulatortank og styringssystem med pumpe. Som med solceller kan solfangarar integrerast i tak, fasadar eller på bakken/i skråningar.\\n Biovarme = forbrenning av biomasse\\n Biovarme er alle former for oppvarming som kjem av forbrenning av biomasse; det kan vere ved, flis, pellets eller anna. Å brenne biovarme er CO2-nøytralt. Forklaringa er at plantane har teke opp CO2 gjennom fotosyntesen og ved forbrenning vert den same mengda CO2 bli ført tilbake. Om du fangar og lagrar CO2 når du forbrenner, vil du fjerne CO2 frå atmosfæren. Biovarme vil avlaste straumnettet og dermed frigjere høgverdig elektrisitet til andre formål. Her vil samfunnet spare ved å sleppe å bygge ut straumnettet.\\n Biokraft vil seie å lage straum av biomasse. Ein forbrenner biomassen, nyttar varmen til å koke vatn, for så å bruke dampen til å drive ein turbin som produserer elektrisitet.\\n Storleiken på investeringa i eit biovarmeanlegg vil vere veldig forskjellig. Biovarmeanlegg kan vere alt frå ein vedomn til vasskappe til eit stort og automatisert flisfyringsanlegg. Kva har du av tilgjengeleg biomasse hjå deg? Kva oppvarmingsbehov har du? Har du kanskje allereie opplegg for vassboren varme?\\n Biogass på min gard?\\n Investering i biogassanlegg ligg i motsett ende i forhold til solceller når det gjeld omfang på forarbeid. I eit forprosjekt er det viktig å kartlegge til dømes lagring og logistikk av gjødsel, spreieareal, estimert gassproduksjon, vedlikehaldskostnader samt alle andre faktorar som er av betydning. Det er fleire ulike leverandørar og ein del av anlegga skil seg veldig frå kvarandre. Du kan søkje støtte til forprosjektering av biogassanlegg frå Innovasjon Norge.\\n Tradisjonelle biogassanlegg krev ein viss mengde husdyrgjødsel og gjerne noko meir energirike substrat i tillegg for å få lønsemd. Mindre bruk kan gjerne gå saman om eit biogassanlegg eller dei kan levere husdyrgjødsel og ta i mot biorest til/frå større anlegg. Det kan òg hende at vi kan få biogassanlegg framover for mindre besetningar. Leverandørar for ein type anlegg i Noreg har sagt dei kan rekne det «heim» ned til 25 kyr. I den siste tida har det blitt starta opp fleire anlegg og fleire er under bygging. Det er viktig at vi får erfaringstal frå desse anlegga for å kunne gje gode svar til gardbrukarane.\\n Biogass er ein rotneprosess som skjer utan luft. Husdyrgjødsel og evt. andre tilleggssubstrat vert pumpa inn og vi får ut gass (metan + CO2) og biorest som to sluttprodukt. Bioresten vil ofte ha betre eigenskapar som gjødsel samanlikna med husdyrgjødsel.\\n Biogass er fornybar og klimanøytral fordi den allereie finnest i krinslaupet. Atmosfæren får ikkje tilført meir CO2 ved bruk enn ved naturleg nedbryting. Vert biogassen nytta som drivstoff vert utsleppet av CO2 redusert med 2,7 kg for kvar liter diesel ein byter ut. Oppgradering av gass til drivstoff krev ein viss mengde gass, og er per no ikkje aktuelt for gardsanlegg. På gards- og grendeanlegg vert gassen brent direkte for varmeproduksjon. Ein kan òg produsere straum frå biogass ved hjelp av ein gassturbin, men ein vil uansett få ut mesteparten av energien i gassen som varme.\\n Kombinasjon av fleire energikjelder\\n Solceller kan kombinerast med straum frå nettet eller for eksempel ved/flisfyring. Solceller om sommaren og vedkjel om vinteren? Straum frå solceller eller biogassanlegg kan kombinerast med varmepumpe for å få ut høgare effekt på oppvarming. Moglegheitene er mange, og du må finne det som er mest optimalt for din gard og ditt behov.\\n Norsk landbruksrådgiving med rådgivingsteneste innanfor bioenergi\\n Kva er ressursgrunnlaget for energiproduksjon på din gard? Har du skog? Har du takflater? Har du husdyrgjødsel? Treng du hjelp for å gjere ein avklaringsprosess? Treng du bistand til forprosjekt?\\n NLR hjelper deg å ta kunnskapsbaserte val. Få svar av uavhengige rådgjevarar. Ta kontakt med oss! Fornybar energi | Norsk Landbruksrådgiving (nlr.no).  "
            ],
            "text/html": [
              "\n",
              "  <div id=\"df-708b3648-4148-4da3-9082-beece4b481d8\" class=\"colab-df-container\">\n",
              "    <div>\n",
              "<style scoped>\n",
              "    .dataframe tbody tr th:only-of-type {\n",
              "        vertical-align: middle;\n",
              "    }\n",
              "\n",
              "    .dataframe tbody tr th {\n",
              "        vertical-align: top;\n",
              "    }\n",
              "\n",
              "    .dataframe thead th {\n",
              "        text-align: right;\n",
              "    }\n",
              "</style>\n",
              "<table border=\"1\" class=\"dataframe\">\n",
              "  <thead>\n",
              "    <tr style=\"text-align: right;\">\n",
              "      <th></th>\n",
              "      <th>Title</th>\n",
              "      <th>Article</th>\n",
              "    </tr>\n",
              "  </thead>\n",
              "  <tbody>\n",
              "    <tr>\n",
              "      <th>0</th>\n",
              "      <td>Fossilfri maskinpark – muligheter for landbruket og status</td>\n",
              "      <td>\\n Et av satsingsområdene i landbrukets klimaplan er utfasing av fossilt drivstoff og overgang til biodrivstoff eller maskiner som går på elektrisitet, biogass eller hydrogen. Mål om klimagassreduksjon er på 600 000 – 1 470 000t CO₂ ekvivalenter.\\n «Klimakur 2030» forteller om ca. 160 000 registrerte traktorer i jordbruket som står for ca. 90 % av de totale utslippene fra næringens maskinpark. Et grovt anslag på CO₂-utslippet fra fossilt drivstoff brukt i traktorene kan beregnes til ca. 550 000t CO₂ ekv.\\n Bruk av biodrivstoff ansees som et smertefritt tiltak, siden den ikke gir store driftsmessige eller tekniske konsekvenser. Avanserte biodrivstoff er mest brukt i Norge, og lages i all hovedsak av slakteavfall og brukt frityrolje. Konvensjonelle biodrivstoff baserer seg på landbruksvekster som raps og har fått en langt mindre avsetning i de senere årene. Det skal nevnes at prislappen på biodrivstoff er ca. 30 % høyere pr. liter enn fossil diesel. Pr. dags dato er det heller ikke noen norsk produksjon av biodiesel og tilgjengelig drivstoff blir produsert utenlandsk og underligger en streng sertifisering. \\n Elektrisitet kan være et alternativ for mindre maskiner, som minilaster eller teleskoplastere. For traktorer vil dagens kapasitet på batteripakka være for liten for å gjennomføre de tyngre oppgavene i gårdsdrifta. Selv om en produsent tilbyr en 100Hk batteridreven smalsportraktor vil ikke denne traktoren være et alternativ for jordbrukeren og trolig passe mer til lettere oppgaver i kommunal drift. \\n Gassdrevne traktorer med CBG (komprimert biogass)\\n produseres i serie, et fåtall finnes i Norge pr. dags dato. New Holland T6 modell utstyrte med en 160Hk motor og etter opplysninger fra produsenten skal det komme en sterkere modell med 270Hk i slutten av 2024. CBG tankene på disse traktorene kan lagre maks 47kg CBG som tilsvarer ca. 61l diesel på energibasis. Prisen på CBG traktorer er ca. 25 – 30 % høyere enn hos tilsvarende dieselmodeller. Lønnsomheten for CBG som drivstoff forutsetter hyppig og jevn avsetning av gassen.\\n Hydrogen som drivstoff kan være et fremtidig alternativ. Imidlertid kreves det en kostbar prosess for å lage hydrogen gjennom elektrolysen. Andre faktorer som lite energitetthet pr. volum i både gass – og flytende form og et lite utbygd distribusjonsnett tilsier at kommersiell bruk av den typen drivstoff neppe vil være et alternativ frem til 2030.\\n Økte investerings- og driftskostnader ved overgang til fossilfri drivstoff må følges med tilskuddsordninger eller kostnadskompensasjoner. Vi registrerer et levende CO₂-marked for drivstoffdistributører i flere land i Europa, som gjør det lønnsomt å erstatte fossil med fossilfri drivstoff. Markedsprisen på CO₂ kvoten (€/t CO₂ – ekv) graderes etter substrat for å lage fossilfri drivstoff, der f.eks. husdyrgjødsel har høyest gradering og dermed kan gi høyere inntekter enn plantebasert drivstoff. Andre tiltak i andre EU-land er skattelettelse på fossilfri drivstoff.\\n Det er vel å merke at landbruket kan produsere egen CBG fra egen husdyrgjødsel som da kan brukes i egne traktorer. Utenlandske erfaringer viser til at teknikken er moden både på oppgraderingsanlegg for mindre biogassanlegg, traktorer og private fyllestasjoner.</td>\n",
              "    </tr>\n",
              "    <tr>\n",
              "      <th>1</th>\n",
              "      <td>Strømproduksjon fra husdyrgjødsel – enkel betraktning</td>\n",
              "      <td>\\n Husdyrgjødsel ansees som bøndenes gull fordi den har en bestemt gjødselverdi og sørger for at organisk materiale tilføres jorda som mat for mikroorganismene oppå og under torva. \\n Den siste tiden har det vært mange spørsmål om husdyrgjødsel, biogass og strømproduksjon. Nedenfor står noen enkle betraktninger om denne tematikken som konkluderes med at husdyrgjødsel fungerer som strømkilde.\\n I husdyrgjødsel ligger det en god del ufordøyde plantefibre og kornrester som har et gasspotensiale. Gassutbytte fra husdyrgjødsel er avhengig av hva produksjonsdyret fôres med. Eksempelvis vil gjødsla fra ei høytytende melkeku gi potensiell mer energi i sammenligning med ei ammeku, hvor fôringen baserer seg på sent slått gress. Rågassen kan da brukes til energiproduksjonen.\\n I litteraturen finner man at 1t husdyrgjødsel, som brukes i et biogassanlegg, produserer grovt mellom 20 - 30m3 rågass. Faktorer som behandling og lagring av gjødsla bestemmer mulig utbytte av gass. I tillegg vil tiden mellom utskilt gjødsel frem til den ender opp i et anlegg bestemme hvor mye energi man muligens kan utvinne.\\n Ikke all energi som ligger i husdyrgjødsel kan omformes til strømproduksjon, pga. høye energitap under prosessen. Grovt kan man si at 1m3 rågass gir 2,2kWh i strøm. Det må anmerkes at energitapet som oppstår under strømproduksjon kan gjenvinnes i form av overskuddsvarme.\\n Tar man utgangspunkt i 20m3 rågass i 1m3 husdyrgjødsel storfe så kan denne mengden produsere 44kWh strøm. Ei melkeku med en ytelse på 8000t EKM produserer ca. 20t husdyrgjødsel pr år, som kan generere ca. 880kWh strøm.\\n Så kan man selv se på strømforbruket sitt i hus, redskapshus eller fjøs og bli overrasket det ikke er mange melkekyr som skal til for å dekke strømbehovet sitt.</td>\n",
              "    </tr>\n",
              "    <tr>\n",
              "      <th>2</th>\n",
              "      <td>Høgaktuelt med energiproduksjon på garden</td>\n",
              "      <td>\\n Høye energipriser gjør det aktuelt for bønder å produsere mer av sin egen energi enten i form av elektrisitet og/eller varme. Energiproduksjon for salg også aktuelt. \\n De fleste tiltak er søknadspliktige. NLR har landsdekkende rådgivere som kan bistå med rådgiving, søknad om tilskudd, byggesøknad osv.\\n Les meir om tenesta vår på området:\\n Fornybar energi\\n Solceller på tak er en effektiv måte å produsere egen strøm uten mye ettersyn og vedlikehold. Hos Innovasjon Norge vektlegges og prioriteres anlegg som har et betydelig forbruk i næring der landbruksvirksomheten er viktig for sysselsetting på gården. Det gis ikke støtte til mindre anlegg og anleggene må ha tilstrekkelig lønnsomhet etter investering. Egne regler for veksthus.\\n Enova gir støtte til mindre private anlegg.\\n En av ulempene med solceller at de produserer normalt lite av årsproduksjonen i perioden november – februar. Belegg fra støv fra ventilasjon fra gris og fjørfe kan også være en utfordring i forhold til virkningsgrad.\\n Forventet levetid + 30år.\\n Vindkraft tilpasset energibehovet til gården begynner å bli et lønnsomt alternativ. Men her er regelverk og støtteordninger ikke på plass. I Time kommune. Rogaland, er det gitt dispensasjon* for å sette opp 1 stk 26 meter høy gårdsvindmølle med ytelse 25kW og årsproduksjon 70 000 – 110 000 kW årlig. *Skal behandles i Rogaland fylkeskommune.\\n Enova gir støtte til små private vindturbiner, men er lite aktuelt for landbruk. \\n Vindturbiner tilpasset gårdsnivå har ikke støtteordning foreløpig.\\n Ulempene med vindkraft er ca 35% produksjon i forhold til installert effekt, samt støy og det visuelle med tanke på naboer. Ikke alle områder at netteier har kapasitet på nett, trafo o.l. til å ta imot overskuddsproduksjon.\\n Forventet levetid 20-30 år.\\n Prisnivå: fra kr 1,3 millioner + mva\\n I landbruk vil luft-luft fungere dårlig pga mye støv og gasser i husdyrrom. Det gis heller ikke støtte til luft-luft eller luft-vann løsninger til næring. Noen kommuner gir nå støtte til installasjon av luft-luft varmepumpe til bolig som et ekstraordinært tiltak (sjekk med din kommune).\\n Større luft-vann varmepumper er det rimeligste alternativet og fungerer godt langs sør- og vestlandskysten, også om vinteren. Luft-vann varmepumper kan leveres som lavtemperatur (maks 50 oC) og høytemperatur (maks 80 oC), eller som begge deler. Vedlikeholdsbehovet er lavt ved varmepumpeløsning.\\n Prisnivå: fra kr 150 000,-\\n Væske-vann varmepumpe kan også være en god løsning ved bruk av vannbåren varme, spesielt i områder med mye lave temperaturer i vinterhalvåret.\\n Innovasjon Norge: det gis støtte til væske-vann varmepumper som skal levere energi til næring alene eller sammen med leveranse til boliger. Det er en forutsetting av det monteres energimåler og at eiendommen kan dokumentere avgiftspliktig omsetning.\\n Anleggene må ha tilstrekkelig lønnsomhet etter investering. Behovet for energi må dokumenteres.\\n Med væske-vann menes nedgravd kollektorslange i jord, kollektorslange i vann/sjø eller kollektorslange i borehull. \\n Enova\\n gir inntil 10 000 kr i støtte til væske-vann varmepumpe til bolig.\\n Forventet levetid væske-vann varmepumpe 10 – 20 år. Etanol eller glykol blir mye brukt som energibærer i kollektorslange.\\n Kollektorslange nedgravd på ca 1 meter i jord fungerer best i område uten tung trafikk, f.eks. hage.\\n Kollektorslange i vann/sjø krever nærhet til vann/sjø. I sjø kan «groe» som isolerer kollektorslange være et problem \\n Borehull (energibrønn) vil kunne brukes for uttak av energi i +100 år. Det mest negative med borehulls-løsning er høy investeringskostnad. Borehull er også dårlig løsning i løse grunnmasser.\\n Prisnivå: fra kr 200 000,- + borehull\\n Ved/flisfyr er et godt varmealternativ i områder med god tilgang på trevirke. Akkumulatortank (godt isolert stor vannbeholder) kreves for å få jevn belastning av fyren. \\n Eksempel på løsning kan være å støpe dekke i betongsilo som er ute av bruk og dermed få brannsikkert fyrrom under. Dekket over kan brukes til vedlager eller flismagasin.\\n Pellets fylles på i magasin og mates inn i en fyrkjel som tilpasser forbrenningen etter behovet i varmemagasinet. Pelletsfyring er en automatisert løsning som krever lite tilsyn, men noe manuell håndtering av pellets.\\n Kjøp av pellets gir relativt høy kWh-pris\\n Prisnivå: fra 35 000,- \\n Varmesystem med manuelt innlegg av ved 0,5 - 2 ganger / døgn. Fyren varmer opp stort varmemagasin der varme til f.eks. bolig hentes fra. \\n Krever mye manuell håndtering av ved til faste tider, men gir lav kWh-pris ved høy egeninnsats i vedproduksjonen.\\n Prisnivå: fra kr 75 000,- \\n Hele tømmerstokker tørkes og flises opp med stor flisekutter. Flis fylles på i magasin med bunnuttak. Flisen skrues inn i en fyrkjel som tilpasser forbrenningen etter behovet i varmemagasinet. Flisfyring er en automatisert løsning som krever lite tilsyn / manuell håndtering.\\n Store flisfyringsanlegg egner seg også godt til salg av varme.\\n Innovasjon Norge gir støtte til anlegg basert på biovarme.\\n Enova gir ikke støtte til biovarme på landbrukseiendom\\n Prisnivå: fra kr 300 000,-\\n Solfanger er lite aktuelt i landbruk på våre breddegrader dersom varmebehovet ikke er stort på sommeren. Lav effekt i vinterhalvåret.\\n Blanding av husdyrgjødsel, matavfall og annet organisk avfall pumpes inn i en tett råtnetank hvor anaerobe mikroorganismer bryter ned og produserer gasser som i hovedsak består av metan og CO2. Denne gassmiksen kaller vi biogass. Det bør være tilgang til minst 4000 m3 husdyrgjødsel i tillegg til andre substrater for å få lønnsomhet ut av et biogassanlegg.\\n Biogassen kan brennes direkte for varmeproduksjon. I stasjonære motorer eller gassturbiner kan gassen brukes til elektrisitet- og varmeproduksjon. Ca 1/3 blir elektrisitet og ca 2/3 blir til varme.\\n Biogassen kan også oppgraderes til ren metangass og brukes til drivstoff.\\n Innholdet i råtnetanken etter uttak av biogass kalles for biorest, og er en homogen blanding som kan brukes som gjødsel.\\n 1 m3 biogass gir 6,2 kWh\\n Innovasjon Norge støtter biogassprosjekt i landbruket.\\n Prisnivå: fra kr 4 millioner .</td>\n",
              "    </tr>\n",
              "    <tr>\n",
              "      <th>3</th>\n",
              "      <td>Bioenergi er lønnsomt</td>\n",
              "      <td>\\n Det har vært skrevet metervis av artikler og fagskrifter om det grønne skifte. Alt er grønt, og et av de viktigste tiltakene for Norge skal komme fra den grønne skogen. Det er sant, men det skjer også i dag, halvparten av CO2 utslippet på fastlands Norge blir tatt opp av skogen. Videre mål blir å redusere CO2 utslippet. Den enkleste og mest lønnsomme måten man gjør det på er å velge bioenergi som oppvarmingskilde. Nå har alle gårdeiere i Sør-Norge mulighet til å få gratis befaring og hjelp til å se på mulighetene på egen gård.\\n Eiere av landbrukseiendommer har et kjempefortrinn. De kan være selvforsynt med energi. En gård kan hente varmen fra bioenergi hentet i egen skog, og låvetaket er velegnet for solcellepaneler. Og med dette spare energikostnader. Du blir ikke lenger påvirket av høye nettleier eller høye strømpriser på gitte tider av døgnet. I snitt betaler du kanskje bare 50 øre/kWh for biovarme. Merkostnaden ved å bruke litt mer flis altså øke varmebehovet er ikke mer enn 25 øre/kWh. Jeg vil tro at de som krabber på gulvet eller går i gangen inne blir glad for en jevn varm temperatur i huset. Samtidig blir ikke virke med lav kommersiell verdi stående igjen etter en hogst, den blir brukt til varme på gården. Tilveksten øker, og verdien av skogen øker. Synergien av å øke varmen kan også gi økonomisk gevinst, tilveksten hos kylling og gris øker, veterinærkostnaden reduseres. Fòr kostnaden til kua går ned når drikkevannet varmes til 12-14 grader, da bruker kua ikke samme energi på å få opp kroppstemperaturen. Kanskje blir redskapen overhalt i et varmt verksted før våronna?\\n Potensialet er stort for bioenergi. Du får til og med økonomisk støtte fra Innovasjon Norge, de kan bidra med hjelp, opptil en tredjedel av investeringskostnaden kan du få.\\n Blir du fristet til spare penger? Lurer du på om det er lønnsomt for akkurat din gård?\\n Prosjektleder for Bioenergiprosjektet, Kjetil Øi hjelper deg gjerne på veien mot en grønnere og varmere gård. Bioenergiprosjektet kan hjelpe deg med vurderingen. Jeg hjelper til med å beregne energibehov og effektbehov på din gård. Sammen ser vi på praktiske løsninger og sørger for at jobben blir lite arbeidskrevende i fremtiden. God planlegging er avgjørende for at du blir fornøyd. Videre ser vi lønnsomheten og jeg hjelper deg med å skrive søknad til Innovasjon Norge.\\n Dette gratis tilbudet varer ut prosjektperioden som er i august. Så benytt sjansen nå.\\n Bioenergiprosjektet er et samarbeidsprosjekt mellom fire fylker og er finansiert av Fylkesmannen i Aust- og Vest-Agder, Fylkesmannen i Telemark, Fylkesmannen i Vestfold, fylkeskommunene i Aust-Agder, Vest-Agder og Vestfold og Innovasjon Norge.\\n Så ta kontakt med Kjetil Øi for en hyggelig prat. Prosjektleder bioenergi\\n Fylkesmannen i Aust- og Vest-Agder, Landbruksavdelinga, fmavkoi@fylkesmannen.no\\n Tlf 37 01 78 38 eller mob 97 13 01 19\\n Artikkelen er skrevet av Kjetil Øi fra Fylkesmannen i Aust- og Vest Agder på oppdrag fra Norsk Landbruksrådgiving Agder.</td>\n",
              "    </tr>\n",
              "    <tr>\n",
              "      <th>4</th>\n",
              "      <td>Garden som energiprodusent?</td>\n",
              "      <td>\\n Økonomi, høge energiprisar, klimakrise – det kan vere mange grunnar til at gardbrukarar vurderer å investere i bioenergi.\\n Interessa for å produsere eigen energi er større enn nokon gong. Nokon går til og med så langt at dei ynskjer å vere såkalla off grid, dvs. ein bustad, eit gardsbruk eller ein livsstil der ein er sjølvforsynt. Gardsbruka har mange ressursar som kan nyttast til energiproduksjon, men kva høver for din gard?\\n Frå solstrålar til straum\\n Solcelleanlegg er ei lågthengande frukt dersom du ynskjer å produsere eigen straum. Det finst fleire nettstader der du skriv inn adressa di, og får berekna kva taka dine kan gje. Prøv for eksempel https://solkart.no/. Det er ikkje berre tak som egner seg til solceller; fasadar kan òg vere aktuelle. Straumbehovet er ofte ulikt gjennom døgeret, og det kan vere nyttig å få oversikt over korleis døgnvariasjonen er på din gard.\\n I periodar med mykje lys, men lågt energiforbruk på garden, kan det hende du produserer meir straum enn du treng. Då vert overskotet av straum sendt ut på nettet. Prisen er den same som spotprisen på straum i den aktuelle timen.\\n Kva er effekten og ytinga på solcellene? Effekten til straum målast i watt, medan effekten for solceller målast i wattpeak (wp). Med «peak» meinast den høgaste effekten ein kan oppnå under optimale tilhøve. 3 kWp tyder at eit solcelleanlegg med «full tilgjengeleg solkraft» kan levere opptil 3000 watt. Nyttar du til dømes eit mjølkeanlegg i ein båsfjøs kan det vere at dette treng 3000 watt (eller 3 kW). Vi har ikkje full solkraft heile tida. Det varierer med vèret og er ulikt mellom landsdelar. På Vestlandet opererer vi ofte med 650-700 kWh/kWp.\\n Frå solstrålar til varmt vatn\\n Solfangarar gjer om energien i solstrålane til varme. Dersom det er varmt vatn du treng så er det dette du skal investere i. Hugs at også her vert det produsert mest varmt vatn om sommaren då du kanskje har eit mindre oppvarmingsbehov.\\n Eit solfangaranlegg består av solfangar, røyr akkumulatortank og styringssystem med pumpe. Som med solceller kan solfangarar integrerast i tak, fasadar eller på bakken/i skråningar.\\n Biovarme = forbrenning av biomasse\\n Biovarme er alle former for oppvarming som kjem av forbrenning av biomasse; det kan vere ved, flis, pellets eller anna. Å brenne biovarme er CO2-nøytralt. Forklaringa er at plantane har teke opp CO2 gjennom fotosyntesen og ved forbrenning vert den same mengda CO2 bli ført tilbake. Om du fangar og lagrar CO2 når du forbrenner, vil du fjerne CO2 frå atmosfæren. Biovarme vil avlaste straumnettet og dermed frigjere høgverdig elektrisitet til andre formål. Her vil samfunnet spare ved å sleppe å bygge ut straumnettet.\\n Biokraft vil seie å lage straum av biomasse. Ein forbrenner biomassen, nyttar varmen til å koke vatn, for så å bruke dampen til å drive ein turbin som produserer elektrisitet.\\n Storleiken på investeringa i eit biovarmeanlegg vil vere veldig forskjellig. Biovarmeanlegg kan vere alt frå ein vedomn til vasskappe til eit stort og automatisert flisfyringsanlegg. Kva har du av tilgjengeleg biomasse hjå deg? Kva oppvarmingsbehov har du? Har du kanskje allereie opplegg for vassboren varme?\\n Biogass på min gard?\\n Investering i biogassanlegg ligg i motsett ende i forhold til solceller når det gjeld omfang på forarbeid. I eit forprosjekt er det viktig å kartlegge til dømes lagring og logistikk av gjødsel, spreieareal, estimert gassproduksjon, vedlikehaldskostnader samt alle andre faktorar som er av betydning. Det er fleire ulike leverandørar og ein del av anlegga skil seg veldig frå kvarandre. Du kan søkje støtte til forprosjektering av biogassanlegg frå Innovasjon Norge.\\n Tradisjonelle biogassanlegg krev ein viss mengde husdyrgjødsel og gjerne noko meir energirike substrat i tillegg for å få lønsemd. Mindre bruk kan gjerne gå saman om eit biogassanlegg eller dei kan levere husdyrgjødsel og ta i mot biorest til/frå større anlegg. Det kan òg hende at vi kan få biogassanlegg framover for mindre besetningar. Leverandørar for ein type anlegg i Noreg har sagt dei kan rekne det «heim» ned til 25 kyr. I den siste tida har det blitt starta opp fleire anlegg og fleire er under bygging. Det er viktig at vi får erfaringstal frå desse anlegga for å kunne gje gode svar til gardbrukarane.\\n Biogass er ein rotneprosess som skjer utan luft. Husdyrgjødsel og evt. andre tilleggssubstrat vert pumpa inn og vi får ut gass (metan + CO2) og biorest som to sluttprodukt. Bioresten vil ofte ha betre eigenskapar som gjødsel samanlikna med husdyrgjødsel.\\n Biogass er fornybar og klimanøytral fordi den allereie finnest i krinslaupet. Atmosfæren får ikkje tilført meir CO2 ved bruk enn ved naturleg nedbryting. Vert biogassen nytta som drivstoff vert utsleppet av CO2 redusert med 2,7 kg for kvar liter diesel ein byter ut. Oppgradering av gass til drivstoff krev ein viss mengde gass, og er per no ikkje aktuelt for gardsanlegg. På gards- og grendeanlegg vert gassen brent direkte for varmeproduksjon. Ein kan òg produsere straum frå biogass ved hjelp av ein gassturbin, men ein vil uansett få ut mesteparten av energien i gassen som varme.\\n Kombinasjon av fleire energikjelder\\n Solceller kan kombinerast med straum frå nettet eller for eksempel ved/flisfyring. Solceller om sommaren og vedkjel om vinteren? Straum frå solceller eller biogassanlegg kan kombinerast med varmepumpe for å få ut høgare effekt på oppvarming. Moglegheitene er mange, og du må finne det som er mest optimalt for din gard og ditt behov.\\n Norsk landbruksrådgiving med rådgivingsteneste innanfor bioenergi\\n Kva er ressursgrunnlaget for energiproduksjon på din gard? Har du skog? Har du takflater? Har du husdyrgjødsel? Treng du hjelp for å gjere ein avklaringsprosess? Treng du bistand til forprosjekt?\\n NLR hjelper deg å ta kunnskapsbaserte val. Få svar av uavhengige rådgjevarar. Ta kontakt med oss! Fornybar energi | Norsk Landbruksrådgiving (nlr.no).</td>\n",
              "    </tr>\n",
              "  </tbody>\n",
              "</table>\n",
              "</div>\n",
              "    <div class=\"colab-df-buttons\">\n",
              "\n",
              "  <div class=\"colab-df-container\">\n",
              "    <button class=\"colab-df-convert\" onclick=\"convertToInteractive('df-708b3648-4148-4da3-9082-beece4b481d8')\"\n",
              "            title=\"Convert this dataframe to an interactive table.\"\n",
              "            style=\"display:none;\">\n",
              "\n",
              "  <svg xmlns=\"http://www.w3.org/2000/svg\" height=\"24px\" viewBox=\"0 -960 960 960\">\n",
              "    <path d=\"M120-120v-720h720v720H120Zm60-500h600v-160H180v160Zm220 220h160v-160H400v160Zm0 220h160v-160H400v160ZM180-400h160v-160H180v160Zm440 0h160v-160H620v160ZM180-180h160v-160H180v160Zm440 0h160v-160H620v160Z\"/>\n",
              "  </svg>\n",
              "    </button>\n",
              "\n",
              "  <style>\n",
              "    .colab-df-container {\n",
              "      display:flex;\n",
              "      gap: 12px;\n",
              "    }\n",
              "\n",
              "    .colab-df-convert {\n",
              "      background-color: #E8F0FE;\n",
              "      border: none;\n",
              "      border-radius: 50%;\n",
              "      cursor: pointer;\n",
              "      display: none;\n",
              "      fill: #1967D2;\n",
              "      height: 32px;\n",
              "      padding: 0 0 0 0;\n",
              "      width: 32px;\n",
              "    }\n",
              "\n",
              "    .colab-df-convert:hover {\n",
              "      background-color: #E2EBFA;\n",
              "      box-shadow: 0px 1px 2px rgba(60, 64, 67, 0.3), 0px 1px 3px 1px rgba(60, 64, 67, 0.15);\n",
              "      fill: #174EA6;\n",
              "    }\n",
              "\n",
              "    .colab-df-buttons div {\n",
              "      margin-bottom: 4px;\n",
              "    }\n",
              "\n",
              "    [theme=dark] .colab-df-convert {\n",
              "      background-color: #3B4455;\n",
              "      fill: #D2E3FC;\n",
              "    }\n",
              "\n",
              "    [theme=dark] .colab-df-convert:hover {\n",
              "      background-color: #434B5C;\n",
              "      box-shadow: 0px 1px 3px 1px rgba(0, 0, 0, 0.15);\n",
              "      filter: drop-shadow(0px 1px 2px rgba(0, 0, 0, 0.3));\n",
              "      fill: #FFFFFF;\n",
              "    }\n",
              "  </style>\n",
              "\n",
              "    <script>\n",
              "      const buttonEl =\n",
              "        document.querySelector('#df-708b3648-4148-4da3-9082-beece4b481d8 button.colab-df-convert');\n",
              "      buttonEl.style.display =\n",
              "        google.colab.kernel.accessAllowed ? 'block' : 'none';\n",
              "\n",
              "      async function convertToInteractive(key) {\n",
              "        const element = document.querySelector('#df-708b3648-4148-4da3-9082-beece4b481d8');\n",
              "        const dataTable =\n",
              "          await google.colab.kernel.invokeFunction('convertToInteractive',\n",
              "                                                    [key], {});\n",
              "        if (!dataTable) return;\n",
              "\n",
              "        const docLinkHtml = 'Like what you see? Visit the ' +\n",
              "          '<a target=\"_blank\" href=https://colab.research.google.com/notebooks/data_table.ipynb>data table notebook</a>'\n",
              "          + ' to learn more about interactive tables.';\n",
              "        element.innerHTML = '';\n",
              "        dataTable['output_type'] = 'display_data';\n",
              "        await google.colab.output.renderOutput(dataTable, element);\n",
              "        const docLink = document.createElement('div');\n",
              "        docLink.innerHTML = docLinkHtml;\n",
              "        element.appendChild(docLink);\n",
              "      }\n",
              "    </script>\n",
              "  </div>\n",
              "\n",
              "\n",
              "<div id=\"df-d1f9c502-0b99-4933-8feb-ce84ca98b5ad\">\n",
              "  <button class=\"colab-df-quickchart\" onclick=\"quickchart('df-d1f9c502-0b99-4933-8feb-ce84ca98b5ad')\"\n",
              "            title=\"Suggest charts\"\n",
              "            style=\"display:none;\">\n",
              "\n",
              "<svg xmlns=\"http://www.w3.org/2000/svg\" height=\"24px\"viewBox=\"0 0 24 24\"\n",
              "     width=\"24px\">\n",
              "    <g>\n",
              "        <path d=\"M19 3H5c-1.1 0-2 .9-2 2v14c0 1.1.9 2 2 2h14c1.1 0 2-.9 2-2V5c0-1.1-.9-2-2-2zM9 17H7v-7h2v7zm4 0h-2V7h2v10zm4 0h-2v-4h2v4z\"/>\n",
              "    </g>\n",
              "</svg>\n",
              "  </button>\n",
              "\n",
              "<style>\n",
              "  .colab-df-quickchart {\n",
              "      --bg-color: #E8F0FE;\n",
              "      --fill-color: #1967D2;\n",
              "      --hover-bg-color: #E2EBFA;\n",
              "      --hover-fill-color: #174EA6;\n",
              "      --disabled-fill-color: #AAA;\n",
              "      --disabled-bg-color: #DDD;\n",
              "  }\n",
              "\n",
              "  [theme=dark] .colab-df-quickchart {\n",
              "      --bg-color: #3B4455;\n",
              "      --fill-color: #D2E3FC;\n",
              "      --hover-bg-color: #434B5C;\n",
              "      --hover-fill-color: #FFFFFF;\n",
              "      --disabled-bg-color: #3B4455;\n",
              "      --disabled-fill-color: #666;\n",
              "  }\n",
              "\n",
              "  .colab-df-quickchart {\n",
              "    background-color: var(--bg-color);\n",
              "    border: none;\n",
              "    border-radius: 50%;\n",
              "    cursor: pointer;\n",
              "    display: none;\n",
              "    fill: var(--fill-color);\n",
              "    height: 32px;\n",
              "    padding: 0;\n",
              "    width: 32px;\n",
              "  }\n",
              "\n",
              "  .colab-df-quickchart:hover {\n",
              "    background-color: var(--hover-bg-color);\n",
              "    box-shadow: 0 1px 2px rgba(60, 64, 67, 0.3), 0 1px 3px 1px rgba(60, 64, 67, 0.15);\n",
              "    fill: var(--button-hover-fill-color);\n",
              "  }\n",
              "\n",
              "  .colab-df-quickchart-complete:disabled,\n",
              "  .colab-df-quickchart-complete:disabled:hover {\n",
              "    background-color: var(--disabled-bg-color);\n",
              "    fill: var(--disabled-fill-color);\n",
              "    box-shadow: none;\n",
              "  }\n",
              "\n",
              "  .colab-df-spinner {\n",
              "    border: 2px solid var(--fill-color);\n",
              "    border-color: transparent;\n",
              "    border-bottom-color: var(--fill-color);\n",
              "    animation:\n",
              "      spin 1s steps(1) infinite;\n",
              "  }\n",
              "\n",
              "  @keyframes spin {\n",
              "    0% {\n",
              "      border-color: transparent;\n",
              "      border-bottom-color: var(--fill-color);\n",
              "      border-left-color: var(--fill-color);\n",
              "    }\n",
              "    20% {\n",
              "      border-color: transparent;\n",
              "      border-left-color: var(--fill-color);\n",
              "      border-top-color: var(--fill-color);\n",
              "    }\n",
              "    30% {\n",
              "      border-color: transparent;\n",
              "      border-left-color: var(--fill-color);\n",
              "      border-top-color: var(--fill-color);\n",
              "      border-right-color: var(--fill-color);\n",
              "    }\n",
              "    40% {\n",
              "      border-color: transparent;\n",
              "      border-right-color: var(--fill-color);\n",
              "      border-top-color: var(--fill-color);\n",
              "    }\n",
              "    60% {\n",
              "      border-color: transparent;\n",
              "      border-right-color: var(--fill-color);\n",
              "    }\n",
              "    80% {\n",
              "      border-color: transparent;\n",
              "      border-right-color: var(--fill-color);\n",
              "      border-bottom-color: var(--fill-color);\n",
              "    }\n",
              "    90% {\n",
              "      border-color: transparent;\n",
              "      border-bottom-color: var(--fill-color);\n",
              "    }\n",
              "  }\n",
              "</style>\n",
              "\n",
              "  <script>\n",
              "    async function quickchart(key) {\n",
              "      const quickchartButtonEl =\n",
              "        document.querySelector('#' + key + ' button');\n",
              "      quickchartButtonEl.disabled = true;  // To prevent multiple clicks.\n",
              "      quickchartButtonEl.classList.add('colab-df-spinner');\n",
              "      try {\n",
              "        const charts = await google.colab.kernel.invokeFunction(\n",
              "            'suggestCharts', [key], {});\n",
              "      } catch (error) {\n",
              "        console.error('Error during call to suggestCharts:', error);\n",
              "      }\n",
              "      quickchartButtonEl.classList.remove('colab-df-spinner');\n",
              "      quickchartButtonEl.classList.add('colab-df-quickchart-complete');\n",
              "    }\n",
              "    (() => {\n",
              "      let quickchartButtonEl =\n",
              "        document.querySelector('#df-d1f9c502-0b99-4933-8feb-ce84ca98b5ad button');\n",
              "      quickchartButtonEl.style.display =\n",
              "        google.colab.kernel.accessAllowed ? 'block' : 'none';\n",
              "    })();\n",
              "  </script>\n",
              "</div>\n",
              "\n",
              "    </div>\n",
              "  </div>\n"
            ],
            "application/vnd.google.colaboratory.intrinsic+json": {
              "type": "dataframe",
              "summary": "{\n  \"name\": \"preview_text(nlr_text_file_content)\",\n  \"rows\": 5,\n  \"fields\": [\n    {\n      \"column\": \"Title\",\n      \"properties\": {\n        \"dtype\": \"string\",\n        \"num_unique_values\": 5,\n        \"samples\": [\n          \"Str\\u00f8mproduksjon fra husdyrgj\\u00f8dsel \\u2013 enkel betraktning\",\n          \"Garden som energiprodusent?\",\n          \"H\\u00f8gaktuelt med energiproduksjon p\\u00e5 garden\"\n        ],\n        \"semantic_type\": \"\",\n        \"description\": \"\"\n      }\n    },\n    {\n      \"column\": \"Article\",\n      \"properties\": {\n        \"dtype\": \"string\",\n        \"num_unique_values\": 5,\n        \"samples\": [\n          \"\\n Husdyrgj\\u00f8dsel ansees som b\\u00f8ndenes gull fordi den har en bestemt gj\\u00f8dselverdi og s\\u00f8rger for at organisk materiale tilf\\u00f8res jorda som mat for mikroorganismene opp\\u00e5 og under torva. \\n Den siste tiden har det v\\u00e6rt mange sp\\u00f8rsm\\u00e5l om husdyrgj\\u00f8dsel, biogass og str\\u00f8mproduksjon. Nedenfor st\\u00e5r noen enkle betraktninger om denne tematikken som konkluderes med at husdyrgj\\u00f8dsel fungerer som str\\u00f8mkilde.\\n I husdyrgj\\u00f8dsel ligger det en god del uford\\u00f8yde plantefibre og kornrester som har et gasspotensiale. Gassutbytte fra husdyrgj\\u00f8dsel er avhengig av hva produksjonsdyret f\\u00f4res med. Eksempelvis vil gj\\u00f8dsla fra ei h\\u00f8ytytende melkeku gi potensiell mer energi i sammenligning med ei ammeku, hvor f\\u00f4ringen baserer seg p\\u00e5 sent sl\\u00e5tt gress. R\\u00e5gassen kan da brukes til energiproduksjonen.\\n I litteraturen finner man at 1t husdyrgj\\u00f8dsel, som brukes i et biogassanlegg, produserer grovt mellom 20 - 30m3 r\\u00e5gass. Faktorer som behandling og lagring av gj\\u00f8dsla bestemmer mulig utbytte av gass. I tillegg vil tiden mellom utskilt gj\\u00f8dsel frem til den ender opp i et anlegg bestemme hvor mye energi man muligens kan utvinne.\\n Ikke all energi som ligger i husdyrgj\\u00f8dsel kan omformes til str\\u00f8mproduksjon, pga. h\\u00f8ye energitap under prosessen. Grovt kan man si at 1m3 r\\u00e5gass gir 2,2kWh i str\\u00f8m. Det m\\u00e5 anmerkes at energitapet som oppst\\u00e5r under str\\u00f8mproduksjon kan gjenvinnes i form av overskuddsvarme.\\n Tar man utgangspunkt i 20m3 r\\u00e5gass i 1m3 husdyrgj\\u00f8dsel storfe s\\u00e5 kan denne mengden produsere 44kWh str\\u00f8m. Ei melkeku med en ytelse p\\u00e5 8000t EKM produserer ca. 20t husdyrgj\\u00f8dsel pr \\u00e5r, som kan generere ca. 880kWh str\\u00f8m.\\n S\\u00e5 kan man selv se p\\u00e5 str\\u00f8mforbruket sitt i hus, redskapshus eller fj\\u00f8s og bli overrasket det ikke er mange melkekyr som skal til for \\u00e5 dekke str\\u00f8mbehovet sitt.\",\n          \"\\n \\u00d8konomi, h\\u00f8ge energiprisar, klimakrise \\u2013 det kan vere mange grunnar til at gardbrukarar vurderer \\u00e5 investere i bioenergi.\\n Interessa for \\u00e5 produsere eigen energi er st\\u00f8rre enn nokon gong. Nokon g\\u00e5r til og med s\\u00e5 langt at dei ynskjer \\u00e5 vere s\\u00e5kalla off grid, dvs. ein bustad, eit gardsbruk eller ein livsstil der ein er sj\\u00f8lvforsynt. Gardsbruka har mange ressursar som kan nyttast til energiproduksjon, men kva h\\u00f8ver for din gard?\\n Fr\\u00e5 solstr\\u00e5lar til straum\\n Solcelleanlegg er ei l\\u00e5gthengande frukt dersom du ynskjer \\u00e5 produsere eigen straum. Det finst fleire nettstader der du skriv inn adressa di, og f\\u00e5r berekna kva taka dine kan gje. Pr\\u00f8v for eksempel https://solkart.no/. Det er ikkje berre tak som egner seg til solceller; fasadar kan \\u00f2g vere aktuelle. Straumbehovet er ofte ulikt gjennom d\\u00f8geret, og det kan vere nyttig \\u00e5 f\\u00e5 oversikt over korleis d\\u00f8gnvariasjonen er p\\u00e5 din gard.\\n I periodar med mykje lys, men l\\u00e5gt energiforbruk p\\u00e5 garden, kan det hende du produserer meir straum enn du treng. D\\u00e5 vert overskotet av straum sendt ut p\\u00e5 nettet. Prisen er den same som spotprisen p\\u00e5 straum i den aktuelle timen.\\n Kva er effekten og ytinga p\\u00e5 solcellene? Effekten til straum m\\u00e5last i watt, medan effekten for solceller m\\u00e5last i wattpeak (wp). Med \\u00abpeak\\u00bb meinast den h\\u00f8gaste effekten ein kan oppn\\u00e5 under optimale tilh\\u00f8ve. 3 kWp tyder at eit solcelleanlegg med \\u00abfull tilgjengeleg solkraft\\u00bb kan levere opptil 3000 watt. Nyttar du til d\\u00f8mes eit mj\\u00f8lkeanlegg i ein b\\u00e5sfj\\u00f8s kan det vere at dette treng 3000 watt (eller 3 kW). Vi har ikkje full solkraft heile tida. Det varierer med v\\u00e8ret og er ulikt mellom landsdelar. P\\u00e5 Vestlandet opererer vi ofte med 650-700 kWh/kWp.\\n Fr\\u00e5 solstr\\u00e5lar til varmt vatn\\n Solfangarar gjer om energien i solstr\\u00e5lane til varme. Dersom det er varmt vatn du treng s\\u00e5 er det dette du skal investere i. Hugs at ogs\\u00e5 her vert det produsert mest varmt vatn om sommaren d\\u00e5 du kanskje har eit mindre oppvarmingsbehov.\\n Eit solfangaranlegg best\\u00e5r av solfangar, r\\u00f8yr akkumulatortank og styringssystem med pumpe. Som med solceller kan solfangarar integrerast i tak, fasadar eller p\\u00e5 bakken/i skr\\u00e5ningar.\\n Biovarme = forbrenning av biomasse\\n Biovarme er alle former for oppvarming som kjem av forbrenning av biomasse; det kan vere ved, flis, pellets eller anna. \\u00c5 brenne biovarme er CO2-n\\u00f8ytralt. Forklaringa er at plantane har teke opp CO2 gjennom fotosyntesen og ved forbrenning vert den same mengda CO2 bli f\\u00f8rt tilbake. Om du fangar og lagrar CO2 n\\u00e5r du forbrenner, vil du fjerne CO2 fr\\u00e5 atmosf\\u00e6ren. Biovarme vil avlaste straumnettet og dermed frigjere h\\u00f8gverdig elektrisitet til andre form\\u00e5l. Her vil samfunnet spare ved \\u00e5 sleppe \\u00e5 bygge ut straumnettet.\\n Biokraft vil seie \\u00e5 lage straum av biomasse. Ein forbrenner biomassen, nyttar varmen til \\u00e5 koke vatn, for s\\u00e5 \\u00e5 bruke dampen til \\u00e5 drive ein turbin som produserer elektrisitet.\\n Storleiken p\\u00e5 investeringa i eit biovarmeanlegg vil vere veldig forskjellig. Biovarmeanlegg kan vere alt fr\\u00e5 ein vedomn til vasskappe til eit stort og automatisert flisfyringsanlegg. Kva har du av tilgjengeleg biomasse hj\\u00e5 deg? Kva oppvarmingsbehov har du? Har du kanskje allereie opplegg for vassboren varme?\\n Biogass p\\u00e5 min gard?\\n Investering i biogassanlegg ligg i motsett ende i forhold til solceller n\\u00e5r det gjeld omfang p\\u00e5 forarbeid. I eit forprosjekt er det viktig \\u00e5 kartlegge til d\\u00f8mes lagring og logistikk av gj\\u00f8dsel, spreieareal, estimert gassproduksjon, vedlikehaldskostnader samt alle andre faktorar som er av betydning. Det er fleire ulike leverand\\u00f8rar og ein del av anlegga skil seg veldig fr\\u00e5 kvarandre. Du kan s\\u00f8kje st\\u00f8tte til forprosjektering av biogassanlegg fr\\u00e5 Innovasjon Norge.\\n Tradisjonelle biogassanlegg krev ein viss mengde husdyrgj\\u00f8dsel og gjerne noko meir energirike substrat i tillegg for \\u00e5 f\\u00e5 l\\u00f8nsemd. Mindre bruk kan gjerne g\\u00e5 saman om eit biogassanlegg eller dei kan levere husdyrgj\\u00f8dsel og ta i mot biorest til/fr\\u00e5 st\\u00f8rre anlegg. Det kan \\u00f2g hende at vi kan f\\u00e5 biogassanlegg framover for mindre besetningar. Leverand\\u00f8rar for ein type anlegg i Noreg har sagt dei kan rekne det \\u00abheim\\u00bb ned til 25 kyr. I den siste tida har det blitt starta opp fleire anlegg og fleire er under bygging. Det er viktig at vi f\\u00e5r erfaringstal fr\\u00e5 desse anlegga for \\u00e5 kunne gje gode svar til gardbrukarane.\\n Biogass er ein rotneprosess som skjer utan luft. Husdyrgj\\u00f8dsel og evt. andre tilleggssubstrat vert pumpa inn og vi f\\u00e5r ut gass (metan + CO2) og biorest som to sluttprodukt. Bioresten vil ofte ha betre eigenskapar som gj\\u00f8dsel samanlikna med husdyrgj\\u00f8dsel.\\n Biogass er fornybar og kliman\\u00f8ytral fordi den allereie finnest i krinslaupet. Atmosf\\u00e6ren f\\u00e5r ikkje tilf\\u00f8rt meir CO2 ved bruk enn ved naturleg nedbryting. Vert biogassen nytta som drivstoff vert utsleppet av CO2 redusert med 2,7 kg for kvar liter diesel ein byter ut. Oppgradering av gass til drivstoff krev ein viss mengde gass, og er per no ikkje aktuelt for gardsanlegg. P\\u00e5 gards- og grendeanlegg vert gassen brent direkte for varmeproduksjon. Ein kan \\u00f2g produsere straum fr\\u00e5 biogass ved hjelp av ein gassturbin, men ein vil uansett f\\u00e5 ut mesteparten av energien i gassen som varme.\\n Kombinasjon av fleire energikjelder\\n Solceller kan kombinerast med straum fr\\u00e5 nettet eller for eksempel ved/flisfyring. Solceller om sommaren og vedkjel om vinteren? Straum fr\\u00e5 solceller eller biogassanlegg kan kombinerast med varmepumpe for \\u00e5 f\\u00e5 ut h\\u00f8gare effekt p\\u00e5 oppvarming. Moglegheitene er mange, og du m\\u00e5 finne det som er mest optimalt for din gard og ditt behov.\\n Norsk landbruksr\\u00e5dgiving med r\\u00e5dgivingsteneste innanfor bioenergi\\n Kva er ressursgrunnlaget for energiproduksjon p\\u00e5 din gard? Har du skog? Har du takflater? Har du husdyrgj\\u00f8dsel? Treng du hjelp for \\u00e5 gjere ein avklaringsprosess? Treng du bistand til forprosjekt?\\n NLR hjelper deg \\u00e5 ta kunnskapsbaserte val. F\\u00e5 svar av uavhengige r\\u00e5dgjevarar. Ta kontakt med oss! Fornybar energi | Norsk Landbruksr\\u00e5dgiving (nlr.no).\",\n          \"\\n H\\u00f8ye energipriser gj\\u00f8r det aktuelt for b\\u00f8nder \\u00e5 produsere mer av sin egen energi enten i form av elektrisitet og/eller varme. Energiproduksjon for salg ogs\\u00e5 aktuelt. \\n De fleste tiltak er s\\u00f8knadspliktige. NLR har landsdekkende r\\u00e5dgivere som kan bist\\u00e5 med r\\u00e5dgiving, s\\u00f8knad om tilskudd, bygges\\u00f8knad osv.\\n Les meir om tenesta v\\u00e5r p\\u00e5 omr\\u00e5det:\\n Fornybar energi\\n Solceller p\\u00e5 tak er en effektiv m\\u00e5te \\u00e5 produsere egen str\\u00f8m uten mye ettersyn og vedlikehold. Hos Innovasjon Norge vektlegges og prioriteres anlegg som har et betydelig forbruk i n\\u00e6ring der landbruksvirksomheten er viktig for sysselsetting p\\u00e5 g\\u00e5rden. Det gis ikke st\\u00f8tte til mindre anlegg og anleggene m\\u00e5 ha tilstrekkelig l\\u00f8nnsomhet etter investering. Egne regler for veksthus.\\n Enova gir st\\u00f8tte til mindre private anlegg.\\n En av ulempene med solceller at de produserer normalt lite av \\u00e5rsproduksjonen i perioden november \\u2013 februar. Belegg fra st\\u00f8v fra ventilasjon fra gris og fj\\u00f8rfe kan ogs\\u00e5 v\\u00e6re en utfordring i forhold til virkningsgrad.\\n Forventet levetid + 30\\u00e5r.\\n Vindkraft tilpasset energibehovet til g\\u00e5rden begynner \\u00e5 bli et l\\u00f8nnsomt alternativ. Men her er regelverk og st\\u00f8tteordninger ikke p\\u00e5 plass. I Time kommune. Rogaland, er det gitt dispensasjon* for \\u00e5 sette opp 1 stk 26 meter h\\u00f8y g\\u00e5rdsvindm\\u00f8lle med ytelse 25kW og \\u00e5rsproduksjon 70 000 \\u2013 110 000 kW \\u00e5rlig. *Skal behandles i Rogaland fylkeskommune.\\n Enova gir st\\u00f8tte til sm\\u00e5 private vindturbiner, men er lite aktuelt for landbruk. \\n Vindturbiner tilpasset g\\u00e5rdsniv\\u00e5 har ikke st\\u00f8tteordning forel\\u00f8pig.\\n Ulempene med vindkraft er ca 35% produksjon i forhold til installert effekt, samt st\\u00f8y og det visuelle med tanke p\\u00e5 naboer. Ikke alle omr\\u00e5der at netteier har kapasitet p\\u00e5 nett, trafo o.l. til \\u00e5 ta imot overskuddsproduksjon.\\n Forventet levetid 20-30 \\u00e5r.\\n Prisniv\\u00e5: fra kr 1,3 millioner + mva\\n I landbruk vil luft-luft fungere d\\u00e5rlig pga mye st\\u00f8v og gasser i husdyrrom. Det gis heller ikke st\\u00f8tte til luft-luft eller luft-vann l\\u00f8sninger til n\\u00e6ring. Noen kommuner gir n\\u00e5 st\\u00f8tte til installasjon av luft-luft varmepumpe til bolig som et ekstraordin\\u00e6rt tiltak (sjekk med din kommune).\\n St\\u00f8rre luft-vann varmepumper er det rimeligste alternativet og fungerer godt langs s\\u00f8r- og vestlandskysten, ogs\\u00e5 om vinteren. Luft-vann varmepumper kan leveres som lavtemperatur (maks 50 oC) og h\\u00f8ytemperatur (maks 80 oC), eller som begge deler. Vedlikeholdsbehovet er lavt ved varmepumpel\\u00f8sning.\\n Prisniv\\u00e5: fra kr 150 000,-\\n V\\u00e6ske-vann varmepumpe kan ogs\\u00e5 v\\u00e6re en god l\\u00f8sning ved bruk av vannb\\u00e5ren varme, spesielt i omr\\u00e5der med mye lave temperaturer i vinterhalv\\u00e5ret.\\n Innovasjon Norge: det gis st\\u00f8tte til v\\u00e6ske-vann varmepumper som skal levere energi til n\\u00e6ring alene eller sammen med leveranse til boliger. Det er en forutsetting av det monteres energim\\u00e5ler og at eiendommen kan dokumentere avgiftspliktig omsetning.\\n Anleggene m\\u00e5 ha tilstrekkelig l\\u00f8nnsomhet etter investering. Behovet for energi m\\u00e5 dokumenteres.\\n Med v\\u00e6ske-vann menes nedgravd kollektorslange i jord, kollektorslange i vann/sj\\u00f8 eller kollektorslange i borehull. \\n Enova\\n gir inntil 10 000 kr i st\\u00f8tte til v\\u00e6ske-vann varmepumpe til bolig.\\n Forventet levetid v\\u00e6ske-vann varmepumpe 10 \\u2013 20 \\u00e5r. Etanol eller glykol blir mye brukt som energib\\u00e6rer i kollektorslange.\\n Kollektorslange nedgravd p\\u00e5 ca 1 meter i jord fungerer best i omr\\u00e5de uten tung trafikk, f.eks. hage.\\n Kollektorslange i vann/sj\\u00f8 krever n\\u00e6rhet til vann/sj\\u00f8. I sj\\u00f8 kan \\u00abgroe\\u00bb som isolerer kollektorslange v\\u00e6re et problem \\n Borehull (energibr\\u00f8nn) vil kunne brukes for uttak av energi i +100 \\u00e5r. Det mest negative med borehulls-l\\u00f8sning er h\\u00f8y investeringskostnad. Borehull er ogs\\u00e5 d\\u00e5rlig l\\u00f8sning i l\\u00f8se grunnmasser.\\n Prisniv\\u00e5: fra kr 200 000,- + borehull\\n Ved/flisfyr er et godt varmealternativ i omr\\u00e5der med god tilgang p\\u00e5 trevirke. Akkumulatortank (godt isolert stor vannbeholder) kreves for \\u00e5 f\\u00e5 jevn belastning av fyren. \\n Eksempel p\\u00e5 l\\u00f8sning kan v\\u00e6re \\u00e5 st\\u00f8pe dekke i betongsilo som er ute av bruk og dermed f\\u00e5 brannsikkert fyrrom under. Dekket over kan brukes til vedlager eller flismagasin.\\n Pellets fylles p\\u00e5 i magasin og mates inn i en fyrkjel som tilpasser forbrenningen etter behovet i varmemagasinet. Pelletsfyring er en automatisert l\\u00f8sning som krever lite tilsyn, men noe manuell h\\u00e5ndtering av pellets.\\n Kj\\u00f8p av pellets gir relativt h\\u00f8y kWh-pris\\n Prisniv\\u00e5: fra 35 000,- \\n Varmesystem med manuelt innlegg av ved 0,5 - 2 ganger / d\\u00f8gn. Fyren varmer opp stort varmemagasin der varme til f.eks. bolig hentes fra. \\n Krever mye manuell h\\u00e5ndtering av ved til faste tider, men gir lav kWh-pris ved h\\u00f8y egeninnsats i vedproduksjonen.\\n Prisniv\\u00e5: fra kr 75 000,- \\n Hele t\\u00f8mmerstokker t\\u00f8rkes og flises opp med stor flisekutter. Flis fylles p\\u00e5 i magasin med bunnuttak. Flisen skrues inn i en fyrkjel som tilpasser forbrenningen etter behovet i varmemagasinet. Flisfyring er en automatisert l\\u00f8sning som krever lite tilsyn / manuell h\\u00e5ndtering.\\n Store flisfyringsanlegg egner seg ogs\\u00e5 godt til salg av varme.\\n Innovasjon Norge gir st\\u00f8tte til anlegg basert p\\u00e5 biovarme.\\n Enova gir ikke st\\u00f8tte til biovarme p\\u00e5 landbrukseiendom\\n Prisniv\\u00e5: fra kr 300 000,-\\n Solfanger er lite aktuelt i landbruk p\\u00e5 v\\u00e5re breddegrader dersom varmebehovet ikke er stort p\\u00e5 sommeren. Lav effekt i vinterhalv\\u00e5ret.\\n Blanding av husdyrgj\\u00f8dsel, matavfall og annet organisk avfall pumpes inn i en tett r\\u00e5tnetank hvor anaerobe mikroorganismer bryter ned og produserer gasser som i hovedsak best\\u00e5r av metan og CO2. Denne gassmiksen kaller vi biogass. Det b\\u00f8r v\\u00e6re tilgang til minst 4000 m3 husdyrgj\\u00f8dsel i tillegg til andre substrater for \\u00e5 f\\u00e5 l\\u00f8nnsomhet ut av et biogassanlegg.\\n Biogassen kan brennes direkte for varmeproduksjon. I stasjon\\u00e6re motorer eller gassturbiner kan gassen brukes til elektrisitet- og varmeproduksjon. Ca 1/3 blir elektrisitet og ca 2/3 blir til varme.\\n Biogassen kan ogs\\u00e5 oppgraderes til ren metangass og brukes til drivstoff.\\n Innholdet i r\\u00e5tnetanken etter uttak av biogass kalles for biorest, og er en homogen blanding som kan brukes som gj\\u00f8dsel.\\n 1 m3 biogass gir 6,2 kWh\\n Innovasjon Norge st\\u00f8tter biogassprosjekt i landbruket.\\n Prisniv\\u00e5: fra kr 4 millioner .\"\n        ],\n        \"semantic_type\": \"\",\n        \"description\": \"\"\n      }\n    }\n  ]\n}"
            }
          },
          "metadata": {}
        }
      ]
    },
    {
      "cell_type": "markdown",
      "source": [
        "Quantitative characteristics"
      ],
      "metadata": {
        "id": "G_ZYUi5yMoTn"
      }
    },
    {
      "cell_type": "code",
      "source": [
        "tokens, vocabulary = describe_text_quantitatively(nlr_text_file_content)"
      ],
      "metadata": {
        "colab": {
          "base_uri": "https://localhost:8080/"
        },
        "id": "5IKOsdSHMZMD",
        "outputId": "24ebf8b7-53ca-43c2-bf4b-cbbc74b61851"
      },
      "execution_count": null,
      "outputs": [
        {
          "output_type": "stream",
          "name": "stdout",
          "text": [
            "Number of articles: 707\n",
            "\n",
            "Number of sentences in the text: 28099\n",
            "\n",
            "Number of tokens in the text: 508016\n",
            "\n",
            "Size of the text vocabulary: 35127\n",
            "\n"
          ]
        }
      ]
    },
    {
      "cell_type": "markdown",
      "source": [
        "# Text combined from 3 websites on agriculture"
      ],
      "metadata": {
        "id": "nTaRvKPuqzr_"
      }
    },
    {
      "cell_type": "markdown",
      "source": [
        "We want to check if the same title appears on different websites. In that case we want to combine text from different sources"
      ],
      "metadata": {
        "id": "-e57xP7dtBMP"
      }
    },
    {
      "cell_type": "code",
      "source": [
        "def combine_text(nibio_text, plantevernleksikonet_text, nlr_text):\n",
        "\n",
        "    all_titles = (\n",
        "        set(nibio_text.keys()) |\n",
        "        set(plantevernleksikonet_text.keys()) |\n",
        "        set(nlr_text.keys())\n",
        "    )\n",
        "\n",
        "    for title in all_titles:\n",
        "        if title in nibio_text and title in plantevernleksikonet_text:\n",
        "\n",
        "            text_under_title = ' '.join([nibio_text[title], plantevernleksikonet_text[title]])\n",
        "            nibio_text[title] = text_under_title\n",
        "            plantevernleksikonet_text[title] = text_under_title\n",
        "\n",
        "        if title in nibio_text and title in nlr_text:\n",
        "\n",
        "            text_under_title = ' '.join([nibio_text[title], nlr_text[title]])\n",
        "            nibio_text[title] = text_under_title\n",
        "            nlr_text[title] = text_under_title\n",
        "\n",
        "        if title in plantevernleksikonet_text and title in nlr_text:\n",
        "\n",
        "            text_under_title = ' '.join([plantevernleksikonet_text[title], nlr_text[title]])\n",
        "            plantevernleksikonet_text[title] = text_under_title\n",
        "            nlr_text[title] = text_under_title\n",
        "\n",
        "    text_combined = nlr_text_file_content | plantevernleksikonet_text_file_content | nibio_text_file_content\n",
        "    return text_combined\n"
      ],
      "metadata": {
        "id": "BQ1w33lKtV6D"
      },
      "execution_count": null,
      "outputs": []
    },
    {
      "cell_type": "code",
      "source": [
        "text_combined = combine_text(\n",
        "    nibio_text_file_content,\n",
        "    plantevernleksikonet_text_file_content,\n",
        "    nlr_text_file_content\n",
        "    )"
      ],
      "metadata": {
        "id": "e2BfIpGUDlXg"
      },
      "execution_count": null,
      "outputs": []
    },
    {
      "cell_type": "markdown",
      "source": [
        "# Quantitative characteristics"
      ],
      "metadata": {
        "id": "Oud2-jt_xi6W"
      }
    },
    {
      "cell_type": "code",
      "source": [
        "tokens, vocabulary = describe_text_quantitatively(text_combined)"
      ],
      "metadata": {
        "colab": {
          "base_uri": "https://localhost:8080/"
        },
        "id": "o11V5r1yxecQ",
        "outputId": "20157b5f-42ec-4baa-d9c4-88f9a90e01d6"
      },
      "execution_count": null,
      "outputs": [
        {
          "output_type": "stream",
          "name": "stdout",
          "text": [
            "Number of articles: 2292\n",
            "\n",
            "Number of sentences in the text: 71147\n",
            "\n",
            "Number of tokens in the text: 1190123\n",
            "\n",
            "Size of the text vocabulary: 61906\n",
            "\n"
          ]
        }
      ]
    },
    {
      "cell_type": "markdown",
      "source": [
        "# Visualizations"
      ],
      "metadata": {
        "id": "jP1NqDsioNvd"
      }
    },
    {
      "cell_type": "code",
      "source": [
        "cleaned_tokens = clean_tokens(vocabulary, tokens)"
      ],
      "metadata": {
        "id": "hZS6-1kbzIF9"
      },
      "execution_count": null,
      "outputs": []
    },
    {
      "cell_type": "code",
      "source": [
        "tokens_freq = plot_frequency_tokens(cleaned_tokens)"
      ],
      "metadata": {
        "colab": {
          "base_uri": "https://localhost:8080/",
          "height": 339
        },
        "id": "KdplaNfY0CbB",
        "outputId": "0c3e7060-4a70-4c1d-975f-95584aaf0a3f"
      },
      "execution_count": null,
      "outputs": [
        {
          "output_type": "display_data",
          "data": {
            "text/plain": [
              "<Figure size 1700x300 with 1 Axes>"
            ],
            "image/png": "[encoded data removed]"
          },
          "metadata": {}
        }
      ]
    },
    {
      "cell_type": "code",
      "source": [
        "plot_word_cloud(list(tokens_freq)[:500])"
      ],
      "metadata": {
        "colab": {
          "base_uri": "https://localhost:8080/",
          "height": 424
        },
        "id": "7u9he9lFXt-r",
        "outputId": "b6017ee4-970c-4b4e-bdbd-f8a70d63dbf6"
      },
      "execution_count": null,
      "outputs": [
        {
          "output_type": "display_data",
          "data": {
            "text/plain": [
              "<Figure size 1000x800 with 1 Axes>"
            ],
            "image/png": "[encoded data removed]"
          },
          "metadata": {}
        }
      ]
    },
    {
      "cell_type": "code",
      "source": [
        "bigram_collocations = get_bigram_collocations(cleaned_tokens)"
      ],
      "metadata": {
        "id": "waWaMiwp8N63"
      },
      "execution_count": null,
      "outputs": []
    },
    {
      "cell_type": "code",
      "source": [
        "trigram_collocations = get_trigram_collocations(cleaned_tokens)"
      ],
      "metadata": {
        "id": "h59c3eAx8b8i"
      },
      "execution_count": null,
      "outputs": []
    },
    {
      "cell_type": "code",
      "source": [
        "display_the_most_frequent_word_items(\n",
        "    list(tokens_freq),\n",
        "    bigram_collocations,\n",
        "    trigram_collocations,\n",
        "    top_n = 30\n",
        "    )"
      ],
      "metadata": {
        "colab": {
          "base_uri": "https://localhost:8080/",
          "height": 1008
        },
        "id": "qMhXbxrMe_br",
        "outputId": "9241dc2e-73c6-4052-dfe1-6a6eea64b527"
      },
      "execution_count": null,
      "outputs": [
        {
          "output_type": "stream",
          "name": "stdout",
          "text": [
            "30 the most used items in text:\n"
          ]
        },
        {
          "output_type": "display_data",
          "data": {
            "text/plain": [
              "          words                  bigrams                           trigrams\n",
              "0            år  formeringen spredningen      formeringen spredningen skjer\n",
              "1         norge            opptrer ugras                 voksne planten høy\n",
              "2        viktig    overlevelse spredning    biologi formeringen spredningen\n",
              "3           bør            sterke angrep         skade/ulempe opptrer ugras\n",
              "4            få        spredningen skjer          kjennetegn voksne planten\n",
              "5        tiltak              planten høy           hører biologiske gruppen\n",
              "6        voksne           voksne planten                opptrer ugras hager\n",
              "7         jorda       biologiske gruppen      spredningen skjer utelukkende\n",
              "8        angrep       organisk materiale                opptrer ugras beite\n",
              "9       planter      forebyggende tiltak                opptrer ugras slags\n",
              "10         bruk          kjemiske midler    bekjempelse forebyggende tiltak\n",
              "11         jord               legger egg                 jord opptrer ugras\n",
              "12          gir      biologi formeringen              spredningen skjer frø\n",
              "13      bladene   betydning vokseplasser         opptrer ugras åkerkulturer\n",
              "14  bekjempelse        stengelen opprett                 opptrer ugras åker\n",
              "15     plantene      kjemisk bekjempelse               opptrer ugras plener\n",
              "16          frø     skade/ulempe opptrer             opptrer ugras naturlig\n",
              "17       finnes         hører biologiske               opptrer ugras fremst\n",
              "18      larvene              dyrket mark           skrotemark opptrer ugras\n",
              "19          får        kjennetegn voksne                opptrer ugras jord-\n",
              "20      planten        forekommer dyrket  betydning vokseplasser forekommer\n",
              "21          små  vokseplasser forekommer                opptrer ugras eldre\n",
              "22        skade    småplanten frøplanten               opptrer ugras fuktig\n",
              "23         blad          utseende voksne             forekommer dyrket mark\n",
              "24       soppen       støvbærere støvvei       overlevelse spredning soppen\n",
              "25          frå    tvekjønnet støvbærere        biologiske gruppen flerårig\n",
              "26          egg               gjør skade     vokseplasser forekommer dyrket\n",
              "27       vanlig          kjemiske tiltak     spredningen skjer hovedsakelig\n",
              "28        ugras     blomstene tvekjønnet    overlevelse spredning bakterien\n",
              "29          del         mekaniske tiltak  vertplanter overlevelse spredning"
            ],
            "text/html": [
              "\n",
              "  <div id=\"df-30967dfb-fa3b-43d1-a6c9-23bd2afa855a\" class=\"colab-df-container\">\n",
              "    <div>\n",
              "<style scoped>\n",
              "    .dataframe tbody tr th:only-of-type {\n",
              "        vertical-align: middle;\n",
              "    }\n",
              "\n",
              "    .dataframe tbody tr th {\n",
              "        vertical-align: top;\n",
              "    }\n",
              "\n",
              "    .dataframe thead th {\n",
              "        text-align: right;\n",
              "    }\n",
              "</style>\n",
              "<table border=\"1\" class=\"dataframe\">\n",
              "  <thead>\n",
              "    <tr style=\"text-align: right;\">\n",
              "      <th></th>\n",
              "      <th>words</th>\n",
              "      <th>bigrams</th>\n",
              "      <th>trigrams</th>\n",
              "    </tr>\n",
              "  </thead>\n",
              "  <tbody>\n",
              "    <tr>\n",
              "      <th>0</th>\n",
              "      <td>år</td>\n",
              "      <td>formeringen spredningen</td>\n",
              "      <td>formeringen spredningen skjer</td>\n",
              "    </tr>\n",
              "    <tr>\n",
              "      <th>1</th>\n",
              "      <td>norge</td>\n",
              "      <td>opptrer ugras</td>\n",
              "      <td>voksne planten høy</td>\n",
              "    </tr>\n",
              "    <tr>\n",
              "      <th>2</th>\n",
              "      <td>viktig</td>\n",
              "      <td>overlevelse spredning</td>\n",
              "      <td>biologi formeringen spredningen</td>\n",
              "    </tr>\n",
              "    <tr>\n",
              "      <th>3</th>\n",
              "      <td>bør</td>\n",
              "      <td>sterke angrep</td>\n",
              "      <td>skade/ulempe opptrer ugras</td>\n",
              "    </tr>\n",
              "    <tr>\n",
              "      <th>4</th>\n",
              "      <td>få</td>\n",
              "      <td>spredningen skjer</td>\n",
              "      <td>kjennetegn voksne planten</td>\n",
              "    </tr>\n",
              "    <tr>\n",
              "      <th>5</th>\n",
              "      <td>tiltak</td>\n",
              "      <td>planten høy</td>\n",
              "      <td>hører biologiske gruppen</td>\n",
              "    </tr>\n",
              "    <tr>\n",
              "      <th>6</th>\n",
              "      <td>voksne</td>\n",
              "      <td>voksne planten</td>\n",
              "      <td>opptrer ugras hager</td>\n",
              "    </tr>\n",
              "    <tr>\n",
              "      <th>7</th>\n",
              "      <td>jorda</td>\n",
              "      <td>biologiske gruppen</td>\n",
              "      <td>spredningen skjer utelukkende</td>\n",
              "    </tr>\n",
              "    <tr>\n",
              "      <th>8</th>\n",
              "      <td>angrep</td>\n",
              "      <td>organisk materiale</td>\n",
              "      <td>opptrer ugras beite</td>\n",
              "    </tr>\n",
              "    <tr>\n",
              "      <th>9</th>\n",
              "      <td>planter</td>\n",
              "      <td>forebyggende tiltak</td>\n",
              "      <td>opptrer ugras slags</td>\n",
              "    </tr>\n",
              "    <tr>\n",
              "      <th>10</th>\n",
              "      <td>bruk</td>\n",
              "      <td>kjemiske midler</td>\n",
              "      <td>bekjempelse forebyggende tiltak</td>\n",
              "    </tr>\n",
              "    <tr>\n",
              "      <th>11</th>\n",
              "      <td>jord</td>\n",
              "      <td>legger egg</td>\n",
              "      <td>jord opptrer ugras</td>\n",
              "    </tr>\n",
              "    <tr>\n",
              "      <th>12</th>\n",
              "      <td>gir</td>\n",
              "      <td>biologi formeringen</td>\n",
              "      <td>spredningen skjer frø</td>\n",
              "    </tr>\n",
              "    <tr>\n",
              "      <th>13</th>\n",
              "      <td>bladene</td>\n",
              "      <td>betydning vokseplasser</td>\n",
              "      <td>opptrer ugras åkerkulturer</td>\n",
              "    </tr>\n",
              "    <tr>\n",
              "      <th>14</th>\n",
              "      <td>bekjempelse</td>\n",
              "      <td>stengelen opprett</td>\n",
              "      <td>opptrer ugras åker</td>\n",
              "    </tr>\n",
              "    <tr>\n",
              "      <th>15</th>\n",
              "      <td>plantene</td>\n",
              "      <td>kjemisk bekjempelse</td>\n",
              "      <td>opptrer ugras plener</td>\n",
              "    </tr>\n",
              "    <tr>\n",
              "      <th>16</th>\n",
              "      <td>frø</td>\n",
              "      <td>skade/ulempe opptrer</td>\n",
              "      <td>opptrer ugras naturlig</td>\n",
              "    </tr>\n",
              "    <tr>\n",
              "      <th>17</th>\n",
              "      <td>finnes</td>\n",
              "      <td>hører biologiske</td>\n",
              "      <td>opptrer ugras fremst</td>\n",
              "    </tr>\n",
              "    <tr>\n",
              "      <th>18</th>\n",
              "      <td>larvene</td>\n",
              "      <td>dyrket mark</td>\n",
              "      <td>skrotemark opptrer ugras</td>\n",
              "    </tr>\n",
              "    <tr>\n",
              "      <th>19</th>\n",
              "      <td>får</td>\n",
              "      <td>kjennetegn voksne</td>\n",
              "      <td>opptrer ugras jord-</td>\n",
              "    </tr>\n",
              "    <tr>\n",
              "      <th>20</th>\n",
              "      <td>planten</td>\n",
              "      <td>forekommer dyrket</td>\n",
              "      <td>betydning vokseplasser forekommer</td>\n",
              "    </tr>\n",
              "    <tr>\n",
              "      <th>21</th>\n",
              "      <td>små</td>\n",
              "      <td>vokseplasser forekommer</td>\n",
              "      <td>opptrer ugras eldre</td>\n",
              "    </tr>\n",
              "    <tr>\n",
              "      <th>22</th>\n",
              "      <td>skade</td>\n",
              "      <td>småplanten frøplanten</td>\n",
              "      <td>opptrer ugras fuktig</td>\n",
              "    </tr>\n",
              "    <tr>\n",
              "      <th>23</th>\n",
              "      <td>blad</td>\n",
              "      <td>utseende voksne</td>\n",
              "      <td>forekommer dyrket mark</td>\n",
              "    </tr>\n",
              "    <tr>\n",
              "      <th>24</th>\n",
              "      <td>soppen</td>\n",
              "      <td>støvbærere støvvei</td>\n",
              "      <td>overlevelse spredning soppen</td>\n",
              "    </tr>\n",
              "    <tr>\n",
              "      <th>25</th>\n",
              "      <td>frå</td>\n",
              "      <td>tvekjønnet støvbærere</td>\n",
              "      <td>biologiske gruppen flerårig</td>\n",
              "    </tr>\n",
              "    <tr>\n",
              "      <th>26</th>\n",
              "      <td>egg</td>\n",
              "      <td>gjør skade</td>\n",
              "      <td>vokseplasser forekommer dyrket</td>\n",
              "    </tr>\n",
              "    <tr>\n",
              "      <th>27</th>\n",
              "      <td>vanlig</td>\n",
              "      <td>kjemiske tiltak</td>\n",
              "      <td>spredningen skjer hovedsakelig</td>\n",
              "    </tr>\n",
              "    <tr>\n",
              "      <th>28</th>\n",
              "      <td>ugras</td>\n",
              "      <td>blomstene tvekjønnet</td>\n",
              "      <td>overlevelse spredning bakterien</td>\n",
              "    </tr>\n",
              "    <tr>\n",
              "      <th>29</th>\n",
              "      <td>del</td>\n",
              "      <td>mekaniske tiltak</td>\n",
              "      <td>vertplanter overlevelse spredning</td>\n",
              "    </tr>\n",
              "  </tbody>\n",
              "</table>\n",
              "</div>\n",
              "    <div class=\"colab-df-buttons\">\n",
              "\n",
              "  <div class=\"colab-df-container\">\n",
              "    <button class=\"colab-df-convert\" onclick=\"convertToInteractive('df-30967dfb-fa3b-43d1-a6c9-23bd2afa855a')\"\n",
              "            title=\"Convert this dataframe to an interactive table.\"\n",
              "            style=\"display:none;\">\n",
              "\n",
              "  <svg xmlns=\"http://www.w3.org/2000/svg\" height=\"24px\" viewBox=\"0 -960 960 960\">\n",
              "    <path d=\"M120-120v-720h720v720H120Zm60-500h600v-160H180v160Zm220 220h160v-160H400v160Zm0 220h160v-160H400v160ZM180-400h160v-160H180v160Zm440 0h160v-160H620v160ZM180-180h160v-160H180v160Zm440 0h160v-160H620v160Z\"/>\n",
              "  </svg>\n",
              "    </button>\n",
              "\n",
              "  <style>\n",
              "    .colab-df-container {\n",
              "      display:flex;\n",
              "      gap: 12px;\n",
              "    }\n",
              "\n",
              "    .colab-df-convert {\n",
              "      background-color: #E8F0FE;\n",
              "      border: none;\n",
              "      border-radius: 50%;\n",
              "      cursor: pointer;\n",
              "      display: none;\n",
              "      fill: #1967D2;\n",
              "      height: 32px;\n",
              "      padding: 0 0 0 0;\n",
              "      width: 32px;\n",
              "    }\n",
              "\n",
              "    .colab-df-convert:hover {\n",
              "      background-color: #E2EBFA;\n",
              "      box-shadow: 0px 1px 2px rgba(60, 64, 67, 0.3), 0px 1px 3px 1px rgba(60, 64, 67, 0.15);\n",
              "      fill: #174EA6;\n",
              "    }\n",
              "\n",
              "    .colab-df-buttons div {\n",
              "      margin-bottom: 4px;\n",
              "    }\n",
              "\n",
              "    [theme=dark] .colab-df-convert {\n",
              "      background-color: #3B4455;\n",
              "      fill: #D2E3FC;\n",
              "    }\n",
              "\n",
              "    [theme=dark] .colab-df-convert:hover {\n",
              "      background-color: #434B5C;\n",
              "      box-shadow: 0px 1px 3px 1px rgba(0, 0, 0, 0.15);\n",
              "      filter: drop-shadow(0px 1px 2px rgba(0, 0, 0, 0.3));\n",
              "      fill: #FFFFFF;\n",
              "    }\n",
              "  </style>\n",
              "\n",
              "    <script>\n",
              "      const buttonEl =\n",
              "        document.querySelector('#df-30967dfb-fa3b-43d1-a6c9-23bd2afa855a button.colab-df-convert');\n",
              "      buttonEl.style.display =\n",
              "        google.colab.kernel.accessAllowed ? 'block' : 'none';\n",
              "\n",
              "      async function convertToInteractive(key) {\n",
              "        const element = document.querySelector('#df-30967dfb-fa3b-43d1-a6c9-23bd2afa855a');\n",
              "        const dataTable =\n",
              "          await google.colab.kernel.invokeFunction('convertToInteractive',\n",
              "                                                    [key], {});\n",
              "        if (!dataTable) return;\n",
              "\n",
              "        const docLinkHtml = 'Like what you see? Visit the ' +\n",
              "          '<a target=\"_blank\" href=https://colab.research.google.com/notebooks/data_table.ipynb>data table notebook</a>'\n",
              "          + ' to learn more about interactive tables.';\n",
              "        element.innerHTML = '';\n",
              "        dataTable['output_type'] = 'display_data';\n",
              "        await google.colab.output.renderOutput(dataTable, element);\n",
              "        const docLink = document.createElement('div');\n",
              "        docLink.innerHTML = docLinkHtml;\n",
              "        element.appendChild(docLink);\n",
              "      }\n",
              "    </script>\n",
              "  </div>\n",
              "\n",
              "\n",
              "<div id=\"df-b0221ac4-8a67-4224-964d-080882f0fcc1\">\n",
              "  <button class=\"colab-df-quickchart\" onclick=\"quickchart('df-b0221ac4-8a67-4224-964d-080882f0fcc1')\"\n",
              "            title=\"Suggest charts\"\n",
              "            style=\"display:none;\">\n",
              "\n",
              "<svg xmlns=\"http://www.w3.org/2000/svg\" height=\"24px\"viewBox=\"0 0 24 24\"\n",
              "     width=\"24px\">\n",
              "    <g>\n",
              "        <path d=\"M19 3H5c-1.1 0-2 .9-2 2v14c0 1.1.9 2 2 2h14c1.1 0 2-.9 2-2V5c0-1.1-.9-2-2-2zM9 17H7v-7h2v7zm4 0h-2V7h2v10zm4 0h-2v-4h2v4z\"/>\n",
              "    </g>\n",
              "</svg>\n",
              "  </button>\n",
              "\n",
              "<style>\n",
              "  .colab-df-quickchart {\n",
              "      --bg-color: #E8F0FE;\n",
              "      --fill-color: #1967D2;\n",
              "      --hover-bg-color: #E2EBFA;\n",
              "      --hover-fill-color: #174EA6;\n",
              "      --disabled-fill-color: #AAA;\n",
              "      --disabled-bg-color: #DDD;\n",
              "  }\n",
              "\n",
              "  [theme=dark] .colab-df-quickchart {\n",
              "      --bg-color: #3B4455;\n",
              "      --fill-color: #D2E3FC;\n",
              "      --hover-bg-color: #434B5C;\n",
              "      --hover-fill-color: #FFFFFF;\n",
              "      --disabled-bg-color: #3B4455;\n",
              "      --disabled-fill-color: #666;\n",
              "  }\n",
              "\n",
              "  .colab-df-quickchart {\n",
              "    background-color: var(--bg-color);\n",
              "    border: none;\n",
              "    border-radius: 50%;\n",
              "    cursor: pointer;\n",
              "    display: none;\n",
              "    fill: var(--fill-color);\n",
              "    height: 32px;\n",
              "    padding: 0;\n",
              "    width: 32px;\n",
              "  }\n",
              "\n",
              "  .colab-df-quickchart:hover {\n",
              "    background-color: var(--hover-bg-color);\n",
              "    box-shadow: 0 1px 2px rgba(60, 64, 67, 0.3), 0 1px 3px 1px rgba(60, 64, 67, 0.15);\n",
              "    fill: var(--button-hover-fill-color);\n",
              "  }\n",
              "\n",
              "  .colab-df-quickchart-complete:disabled,\n",
              "  .colab-df-quickchart-complete:disabled:hover {\n",
              "    background-color: var(--disabled-bg-color);\n",
              "    fill: var(--disabled-fill-color);\n",
              "    box-shadow: none;\n",
              "  }\n",
              "\n",
              "  .colab-df-spinner {\n",
              "    border: 2px solid var(--fill-color);\n",
              "    border-color: transparent;\n",
              "    border-bottom-color: var(--fill-color);\n",
              "    animation:\n",
              "      spin 1s steps(1) infinite;\n",
              "  }\n",
              "\n",
              "  @keyframes spin {\n",
              "    0% {\n",
              "      border-color: transparent;\n",
              "      border-bottom-color: var(--fill-color);\n",
              "      border-left-color: var(--fill-color);\n",
              "    }\n",
              "    20% {\n",
              "      border-color: transparent;\n",
              "      border-left-color: var(--fill-color);\n",
              "      border-top-color: var(--fill-color);\n",
              "    }\n",
              "    30% {\n",
              "      border-color: transparent;\n",
              "      border-left-color: var(--fill-color);\n",
              "      border-top-color: var(--fill-color);\n",
              "      border-right-color: var(--fill-color);\n",
              "    }\n",
              "    40% {\n",
              "      border-color: transparent;\n",
              "      border-right-color: var(--fill-color);\n",
              "      border-top-color: var(--fill-color);\n",
              "    }\n",
              "    60% {\n",
              "      border-color: transparent;\n",
              "      border-right-color: var(--fill-color);\n",
              "    }\n",
              "    80% {\n",
              "      border-color: transparent;\n",
              "      border-right-color: var(--fill-color);\n",
              "      border-bottom-color: var(--fill-color);\n",
              "    }\n",
              "    90% {\n",
              "      border-color: transparent;\n",
              "      border-bottom-color: var(--fill-color);\n",
              "    }\n",
              "  }\n",
              "</style>\n",
              "\n",
              "  <script>\n",
              "    async function quickchart(key) {\n",
              "      const quickchartButtonEl =\n",
              "        document.querySelector('#' + key + ' button');\n",
              "      quickchartButtonEl.disabled = true;  // To prevent multiple clicks.\n",
              "      quickchartButtonEl.classList.add('colab-df-spinner');\n",
              "      try {\n",
              "        const charts = await google.colab.kernel.invokeFunction(\n",
              "            'suggestCharts', [key], {});\n",
              "      } catch (error) {\n",
              "        console.error('Error during call to suggestCharts:', error);\n",
              "      }\n",
              "      quickchartButtonEl.classList.remove('colab-df-spinner');\n",
              "      quickchartButtonEl.classList.add('colab-df-quickchart-complete');\n",
              "    }\n",
              "    (() => {\n",
              "      let quickchartButtonEl =\n",
              "        document.querySelector('#df-b0221ac4-8a67-4224-964d-080882f0fcc1 button');\n",
              "      quickchartButtonEl.style.display =\n",
              "        google.colab.kernel.accessAllowed ? 'block' : 'none';\n",
              "    })();\n",
              "  </script>\n",
              "</div>\n",
              "\n",
              "    </div>\n",
              "  </div>\n"
            ],
            "application/vnd.google.colaboratory.intrinsic+json": {
              "type": "dataframe",
              "summary": "{\n  \"name\": \"    )\",\n  \"rows\": 30,\n  \"fields\": [\n    {\n      \"column\": \"words\",\n      \"properties\": {\n        \"dtype\": \"string\",\n        \"num_unique_values\": 30,\n        \"samples\": [\n          \"vanlig\",\n          \"plantene\",\n          \"blad\"\n        ],\n        \"semantic_type\": \"\",\n        \"description\": \"\"\n      }\n    },\n    {\n      \"column\": \"bigrams\",\n      \"properties\": {\n        \"dtype\": \"string\",\n        \"num_unique_values\": 30,\n        \"samples\": [\n          \"kjemiske tiltak\",\n          \"kjemisk bekjempelse\",\n          \"utseende voksne\"\n        ],\n        \"semantic_type\": \"\",\n        \"description\": \"\"\n      }\n    },\n    {\n      \"column\": \"trigrams\",\n      \"properties\": {\n        \"dtype\": \"string\",\n        \"num_unique_values\": 30,\n        \"samples\": [\n          \"spredningen skjer hovedsakelig\",\n          \"opptrer ugras plener\",\n          \"forekommer dyrket mark\"\n        ],\n        \"semantic_type\": \"\",\n        \"description\": \"\"\n      }\n    }\n  ]\n}"
            }
          },
          "metadata": {}
        }
      ]
    },
    {
      "cell_type": "markdown",
      "source": [
        "# Text Cleaning"
      ],
      "metadata": {
        "id": "Iun0FQ06zfR9"
      }
    },
    {
      "cell_type": "markdown",
      "source": [
        "Our text has references to images, for example (fig. 1) We want to remove it"
      ],
      "metadata": {
        "id": "BXIwJqKxzjBH"
      }
    },
    {
      "cell_type": "code",
      "source": [
        "def remove_figure_from_text(text: dict):\n",
        "\n",
        "    titles = text.keys()\n",
        "\n",
        "    for title in titles:\n",
        "\n",
        "        article = text[title]\n",
        "        article = re.sub('\\(fig.*?\\)', '', article)\n",
        "        article = re.sub('\\(Fig.*?\\)', '', article)\n",
        "\n",
        "        text[title] = article\n",
        "    return text"
      ],
      "metadata": {
        "id": "NtEDB8w80idU"
      },
      "execution_count": null,
      "outputs": []
    },
    {
      "cell_type": "code",
      "source": [
        "text_combined = remove_figure_from_text(text_combined)"
      ],
      "metadata": {
        "id": "AEWTu7Mnzd_M"
      },
      "execution_count": null,
      "outputs": []
    },
    {
      "cell_type": "markdown",
      "source": [
        "# Text Validation"
      ],
      "metadata": {
        "id": "SD_wh8i4FQYL"
      }
    },
    {
      "cell_type": "markdown",
      "source": [
        "We select articles randomly from the text file, and print title, text and a website from which this article was extracted. Then we search for the article on the website and compare extracted text with the text on the website"
      ],
      "metadata": {
        "id": "yIf-qBKKFqAV"
      }
    },
    {
      "cell_type": "code",
      "source": [
        "# number of selected articles to verify\n",
        "n = 3"
      ],
      "metadata": {
        "id": "-R9uDa5HGvid"
      },
      "execution_count": null,
      "outputs": []
    },
    {
      "cell_type": "code",
      "source": [
        "websites = {\n",
        "    'nibio': nibio_text_file_content,\n",
        "    'plantevernleksikonet': plantevernleksikonet_text_file_content,\n",
        "    'nlr': nlr_text_file_content\n",
        "}"
      ],
      "metadata": {
        "id": "bDLk5Lg6FUvV"
      },
      "execution_count": null,
      "outputs": []
    },
    {
      "cell_type": "code",
      "source": [
        "rng = np.random.default_rng()\n",
        "selected_titles = rng.choice(list(text_combined.keys()), n, replace = False)"
      ],
      "metadata": {
        "id": "eQoaUAD1IIN6"
      },
      "execution_count": null,
      "outputs": []
    },
    {
      "cell_type": "code",
      "source": [
        "print(*selected_titles, sep = '\\n')"
      ],
      "metadata": {
        "colab": {
          "base_uri": "https://localhost:8080/"
        },
        "id": "GaWstei4MoOv",
        "outputId": "4a9be627-ae7f-41b4-d330-15fc0b07da88"
      },
      "execution_count": null,
      "outputs": [
        {
          "output_type": "stream",
          "name": "stdout",
          "text": [
            "Når blir 2. slåtten?\n",
            "Selen - livsviktig for dyrene dine\n",
            "Colomba - riktig strategi for høyere tørrstoff\n"
          ]
        }
      ]
    },
    {
      "cell_type": "code",
      "source": [
        "def print_text_article(title):\n",
        "    print(title)\n",
        "\n",
        "    for website, website_text in websites.items():\n",
        "        if title in website_text:\n",
        "            print(f'website: {website}')\n",
        "    print(text_combined[title])\n",
        "    print('\\n__________________________________________\\n')\n",
        "\n",
        "\n",
        "for title in selected_titles:\n",
        "    print_text_article(title)"
      ],
      "metadata": {
        "colab": {
          "base_uri": "https://localhost:8080/"
        },
        "id": "QQRbygdhNYYw",
        "outputId": "94662e6a-abfe-42ae-b713-cd1aa6894af9"
      },
      "execution_count": null,
      "outputs": [
        {
          "output_type": "stream",
          "name": "stdout",
          "text": [
            "Når blir 2. slåtten?\n",
            "website: nlr\n",
            "Det er for tiden et utfordrende vær for alle som driver innen landbruket. Vi har hatt godt vær og dårlig vær i jevn blanding. Dette har gitt utfordrende høsteforhold. Langtidsvarslet viser at det vil være mye nedbør den neste perioden. For mange går dette bra, men for de som ikke er ferdig med slåtten er dette dårlig nytt. Videre skaper dette våte været utfordringer med å spre ut husdyrgjødsel. Jorda er vassmetta, og kjøring med utstyr på jorda gir store problemer med kjøreskader.\n",
            "  Slåtten er tatt over mange uker. De tidligste startet med slåtten rundt 7. juni. Da hadde vi en liten periode med fint vær. Etter den tid var det ustabilt vær og mye nedbør i lengre tid. I månedsskiftet juni og juli hadde vi skikkelig høysommer, men det var ikke nok til at alle fikk tatt slåtten. Fortsatt gjenstår det eng som ikke er høstet. For enkelte områder gir dette gras med dårlig kvalitet. \n",
            "  Slåttestrategi den enkelte velger vil være en viktig faktor for hvor i arbeidet man er med slåtten. 3 slåtter krever at man høster 1. slåtten tidlig for å sikre god kvalitet. De som tar 2 slåtter og ønsker god kvalitet må også høste når kvaliteten er der. \n",
            "  Graset sin utvikling styres av varmesum og går sin gang. Ved å summere varmesummen fra 1. slåtten og fremover kan vi antyde noe om når 2. slåtten vil foregå. Selvsagt vil det kunne avvike litt ettersom vi ikke vet eksakt temperatur fremover, men vi kan ta utgangspunkt i normal gjennomsnittstempetur vi har for perioden. Tørke vil også påvirke slåttetidspunktet, men foreløpig er det ingen fare for tørke i den nordnorske landsdelen. \n",
            "  Fra 1. slått til 2. slått beregner vi en varmesum på ca. 500 døgngrader. Da vil vi ha en kvalitet på ca. 0,90 FEm. På gjenveksten etter 1. slått er det ikke like mye planter som skyter. Utviklingsstadiet på enga med skyting er derfor ingen god rettesnor å bruke. Varmesum er et bedre målepunkt. \n",
            "  Tabellen under viser når vi oppnår en varmesum på 500 døgngrader avhengig av slåttetidspunkt vi hadde for 1. slåtten. Det er beregnet faktisk temperatur frem til 6. juli og deretter normaltemperatur frem til varmesummen er 500 døgngrader.\n",
            "  1. slått gjennomført \n",
            "  8. juni \n",
            "  15. juni \n",
            "  22. juni \n",
            "  29. juni \n",
            "  Brønnøy \n",
            "  2. slått 13 juli \n",
            "  2. slått 18 juli \n",
            "  2. slått 24 juli \n",
            "  1. august \n",
            "  Vefsn \n",
            "  2. slått 12. juli \n",
            "  2. slått 17. juli \n",
            "  2. slått 23. juli \n",
            "  2. slått 31. juli \n",
            "  Bodø \n",
            "  2. slått 14. juli \n",
            "  2. slått 19. juli \n",
            "  2. slått 25. juli \n",
            "  2. slått 2. august \n",
            "  Leknes \n",
            "  2. slått 17. juli \n",
            "  2. slått 22. juli \n",
            "  2. slått 27. juli \n",
            "  2. slått 5. august \n",
            "  Kleiva \n",
            "  2. slått 18. juli \n",
            "  2. slått 23. juli \n",
            "  2. slått 27. juli \n",
            "  2. slått 4. august \n",
            "  Denne oversikten viser at for de som hadde 1. slåtten rundt 8. juni i Brønnøy vil oppnå en varmesum på 500 døgngrader rundt 13. juli. De i Bodø som høstet 1. slåtten rundt St. Hans vil oppnå en varmesum på 500 døgngrader rundt 25. juli. \n",
            "  For nærmere diskusjon om slåttetidspunkt ta kontakt med rådgiver. \n",
            "  Varmesum 2022\n",
            "  Varmesum er en indikator på kvalitetsutviklingen i graset frem til 1. slått og 2. slått. Som ei rettesnor for de som ønsker å høste grovfôr med høy energikonsentrasjon, har det vært satt en sammenheng mellom 500 døgngrader etter vekststart, og en energikonsentrasjon på 0,90 FEm/kg TS i grovfôret.\n",
            "  Vi beregner varmesum for 12 steder i hele landsdelen.\n",
            "  Prognosehøsting 2022\n",
            "  Vi tar ut prognoseprøver før 1. slått. Prøvene gir mulighet for å oppnå presis slått, på den kvaliteten du ønsker. Vi oppdaterer jevnlig etter hvert som analysesvarene kommer inn for resten av Nord Norge.\n",
            "\n",
            "__________________________________________\n",
            "\n",
            "Selen - livsviktig for dyrene dine\n",
            "website: nlr\n",
            "\n",
            "  Selen er livsviktig for både mennesker og dyr. Ungdyr med selenmangel er svake, stive i gangen og kan ha vanskeligheter med å puste. I verste tilfelle dør dyr som ikke tar opp nok selen. For å unngå en mangelsituasjon er det viktig å tilføre selen i jorda og fôret.\n",
            "  Selen er et mikronæringsstoff med det kjemiske symbolet Se. Det foreligger sjeldent i fri tilstand i naturen, men det finnes i mineraler og i små mengder i jordbunnen. Selen forekommer i flere modifikasjoner, f.eks. som rødt pulver eller svart og glassaktig. Det er meget reaktivt og foreligger derfor sjeldent i ren form.\n",
            "  For mennesker og dyr er selen livsviktig. Det finnes i alle celler av kroppen, men mest i lever, nyrer og hvite blodlegemer og er en viktig del av kroppens immun- og antioksidantsforsvar.\n",
            "  Det brukes 20 forskjellige aminosyrer for å bygge opp proteiner i kroppen. Cystein er en av de ikke-essensielle aminosyrene, dvs. at kroppen kan lage det selv. Cystein inneholder vanligvis svovel som kan erstattes med selen. Gjennom den prosessen kan selen lagres i proteiner og mobiliseres når kroppen har behov. Blir selen tilført tar det rundt 4-6 uker til det er i en form som kroppen kan utnytte. \n",
            "  Selen og vitamin E virker som antioksidanter og hindrer celleskader. Ved oksidering av bl.a. fettsyrer dannes det peroksider. Disse har en positiv virkning når hvite blodlegeme skal drepe bakterier, men de kan også skade cellemembranene og gi dødt muskelvev. Vitamin E begrenser dannelsen av peroksider mens selen er en viktig del av et enzym som omdanner de giftige peroksidene til et mindre skadelig produkt. Er tilstrekkelig vitamin E tilgjengelig blir lite peroksider dannet. Er i tillegg nok selen tilgjengelig, blir disse peroksidene uskadeliggjort.\n",
            "  Selen og vitamin E kan inngå biokjemiske prosesser i kroppen der de har relativt lik funksjon. De kan delvis virke sammen eller erstatte hverandre. Derfor skal de to næringsstoffene alltid bli tatt i betraktning sammen. I motsetning til selen, kan ikke vitamin E lagres i kroppen og det må derfor tilføres gjennom fôr, mat eller supplement. Det fører også til at det ikke er noen fare for vitamin E-forgiftning. Etter opptak virker det med én gang og trenger ikke å bli omdannet først. \n",
            "  Norsk anbefaling for husdyrfôr ligger på 0,25-0,50 mg Se per kg TS og i USA anbefales det 0,30 mg Se per kg TS til melkekyr. Selen er svært giftig og det kan være forgiftningsfare med mer enn 2 mg Se per kg TS, som tilsvarer rundt ti ganger det daglige behovet. \n",
            "  Tilgangen til selen vil påvirke mengde i melk og egg. Dette har betydning for helsa til både unge dyr og mennesker. Vitamin E kan ikke overføres direkte fra mora til foster, kun via råmelken. Med tanken på samspill av selen og vitamin E betyr det at forsyning av mora og avkom er veldig viktig. \n",
            "  Tar dyrene opp for lite selen vises det gjennom lavt immunforsvar. Dette medfører mer mastitt, redusert fruktbarhet, tilbakeholdt etterbyrd, reduksjon i melk- og kjøttproduksjon og redusert fettinnhold i melk. Ungdyr plages ofte med «stivsjuke», det vil si stive muskler og stiv gang, og vanskeligheter med å puste. Typisk er også muskeldegenerasjon av (hjerte- og lunge-) muskulatur som kan føre til at dyrene dør av hjertesvikt eller respirasjonssvikt. I dyreverdenen vil unger av mødre med selenmangel blir født svake eller være dødfødte.\n",
            "  En langvarig overdosering fører til dårlig appetitt, tap av hår og fjær, misdanning av hover, klauver og tenner, samt infertilitet. Ved akutt forgiftning kan dyrene bli blinde, få dårlig muskelkoordinasjon, unormale bevegelser og kroppsholdning og vanskeligheter med å puste. Dette fører til rask død. \n",
            "  I motsetning til dyr, er ikke selen livsviktig for planter. Uansett blir avlinga redusert hvis det er for lite selen tilgjengelig i jorda. I motsatt fall viser planter veksthemming og klorose kan oppstå.\n",
            "  Muskeldegenerasjon oppstår når oksidativ stress fra peroksider gir skader på cellemembraner. Dette fører til muskelskader. Forskjellige muskler i kroppen kan være påvirket. Skjer det f.eks. i lungene fører det til problemer med å puste. Er hjertemuskulatur påvirket, så kan det føre til hjertesvikt og dyret dør raskt. Svake ungdyr har ofte problemer med å svelge og å gå.\n",
            "  Selennivået kan måles i blodserum. Selennivået i kroppen er direkte relatert til selennivået i fôret. Derfor er det nok å teste omtrent fem representative dyr for å få en god oversikt over hele flokken. En sikker diagnose kan også stilles ved obduksjon av døde dyr. Ved selenmangel vil man da finne muskulatur som er lys eller skjoldete. Degenerert hjertemuskulatur er skjoldet med gulhvite striper. \n",
            "  Avhengig av bl.a. pH og mikrobiell aktivitet i jorda, finnes det selen i forskjellige ioneformer eller organiske komplekser. Jorda i Norge er vanligvis sur eller nøytral, og selen finnes i form av selenitt. Dette binder seg sterkt til jorda, som fosfor, og blir dermed lite plantetilgjengelig. Derimot foreligger selen i alkalisk og veldrenert jord i form av selenat. Dette binder seg i svært liten grad til jorda og kan føre til selenforgiftning hos planter og dyr. Plantene kan ta opp selenat og selenitt, hvorav opptaket av selenat går lettest. Som i kroppen til dyr og mennesker kan selen bli lagret i proteiner i plantene – istedenfor svovel i aminosyrene, f.eks. i cystein. Det betyr også at opptaket av selen og svovel er i konkurranse. Er det mye svovel i jordet, kan plantene ta opp mye svovel og lite selen. Og det betyr igjen at intensivt bruk av svovelholdig gjødsel kan føre til mindre selen i fôret.\n",
            "  Per i dag produserer YARA en gjødsel med selen – OPTI-NK 22-0-12 (3S+Se). Å øke seleninnholdet i fôret er spesielt fordelaktig på beitene hvor dyrene ikke har tilgang til kraftfôr, mineralstilskudsfôr eller saltslikkestein med mineraler.\n",
            "  Selenbehovet ligger på rundt 0,2 mg per kg TS, men norsk grovfôr inneholder kun mellom 0,01 og 0,05 mg per kg TS. En studie fant 0,016-0,025 mg per kg TS i konvensjonell produsert fôr og 0,01 mg per kg TS i økologisk produsert grovfôr. Det vil si at selentilskudd er absolutt nødvendig for å ha sunne dyr. Det vises at dyr på utmarksbeite har bedre selenstatus enn dyr på innmarksbeiter. Det er fordi dyrene har tilgang til urter, busker og bark på utmarksbeite, som kan inneholde mer selen enn kulturvekster. Ferskt, grønt gras er rikt på vitamin E, men det brytes fort ned ved lagring. Mengden vitamin E i grovfôret varierer sterkt og er avhengig av lagring, TS- innhold og kvalitet (plansilo, rundballer eller høy). \n",
            "  Selen- og vitamin E-tilskudd kan skje med kraftfôr, mineraltilskuddsfôr, vomkapsler, saltslikkestein med mineraler eller en injeksjon fra veterinæren. Spesielt viktig er det for dyr som har et økt behov pga. kalving, beitestart, flytting e.l. \n",
            "  Ammekyr og sau som sjelden får mye kraftfôr eller en annen type tilskudd, er spesielt utsatt for selenmangel. I tillegg får disse dyra ofte grovfôr av varierende kvalitet og med høy TS-innhold, som inneholder mindre Vitamin E. Dette forverrer selenmangelen. I områder hvor muskeldegenerasjon tidligere har vært et problem, får søyene ofte en injeksjon med selen, eller selen og Vitamin E i kombinasjon noen uker før lamming. Det hjelper både søyer og lam.\n",
            "  Grøtta M. (2020), Selen beskytter cellene, https://www.nlr.no/fagartikler/grovfor/forkvalitet-og-foring/midt/selen-beskytter-cellene\n",
            "  Sannes Sleteng, E. (2017), Mineraler i grovfôr og behovsnormene, https://grovfornett.nlr.no/fagartikler/grovfor/forkvalitet-og-foring/grovfor/mineraler-i-grovfor-og-behovsnormene\n",
            "  Eurofins, Grovfôranalyser i saueholdet, https://www.eurofins.no/media/2579964/sau-og-lam.pdf\n",
            "  Animalia (2017), Selenmangel, https://www.animalia.no/no/Dyr/sauehelsenett/sjukdommer/mangelsjukdommer/selenmangel/\n",
            "  Verterinærinstituttet, Selen og vitamin E mangel, https://www.vetinst.no/sykdom-og-agens/selen-og-vitamin-e\n",
            "  Steihaug G., Selen og E-vitamin og kalvehelse, https://www.buskap.no/journal/2018/2/m-2953/Selen_%7C_E-vitamin_og_kalvehelse.\n",
            "\n",
            "__________________________________________\n",
            "\n",
            "Colomba - riktig strategi for høyere tørrstoff\n",
            "website: nlr\n",
            "\n",
            "  Etter de foregående sesongene har vi gjort oss erfaringer med den relativt nye sorten Colomba.\n",
            "  Colomba har tatt over store deler av matpotetmarkedet på grunn av sin flotte skallfinish og høye avling, men vi ser at det noen ganger kan være en utfordring med veldig lavt tørrstoff. I følge Graminor skal TS ligge rundt 18 % men det er målt helt ned i 14 %. Dette er en utfordring til Colomba som skal til skrelling.\n",
            "  Det er ingen fasitsvar på hvilken dyrkingsteknikk som er best, men i dialog med varemottakere til skrelling, og rådgivere i flere NLR enheter er det enighet om noen anbefalinger. Nøkkelen er å ikke gjødsle så sterkt at plantene ikke rekker å modnes tilstrekkelig og få opp tørrstoffet før høsting. Colomba er dyrket mye til tidlig matpotet, der en gjerne gjødsler med 15 kg N og setter med setteavstand på 30 cm for å gi plass til et stort ansett. Bruker man denne oppskriften på Colomba til skrelling kan det slå feil. \n",
            "  For å sikre høyere tørrstoff anbefaler vi moderat gjødsling, og at plantene får stå lenge nok til å «gjøre seg ferdig», modnes og øke tørrstoff. Akkurat hvilken N-mengde som skal tilføres avhenger av flere faktorer, men 8-12 kg nitrogen, der deler av behovet holdes igjen til delgjødsling er et godt utgangspunkt. Sett også tettere, under 30 cm, men tilpasset settepotetstørrelsen. Laveste settepotetstørrelse på 35-45 mm rundt 50 g kan settes på 23-25 cm, mens 45-55 mm på 80 g settes på 25-28 cm. Gjør en vurdering basert på egne erfaringer fra tidligere år. Underveis i sesongen bør det tas graveprøver med måling av tørrstoffinnhold for å vurdere høstetidspunkt. Potetene bør få stå lenger hvis tørrstoffet er for lavt, men har de for stor matpakke med seg i form av gjødsel er risikoen at de blir for store. Husk derfor moderat gjødsling. Kort oppsummert:\n",
            "  Til skrelling hos BAMA Industri i Moss er det ønskelig med størrelse 40-60 cm og tørrstoff på minimum 16 %.\n",
            "\n",
            "__________________________________________\n",
            "\n"
          ]
        }
      ]
    },
    {
      "cell_type": "code",
      "source": [
        "title = 'Marikåpe'\n",
        "print_text_article(title)"
      ],
      "metadata": {
        "colab": {
          "base_uri": "https://localhost:8080/"
        },
        "id": "PfcYm03o4z__",
        "outputId": "f465367c-b4a5-4c8c-d518-9e71cbbcb38f"
      },
      "execution_count": null,
      "outputs": [
        {
          "output_type": "stream",
          "name": "stdout",
          "text": [
            "Marikåpe\n",
            "website: plantevernleksikonet\n",
            "Vanlig marikåpe hører til den biologiske gruppen flerårig stedbundet med rotstokk. Den voksne planten er 10-20 cm høy. Den fullt utviklete rotstokken er ofte skråttstilt, mørkebrun, skjellet og har kraftige birøtter. Stengelen er lavtvoksende, ved grunnen nedliggende og oppstigende. De grunnstilte bladene er langstilkete, nyreformete, rundtakkete, med dypt innskårne og avrundete, sagtakkete avsnitt. Stengelbladene er mindre, og halvt stengelomfattende. De uanselige blomstene er tvekjønnete med 4 støvbærere og støvvei med én griffel som går ut fra fruktknuten, og de er kronbladløse. Vanlig marikåpe forekommer på eng og beitemark, i skogkanter, og på veikanter og jernbaneområder. De opptrer som ugras i eng og beite. Det sikreste mottiltaket er god og kraftig engkultur, med forutgående god jordarbeiding. De kan også bekjempes kjemisk med fenoksysyrer. Forveksling\n",
            " Andre arter i marikåpeslekten.\n",
            "  Kjennetegn\n",
            "  Den voksne planten er 10-20 cm høy. Den fullt utviklete rotstokken er ofte skråttstilt, mørkebrun, skjellet og har kraftige birøtter.\n",
            "  Stengelen er lavtvoksende, ved grunnen nedliggende og oppstigende.\n",
            "  De grunnstilte bladene er langstilkete, nyreformete, rundtakkete, med dypt innskårne og avrundete, sagtakkete avsnitt. Stengelbladene er mindre, og halvt stengelomfattende.\n",
            "  De uanselige blomstene er tvekjønnete med 4 støvbærere og støvvei med én griffel som går ut fra fruktknuten, og de er kronbladløse. Støvkorn mangler, og frøet utvikles uten befruktning. De har gulgrønne, tette blomsterstander.\n",
            "  Frukten er en nøtt som er omgitt av underbegeret. Frøet (nøtten) er omtrent eggformet i omkrets, men noe uttrukket i toppen, flattrykt fra sidene og ovalt i tverrsnitt. På den ene siden ved basis utgår den trinne navlestrengen som er krum mot basis. Overflaten er matt, ru og skjoldet, fargen er gulbrun til brun. \n",
            "  Småplanten: Frøplanten har ovale, langstilkete frøblad, ca. 4 mm lange og 3 mm brede.\n",
            "  Lid og Lid (2005): Grov plante med høye, rake bladskaft, tetthåret med sprikende hår på bladskaftet og nedre del av stengelen. Bladene er store og nyreformet i omriss med brei åpning ved bladskaftet, omtrent snaue ovenpå, mer tetthåret under med sprikende hår. De 9-11 lange og trekantete bladlappene har omtrent rette sider, mens midtlappen har mange, oftest 15-25 smale, kvasse, ulikt store tenner, de største midt på sidene av lappen. Blomsterstanden er åpen med små blomster.\n",
            "  Biologi\n",
            "  Formeringen og spredningen skjer bare ved frø. \n",
            "  Frøspiringen synes å være bra. I spiringsåret setter planten noen få rosettblad, og først sommeren etter blomsterbærende stengler.\n",
            "  Blomstring i mai-september.\n",
            "  Antall frø per plante: gjennomsnittlig 300.\n",
            "  Fægri (1970): «Marikåpens blomster er først hannlige. Siden faller støvknappene av; og grifler og arr utvikles i det hunnlige stadiet».\n",
            "  Fægri (1970) om dråpene på bladenes tenner: «Bladene er oppsiktsvekkende i seg selv, men det er først en tidlig sommermorgen, mens duggen fremdeles ligger i gresset, man får øynene (og fotografiapparatet) opp for marikåpen. De runde bladlappene er tannet i kanten, og på hver bladtann sitter en vannutskillende kjertel. Om dagen vil det vannet som presses ut her, fordampe etter hvert, men om natten, i duggfallet, kan det ikke skje, og vannet samler seg som en dråpe på hver eneste bladtann. Spesielt hvis natten har vært varm og fuktig og plantens livsprosesser har gått i raskt tempo mens fordampningen ikke har virket. Til slutt blir dråpene så store at de ikke lenger balanserer på bladtennene; så ruller de ned mot midten av det plisserte, kåpeformede bladet og blir liggende som en stor, sølvskinnende duggdråpe. Bladet er håret og vætes ikke, derfor skinner dråpen».\n",
            "  Betydning\n",
            " Vokseplasser Korsmo (1954): Forekommer på eng og beitemark, i skogkanter, og på veikanter og jernbaneområder. Lid og Lid (2005): Kultur- og slåtteeng, veikanter, oftest på næringsrik jord. Skade/ulempe Opptrer som ugras i eng og beite. Marikåpe har dårlig evne til å binde jorden, slik at det blir dårlig bæreevne ved kjøring med traktor. Da er det lett å få skader av traktortrafikk (Heggen et al. 2005). Utbredelse i NorgeSpredt på Østlandet nord til Åmot i Hedmark, Lillehammer i Oppland, Sigdal i Buskerud, og i kyststrøk til Trondheim i Sør-Trøndelag, Vega, Alstahaug, Dønna, Herøy, Bodø og Moskenes i Nordland, og Sør-Varanger (tysk krigsspredt) i Finnmark.Historikk Er trolig hjemlig (Lid og Lid 2005).Fægri (1970): «….ikke minst har ungene lekt med den til tider og steder da leketøy var noe ungene skaffet seg selv, og ikke et storindustriprodukt. Sammenligningen med en kåpe eller kappe er nokså opplagt: snur man bladet opp-ned, får man den fineste plisserte kåpe man kan tenke seg. Til dels har planten bare hett kåpegras, men til dels har kåpen vært dedisert til selveste Jomfru Maria – marikåpe. Ellers har bladene også gitt opphav til andre sammenligninger: danskene til og med en løvefot».\n",
            "  Bekjempelse\n",
            "  MottiltakDet sikreste er god, kraftig engkultur, med forutgående god jordarbeiding.Kjemiske tiltak I en engkultur kan det sprøytes med Duplosan Super (MCPA, mekoprop-P og diklorprop-P) eller Duplosan Meko (mekoprop-P).\n",
            "   .\n",
            "\n",
            "__________________________________________\n",
            "\n"
          ]
        }
      ]
    },
    {
      "cell_type": "markdown",
      "source": [
        "# Output"
      ],
      "metadata": {
        "id": "zeFig3oGjpBL"
      }
    },
    {
      "cell_type": "code",
      "source": [
        "output_text_data = json.dumps(text_combined, ensure_ascii = False, indent = 4)\n",
        "\n",
        "with open('text_on_agriculture.json', 'w') as f:\n",
        "  f.write(str(output_text_data))\n",
        "\n",
        "files.download('text_on_agriculture.json')"
      ],
      "metadata": {
        "colab": {
          "base_uri": "https://localhost:8080/",
          "height": 17
        },
        "id": "pjNs7-3GjtRf",
        "outputId": "19e71fcf-e8f5-4364-d80c-c70b21a356bc"
      },
      "execution_count": null,
      "outputs": [
        {
          "output_type": "display_data",
          "data": {
            "text/plain": [
              "<IPython.core.display.Javascript object>"
            ],
            "application/javascript": [
              "\n",
              "    async function download(id, filename, size) {\n",
              "      if (!google.colab.kernel.accessAllowed) {\n",
              "        return;\n",
              "      }\n",
              "      const div = document.createElement('div');\n",
              "      const label = document.createElement('label');\n",
              "      label.textContent = `Downloading \"${filename}\": `;\n",
              "      div.appendChild(label);\n",
              "      const progress = document.createElement('progress');\n",
              "      progress.max = size;\n",
              "      div.appendChild(progress);\n",
              "      document.body.appendChild(div);\n",
              "\n",
              "      const buffers = [];\n",
              "      let downloaded = 0;\n",
              "\n",
              "      const channel = await google.colab.kernel.comms.open(id);\n",
              "      // Send a message to notify the kernel that we're ready.\n",
              "      channel.send({})\n",
              "\n",
              "      for await (const message of channel.messages) {\n",
              "        // Send a message to notify the kernel that we're ready.\n",
              "        channel.send({})\n",
              "        if (message.buffers) {\n",
              "          for (const buffer of message.buffers) {\n",
              "            buffers.push(buffer);\n",
              "            downloaded += buffer.byteLength;\n",
              "            progress.value = downloaded;\n",
              "          }\n",
              "        }\n",
              "      }\n",
              "      const blob = new Blob(buffers, {type: 'application/binary'});\n",
              "      const a = document.createElement('a');\n",
              "      a.href = window.URL.createObjectURL(blob);\n",
              "      a.download = filename;\n",
              "      div.appendChild(a);\n",
              "      a.click();\n",
              "      div.remove();\n",
              "    }\n",
              "  "
            ]
          },
          "metadata": {}
        },
        {
          "output_type": "display_data",
          "data": {
            "text/plain": [
              "<IPython.core.display.Javascript object>"
            ],
            "application/javascript": [
              "download(\"download_b112ccab-de7e-4ab2-9c0e-8659ccdf70bc\", \"text_on_agriculture.json\", 6084697)"
            ]
          },
          "metadata": {}
        }
      ]
    }
  ]
}