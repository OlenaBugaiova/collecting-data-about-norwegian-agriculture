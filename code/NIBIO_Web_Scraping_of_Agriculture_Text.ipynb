{
  "nbformat": 4,
  "nbformat_minor": 0,
  "metadata": {
    "colab": {
      "provenance": [],
      "include_colab_link": true
    },
    "kernelspec": {
      "name": "python3",
      "display_name": "Python 3"
    },
    "language_info": {
      "name": "python"
    }
  },
  "cells": [
    {
      "cell_type": "markdown",
      "metadata": {
        "id": "view-in-github",
        "colab_type": "text"
      },
      "source": [
        "<a href=\"https://colab.research.google.com/github/OlenaBugaiova/collecting-data-about-norwegian-agriculture/blob/main/NIBIO_Web_Scraping_of_Agriculture_Text.ipynb\" target=\"_parent\"><img src=\"https://colab.research.google.com/assets/colab-badge.svg\" alt=\"Open In Colab\"/></a>"
      ]
    },
    {
      "cell_type": "markdown",
      "source": [
        "# Task\n",
        "\n",
        "Web scrape text data from Nibio - a norwegian website on agriculture\n",
        "\n",
        "\n",
        "\n",
        "\n"
      ],
      "metadata": {
        "id": "MRrCAlA_eWkf"
      }
    },
    {
      "cell_type": "code",
      "source": [
        "NIBIO_URL = 'https://www.nibio.no'"
      ],
      "metadata": {
        "id": "8NsDQ-swOtYa"
      },
      "execution_count": null,
      "outputs": []
    },
    {
      "cell_type": "markdown",
      "source": [
        "# Import Libraries"
      ],
      "metadata": {
        "id": "Ahw7MmmAQg97"
      }
    },
    {
      "cell_type": "code",
      "source": [
        "pip install googletrans==3.1.0a0 --root-user-action=ignore"
      ],
      "metadata": {
        "colab": {
          "base_uri": "https://localhost:8080/"
        },
        "id": "Jk6HwBlsb2VY",
        "outputId": "b03306b2-6a43-4fa9-8c3e-f44f5cd52008"
      },
      "execution_count": null,
      "outputs": [
        {
          "output_type": "stream",
          "name": "stdout",
          "text": [
            "Collecting googletrans==3.1.0a0\n",
            "  Downloading googletrans-3.1.0a0.tar.gz (19 kB)\n",
            "  Preparing metadata (setup.py) ... \u001b[?25l\u001b[?25hdone\n",
            "Collecting httpx==0.13.3 (from googletrans==3.1.0a0)\n",
            "  Downloading httpx-0.13.3-py3-none-any.whl (55 kB)\n",
            "\u001b[2K     \u001b[90m━━━━━━━━━━━━━━━━━━━━━━━━━━━━━━━━━━━━━━━━\u001b[0m \u001b[32m55.1/55.1 kB\u001b[0m \u001b[31m2.8 MB/s\u001b[0m eta \u001b[36m0:00:00\u001b[0m\n",
            "\u001b[?25hRequirement already satisfied: certifi in /usr/local/lib/python3.10/dist-packages (from httpx==0.13.3->googletrans==3.1.0a0) (2024.7.4)\n",
            "Collecting hstspreload (from httpx==0.13.3->googletrans==3.1.0a0)\n",
            "  Downloading hstspreload-2024.7.1-py3-none-any.whl (1.2 MB)\n",
            "\u001b[2K     \u001b[90m━━━━━━━━━━━━━━━━━━━━━━━━━━━━━━━━━━━━━━━━\u001b[0m \u001b[32m1.2/1.2 MB\u001b[0m \u001b[31m6.4 MB/s\u001b[0m eta \u001b[36m0:00:00\u001b[0m\n",
            "\u001b[?25hRequirement already satisfied: sniffio in /usr/local/lib/python3.10/dist-packages (from httpx==0.13.3->googletrans==3.1.0a0) (1.3.1)\n",
            "Collecting chardet==3.* (from httpx==0.13.3->googletrans==3.1.0a0)\n",
            "  Downloading chardet-3.0.4-py2.py3-none-any.whl (133 kB)\n",
            "\u001b[2K     \u001b[90m━━━━━━━━━━━━━━━━━━━━━━━━━━━━━━━━━━━━━━━━\u001b[0m \u001b[32m133.4/133.4 kB\u001b[0m \u001b[31m6.0 MB/s\u001b[0m eta \u001b[36m0:00:00\u001b[0m\n",
            "\u001b[?25hCollecting idna==2.* (from httpx==0.13.3->googletrans==3.1.0a0)\n",
            "  Downloading idna-2.10-py2.py3-none-any.whl (58 kB)\n",
            "\u001b[2K     \u001b[90m━━━━━━━━━━━━━━━━━━━━━━━━━━━━━━━━━━━━━━━━\u001b[0m \u001b[32m58.8/58.8 kB\u001b[0m \u001b[31m6.1 MB/s\u001b[0m eta \u001b[36m0:00:00\u001b[0m\n",
            "\u001b[?25hCollecting rfc3986<2,>=1.3 (from httpx==0.13.3->googletrans==3.1.0a0)\n",
            "  Downloading rfc3986-1.5.0-py2.py3-none-any.whl (31 kB)\n",
            "Collecting httpcore==0.9.* (from httpx==0.13.3->googletrans==3.1.0a0)\n",
            "  Downloading httpcore-0.9.1-py3-none-any.whl (42 kB)\n",
            "\u001b[2K     \u001b[90m━━━━━━━━━━━━━━━━━━━━━━━━━━━━━━━━━━━━━━━━\u001b[0m \u001b[32m42.6/42.6 kB\u001b[0m \u001b[31m3.4 MB/s\u001b[0m eta \u001b[36m0:00:00\u001b[0m\n",
            "\u001b[?25hCollecting h11<0.10,>=0.8 (from httpcore==0.9.*->httpx==0.13.3->googletrans==3.1.0a0)\n",
            "  Downloading h11-0.9.0-py2.py3-none-any.whl (53 kB)\n",
            "\u001b[2K     \u001b[90m━━━━━━━━━━━━━━━━━━━━━━━━━━━━━━━━━━━━━━━━\u001b[0m \u001b[32m53.6/53.6 kB\u001b[0m \u001b[31m6.9 MB/s\u001b[0m eta \u001b[36m0:00:00\u001b[0m\n",
            "\u001b[?25hCollecting h2==3.* (from httpcore==0.9.*->httpx==0.13.3->googletrans==3.1.0a0)\n",
            "  Downloading h2-3.2.0-py2.py3-none-any.whl (65 kB)\n",
            "\u001b[2K     \u001b[90m━━━━━━━━━━━━━━━━━━━━━━━━━━━━━━━━━━━━━━━━\u001b[0m \u001b[32m65.0/65.0 kB\u001b[0m \u001b[31m6.8 MB/s\u001b[0m eta \u001b[36m0:00:00\u001b[0m\n",
            "\u001b[?25hCollecting hyperframe<6,>=5.2.0 (from h2==3.*->httpcore==0.9.*->httpx==0.13.3->googletrans==3.1.0a0)\n",
            "  Downloading hyperframe-5.2.0-py2.py3-none-any.whl (12 kB)\n",
            "Collecting hpack<4,>=3.0 (from h2==3.*->httpcore==0.9.*->httpx==0.13.3->googletrans==3.1.0a0)\n",
            "  Downloading hpack-3.0.0-py2.py3-none-any.whl (38 kB)\n",
            "Building wheels for collected packages: googletrans\n",
            "  Building wheel for googletrans (setup.py) ... \u001b[?25l\u001b[?25hdone\n",
            "  Created wheel for googletrans: filename=googletrans-3.1.0a0-py3-none-any.whl size=16353 sha256=11d5fb0502e9a20d72dd06009eaf89a8af4af4cfa1a0b803ea21435b8350a5a6\n",
            "  Stored in directory: /root/.cache/pip/wheels/50/5d/3c/8477d0af4ca2b8b1308812c09f1930863caeebc762fe265a95\n",
            "Successfully built googletrans\n",
            "Installing collected packages: rfc3986, hyperframe, hpack, h11, chardet, idna, hstspreload, h2, httpcore, httpx, googletrans\n",
            "  Attempting uninstall: chardet\n",
            "    Found existing installation: chardet 5.2.0\n",
            "    Uninstalling chardet-5.2.0:\n",
            "      Successfully uninstalled chardet-5.2.0\n",
            "  Attempting uninstall: idna\n",
            "    Found existing installation: idna 3.7\n",
            "    Uninstalling idna-3.7:\n",
            "      Successfully uninstalled idna-3.7\n",
            "Successfully installed chardet-3.0.4 googletrans-3.1.0a0 h11-0.9.0 h2-3.2.0 hpack-3.0.0 hstspreload-2024.7.1 httpcore-0.9.1 httpx-0.13.3 hyperframe-5.2.0 idna-2.10 rfc3986-1.5.0\n"
          ]
        }
      ]
    },
    {
      "cell_type": "code",
      "source": [
        "from bs4 import BeautifulSoup\n",
        "import requests\n",
        "import json\n",
        "\n",
        "from google.colab import files\n",
        "from googletrans import Translator"
      ],
      "metadata": {
        "id": "00U2BkhmOiP6"
      },
      "execution_count": null,
      "outputs": []
    },
    {
      "cell_type": "markdown",
      "source": [
        "# Home Page"
      ],
      "metadata": {
        "id": "RPnqsbNEQx97"
      }
    },
    {
      "cell_type": "markdown",
      "source": [
        "In the Norwegian language text, we have to properly encode the Norwegian alphabet"
      ],
      "metadata": {
        "id": "fQBSlzS0pKDT"
      }
    },
    {
      "cell_type": "code",
      "source": [
        "page = requests.get(NIBIO_URL)\n",
        "page.encoding = page.apparent_encoding\n",
        "home_webpage = BeautifulSoup(page.text, 'html')"
      ],
      "metadata": {
        "id": "qexXM-9FOyA2"
      },
      "execution_count": null,
      "outputs": []
    },
    {
      "cell_type": "code",
      "source": [
        "home_webpage"
      ],
      "metadata": {
        "id": "ZqQ1opp9Asqa",
        "colab": {
          "base_uri": "https://localhost:8080/"
        },
        "outputId": "f00e90c9-7fae-457f-9f44-1bf348175723"
      },
      "execution_count": null,
      "outputs": [
        {
          "output_type": "execute_result",
          "data": {
            "text/plain": [
              "<!DOCTYPE html>\n",
              "<html class=\"no-js\" lang=\"no\">\n",
              "<head><!-- Google Tag Manager -->\n",
              "<!-- <script>(function(w,d,s,l,i){w[l]=w[l]||[];w[l].push(\n",
              "\n",
              "{'gtm.start': new Date().getTime(),event:'gtm.js'}\n",
              ");var f=d.getElementsByTagName(s)[0],\n",
              "j=d.createElement(s),dl=l!='dataLayer'?'&l='+l:'';j.async=true;j.src=\n",
              "'https://www.googletagmanager.com/gtm.js?id='+i+dl;f.parentNode.insertBefore(j,f);\n",
              "})(window,document,'script','dataLayer','GTM-M2BQN2S');</script> -->\n",
              "<!-- End Google Tag Manager -->\n",
              "<!-- Matomo -->\n",
              "<!-- <script>\n",
              "  var _paq = window._paq = window._paq || [];\n",
              "  /* tracker methods like \"setCustomDimension\" should be called before \"trackPageView\" */\n",
              "  _paq.push(['trackPageView']);\n",
              "  _paq.push(['enableLinkTracking']);\n",
              "  (function() {\n",
              "    var u=\"https://nibio.matomo.cloud/\";\n",
              "    _paq.push(['setTrackerUrl', u+'matomo.php']);\n",
              "    _paq.push(['setSiteId', '1']);\n",
              "    _paq.push(['enableHeartBeatTimer']);\n",
              "    var d=document, g=d.createElement('script'), s=d.getElementsByTagName('script')[0];\n",
              "    g.async=true; g.src='//cdn.matomo.cloud/nibio.matomo.cloud/matomo.js'; s.parentNode.insertBefore(g,s);\n",
              "  })();\n",
              "</script> -->\n",
              "<!-- End Matomo Code -->\n",
              "<!-- Matomo new -->\n",
              "<script>\n",
              "  function IPtoNum(ip){\n",
              "    return Number(\n",
              "      ip.split(\".\")\n",
              "        .map(d => (\"000\"+d).substr(-3) )\n",
              "        .join(\"\")\n",
              "    );\n",
              "  }\n",
              "\n",
              "  async function getCloudflareJSON(){\n",
              "    let data = await fetch('https://www.cloudflare.com/cdn-cgi/trace').then(res=>res.text())\n",
              "    let arr = data.replace(/[\\r\\n]+/g, '\",\"').replace(/\\=+/g, '\":\"');\n",
              "        arr ='{\"' + arr.slice(0, arr.lastIndexOf('\",\"')) + '\"}';\n",
              "    const jsondata = JSON.parse(arr);\n",
              "    return jsondata;\n",
              "  }\n",
              "\n",
              "  getCloudflareJSON().catch(() => {\n",
              "    var _paq = window._paq = window._paq || [];\n",
              "    _paq.push(['trackPageView']);\n",
              "    _paq.push(['enableLinkTracking']);\n",
              "    (function() {\n",
              "      var u=\"https://nibio.matomo.cloud/\";\n",
              "      _paq.push(['setTrackerUrl', u+'matomo.php']);\n",
              "      _paq.push(['setSiteId', '1']);\n",
              "      _paq.push(['enableHeartBeatTimer']);\n",
              "      var d=document, g=d.createElement('script'), s=d.getElementsByTagName('script')[0];\n",
              "      g.async=true; g.src='//cdn.matomo.cloud/nibio.matomo.cloud/matomo.js'; s.parentNode.insertBefore(g,s);\n",
              "    })();\n",
              "  })\n",
              "\n",
              "  getCloudflareJSON().then((jsondata) => {\n",
              "    console.log(jsondata);\n",
              "    var matomoStatus = matomoStatus || 'undefined';\n",
              "\n",
              "    const ranges = [\n",
              "      ['158.38.1.159', '158.38.1.192'],\n",
              "      ['128.39.98.0', '128.39.98.255'],\n",
              "      ['10.100.1.1', '10.100.254.254'],\n",
              "      ['128.39.98.1', '128.39.99.254']\n",
              "    ];\n",
              "\n",
              "    const ip = jsondata.ip;\n",
              "    const inRange = ranges.some(\n",
              "      ([min,max]) => IPtoNum(min) < IPtoNum(ip) && IPtoNum(max) > IPtoNum(ip)\n",
              "    );\n",
              "    matomoStatus = inRange ? 'internal' : 'external';\n",
              "    console.log(matomoStatus);\n",
              "\n",
              "    // var url = window.location.hostname;\n",
              "    // var siteID = url === 'nibio.no' ? '1' : '7';\n",
              "\n",
              "    setTimeout(() => {\n",
              "      console.log('matomoStatus');\n",
              "      var _paq = window._paq = window._paq || [];\n",
              "      _paq.push(['setCustomDimension', customDimensionId = 1, customDimensionValue = matomoStatus]);\n",
              "      _paq.push(['trackPageView']);\n",
              "      _paq.push(['enableLinkTracking']);\n",
              "      (function() {\n",
              "        var u=\"https://nibio.matomo.cloud/\";\n",
              "        _paq.push(['setTrackerUrl', u+'matomo.php']);\n",
              "        _paq.push(['setSiteId', '1']);\n",
              "        _paq.push(['enableHeartBeatTimer']);\n",
              "        var d=document, g=d.createElement('script'), s=d.getElementsByTagName('script')[0];\n",
              "        g.async=true; g.src='//cdn.matomo.cloud/nibio.matomo.cloud/matomo.js'; s.parentNode.insertBefore(g,s);\n",
              "      })();\n",
              "    }, 100);\n",
              "\n",
              "  })\n",
              "</script>\n",
              "<!-- End Matomo Code --><!--[if IE]><meta http-equiv=\"X-UA-Compatible\" content=\"IE=11\"/><![endif]-->\n",
              "<meta charset=\"utf-8\"/>\n",
              "<meta content=\"NIBIO leverer kunnskap om mat- og planteproduksjon, miljø, klimasmart landbruk, kart, arealbruk, genressurser, skog, ressursforvaltning og landbruksøkonomi. \" name=\"description\"/>\n",
              "<meta content=\"width=device-width,initial-scale=1\" name=\"viewport\"/>\n",
              "<title>Nibio - Nibio</title>\n",
              "<link href=\"/_/asset/com.norsedigital.nibio:0000019024c86030/apple-touch-icon.png\" rel=\"apple-touch-icon\" sizes=\"180x180\"/>\n",
              "<link href=\"/_/asset/com.norsedigital.nibio:0000019024c86030/favicon-32x32.png\" rel=\"icon\" sizes=\"32x32\" type=\"image/png\"/>\n",
              "<link href=\"/_/asset/com.norsedigital.nibio:0000019024c86030/favicon-16x16.png\" rel=\"icon\" sizes=\"16x16\" type=\"image/png\"/>\n",
              "<link href=\"/_/asset/com.norsedigital.nibio:0000019024c86030/manifest.json\" rel=\"manifest\"/>\n",
              "<link color=\"#5bbad5\" href=\"/_/asset/com.norsedigital.nibio:0000019024c86030/safari-pinned-tab.svg\" rel=\"mask-icon\"/>\n",
              "<link href=\"/_/asset/com.norsedigital.nibio:0000019024c86030/favicon.ico\" rel=\"shortcut icon\"/>\n",
              "<meta content=\"#ffffff\" name=\"theme-color\"/>\n",
              "<meta content=\"KhACqHw1ZCS9Mbpig8UvXUnACYyniy5VvGMA27NJQhU\" name=\"google-site-verification\"/>\n",
              "<!-- Open Graph data -->\n",
              "<meta content=\"Nibio - Nibio\" property=\"og:title\"/>\n",
              "<meta content=\"article\" property=\"og:type\"/>\n",
              "<meta content=\"https://www.nibio.no/\" property=\"og:url\"/>\n",
              "<meta content=\"https://www.nibio.no/_/asset/com.norsedigital.nibio:0000019024c86030/android-chrome-512x512.png\" property=\"og:image\"/>\n",
              "<meta content=\"NIBIO leverer kunnskap om mat- og planteproduksjon, miljø, klimasmart landbruk, kart, arealbruk, genressurser, skog, ressursforvaltning og landbruksøkonomi. \" property=\"og:description\"/>\n",
              "<meta content=\"Nibio\" property=\"og:site_name\"/>\n",
              "<meta content=\"512\" property=\"og:image:width\"/>\n",
              "<meta content=\"512\" property=\"og:image:height\"/>\n",
              "<!-- Place favicon.ico in the root directory -->\n",
              "<link href=\"//fonts.googleapis.com/css?family=Merriweather:300,400,400i,700|Source+Sans+Pro:300,300i,400,400i,600,600i,700,700i\" rel=\"stylesheet\"/>\n",
              "<link href=\"/_/asset/com.norsedigital.nibio:0000019024c86030/styles/main.css\" rel=\"stylesheet\"/>\n",
              "<script type=\"text/javascript\">\n",
              "  var userip = \"35.201.137.49\";\n",
              "  var re = /(46\\.249\\.232\\.8(?!.))|(62\\.50\\.173\\.106)|(77\\.106\\.175\\.179)|(79\\.135\\.25\\.5(?!.))|(79\\.161\\.49\\.18(?!.))|(80\\.89\\.41\\.154)|(80\\.232\\.108\\.2(?!.))|(82\\.147\\.34\\.194)|(84\\.205\\.40\\.229)|(185\\.3\\.3\\.214)|(193\\.213\\.35\\.215)|(158\\.37\\.160\\.178)|(158\\.36\\.141\\.83(?!.))|(128\\.39\\.47\\.46(?!.))|(217\\.144\\.240\\.(109|110))|(88\\.84\\.191\\.23[3-8])|(128\\.39\\.((5[8-9])|(9[8-9]))\\.(([1][0-9][0-9])|([2][0-4][0-9])|([2][5][0-5])|([1-9][0-9])|([1-9])))|(128\\.39\\.184\\.(([0-1][0-9][0-9])|([2][0-5][0-4])|([1-9][0-9])(?![0-9])|([1-9])(?![0-9])))|(128\\.39\\.97\\.((([1][0-1][0-9])|([1][0-2][0-6])|([1][2][9])|([1][3-4][0-9])|([1][5][0-8])|([1-9][0-9])(?![0-9])|([1-9])(?![0-9]))))|(158\\.38\\.1\\.(([1][6][1-9])|([1][7-8][0-9])|([1][9][0])))|(192\\.168\\..{1,3}\\..{1,3})|(10\\..{1,3}\\..{1,3}\\..{1,3})|(172\\.[123][0-9]\\..{1,3}\\..{1,3})|(127\\.0\\.0\\.1)$/;\n",
              "  if (userip && re.test(userip) && ( !location.search || (location.search && location.search.indexOf('locationfilter') == -1) ) ) {\n",
              "    var hash = location.hash ? location.hash : '';\n",
              "    window.history.replaceState(null, null, location.pathname+(location.search ? location.search+'&':'?')+'locationfilter=true'+(location.hash ? location.hash : ''));\n",
              "  }\n",
              "</script>\n",
              "<script src=\"/_/asset/com.norsedigital.nibio:0000019024c86030/scripts/vendor/modernizr.js\"></script>\n",
              "<link href=\"https://www.nibio.no/utils/nibio-rss\" rel=\"alternate\" title=\"Nibio RSS\" type=\"application/rss+xml\"/></head>\n",
              "<body class=\"front\"><!-- Google Tag Manager (noscript) -->\n",
              "<!-- <noscript><iframe aria-hidden=\"true\" src=\"https://www.googletagmanager.com/ns.html?id=GTM-M2BQN2S\"\n",
              "height=\"0\" width=\"0\" style=\"display:none;visibility:hidden\"></iframe></noscript> -->\n",
              "<!-- End Google Tag Manager (noscript) -->\n",
              "<!-- Global header -->\n",
              "<!-- Global header -->\n",
              "<header>\n",
              "<a class=\"skip-navigation\" href=\"#content\">Hopp til hovedinnholdet</a>\n",
              "<nav class=\"navbar navbar-default sticky-scroller master-nav\" id=\"master-nav\">\n",
              "<div class=\"container\">\n",
              "<!-- Brand and toggle get grouped for better mobile display -->\n",
              "<div class=\"navbar-header\">\n",
              "<a class=\"navbar-brand\" href=\"/\">\n",
              "<img alt=\"NIBIO Logo\" src=\"/_/asset/com.norsedigital.nibio:0000019024c86030/images/nibio-logo-neg.png\"/>\n",
              "</a>\n",
              "<a class=\"hidden-xs hidden-lg english btn btn-default\" href=\"/en\">En </a>\n",
              "<!-- <button type=\"button\" class=\"btn btn-default search-toggle hidden-sm hidden-md hidden-lg\" data-toggle=\"collapse\"\n",
              "          data-target=\"#search-nav\" aria-expanded=\"false\">\n",
              "          <img src=\"#\" data-th-src=\"${portal.assetUrl({'_path=images/magnifying-glass.png'})}\" alt=\"Search\" />\n",
              "        </button> -->\n",
              "<button aria-expanded=\"false\" class=\"navbar-toggle collapsed\" data-target=\"#master-nav-collapse\" data-toggle=\"collapse\" type=\"button\">\n",
              "<span class=\"sr-only\">Toggle navigation</span>\n",
              "<span class=\"icon-bar\"></span>\n",
              "<span class=\"icon-bar\"></span>\n",
              "<span class=\"icon-bar\"></span><!-- MENY -->\n",
              "</button>\n",
              "<button aria-expanded=\"false\" class=\"search-new__toggle toggle-mobile\" data-target=\"#search-nav\" data-toggle=\"collapse\" type=\"button\">\n",
              "          Search\n",
              "        </button>\n",
              "<!-- <a href=\"#content\" class=\"skip-navigation\">Hopp til hovedinnholdet</a> -->\n",
              "</div>\n",
              "<!-- Collect the nav links, forms, and other content for toggling -->\n",
              "<div class=\"collapse navbar-collapse no-transition\" id=\"master-nav-collapse\">\n",
              "<ul class=\"nav navbar-nav navbar-right\">\n",
              "<li>\n",
              "<a href=\"/prosjekter\">Prosjekter</a>\n",
              "<div class=\"marker\">\n",
              "<span></span>\n",
              "</div>\n",
              "</li>\n",
              "<li>\n",
              "<a href=\"/publikasjoner\">Publikasjoner</a>\n",
              "<div class=\"marker\">\n",
              "<span></span>\n",
              "</div>\n",
              "</li>\n",
              "<li>\n",
              "<a href=\"/tema\">Tema</a>\n",
              "<div class=\"marker\">\n",
              "<span></span>\n",
              "</div>\n",
              "</li>\n",
              "<li>\n",
              "<a href=\"/kalender\">Kalender</a>\n",
              "<div class=\"marker\">\n",
              "<span></span>\n",
              "</div>\n",
              "</li>\n",
              "<li>\n",
              "<a href=\"/tjenester\">Tjenester</a>\n",
              "<div class=\"marker\">\n",
              "<span></span>\n",
              "</div>\n",
              "</li>\n",
              "<li>\n",
              "<a href=\"/nyheter\">Nyheter</a>\n",
              "<div class=\"marker\">\n",
              "<span></span>\n",
              "</div>\n",
              "</li>\n",
              "<li>\n",
              "<a href=\"/ansatte\">Ansatte</a>\n",
              "<div class=\"marker\">\n",
              "<span></span>\n",
              "</div>\n",
              "</li>\n",
              "<li>\n",
              "<a href=\"/om-nibio\">Om NIBIO</a>\n",
              "<div class=\"marker\">\n",
              "<span></span>\n",
              "</div>\n",
              "</li>\n",
              "<li>\n",
              "<button aria-expanded=\"false\" class=\"search-new__toggle\" data-target=\"#search-nav\" data-toggle=\"collapse\" type=\"button\">\n",
              "              Search\n",
              "            </button>\n",
              "</li>\n",
              "<li class=\"english hidden-sm hidden-md\">\n",
              "<a href=\"/en\">\n",
              "<span>nibio.no English</span>\n",
              "</a>\n",
              "</li>\n",
              "</ul>\n",
              "</div>\n",
              "</div>\n",
              "</nav>\n",
              "<!--\n",
              "\n",
              "\t\t\t\tFRONT PAGE IMAGE UNCOMMENT WHEN WORKING WITH IT\n",
              "\t\t\t\tAPPEARS ON EVERY PAGE NOW\n",
              "\n",
              "\t-->\n",
              "<div class=\"front-header-photo\">\n",
              "<div class=\"container\">\n",
              "<div class=\"hero\">\n",
              "<div class=\"hero-container\">\n",
              "<div class=\"hero-content\">\n",
              "              \n",
              "                NIBIO er et av Norges største forskningsinstitutt med ca. 750 medarbeidere. Vi bidrar til matsikkerhet og mattrygghet, bærekraftig ressursforvaltning, innovasjon og verdiskaping gjennom forskning og kunnskapsproduksjon.\n",
              "              \n",
              "            </div>\n",
              "</div>\n",
              "</div>\n",
              "<div class=\"row\">\n",
              "<!-- <div class=\"col-xs-3 no-padding aspect-ratio-box\">\n",
              "          <a data-th-href=\"${addressesUrl}\" class=\"aspect-ratio-box__bg-image\"\n",
              "            data-th-style=\"${'background-image:url(\\'' + secondaryImage.url} + '\\');'\">Her\n",
              "            finner du oss</a>\n",
              "        </div> -->\n",
              "<div class=\"col-xs-9 no-padding aspect-ratio-box\">\n",
              "<div class=\"aspect-ratio-box__bg-image\" style=\"background-image:url('/_/image/b829998f-aab7-409f-a309-0a3bc2ede4ab:8beb2eae1194f4cb70f3160c3165f6eef0eadd21/max-1280/Illustrasjon-03.svg?quality=60');\" title=\"Nibio \"></div>\n",
              "</div>\n",
              "</div>\n",
              "</div>\n",
              "</div>\n",
              "<!--\n",
              "\n",
              "\t\t\t\tFRONT PAGE MAIN IMAGE END\n",
              "\n",
              "\t-->\n",
              "<div class=\"search-new\" tabindex=\"-1\">\n",
              "<div class=\"search-new__wrapper\">\n",
              "<form action=\"/sok\" id=\"search-form\">\n",
              "<div class=\"search-new__input\" id=\"search-input\">\n",
              "<input aria-label=\"Søk\" autocomplete=\"off\" class=\"form-control\" id=\"q\" name=\"q\" placeholder=\"Bruk anførselstegn ved søk på eksakt ord eller frase\" test=\"Bruk anførselstegn ved søk på eksakt ord eller frase\" type=\"text\" value=\"\"/>\n",
              "<button class=\"search-new__submit\" type=\"submit\">\n",
              "            Søk\n",
              "          </button>\n",
              "</div>\n",
              "<div class=\"search-new__category\">\n",
              "<h4>Søk i</h4>\n",
              "<div class=\"search-new__options\">\n",
              "<!-- <a href=\"#\" rel=\"nofollow\" data-core=\"sitewide\" class=\"active\">nibio.no</a> -->\n",
              "<a class=\"active\" data-core=\"/sok\" href=\"#\" rel=\"nofollow\">alt</a><a data-core=\"/ansatte\" href=\"#\" rel=\"nofollow\">ansatte</a><a data-core=\"/prosjekter\" href=\"#\" rel=\"nofollow\">prosjekter</a><a data-core=\"/publikasjoner\" href=\"#\" rel=\"nofollow\">publikasjoner</a><a data-core=\"/tema\" href=\"#\" rel=\"nofollow\">tema</a><a data-core=\"/tjenester\" href=\"#\" rel=\"nofollow\">tjenester</a><a data-core=\"/kalender\" href=\"#\" rel=\"nofollow\">kalender</a><a data-core=\"/nyheter\" href=\"#\" rel=\"nofollow\">nyheter</a>\n",
              "</div>\n",
              "</div>\n",
              "</form>\n",
              "</div>\n",
              "</div>\n",
              "<!-- <nav class=\"navbar navbar-default sticky-scroller search-nav collapse\" id=\"search-nav\">\n",
              "    <form class=\"navbar-form\" id=\"search-form\" data-th-action=\"${currentSearchCore.link}\">\n",
              "      <div class=\"container\">\n",
              "        <div class=\"row\">\n",
              "          <div class=\"col-xs-12 col-sm-4 col-md-4 col-lg-3 search-category\">\n",
              "            <a href=\"#\" rel=\"nofollow\">\n",
              "              <span data-th-text=\"${portal.localize({'_key=global.searchfor','_locale='+currentLanguage})}\"\n",
              "                data-th-remove=\"tag\"></span>\n",
              "              <span data-th-text=\"${currentSearchCore.displayName}\">nibio.no</span>:</a>\n",
              "            <div class=\"search-category-options\">\n",
              "              <a href=\"#\" rel=\"nofollow\" data-th-each=\"core :${searchCores}\" data-th-text=\"${core.displayName}\"\n",
              "                data-th-attr=\"data-core=${core.link}\">core.displayName</a>\n",
              "            </div>\n",
              "          </div>\n",
              "          <div class=\"col-xs-12 col-sm-6 col-md-7 col-lg-8 search-input\" id=\"search-input\">\n",
              "            <input type=\"text\" class=\"form-control\" id=\"q\" name=\"q\" data-th-value=\"${params.q}\"\n",
              "              data-th-attr=\"placeholder=${portal.localize({'_key=global.search.placeholder','_locale='+currentLanguage})},aria-label=${portal.localize({'_key=global.search','_locale='+currentLanguage})},test=${portal.localize({'_key=global.search.placeholder','_locale='+currentLanguage})}\"\n",
              "              autocomplete=\"off\" />\n",
              "            <div class=\"labels\" id=\"search-labels\"></div>\n",
              "            <div class=\"icon icon-question-mark\">?</div>\n",
              "\n",
              "            <div class=\"search-explanation\">\n",
              "              <div class=\"search-explanation-close\">close</div>\n",
              "              <div class=\"search-explanation-container\"\n",
              "                data-th-text=\"${portal.localize({'_key=global.searchExplanation','_locale='+currentLanguage})}\">\n",
              "              </div>\n",
              "            </div>\n",
              "          </div>\n",
              "\n",
              "          <div class=\"col-xs-12 col-sm-2 col-md-1 col-lg-1 search-submit\">\n",
              "            <button type=\"submit\" class=\"btn\">\n",
              "              <span data-th-text=\"${portal.localize({'_key=global.search','_locale='+currentLanguage})}\"\n",
              "                data-th-remove=\"tag\">global.search</span>\n",
              "              <i class=\"arrow-right\"></i>\n",
              "            </button>\n",
              "          </div>\n",
              "        </div>\n",
              "      </div>\n",
              "    </form>\n",
              "  </nav> -->\n",
              "</header>\n",
              "<div class=\"visible-print-block print-logo\">\n",
              "<img alt=\"NIBIO Logo\" src=\"/_/asset/com.norsedigital.nibio:0000019024c86030/images/nibio-logo.png\"/>\n",
              "<span class=\"currentDate\">\n",
              "    Utskrift\n",
              "    <span class=\"date\"></span>\n",
              "</span>\n",
              "</div>\n",
              "<!-- END Global header -->\n",
              "<div></div>\n",
              "<!-- END Global header -->\n",
              "<main class=\"fontpage-content\" id=\"content\" role=\"main\">\n",
              "<!-- <section class=\"intro\" data-portal-region=\"intro\">\n",
              "      <div data-th-each=\"component : ${introRegion.components}\" data-th-remove=\"tag\">\n",
              "        <div data-portal-component=\"${component.path}\" data-th-remove=\"tag\"></div>\n",
              "      </div>\n",
              "    </section> -->\n",
              "<nav class=\"subject\">\n",
              "<div class=\"container level-one\">\n",
              "<div class=\"row\">\n",
              "<div class=\"col-sm-12 subjects container-bleed hero-overlap\">\n",
              "<a data-slug=\"skog\" href=\"#skog\">\n",
              "<div class=\"wrapper\">\n",
              "<img alt=\"Icon 1\" src=\"/tema/jord/arealressurser/andre-kart/nyttbar-myr-og-torvmark-fra-dmk/_/image/93647936-53cc-4fb9-bb7c-6fa30035228a:e77470c7251a451eb0e5782a5093138179004290/max-1280/Icon%201.svg?quality=60\"/>\n",
              "<p>Skog</p>\n",
              "</div>\n",
              "</a><a data-slug=\"jord\" href=\"#jord\">\n",
              "<div class=\"wrapper\">\n",
              "<img alt=\"Icon 2\" src=\"/tema/jord/arealressurser/andre-kart/nyttbar-myr-og-torvmark-fra-dmk/_/image/84ea4f47-304e-4c48-9364-db1faa2cf756:662263314fb5cb86cf59d6d8da83bd31018e7b80/max-1280/Icon%202.svg?quality=60\"/>\n",
              "<p>Jord</p>\n",
              "</div>\n",
              "</a><a data-slug=\"mat\" href=\"#mat\">\n",
              "<div class=\"wrapper\">\n",
              "<img alt=\"Icon 3\" src=\"/tema/jord/arealressurser/andre-kart/nyttbar-myr-og-torvmark-fra-dmk/_/image/04ed29f5-d4e3-4f17-a5f5-023e4ab0aed8:264c54144280473da11a28c54a1ef3416fededc9/max-1280/Icon%203.svg?quality=60\"/>\n",
              "<p>Mat</p>\n",
              "</div>\n",
              "</a><a data-slug=\"plantehelse\" href=\"#plantehelse\">\n",
              "<div class=\"wrapper\">\n",
              "<img alt=\"Icon 4\" src=\"/tema/jord/arealressurser/andre-kart/nyttbar-myr-og-torvmark-fra-dmk/_/image/f153fa3e-62cf-45ea-a77b-03cd3bcdd1e4:7282b2f2c4cc7835702496eeeecd5b2f88a51197/max-1280/Icon%204.svg?quality=60\"/>\n",
              "<p>Plantehelse</p>\n",
              "</div>\n",
              "</a><a data-slug=\"landskap\" href=\"#landskap\">\n",
              "<div class=\"wrapper\">\n",
              "<img alt=\"Icon 5\" src=\"/tema/jord/arealressurser/andre-kart/nyttbar-myr-og-torvmark-fra-dmk/_/image/f7a92e0c-3192-49ea-a86c-72db5f4f31c3:1de954f6f28bc3d5336984fdea3442b9f885b96b/max-1280/Icon%205.svg?quality=60\"/>\n",
              "<p>Landskap</p>\n",
              "</div>\n",
              "</a><a data-slug=\"miljø\" href=\"#miljø\">\n",
              "<div class=\"wrapper\">\n",
              "<img alt=\"Icon 6\" src=\"/tema/jord/arealressurser/andre-kart/nyttbar-myr-og-torvmark-fra-dmk/_/image/ced0fdfb-3997-4716-8db4-3abed728f355:5bafe1b1ba36864e230e7d0694a044f1493031cc/max-1280/Icon%206.svg?quality=60\"/>\n",
              "<p>Miljø</p>\n",
              "</div>\n",
              "</a><a data-slug=\"landbruksøkonomi\" href=\"#landbruksøkonomi\">\n",
              "<div class=\"wrapper\">\n",
              "<img alt=\"Icon 7\" src=\"/tema/jord/arealressurser/andre-kart/nyttbar-myr-og-torvmark-fra-dmk/_/image/39f7b809-9c36-4d45-b790-a53501def3cf:20d47dd711866e7c77439913a67f0e38f20f3c8b/max-1280/Icon%207.svg?quality=60\"/>\n",
              "<p>Landbruks- økonomi</p>\n",
              "</div>\n",
              "</a>\n",
              "<div id=\"subject-indicator\"></div>\n",
              "</div>\n",
              "</div>\n",
              "</div>\n",
              "<div class=\"container level-two\" id=\"subject-navigator\">\n",
              "<div class=\"close close-level\"></div>\n",
              "<div class=\"row header\" id=\"subject-nav-header\">\n",
              "<!-- Populated by JS; handlebars-template #tmpl-subject-nav-header -->\n",
              "</div>\n",
              "<div class=\"navigation\" id=\"subject-nav-columns\">\n",
              "<div class=\"col locked hidden\">\n",
              "<a class=\"has-sub-items\" data-slug=\"skog\" href=\"#\">Skog</a><a class=\"has-sub-items\" data-slug=\"jord\" href=\"#\">Jord</a><a class=\"has-sub-items\" data-slug=\"mat\" href=\"#\">Mat</a><a class=\"has-sub-items\" data-slug=\"plantehelse\" href=\"#\">Plantehelse</a><a class=\"has-sub-items\" data-slug=\"landskap\" href=\"#\">Landskap</a><a class=\"has-sub-items\" data-slug=\"miljø\" href=\"#\">Miljø</a><a class=\"has-sub-items\" data-slug=\"landbruksøkonomi\" href=\"#\">Landbruksøkonomi</a>\n",
              "</div>\n",
              "<!-- Further populated by JS; handlebars-template #tmpl-subject-nav-column -->\n",
              "</div>\n",
              "</div>\n",
              "</nav>\n",
              "<div data-portal-region=\"services\">\n",
              "<div class=\"container\" data-portal-component-type=\"part\">\n",
              "<div class=\"row\">\n",
              "<div class=\"col-sm-12 button-row\">\n",
              "<a class=\"btn btn-block btn-nav\" href=\"/tjenester#section-1f59b930-f216-4e8f-985f-ff91ed25331a\">\n",
              "          Kart\n",
              "          <i class=\"arrow-right\"></i>\n",
              "</a>\n",
              "<a class=\"btn btn-block btn-nav\" href=\"/om-nibio/ledige-stillinger\">\n",
              "          Ledige stillinger\n",
              "          <i class=\"arrow-right\"></i>\n",
              "</a>\n",
              "<a class=\"btn btn-block btn-nav\" href=\"/om-nibio/nyhetsbrev-fra-nibio\">\n",
              "          Nyhetsbrev fra NIBIO\n",
              "          <i class=\"arrow-right\"></i>\n",
              "</a>\n",
              "<a class=\"btn btn-block btn-nav\" href=\"/nyheter/kronikker-skrevet-av-nibios-medarbeidere\">\n",
              "          Kronikker skrevet av NIBIOs medarbeidere\n",
              "          <i class=\"arrow-right\"></i>\n",
              "</a>\n",
              "</div>\n",
              "</div>\n",
              "</div>\n",
              "</div>\n",
              "<section class=\"cards news-cards\" id=\"section-news\">\n",
              "<div class=\"container featured\">\n",
              "<div class=\"row section-header\">\n",
              "<div class=\"col-sm-8\">\n",
              "<h2>Nyheter</h2>\n",
              "</div>\n",
              "<div class=\"col-sm-4 button\">\n",
              "<a class=\"btn btn-default\" href=\"/nyheter\">Flere nyheter</a>\n",
              "</div>\n",
              "</div>\n",
              "<article>\n",
              "<div class=\"row\">\n",
              "<div class=\"col-sm-6 image\">\n",
              "<figure>\n",
              "<img alt=\"iStock-1409098318\" src=\"/_/image/ec08953c-2d86-49d9-8eab-d0a543a437ab:5b32e388180a8c90e5835426747f1533b95fe461/max-1280/iStock-1409098318.jpg?quality=60\"/>\n",
              "</figure>\n",
              "</div>\n",
              "<div class=\"col-sm-6 text\">\n",
              "<h5>Potet er klimavinneren på middagsbordet</h5>\n",
              "<p class=\"frontpageNewsIngress\">Meningene er mange om hva som er den mest klimavennlige matvaren du kan legge på middagsbordet. Tyske forskere har tatt jobben med å undersøke dette og konklusjonen er helt klar: potet er best. </p>\n",
              "<p class=\"date\">Publisert 13.07.2024</p>\n",
              "<a class=\"btn btn-default\" href=\"/nyheter/potet-er-klimavinneren-pa-middagsbordet\">\n",
              "                Les mer\n",
              "                <i class=\"arrow-right\"></i>\n",
              "</a>\n",
              "</div>\n",
              "</div>\n",
              "</article>\n",
              "</div>\n",
              "<div class=\"container grid regular\">\n",
              "<div class=\"row\">\n",
              "<div class=\"col-sm-6 col-md-3\">\n",
              "<article>\n",
              "<a href=\"/nyheter/torkebonner--fra-traust-til-trendy\">\n",
              "<figure class=\"image\">\n",
              "<img alt=\"Jasper i bønneåker-Foto Tom Boersma_Solhatt\" class=\"img-responsive\" src=\"/_/image/33932385-a898-4f32-be17-05a6474c1dfe:8ee0e21dbd2271e261bfd4856638e4cb0d9fd1b4/block-1200-800/Jasper%20i%20b%C3%B8nne%C3%A5ker-Foto%20Tom%20Boersma_Solhatt.jpg?quality=60\"/>\n",
              "</figure>\n",
              "<h6>Tørkebønner – fra traust til trendy</h6>\n",
              "<p class=\"date\">Publisert 06.07.2024</p>\n",
              "<p>Hagebønner, også kalt tørkebønner eller frøbønner, ble dyrket på Sørlandet i etterkrigstida. Kan vi gjenoppdage denne gamle tradisjonen i dag? Det forsøker forskere og rådgivere i Norges Vel, NIBIO og Solhatt økologisk hagebruk å finne ut av. </p>\n",
              "</a>\n",
              "</article>\n",
              "</div>\n",
              "<div class=\"col-sm-6 col-md-3\">\n",
              "<article>\n",
              "<a href=\"/nyheter/poteten-fra-utrendy-til-supermat\">\n",
              "<figure class=\"image\">\n",
              "<img alt=\"Potetdyrking i kjøkkenhagen\" class=\"img-responsive\" src=\"/_/image/d91b491d-59c9-41a4-a33c-8dfd703c098f:e3f9a60fd32e4170869f88a03af4b3365a517b27/block-1200-800/Potetdyrking-20240627_175026.jpg?quality=60\"/>\n",
              "</figure>\n",
              "<h6>Poteten: Fra utrendy til supermat</h6>\n",
              "<p class=\"date\">Publisert 05.07.2024</p>\n",
              "<p>Den «erkenorske» poteten ble utrendy og byttet ut med pasta og ris. Nå tar flere igjen til orde for poteten. Ikke bare er den sunn, allsidig og rimelig, men i tillegg klimasterk og viktig for matsikkerheten i Norge. </p>\n",
              "</a>\n",
              "</article>\n",
              "</div>\n",
              "<div class=\"col-sm-6 col-md-3\">\n",
              "<article>\n",
              "<a href=\"/nyheter/skal-forske-pa-lokflue-og-fusariose-pa-lok\">\n",
              "<figure class=\"image\">\n",
              "<img alt=\"Tadesse 13_cropped\" class=\"img-responsive\" src=\"/_/image/0d7153ed-b405-46a4-8a0a-c11a0343f44d:77b739487f0c469cca7803b04b55627be329cf2f/block-1200-800/Tadesse%2013_cropped.jpg?quality=60\"/>\n",
              "</figure>\n",
              "<h6>Skal forske på løkflue og fusariose på løk</h6>\n",
              "<p class=\"date\">Publisert 29.06.2024</p>\n",
              "<p>Løkflue og fusariose gjør stor skade i norsk løkproduksjon - og problemet er økende. Nå skal NIBIO utvikle metoder for identifikasjon, diagnostikk, overvåking, varsling og bekjempelse av disse skadegjørerne.</p>\n",
              "</a>\n",
              "</article>\n",
              "</div>\n",
              "<div class=\"col-sm-6 col-md-3\">\n",
              "<article>\n",
              "<a href=\"/nyheter/europeiske-forskningsinstitutter-skogen-er-viktig\">\n",
              "<figure class=\"image\">\n",
              "<img alt=\"mg202405_2024-05-08 10.28.53\" class=\"img-responsive\" src=\"/_/image/2bc8feac-0b36-48c4-9669-8d567a913d8f:336eb5d52b1ef8fdba08345706dbb9f61c540a96/block-1200-800/mg202405_2024-05-08%2010.28.53.jpg?quality=60\"/>\n",
              "</figure>\n",
              "<h6>Europeiske forskningsinstitutter: Skogen er viktig for Europas velstand og konkurranseevne</h6>\n",
              "<p class=\"date\">Publisert 27.06.2024</p>\n",
              "<p>Europa kan få mye mer ut av sine skoger, sier fem europeiske skogforskningsinstitutter. For å få til dette trenger Europa å bygge innovative industrielle systemer som kan basere seg på bærekraftig utnyttelse av europeiske skoger. </p>\n",
              "</a>\n",
              "</article>\n",
              "</div>\n",
              "</div>\n",
              "</div>\n",
              "<!-- <div class=\"container minor list\">\n",
              "        <div class=\"row\">\n",
              "          <div class=\"col-sm-3\" data-th-each=\"news : ${minorNews}\">\n",
              "            <article>\n",
              "              <a data-th-href=\"${news.URL}\">\n",
              "                <h6 data-th-text=\"${news.displayName}\"></h6>\n",
              "                <p class=\"date\"\n",
              "                  data-th-text=\"${portal.localize({'_key=news.publishedDate','_locale='+content.language}) + ' ' + news.date}\">\n",
              "                </p>\n",
              "              </a>\n",
              "            </article>\n",
              "          </div>\n",
              "        </div>\n",
              "      </div> -->\n",
              "</section>\n",
              "<section class=\"cards calendar-cards\" id=\"section-calendar\">\n",
              "<div class=\"container\">\n",
              "<div class=\"row section-header\">\n",
              "<div class=\"col-sm-8\">\n",
              "<h2>Kalender</h2>\n",
              "</div>\n",
              "<div class=\"col-sm-4 button\">\n",
              "<a class=\"btn btn-default\" href=\"/kalender\">Flere arrangementer</a>\n",
              "</div>\n",
              "</div>\n",
              "<div class=\"row\">\n",
              "<div class=\"col-sm-12 calendar-cards-wrapper\">\n",
              "<article>\n",
              "<div>\n",
              "<div class=\"date-wrapper\">\n",
              "<div aria-label=\"Start-dato for prosjektet\" class=\"date\">\n",
              "<p>14.</p>\n",
              "<p>aug</p>\n",
              "</div>\n",
              "<h4>Markdag på Apelsvoll - Grønnsaker, potet, bær</h4>\n",
              "</div>\n",
              "<div class=\"info\">\n",
              "<p class=\"time\">\n",
              "                14.08.2024\n",
              "                kl.\n",
              "                09:00\n",
              "                <br/><i class=\"arrow-right\"></i>\n",
              "                14.08.2024\n",
              "                kl.\n",
              "                16:00\n",
              "            </p>\n",
              "<p class=\"location\">NIBIO Apelsvoll, Nylinna 226, 2849 Kapp</p>\n",
              "<p class=\"btn-information\">PROGRAM KOMMER SENERE</p>\n",
              "</div>\n",
              "</div>\n",
              "</article>\n",
              "<article>\n",
              "<a href=\"https://nibio.pameldingssystem.no/markdagene-pa-apelsvoll-2024\">\n",
              "<div class=\"date-wrapper\">\n",
              "<div aria-label=\"Start-dato for prosjektet\" class=\"date\">\n",
              "<p>14.</p>\n",
              "<p>aug</p>\n",
              "</div>\n",
              "<h4>Markdagene på Apelsvoll, 14. og 15. august 2024</h4>\n",
              "</div>\n",
              "<div class=\"info\">\n",
              "<p class=\"time\">\n",
              "                14.08.2024\n",
              "                kl.\n",
              "                09:30\n",
              "                <br/><i class=\"arrow-right\"></i>\n",
              "                15.08.2024\n",
              "                kl.\n",
              "                16:00\n",
              "            </p>\n",
              "<p class=\"location\">NIBIO Apelsvoll, Østre Toten</p>\n",
              "<p class=\"btn btn-default\">Program og påmelding:<i class=\"arrow-right\"></i></p>\n",
              "</div>\n",
              "</a>\n",
              "</article>\n",
              "<article>\n",
              "<div>\n",
              "<div class=\"date-wrapper\">\n",
              "<div aria-label=\"Start-dato for prosjektet\" class=\"date\">\n",
              "<p>15.</p>\n",
              "<p>aug</p>\n",
              "</div>\n",
              "<h4>Markdag på Apelsvoll - Korn og oljevekster</h4>\n",
              "</div>\n",
              "<div class=\"info\">\n",
              "<p class=\"time\">\n",
              "                15.08.2024\n",
              "                kl.\n",
              "                09:00\n",
              "                <br/><i class=\"arrow-right\"></i>\n",
              "                15.08.2024\n",
              "                kl.\n",
              "                16:00\n",
              "            </p>\n",
              "<p class=\"location\">NIBIO Apelsvoll, Nylinna 226, 2849 Kapp</p>\n",
              "<p class=\"btn-information\">PROGRAM KOMMER SENERE</p>\n",
              "</div>\n",
              "</div>\n",
              "</article>\n",
              "</div>\n",
              "</div>\n",
              "</div>\n",
              "</section>\n",
              "<section data-portal-region=\"project\">\n",
              "</section>\n",
              "<section class=\"showoff\" data-portal-region=\"publications\" id=\"section-publications\">\n",
              "<div class=\"container header-only\" data-portal-component-type=\"part\">\n",
              "<div class=\"row section-header\">\n",
              "<div class=\"col-sm-8\">\n",
              "<h2>Publikasjoner</h2>\n",
              "</div>\n",
              "</div>\n",
              "</div>\n",
              "<div class=\"container showoff button-sendoff\">\n",
              "<div class=\"row\">\n",
              "<div class=\"col-sm-8 col-sm-offset-2\">\n",
              "<p class=\"showoff-number\">46535 publikasjoner</p>\n",
              "</div>\n",
              "</div>\n",
              "<div class=\"row\">\n",
              "<div class=\"col-sm-8 col-sm-offset-2 col-md-6 col-md-offset-3\">\n",
              "<p>Her finner du referanser og lenker til publikasjoner og andre forsknings- og formidlingsaktiviteter.</p>\n",
              "</div>\n",
              "</div>\n",
              "<div class=\"row bleed\">\n",
              "<div class=\"col-sm-8 col-sm-offset-2 col-md-6 col-md-offset-3\">\n",
              "<a class=\"btn btn-block btn-nav\" href=\"/publikasjoner\">\n",
              "            \tUtforsk vår publikasjonsdatabase \n",
              "            \t<i class=\"arrow-right\"></i>\n",
              "</a>\n",
              "</div>\n",
              "</div>\n",
              "<div class=\"row bleed approvedButton\">\n",
              "<div class=\"col-sm-8 col-sm-offset-2 col-md-6 col-md-offset-3\">\n",
              "<a class=\"btn btn-block btn-nav btn-grey\" href=\"/publikasjoner/vare-poenggivende-vitenskapelige-publikasjoner-new\">\n",
              "                Våre poenggivende vitenskapelige publikasjoner ( 349 )\n",
              "                <i class=\"arrow-right\"></i>\n",
              "</a>\n",
              "</div>\n",
              "</div>\n",
              "</div>\n",
              "</section>\n",
              "</main>\n",
              "<!-- Subject navigation support -->\n",
              "<script>\n",
              "    var subjectHierarchy = [{\"id\":\"9ff4826e-2dfc-4cd0-b6a7-ad23280d0040\",\"slug\":\"skog\",\"title\":\"Skog\",\"description\":\"Hvor mye skog er det i Norge og hvordan kan vi best utnytte og ta vare p\\u00E5 den? Hvordan p\\u00E5virker skogen klimaet? Ved NIBIO har vi oversikt over skogressursene og skogens vekst og utvikling i Norge. Vi forsker p\\u00E5 effektiv skogskj\\u00F8tsel og -drift, bruk av tre og karbonlagring. Vi overv\\u00E5ker forekomst av skader p\\u00E5 skogen.\",\"displayName\":\"Skog\",\"url\":\"\\/tema\\/skog\",\"icon\":\"\\/_\\/image\\/93647936-53cc-4fb9-bb7c-6fa30035228a:e77470c7251a451eb0e5782a5093138179004290\\/max-1280\\/Icon%201.svg?quality=60\",\"iconAlt\":\"Icon 1\",\"photo\":\"\\/_\\/image\\/ada1f90d-8429-4364-b768-2e3f278951b0:c2317e946259d028139fa73ffbc40f4d426d34a3\\/block-375-250\\/MIA-20090811-180115.jpg?quality=60\",\"childIcon\":\"\\/_\\/image\\/0a939e7d-5027-4552-a2ae-d545e2087369:c9ac98b8753e17a8eeaa8c8423ddfc1645615dcc\\/max-1280\\/nibio-temaikon_skog_neg.png?quality=60\",\"childIconAlt\":\"nibio-temaikon_skog_neg\",\"children\":[{\"id\":\"370dd42b-e1b8-4925-be86-3b676da8b2ed\",\"title\":\"B\\u00E6rekraftig skogbruk i Norge\",\"url\":\"\\/tema\\/skog\\/baerekraftig-skogbruk-i-norge\"},{\"id\":\"a9dd0764-3409-450d-9235-f2712e771258\",\"title\":\"Skog- og milj\\u00F8informasjon fra Landsskog-takseringen\",\"url\":\"\\/tema\\/skog\\/skog-og-miljoinformasjon-fra-landsskogtakseringen\",\"children\":[{\"id\":\"1f5a12c6-6c66-4a86-8b07-55771e246d8c\",\"title\":\"Landsskog-takseringen\",\"url\":\"\\/tema\\/skog\\/skog-og-miljoinformasjon-fra-landsskogtakseringen\\/landsskog-takseringen\"},{\"id\":\"227a27da-66b3-4aad-9e50-41035b7b694e\",\"title\":\"Fjernm\\u00E5ling av skog f\\u00F8r, n\\u00E5 og i fremtiden\",\"url\":\"\\/tema\\/skog\\/skog-og-miljoinformasjon-fra-landsskogtakseringen\\/fjernmaling-av-skog-for-na-og-i-fremtiden\"},{\"id\":\"812b7a96-885e-40dd-850f-85d8bfe6a0ea\",\"title\":\"N\\u00F8kkeltall 2014-2018\",\"url\":\"\\/tema\\/skog\\/skog-og-miljoinformasjon-fra-landsskogtakseringen\\/N%C3%B8kkeltall\"}]},{\"id\":\"d9d60d65-5a7e-42f0-a46e-5ff50ff89326\",\"title\":\"Skogbehandling og skogskj\\u00F8tsel\",\"url\":\"\\/tema\\/skog\\/skogbehandling-og-skogskjotsel\",\"children\":[{\"id\":\"963c26e4-9707-416e-b59b-c32ba2fe6408\",\"title\":\"Produksjon av skogplanter\",\"url\":\"\\/tema\\/skog\\/skogbehandling-og-skogskjotsel\\/produksjon-av-skogplanter\"},{\"id\":\"f0bc96e3-349a-4c76-a3ae-c0ec0812d827\",\"title\":\"Foryngelse av skog\",\"url\":\"\\/tema\\/skog\\/skogbehandling-og-skogskjotsel\\/foryngelse-av-skog\",\"children\":[{\"id\":\"f2efdd22-1b5d-4950-aef9-f850c5150370\",\"title\":\"Bruksomr\\u00E5der for fr\\u00F8- og skogplanter\",\"url\":\"\\/tema\\/skog\\/skogbehandling-og-skogskjotsel\\/foryngelse-av-skog\\/bruksomrader-for-fro-og-skogplanter\"}]},{\"id\":\"c9796a91-f0f5-4190-8e29-f46bccd92d42\",\"title\":\"Ungskogpleie\",\"url\":\"\\/tema\\/skog\\/skogbehandling-og-skogskjotsel\\/ungskogpleie\"},{\"id\":\"958de42b-6fe7-43de-a8a2-016236423006\",\"title\":\"Tynning\",\"url\":\"\\/tema\\/skog\\/skogbehandling-og-skogskjotsel\\/tynning\"},{\"id\":\"3612fa52-61ac-44d9-aa40-702b64f2b4cd\",\"title\":\"Gj\\u00F8dsling av skog\",\"url\":\"\\/tema\\/skog\\/skogbehandling-og-skogskjotsel\\/gj%C3%B8dsling-av-skog\"},{\"id\":\"800f097f-4573-44e2-837e-8b05adba107e\",\"title\":\"Hogstformer\",\"url\":\"\\/tema\\/skog\\/skogbehandling-og-skogskjotsel\\/foryngelseshogst\"},{\"id\":\"37887e11-7c8c-4576-8cf5-9d6d590dec7d\",\"title\":\"Blandingsskog\",\"url\":\"\\/tema\\/skog\\/skogbehandling-og-skogskjotsel\\/blandingsskog\"},{\"id\":\"8b63985a-9648-4453-8b60-1cb064287eee\",\"title\":\"Klimatilpasning\",\"url\":\"\\/tema\\/skog\\/skogbehandling-og-skogskjotsel\\/klimatilpasning\"},{\"id\":\"ffb008c7-f61c-485a-81c2-ca4dbf9d31a6\",\"title\":\"Klimatiltak i skogbruket\",\"url\":\"\\/tema\\/skog\\/skogbehandling-og-skogskjotsel\\/klimatiltak-i-skogbruket\"},{\"id\":\"1fa93597-7a7f-4ce0-b9bc-406b4ad73815\",\"title\":\"Utenlandske treslag\",\"url\":\"\\/tema\\/skog\\/skogbehandling-og-skogskjotsel\\/utenlandske-treslag\"}]},{\"id\":\"1941675b-0cbd-4fd5-a66c-fb1bc60ce074\",\"title\":\"Juletre\",\"url\":\"\\/tema\\/skog\\/juletre\"},{\"id\":\"7fa1eda1-2390-41d8-bb9a-9b894bcbfad8\",\"title\":\"Skoghelse\",\"url\":\"\\/tema\\/skog\\/skoghelse\"},{\"id\":\"fddb8504-d0a9-4bee-af1f-23511dd194e5\",\"title\":\"Bruk av tre\",\"url\":\"\\/tema\\/skog\\/bruk-av-tre\",\"children\":[{\"id\":\"2999267b-0fac-4edf-acf3-f7eb2377ffa2\",\"title\":\"Biobrensler fra skogen\",\"url\":\"\\/tema\\/skog\\/bruk-av-tre\\/bioenergi\"},{\"id\":\"a732adef-43f1-43ad-93a6-606b94f7979d\",\"title\":\"Biotransformering\",\"url\":\"\\/tema\\/skog\\/bruk-av-tre\\/biotransformering\"},{\"id\":\"2b79e079-4c93-4263-b627-023c2b465d91\",\"title\":\"Beskyttelse av tre utvendig\",\"url\":\"\\/tema\\/skog\\/bruk-av-tre\\/trebeskyttelse\",\"children\":[{\"id\":\"8f73cefa-0648-4a92-96c8-1461694badfc\",\"title\":\"Brannbeskyttelse\",\"url\":\"\\/tema\\/skog\\/bruk-av-tre\\/trebeskyttelse\\/brannbeskyttelse\"},{\"id\":\"77b55908-9d3f-4b6a-8cf1-0a4deabac2c1\",\"title\":\"R\\u00E5tebeskyttelse av tre\",\"url\":\"\\/tema\\/skog\\/bruk-av-tre\\/trebeskyttelse\\/ratebeskyttelse-av-tre\"},{\"id\":\"4cb1988e-4950-40bd-a5c3-9c87249df31c\",\"title\":\"Tre i marint milj\\u00F8\",\"url\":\"\\/tema\\/skog\\/bruk-av-tre\\/trebeskyttelse\\/tre-i-marint-miljo\"}]},{\"id\":\"800aba84-9145-4ca2-a1af-61e8cb1fe508\",\"title\":\"Bruk av trematerialer i bygg\",\"url\":\"\\/tema\\/skog\\/bruk-av-tre\\/tre-i-bygg\"},{\"id\":\"4cc9e619-7e43-44c1-b057-1a7a7ccb772f\",\"title\":\"Treveileder - Tre i trygge rammer\",\"url\":\"\\/tema\\/skog\\/bruk-av-tre\\/treveileder-tre-i-trygge-rammer\",\"children\":[{\"id\":\"ab1f8dc4-9e6a-4668-816e-81d1da1509f8\",\"title\":\"Treveileder - Klimam\\u00E5l\",\"url\":\"\\/tema\\/skog\\/bruk-av-tre\\/treveileder-tre-i-trygge-rammer\\/treveileder-klimamal\"},{\"id\":\"464b4674-eb01-4b54-9bd8-f5631f6ba2e5\",\"title\":\"Treveileder - Eier\",\"url\":\"\\/tema\\/skog\\/bruk-av-tre\\/treveileder-tre-i-trygge-rammer\\/treveileder-eier\"},{\"id\":\"e2d25620-35b8-421c-a910-0766d27f3808\",\"title\":\"Treveileder - R\\u00E5dgiver\",\"url\":\"\\/tema\\/skog\\/bruk-av-tre\\/treveileder-tre-i-trygge-rammer\\/treveileder-radgiver\"},{\"id\":\"4c89fa72-861a-42fa-a978-da7892085540\",\"title\":\"Treveileder - Leverand\\u00F8rer\",\"url\":\"\\/tema\\/skog\\/bruk-av-tre\\/treveileder-tre-i-trygge-rammer\\/treveileder-leverandorer\"}]},{\"id\":\"091ff588-c728-4c09-a7fa-98f2fd76aa73\",\"title\":\"Treteknologisk analyselab\",\"url\":\"\\/tema\\/skog\\/bruk-av-tre\\/treteknologisk-analyselab\"}]},{\"id\":\"2455b3c4-f47c-45a3-83f6-51f01d2ac151\",\"title\":\"Milj\\u00F8registrering i skog - MiS\",\"url\":\"\\/tema\\/skog\\/miljoregistrering-i-skog-mis\"},{\"id\":\"b95e2072-ad18-459c-915b-c4ede55fbc5b\",\"title\":\"Skogskadeoverv\\u00E5king i Norge\",\"url\":\"\\/tema\\/skog\\/skogskadeovervaking-i-norge\",\"children\":[{\"id\":\"1218c86b-c324-4c11-99ee-a865685e969b\",\"title\":\"Barkbilleoverv\\u00E5king\",\"url\":\"\\/tema\\/skog\\/skogskadeovervaking-i-norge\\/barkbilleovervaking\"},{\"id\":\"6c2381fb-4843-4451-8548-92f3757c22fc\",\"title\":\"Skogskader.no\",\"url\":\"\\/tema\\/skog\\/skogskadeovervaking-i-norge\\/skogskader.no\"},{\"id\":\"5d5f2d9d-20e8-43e9-8cfe-64c5f861a390\",\"title\":\"Skadeoverv\\u00E5king Sentinel-2\",\"url\":\"\\/tema\\/skog\\/skogskadeovervaking-i-norge\\/skadeovervaking-sentinel-2\"},{\"id\":\"84179e65-a37c-4634-b2e5-0e9b6b3e24dd\",\"title\":\"Overv\\u00E5king av askeskuddsyke\",\"url\":\"\\/tema\\/skog\\/skogskadeovervaking-i-norge\\/overvaking-av-askeskuddsyke\"},{\"id\":\"408ec0fd-9a51-4a75-b0cf-21c9f8af48ee\",\"title\":\"Landsrepresentativ skogoverv\\u00E5king (Level I)\",\"url\":\"\\/tema\\/skog\\/skogskadeovervaking-i-norge\\/landsrepresentativ-skogovervaking-level-i\"},{\"id\":\"c09cc081-e275-4c9f-92a8-330cd151eb25\",\"title\":\"Intensiv skogoverv\\u00E5king (Level II)\",\"url\":\"\\/tema\\/skog\\/skogskadeovervaking-i-norge\\/intensiv-skogovervaking-level-ii\",\"children\":[{\"id\":\"1e2cc8c1-115f-4476-ba1c-d0f52c4cba81\",\"title\":\"Internasjonal forankring: ICP Forests\",\"url\":\"\\/tema\\/skog\\/skogskadeovervaking-i-norge\\/intensiv-skogovervaking-level-ii\\/internasjonal-forankring-icp-forests\"}]}]},{\"id\":\"80258ae6-3b1d-4965-87ed-c74b25e6bb70\",\"title\":\"Skogtregenetiske ressurser\",\"url\":\"\\/tema\\/skog\\/skoggenetiske-ressurser\",\"children\":[{\"id\":\"8815f037-bb2d-4e9f-ac6a-b0c636963c90\",\"title\":\"N\\u00F8kkeltall for skogtregenetiske ressurser\",\"url\":\"\\/tema\\/skog\\/skoggenetiske-ressurser\\/nokkeltall-for-skogtregenetiske-ressurser\"},{\"id\":\"09c2809d-ce97-4dae-a872-7adbb0b14d6e\",\"title\":\"Bevaring av genetiske ressurser\",\"url\":\"\\/tema\\/skog\\/skoggenetiske-ressurser\\/bevaring-av-skogtregenetiske-ressurser\"},{\"id\":\"26fd62e5-6ecd-4526-b26f-954daf3933c8\",\"title\":\"Bevaring gjennom bruk\",\"url\":\"\\/tema\\/skog\\/skoggenetiske-ressurser\\/bevaring-gjennom-bruk\"},{\"id\":\"1e1818ac-800d-40f8-a041-11bb7be12fb3\",\"title\":\"B\\u00E6rekraftig skogplanteforedling\",\"url\":\"\\/tema\\/skog\\/skoggenetiske-ressurser\\/b%C3%A6rekraftig-skogplanteforedling\"},{\"id\":\"aa2223ff-c713-4ffb-98fc-09e2ff183e77\",\"title\":\"Treslag i Norge\",\"url\":\"\\/tema\\/skog\\/skoggenetiske-ressurser\\/treslag-i-norge\",\"children\":[{\"id\":\"37acd815-8ad6-46db-beba-566712319f3d\",\"title\":\"Plakater om skogtr\\u00E6r\",\"url\":\"\\/tema\\/skog\\/skoggenetiske-ressurser\\/treslag-i-norge\\/plakater-om-skogtr%C3%A6r\"}]},{\"id\":\"274d49b0-0b26-42ff-8ec3-f6720b58d52e\",\"title\":\"Bestemmelsesn\\u00F8kkel for sorbus\",\"url\":\"\\/tema\\/skog\\/skoggenetiske-ressurser\\/bestemmelsesn%C3%B8kkel-for-sorbus\"}]},{\"id\":\"ce16466b-bdc2-4477-bb9d-345b8014685d\",\"title\":\"Kart over skogressurser\",\"url\":\"\\/tema\\/skog\\/kart-over-skogressurser\",\"children\":[{\"id\":\"b1351797-d448-4a67-b099-961efaa6bf80\",\"title\":\"Skogressurskart (SR16)\",\"url\":\"\\/tema\\/skog\\/kart-over-skogressurser\\/skogressurskart-sr16\",\"children\":[{\"id\":\"4f282ebe-f581-4107-a2ff-0d36f4c5f4fb\",\"title\":\"SR16 beta\",\"url\":\"\\/tema\\/skog\\/kart-over-skogressurser\\/skogressurskart-sr16\\/sr16-beta\"}]},{\"id\":\"f596b244-4cff-492a-b909-4862c4eb6586\",\"title\":\"SatSkog\",\"url\":\"\\/tema\\/skog\\/kart-over-skogressurser\\/satskog\"}]}]},{\"id\":\"5dc7fe7a-28a6-4046-a6e5-28578c168001\",\"slug\":\"jord\",\"title\":\"Jord\",\"description\":\"Hvor er den beste matjorda? Hva best\\u00E5r jorda av og hvordan fungerer den? Hvor og hvordan er landbruksarealene fordelt?   NIBIO kartlegger hva slags jordressurser vi har, hvor de er og hvilke egenskaper jorda har. Vi overv\\u00E5ker ogs\\u00E5 hvor store lagrene er og endringer i jordkarbon i skog og beite.\",\"displayName\":\"Jord\",\"url\":\"\\/tema\\/jord\",\"icon\":\"\\/_\\/image\\/84ea4f47-304e-4c48-9364-db1faa2cf756:662263314fb5cb86cf59d6d8da83bd31018e7b80\\/max-1280\\/Icon%202.svg?quality=60\",\"iconAlt\":\"Icon 2\",\"photo\":\"\\/_\\/image\\/7d7ddcd1-a105-4fd0-8f5c-c6721d90e20e:0589a10e07d1f89110dab6a664f3a24bbb8c15b2\\/block-375-250\\/Jordveggen.jpg?quality=60\",\"childIcon\":\"\\/_\\/image\\/4b84b112-4ea9-4790-b3f9-2e7da72a9c54:b57626c39b399c0fe6f7177cdf238359376b3f96\\/max-1280\\/nibio-temaikon_jord_neg.png?quality=60\",\"childIconAlt\":\"nibio-temaikon_jord_neg\",\"children\":[{\"id\":\"8bd63751-f0dc-46b8-af18-7f58051fa85e\",\"title\":\"Mykorrhiza \\u2013 r\\u00F8ttenes r\\u00F8tter\",\"url\":\"\\/tema\\/jord\\/mykorrhiza--rottenes-rotter\",\"children\":[{\"id\":\"33ef0d63-102f-4027-aceb-7d470a5b19d2\",\"title\":\"Ordliste\",\"url\":\"\\/tema\\/jord\\/mykorrhiza--rottenes-rotter\\/ordliste\"},{\"id\":\"70e68f7b-1e84-46e9-a28a-6bf6241feb52\",\"title\":\"Artslister\",\"url\":\"\\/tema\\/jord\\/mykorrhiza--rottenes-rotter\\/artslister\"}]},{\"id\":\"f9efdad1-6f50-4d63-a42c-b9cd640e9581\",\"title\":\"Karbonlagring i engareal\",\"url\":\"\\/tema\\/jord\\/karbonlagring-i-engareal\"},{\"id\":\"cd8e795e-202a-44dd-9651-f606422be716\",\"title\":\"Overv\\u00E5king av jordkarbon i skog og beitemark\",\"url\":\"\\/tema\\/jord\\/overvaking-av-jordkarbon-i-skog-og-beitemark\"},{\"id\":\"48d8a0b6-6892-4032-8b9d-c1f405f67fcb\",\"title\":\"Organisk avfall som gj\\u00F8dsel\",\"url\":\"\\/tema\\/jord\\/organisk-avfall-som-gjodsel\"},{\"id\":\"759adbd6-bd52-4be7-967f-e2556f5e9d69\",\"title\":\"Gj\\u00F8dslingsh\\u00E5ndbok\",\"url\":\"\\/tema\\/jord\\/gjodslingshandbok\",\"children\":[{\"id\":\"d0544c27-0d58-43a6-9191-91012c182090\",\"title\":\"Gj\\u00F8dslingsnormer\",\"url\":\"\\/tema\\/jord\\/gjodslingshandbok\\/gjodslingsnormer\"},{\"id\":\"82c135e0-e060-4b4d-b09f-2026450ba241\",\"title\":\"Husdyrgj\\u00F8dsel\",\"url\":\"\\/tema\\/jord\\/gjodslingshandbok\\/husdyrgjodsel\"},{\"id\":\"0384352a-e142-468c-b6bd-48c9a6214de8\",\"title\":\"Ord og uttrykk\",\"url\":\"\\/tema\\/jord\\/gjodslingshandbok\\/ord-og-uttrykk--gjodslingsterminologi\"},{\"id\":\"cd1bd609-d0fe-4324-ab0a-b3d4a091e3bc\",\"title\":\"Korreksjonstabeller\",\"url\":\"\\/tema\\/jord\\/gjodslingshandbok\\/korreksjonstabeller\"},{\"id\":\"40fa89d7-2c7c-4844-84c1-1e58537a9ff2\",\"title\":\"Mer om gj\\u00F8dselplanlegging\",\"url\":\"\\/tema\\/jord\\/gjodslingshandbok\\/betraktninger-om-gjodslingsplanlegging-og-gjodsling\"}]},{\"id\":\"bf706af0-5f9f-406f-b1b3-b994f18e9290\",\"title\":\"Nitrogenkalkulatorer\",\"url\":\"\\/tema\\/jord\\/nitrogenkalkulatorer\"},{\"id\":\"44bf72b6-a765-463e-85cb-24a621e82a11\",\"title\":\"Jordkartlegging\",\"url\":\"\\/tema\\/jord\\/jordkartlegging\",\"children\":[{\"id\":\"d46856ab-a234-457e-bb7b-950befd38424\",\"title\":\"Oversikt over jordsmonnkartlagte kommuner\",\"url\":\"\\/tema\\/jord\\/jordkartlegging\\/oversikt-over-jordsmonnkartlagte-kommuner\"},{\"id\":\"47e539eb-9127-4bc2-95a2-857b8f457c5f\",\"title\":\"Jordsmonnkart\",\"url\":\"\\/tema\\/jord\\/jordkartlegging\\/jordsmonnkart\"},{\"id\":\"8ac51b3d-d8fe-4bda-990b-8df197a80080\",\"title\":\"Bruk av jordsmonnkart\",\"url\":\"\\/tema\\/jord\\/jordkartlegging\\/bruk-av-jordsmonnkart\",\"children\":[{\"id\":\"a92b7e94-4194-4700-831e-440e4891e041\",\"title\":\"Kunnskapsgrunnlag for jordvern \",\"url\":\"\\/tema\\/jord\\/jordkartlegging\\/bruk-av-jordsmonnkart\\/kunnskapsgrunnlag-for-jordvern\",\"children\":[{\"id\":\"fb1bd9e8-3b95-41fd-94c1-ecb7a413f40c\",\"title\":\"Jordvern - det store bildet globalt og nasjonalt \",\"url\":\"\\/tema\\/jord\\/jordkartlegging\\/bruk-av-jordsmonnkart\\/kunnskapsgrunnlag-for-jordvern\\/jordvern-det-store-bildet-globalt-og-nasjonalt\"},{\"id\":\"37b6907c-a1b2-43d1-83ea-bec74a0a0bc5\",\"title\":\"Tap av jordbruksareal\",\"url\":\"\\/tema\\/jord\\/jordkartlegging\\/bruk-av-jordsmonnkart\\/kunnskapsgrunnlag-for-jordvern\\/tap-av-jordbruksareal\"},{\"id\":\"e5c137d3-10fd-4757-86e8-9720fb0c90c2\",\"title\":\"Jordkvalitet og jordvern \",\"url\":\"\\/tema\\/jord\\/jordkartlegging\\/bruk-av-jordsmonnkart\\/kunnskapsgrunnlag-for-jordvern\\/jordkvalitet-og-jordvern\"},{\"id\":\"d44c00ce-b5ce-4eed-9312-be6571e769e0\",\"title\":\"Produksjonspotensial og jordvern\",\"url\":\"\\/tema\\/jord\\/jordkartlegging\\/bruk-av-jordsmonnkart\\/kunnskapsgrunnlag-for-jordvern\\/produksjonspotensial-og-jordvern\"},{\"id\":\"f7bfc491-1be2-4741-9a7c-688eaf4ff3d6\",\"title\":\"Beliggenhet og jordvern \",\"url\":\"\\/tema\\/jord\\/jordkartlegging\\/bruk-av-jordsmonnkart\\/kunnskapsgrunnlag-for-jordvern\\/beliggenhet-og-jordvern\"},{\"id\":\"28c5c25a-ba31-4172-b092-b4287f2e4f8a\",\"title\":\"Dyrkbar jord og nydyrking, kompensasjon\",\"url\":\"\\/tema\\/jord\\/jordkartlegging\\/bruk-av-jordsmonnkart\\/kunnskapsgrunnlag-for-jordvern\\/dyrkbar-jord-og-nydyrking-kompensasjon\"}]},{\"id\":\"8a3c7940-30da-4c30-85f4-cbd4ea0ba5db\",\"title\":\"Jordsmonndata for milj\\u00F8planlegging\",\"url\":\"\\/tema\\/jord\\/jordkartlegging\\/bruk-av-jordsmonnkart\\/jordsmonndata-for-miljoplanlegging\"}]},{\"id\":\"34c743a3-ece1-4c91-89dc-9cacf666abc7\",\"title\":\"Jordsmonnstatistikk\",\"url\":\"\\/tema\\/jord\\/jordkartlegging\\/jordsmonnstatistikk\"},{\"id\":\"ac81c181-646d-41af-a1eb-477df980b6f4\",\"title\":\"Jorda i fylket\",\"url\":\"\\/tema\\/jord\\/jordkartlegging\\/jorda-i-fylket\"}]},{\"id\":\"0d812026-0cdd-4cd4-a723-c2c99fe0ba16\",\"title\":\"Arealressurskart\",\"url\":\"\\/tema\\/jord\\/arealressurser\",\"children\":[{\"id\":\"b5f751ed-d9d4-43b4-a6a1-d7dce7f6d73c\",\"title\":\"AR5\",\"url\":\"\\/tema\\/jord\\/arealressurser\\/arealressurskart-ar5\",\"children\":[{\"id\":\"30809d71-1fa8-4383-94e0-6585e2199902\",\"title\":\"Klassifikasjonssystem AR5\",\"url\":\"\\/tema\\/jord\\/arealressurser\\/arealressurskart-ar5\\/klassifikasjonssystem-ar5\"},{\"id\":\"e5149e21-1c40-4d66-9bd9-8ec442826fd4\",\"title\":\"Ajourhold av AR5\",\"url\":\"\\/tema\\/jord\\/arealressurser\\/arealressurskart-ar5\\/ajourhold-av-ar5\",\"children\":[{\"id\":\"e5227d03-dd93-4ff7-b0d0-254f22685431\",\"title\":\"Periodisk ajourhold\",\"url\":\"\\/tema\\/jord\\/arealressurser\\/arealressurskart-ar5\\/ajourhold-av-ar5\\/periodisk-ajourhold\"},{\"id\":\"59bed475-c916-4c58-b44e-9cf787fe0b67\",\"title\":\"Kontinuerlig ajourhold\",\"url\":\"\\/tema\\/jord\\/arealressurser\\/arealressurskart-ar5\\/ajourhold-av-ar5\\/kontinuerlig-ajourhold\",\"children\":[{\"id\":\"fe8e4c76-428e-4482-bbea-4e816ab26186\",\"title\":\"Kokeb\\u00F8ker\",\"url\":\"\\/tema\\/jord\\/arealressurser\\/arealressurskart-ar5\\/ajourhold-av-ar5\\/kontinuerlig-ajourhold\\/kokeb%C3%B8ker-for-kontinuerlig-ajourhold\"},{\"id\":\"ee539178-6ec1-4d7f-be6c-b0c90017c82f\",\"title\":\"Webbasert ajourhold - AR5web\",\"url\":\"\\/tema\\/jord\\/arealressurser\\/arealressurskart-ar5\\/ajourhold-av-ar5\\/kontinuerlig-ajourhold\\/webbasert-ajourhold\"}]},{\"id\":\"c94b360a-9ab8-45ed-b3cf-77a2e9bcd627\",\"title\":\"Skogoppdatering i AR5\",\"url\":\"\\/tema\\/jord\\/arealressurser\\/arealressurskart-ar5\\/ajourhold-av-ar5\\/skogoppdatering-i-ar5\"}]},{\"id\":\"04b9b45d-276d-49d9-80f3-11fbe7fa4494\",\"title\":\"Endringer i AR5\",\"url\":\"\\/tema\\/jord\\/arealressurser\\/arealressurskart-ar5\\/endringer-i-ar5\",\"children\":[{\"id\":\"702bad28-daf3-458a-a59d-d1d249988adc\",\"title\":\"Endringsanalyse AR5\",\"url\":\"\\/tema\\/jord\\/arealressurser\\/arealressurskart-ar5\\/endringer-i-ar5\\/endringsanalyse\"}]},{\"id\":\"126d6a59-cbf5-4f5f-8a4d-df6a8517d596\",\"title\":\"Kurs og veiledning\",\"url\":\"\\/tema\\/jord\\/arealressurser\\/arealressurskart-ar5\\/kurstilbud\"},{\"id\":\"d416392d-0bd2-44c7-8d0e-e1d2d49a8ec2\",\"title\":\"Sjekk status\",\"url\":\"\\/tema\\/jord\\/arealressurser\\/arealressurskart-ar5\\/sjekk-status\"},{\"id\":\"33298611-49e7-46dd-a6f8-f7dd2363a4b3\",\"title\":\"G\\u00E5rdskart\",\"url\":\"\\/tema\\/jord\\/arealressurser\\/arealressurskart-ar5\\/g%C3%A5rdskart\"},{\"id\":\"e444b802-61ad-438f-8ad8-b2f11c59b5ec\",\"title\":\"Jordregister\",\"url\":\"\\/tema\\/jord\\/arealressurser\\/arealressurskart-ar5\\/jordregister\",\"children\":[{\"id\":\"76c88fb0-8e86-44e7-8a7d-499778bf6ee2\",\"title\":\"Beskrivelse av jordregister\",\"url\":\"\\/tema\\/jord\\/arealressurser\\/arealressurskart-ar5\\/jordregister\\/beskrivelse-av-jordregister\"}]},{\"id\":\"8c8549a8-fb36-4c88-ba18-921696ec2667\",\"title\":\"Kartl\\u00F8sningen Kilden\",\"url\":\"\\/tema\\/jord\\/arealressurser\\/arealressurskart-ar5\\/kartlosningen-kilden\"},{\"id\":\"6c97c3f3-1df6-41fc-8279-4e6e18709436\",\"title\":\"Arealbarometer\",\"url\":\"\\/tema\\/jord\\/arealressurser\\/arealressurskart-ar5\\/arealbarometer\"},{\"id\":\"69b536a1-6667-450e-990d-4e01327fa73b\",\"title\":\"Geovekst\",\"url\":\"\\/tema\\/jord\\/arealressurser\\/arealressurskart-ar5\\/geovekst\",\"children\":[{\"id\":\"58731a4f-ea0d-4894-8805-34147697ece2\",\"title\":\"Landbruksparten i Geovekst\",\"url\":\"\\/tema\\/jord\\/arealressurser\\/arealressurskart-ar5\\/geovekst\\/landbruksparten-i-geovekst\"},{\"id\":\"3af9eff8-61f1-4368-b768-86d5e1ee27b2\",\"title\":\"Rettigheter Geovekst\",\"url\":\"\\/tema\\/jord\\/arealressurser\\/arealressurskart-ar5\\/geovekst\\/rettigheter\"},{\"id\":\"85b6aa68-0bc1-44dc-9f27-730183e055a3\",\"title\":\"Samtykkel\\u00F8sning for tilgang til kartdata\",\"url\":\"\\/tema\\/jord\\/arealressurser\\/arealressurskart-ar5\\/geovekst\\/samtykkelosning\"},{\"id\":\"efddbec5-ea9e-46d6-a9c0-362cf73530dd\",\"title\":\"Geovekst Aktuelt\",\"url\":\"\\/tema\\/jord\\/arealressurser\\/arealressurskart-ar5\\/geovekst\\/geovekst-aktuelt\"}]}]},{\"id\":\"a6922dac-38e1-4504-b48f-d6ccae21ea5c\",\"title\":\"AR50\",\"url\":\"\\/tema\\/jord\\/arealressurser\\/ar50\"},{\"id\":\"d7dcddb6-9a92-4c80-83aa-2c711e24aea4\",\"title\":\"AR250\",\"url\":\"\\/tema\\/jord\\/arealressurser\\/ar250\"},{\"id\":\"bfce651f-9889-4300-ab1d-d13b9a2c3418\",\"title\":\"Dyrkbar jord\",\"url\":\"\\/tema\\/jord\\/arealressurser\\/dyrkbar-jord\"},{\"id\":\"e4ae31ca-b52e-4aa8-8bb4-ef1b74029788\",\"title\":\"Gr\\u00F8nnstruktur\",\"url\":\"\\/tema\\/jord\\/arealressurser\\/gronnstruktur\"},{\"id\":\"50325b3e-81e4-45b5-9350-6a20c42d7124\",\"title\":\"Andre kart\",\"url\":\"\\/tema\\/jord\\/arealressurser\\/andre-kart\",\"children\":[{\"id\":\"cd0d76e2-3134-4704-9e58-c837bc9b5d2c\",\"title\":\"Hellingskart jordbruksareal\",\"url\":\"\\/tema\\/jord\\/arealressurser\\/andre-kart\\/helling-jordbruksareal\"},{\"id\":\"b932f04d-cd5e-400d-aa9d-1b0487c6507b\",\"title\":\"CORINE Land Cover\",\"url\":\"\\/tema\\/jord\\/arealressurser\\/andre-kart\\/corine-landcover\"},{\"id\":\"159415ea-c02b-4568-bc2b-52a05956eb25\",\"title\":\"Markfuktighet \",\"url\":\"\\/tema\\/jord\\/arealressurser\\/andre-kart\\/markfuktighet\"},{\"id\":\"3ccb4c39-1b56-4bdc-90ba-aba5c1c2a0a4\",\"title\":\"Nyttbar myr og torvmark fr\\u00E5 DMK\",\"url\":\"\\/tema\\/jord\\/arealressurser\\/andre-kart\\/nyttbar-myr-og-torvmark-fra-dmk\"},{\"id\":\"ea8cec68-a46e-4577-b05a-23e2142850a1\",\"title\":\"Jordbruksareal som kan v\\u00E6re ute av drift\",\"url\":\"\\/tema\\/jord\\/arealressurser\\/andre-kart\\/jordbruksareal-som-kan-vaere-ute-av-drift\"},{\"id\":\"f035d47f-f610-4ceb-ba09-99a1be7ba3d5\",\"title\":\"Verdiklasser for jordbruksareal og dyrkbar jord\",\"url\":\"\\/tema\\/jord\\/arealressurser\\/andre-kart\\/verdiklasser-for-jordbruksareal-og-dyrkbar-jord\"},{\"id\":\"d76d842e-62bc-446f-8b94-8bbe88435b6d\",\"title\":\"Vernskog\",\"url\":\"\\/tema\\/jord\\/arealressurser\\/andre-kart\\/vernskog\"},{\"id\":\"d7aa755f-80bd-43c3-a2df-2bcde78dcd36\",\"title\":\"High Resolution Layers\",\"url\":\"\\/tema\\/jord\\/arealressurser\\/andre-kart\\/high-resolution-layers\"},{\"id\":\"2ce48cc4-b062-4f7c-8ef0-a14b8550b5eb\",\"title\":\"Veksttyper p\\u00E5 jordbruksareal fra satellitt (JordbrukSat)\",\"url\":\"\\/tema\\/jord\\/arealressurser\\/andre-kart\\/arealbruk-pa-dyrka-mark-jordbruksat\"},{\"id\":\"14ffa990-5f43-4d4d-9326-ffff86a5711f\",\"title\":\"\\u00D8konomisk kartverk - historiske kartlag\",\"url\":\"\\/tema\\/jord\\/arealressurser\\/andre-kart\\/gammel-ok-raster\"}]},{\"id\":\"07f0d4a8-fd93-483b-b1d0-e2b0f0da05af\",\"title\":\"Arealressursstatistikk\",\"url\":\"\\/tema\\/jord\\/arealressurser\\/arealressursstatistikk\"}]}]},{\"id\":\"32b4e12d-bcf4-4363-8fcb-a9e895f3d2ad\",\"slug\":\"mat\",\"title\":\"Mat\",\"description\":\"Hvordan kan vi produsere nok mat til alle, uten \\u00E5 forurense milj\\u00F8et og drikkevannet, og uten \\u00E5 bidra til at klimaendringene blir verre? NIBIO forsker p\\u00E5 hvilke plantesorter som produserer mest mat, og hvordan maten b\\u00F8r dyrkes. Ny teknologi gj\\u00F8r det mulig \\u00E5 produsere mer mat p\\u00E5 en milj\\u00F8vennlig m\\u00E5te.\",\"displayName\":\"Mat\",\"url\":\"\\/tema\\/mat\",\"icon\":\"\\/_\\/image\\/04ed29f5-d4e3-4f17-a5f5-023e4ab0aed8:264c54144280473da11a28c54a1ef3416fededc9\\/max-1280\\/Icon%203.svg?quality=60\",\"iconAlt\":\"Icon 3\",\"photo\":\"\\/_\\/image\\/abcb173c-d076-4c19-8da0-955db16e9999:883e5c09b13415aef9cc04061bd2bd4c8733634c\\/block-375-250\\/ef-20120813-125449-edit.jpg?quality=60\",\"childIcon\":\"\\/_\\/image\\/67dfb0a7-5908-41e6-9690-669038601357:2a518e1b60ab2a4d65a50245868ff87ff872b071\\/max-1280\\/nibio-temaikon_mat_neg.png?quality=60\",\"childIconAlt\":\"nibio-temaikon_mat_neg\",\"children\":[{\"id\":\"f56abc97-1ddd-4828-a140-5ed9a96ea722\",\"title\":\"Makroalger\",\"url\":\"\\/tema\\/mat\\/makroalger\"},{\"id\":\"d7b45039-1faa-4536-8443-30fe9aa4ec1c\",\"title\":\"Produksjon av frukt og gr\\u00F8nt\",\"url\":\"\\/tema\\/mat\\/produksjon-av-frukt-og-gront\",\"children\":[{\"id\":\"2ce01303-37e4-4672-b004-2aea70b480f1\",\"title\":\"Gr\\u00F8nnsaker\",\"url\":\"\\/tema\\/mat\\/produksjon-av-frukt-og-gront\\/gronnsaker\",\"children\":[{\"id\":\"0ef9ab0b-73ee-4d16-8d57-de1f4f1d8a7b\",\"title\":\"Effekter av stressfaktorer p\\u00E5 kvalitet i gr\\u00F8nnsaker\",\"url\":\"\\/tema\\/mat\\/produksjon-av-frukt-og-gront\\/gronnsaker\\/effekter-av-stressfaktorer-pa-kvalitet-i-gronnsaker\",\"children\":[{\"id\":\"0264fd16-7409-4913-91ab-fe8c6e32717f\",\"title\":\"Effekter av stress p\\u00E5 smak og innholdsstoff i gulrot\",\"url\":\"\\/tema\\/mat\\/produksjon-av-frukt-og-gront\\/gronnsaker\\/effekter-av-stressfaktorer-pa-kvalitet-i-gronnsaker\\/effekter-av-stress-pa-smak-og-innholdsstoff-i-gulrot\"}]},{\"id\":\"c89539a5-9406-4676-b3f6-a443c8a8bb4b\",\"title\":\"Alternative kilder til nitrogen i gr\\u00F8nnsaker\",\"url\":\"\\/tema\\/mat\\/produksjon-av-frukt-og-gront\\/gronnsaker\\/nitrogentilforsel-i-husdyrlos-okologisk-produksjon\",\"children\":[{\"id\":\"ef833974-570a-4521-bd66-9f2e85603c14\",\"title\":\"Nitrogentilf\\u00F8rsel i vekstskifter med belgvekster\",\"url\":\"\\/tema\\/mat\\/produksjon-av-frukt-og-gront\\/gronnsaker\\/nitrogentilforsel-i-husdyrlos-okologisk-produksjon\\/nitrogentilforsel-i-vekstskifter-med-belgvekster\"},{\"id\":\"993af30f-ae48-4c96-aaf8-8db883ac6b6f\",\"title\":\"Organisk avfall som gj\\u00F8dsel til gr\\u00F8nnsaker p\\u00E5 husdyr-l\\u00F8se bruk\",\"url\":\"\\/tema\\/mat\\/produksjon-av-frukt-og-gront\\/gronnsaker\\/nitrogentilforsel-i-husdyrlos-okologisk-produksjon\\/organisk-avfall-som-gjodsel-copy\"}]},{\"id\":\"c1c8230f-c533-42f3-a5a1-7d323ea85be9\",\"title\":\"Utnyttelse av restfraksjoner av gr\\u00F8nnsaker\",\"url\":\"\\/tema\\/mat\\/produksjon-av-frukt-og-gront\\/gronnsaker\\/utnyttelse-av-restfraksjoner-av-gronnsaker\",\"children\":[{\"id\":\"0922d5e3-762d-4ad5-b548-9a1bbcf7fa59\",\"title\":\"Restfraksjoner av gr\\u00F8nnsaker utnyttet i matprodukt\",\"url\":\"\\/tema\\/mat\\/produksjon-av-frukt-og-gront\\/gronnsaker\\/utnyttelse-av-restfraksjoner-av-gronnsaker\\/restfraksjoner-av-gronnsaker-utnyttet-i-matprodukt\"}]}]},{\"id\":\"47968c67-3804-44b2-8a3a-d5bc2e5b0073\",\"title\":\"Poteter\",\"url\":\"\\/tema\\/mat\\/produksjon-av-frukt-og-gront\\/poteter\",\"children\":[{\"id\":\"6a581dea-ffc8-414b-b97b-53069c880af9\",\"title\":\"Produktkvalitet i potet\",\"url\":\"\\/tema\\/mat\\/produksjon-av-frukt-og-gront\\/poteter\\/produktkvalitet-i-potet\"},{\"id\":\"4d20047b-c781-433d-9c42-22ad44a20940\",\"title\":\"Sortspr\\u00F8ving i potet\",\"url\":\"\\/tema\\/mat\\/produksjon-av-frukt-og-gront\\/poteter\\/sortsproving-i-potet\"},{\"id\":\"bb3959f6-3017-4827-91ee-326b7d3ad499\",\"title\":\"Dyrkingsteknikk i potet\",\"url\":\"\\/tema\\/mat\\/produksjon-av-frukt-og-gront\\/poteter\\/dyrkingsteknikk-i-potet\"}]},{\"id\":\"bacf3b25-53e8-4df7-ab63-8da719ca19a5\",\"title\":\"Jordskokk\",\"url\":\"\\/tema\\/mat\\/produksjon-av-frukt-og-gront\\/jordskokk\",\"children\":[{\"id\":\"63787658-1c5a-41df-b7cf-420d80ac78c6\",\"title\":\"Utpr\\u00F8ving av jordskokk under norske klimaforhold\",\"url\":\"\\/tema\\/mat\\/produksjon-av-frukt-og-gront\\/jordskokk\\/utproving-av-jordskokk-under-norske-klimaforhold\"},{\"id\":\"ad88433e-dfa4-4791-9663-9c37d9b9e416\",\"title\":\"Dyrkingsveiledning\",\"url\":\"\\/tema\\/mat\\/produksjon-av-frukt-og-gront\\/jordskokk\\/dyrkingsveiledning\"}]}]},{\"id\":\"27267db6-08db-4694-bc9f-8e91d15f0502\",\"title\":\"Korn og fr\\u00F8vekster\",\"url\":\"\\/tema\\/mat\\/korn-og-frovekster\",\"children\":[{\"id\":\"f4150361-9043-4231-b92b-ff5707b09103\",\"title\":\"Korn\",\"url\":\"\\/tema\\/mat\\/korn-og-frovekster\\/korn\",\"children\":[{\"id\":\"7242cd82-f5de-491b-a812-a2eb55f85ab3\",\"title\":\"Kornsorter\",\"url\":\"\\/tema\\/mat\\/korn-og-frovekster\\/korn\\/kornsorter\"},{\"id\":\"1fbc3881-a225-4b05-9594-92551eada4ea\",\"title\":\"Gj\\u00F8dsling\",\"url\":\"\\/tema\\/mat\\/korn-og-frovekster\\/korn\\/gjodsling\"},{\"id\":\"a0c4da35-66a5-42ca-8918-e40eecc1ed4a\",\"title\":\"Plantevern\",\"url\":\"\\/tema\\/mat\\/korn-og-frovekster\\/korn\\/plantevern\"},{\"id\":\"77907317-7467-45eb-bd80-df53e2f589fd\",\"title\":\"Vekstskifte\",\"url\":\"\\/tema\\/mat\\/korn-og-frovekster\\/korn\\/vekstskifte\"},{\"id\":\"a36794bf-dc7c-43cc-b413-0e195ae93e17\",\"title\":\"Jordarbeiding\",\"url\":\"\\/tema\\/mat\\/korn-og-frovekster\\/korn\\/jordarbeiding\"},{\"id\":\"5ef2bbd2-3ea8-4e6c-a39f-552e09c4c2f4\",\"title\":\"Korn og klima\",\"url\":\"\\/tema\\/mat\\/korn-og-frovekster\\/korn\\/korn-og-klima\"}]},{\"id\":\"da69d914-21a0-427a-8498-08aba755e703\",\"title\":\"Oljevekster\",\"url\":\"\\/tema\\/mat\\/korn-og-frovekster\\/oljevekster\"},{\"id\":\"0c4ea52f-9eec-4b83-9095-35226cf433dc\",\"title\":\"Belgvekster\",\"url\":\"\\/tema\\/mat\\/korn-og-frovekster\\/belgvekster\"},{\"id\":\"b41798d5-bc2a-4fe3-b619-276f571fa890\",\"title\":\"Fr\\u00F8avl\",\"url\":\"\\/tema\\/mat\\/korn-og-frovekster\\/froavl\"}]},{\"id\":\"57eca73b-dd71-431e-86a2-7c63b20114b9\",\"title\":\"Grovf\\u00F4r\",\"url\":\"\\/tema\\/mat\\/grovfor\",\"children\":[{\"id\":\"540bf501-587d-4e3c-b707-8001b0e070c4\",\"title\":\"Grovf\\u00F4r og klima\",\"url\":\"\\/tema\\/mat\\/grovfor\\/grovfor-og-klima\"},{\"id\":\"304bc7c8-6c8d-4483-a480-2c53b0450c89\",\"title\":\"Grovf\\u00F4rmodellen gir st\\u00F8tte for val av haustetid\",\"url\":\"\\/tema\\/mat\\/grovfor\\/grovformodellen-gir-stotte-for-val-av-haustetid\"}]},{\"id\":\"7a567986-0b3b-4c90-863e-6478030127d3\",\"title\":\"B\\u00E6rekraftig f\\u00F4r\",\"url\":\"\\/tema\\/mat\\/baerekraftig-for\",\"children\":[{\"id\":\"ad7181ab-1e9c-427c-a18a-f98b7290d345\",\"title\":\"\\u00D8kt norskandel i f\\u00F4r\",\"url\":\"\\/tema\\/mat\\/baerekraftig-for\\/okt-norskandel-i-for\",\"children\":[{\"id\":\"c3bf8f10-e339-4784-a93a-4cf66d7aee66\",\"title\":\"Pilotanlegg for bioraffinering\",\"url\":\"\\/tema\\/mat\\/baerekraftig-for\\/okt-norskandel-i-for\\/pilotanlegg-for-bioraffinering\"},{\"id\":\"f480069a-ad74-43c9-830d-74e387d9ba76\",\"title\":\"Gr\\u00F8nn bioraffinering\",\"url\":\"\\/tema\\/mat\\/baerekraftig-for\\/okt-norskandel-i-for\\/gronn-bioraffinering\",\"children\":[{\"id\":\"295d6693-434b-4307-b60d-0a3fe5bcb3f3\",\"title\":\"Grasmyse\",\"url\":\"\\/tema\\/mat\\/baerekraftig-for\\/okt-norskandel-i-for\\/gronn-bioraffinering\\/grasmyse\"},{\"id\":\"bb7c3d5f-6ca0-4d0f-b47b-4036a590099f\",\"title\":\"Gr\\u00F8nt proteinkonsentrat\",\"url\":\"\\/tema\\/mat\\/baerekraftig-for\\/okt-norskandel-i-for\\/gronn-bioraffinering\\/gront-proteinkonsentrat\"},{\"id\":\"0b8a9d02-394e-458b-ac9c-9a6fcc49d7d7\",\"title\":\"Fiberpulp\",\"url\":\"\\/tema\\/mat\\/baerekraftig-for\\/okt-norskandel-i-for\\/gronn-bioraffinering\\/fiberpulp\"}]}]}]},{\"id\":\"df68e887-2e7e-49d5-a015-817bfcc9b339\",\"title\":\"Insektlarver for f\\u00F4r, mat og planter\",\"url\":\"\\/tema\\/mat\\/insektlarver-for-for-og-mat\"},{\"id\":\"03a798a0-e260-47c4-a5e2-814dc1c04868\",\"title\":\"Teknologi i landbruket\",\"url\":\"\\/tema\\/mat\\/teknologi-i-landbruket\",\"children\":[{\"id\":\"bee843b6-7158-4629-98e5-db6241ff85ab\",\"title\":\"Bruk av sensorer til jordbruksform\\u00E5l\",\"url\":\"\\/tema\\/mat\\/teknologi-i-landbruket\\/bruk-av-sensorer-til-jordbruksformal\"},{\"id\":\"af76acda-7117-47ed-8d73-e4d5a5946476\",\"title\":\"Droner - ubemannede flygende farkoster\",\"url\":\"\\/tema\\/mat\\/teknologi-i-landbruket\\/droner-ubemannede-flygende-farkoster\",\"children\":[{\"id\":\"960b97bf-dca4-40a7-bcaa-8480ff7699e1\",\"title\":\"Droner i jordbruket\",\"url\":\"\\/tema\\/mat\\/teknologi-i-landbruket\\/droner-ubemannede-flygende-farkoster\\/droner-i-jordbruket\"}]}]},{\"id\":\"c5e2d5fa-cfa9-4e54-9da9-f3ef99bd5908\",\"title\":\"Akvaponi\",\"url\":\"\\/tema\\/mat\\/akvaponi\"},{\"id\":\"9c7122f9-9628-4da7-873a-4820c39f6e25\",\"title\":\"Senter for arktisk landbruk\",\"url\":\"\\/tema\\/mat\\/senter-for-arktisk-landbruk\",\"children\":[{\"id\":\"77c8a6cc-cb0a-45f3-86f4-7d68ca2e872d\",\"title\":\"B\\u00E6rekraftig matproduksjon og verdiskaping i nord\",\"url\":\"\\/tema\\/mat\\/senter-for-arktisk-landbruk\\/baerekraftig-matproduksjon-og-verdiskaping-i-nord\"},{\"id\":\"feb2ea6d-1215-4ed9-9855-7d3daeb1833e\",\"title\":\"Arktisk landbruksseminar\",\"url\":\"\\/tema\\/mat\\/senter-for-arktisk-landbruk\\/arktisk-landbruksseminar\"},{\"id\":\"6cabffe9-6b92-45e8-852d-9953974ed8df\",\"title\":\"Grovf\\u00F4rproduksjon i nord\",\"url\":\"\\/tema\\/mat\\/senter-for-arktisk-landbruk\\/grovforproduksjon-i-nord\"},{\"id\":\"4b8673b3-bd21-4556-83b5-6bac1fd809e1\",\"title\":\"Potet, gr\\u00F8nt og b\\u00E6r i nord\",\"url\":\"\\/tema\\/mat\\/senter-for-arktisk-landbruk\\/potet-gront-og-baer-i-nord\"},{\"id\":\"1b0f7ed4-3bc1-4367-918c-f41e11df2387\",\"title\":\"Beiteressurser i nordnorsk utmark\",\"url\":\"\\/tema\\/mat\\/senter-for-arktisk-landbruk\\/beiteressurser-i-nordnorsk-utmark\"},{\"id\":\"45919a30-874e-473b-a47f-84a7005f9244\",\"title\":\"Rovvilt i nordnorsk utmark\",\"url\":\"\\/tema\\/mat\\/senter-for-arktisk-landbruk\\/rovvilt-i-nordnorsk-utmark\"},{\"id\":\"600569cd-8cc5-421f-87e2-1c3d9b32778e\",\"title\":\"Kulturlandskap og biomangfold i nord\",\"url\":\"\\/tema\\/mat\\/senter-for-arktisk-landbruk\\/kulturlandskap-og-biomangfold-i-nord\"},{\"id\":\"a2b8dacc-95bc-4615-ae1c-9fa86da7f5c6\",\"title\":\"Matsikkerhet og matberedskap i nord\",\"url\":\"\\/tema\\/mat\\/senter-for-arktisk-landbruk\\/matsikkerhet-og-matberedskap-i-nord\"},{\"id\":\"641364dd-f0f2-4f2b-ba50-6ba22dd1ddb8\",\"title\":\"Lokalmat i nord\",\"url\":\"\\/tema\\/mat\\/senter-for-arktisk-landbruk\\/lokalmat-i-nord\"},{\"id\":\"577dd82e-6d58-4920-a7d5-bd564f869103\",\"title\":\"Landbruk og reindrift i nord\",\"url\":\"\\/tema\\/mat\\/senter-for-arktisk-landbruk\\/landbruk-og-reindrift-i-nord\"},{\"id\":\"d2a36cb9-7f9e-414d-af04-d6b2888f8bae\",\"title\":\"Landbruk i arktis - en podkastserie\",\"url\":\"\\/tema\\/mat\\/senter-for-arktisk-landbruk\\/landbruk-i-arktis-en-podkastserie\"}]},{\"id\":\"d1ac7dd3-5036-4046-b581-f460da433224\",\"title\":\"Fjellandbruk og fjellbygder\",\"url\":\"\\/tema\\/mat\\/fjellandbruk-og-fjellbygder\",\"children\":[{\"id\":\"7d8199bd-a0ef-4289-b2d1-7f038f59dec3\",\"title\":\"Areal- og ressurskartlegging i fjellregionen \",\"url\":\"\\/tema\\/mat\\/fjellandbruk-og-fjellbygder\\/areal-og-ressurskartlegging-i-fjellregionen\"},{\"id\":\"e0afe321-4eb4-400b-bcd7-60e0e5cfeb9f\",\"title\":\"Fjellbygder og bygdesosiologi \",\"url\":\"\\/tema\\/mat\\/fjellandbruk-og-fjellbygder\\/fjellbygder-og-bygdesosiologi\"},{\"id\":\"fdede1c3-56de-4327-84b0-4e907e412a32\",\"title\":\"Lokalmat og andre produkter fra fjellet \",\"url\":\"\\/tema\\/mat\\/fjellandbruk-og-fjellbygder\\/lokalmat-og-andre-produkter-fra-fjellet\"},{\"id\":\"1a489b69-40c7-49d6-9dc8-2b024cdae944\",\"title\":\"Fjellandbruk og klima \",\"url\":\"\\/tema\\/mat\\/fjellandbruk-og-fjellbygder\\/fjellandbruk-og-klima\"},{\"id\":\"6129b7b6-04f1-4b48-a678-a1173199bd3d\",\"title\":\"Husdyr og beitebruk i fjell-Norge\",\"url\":\"\\/tema\\/mat\\/fjellandbruk-og-fjellbygder\\/husdyr-og-beitebruk-i-fjell-norge\"},{\"id\":\"9fb018c0-2db4-4e69-9bbd-635a018e4a26\",\"title\":\"\\u00D8konomi i fjellandbruket \",\"url\":\"\\/tema\\/mat\\/fjellandbruk-og-fjellbygder\\/okonomi-i-fjellandbruket\"},{\"id\":\"e1e2dd41-2f9c-4121-823d-0406d5a66633\",\"title\":\"Agronomi i fjellandbruket \",\"url\":\"\\/tema\\/mat\\/fjellandbruk-og-fjellbygder\\/agronomi-i-fjellandbruket\"},{\"id\":\"29c5f85f-7b22-43e5-b279-8810dedfb4c3\",\"title\":\"Biologisk mangfold og vegetasjons\\u00F8kologi i fjellregionen \",\"url\":\"\\/tema\\/mat\\/fjellandbruk-og-fjellbygder\\/biologisk-mangfold-og-vegetasjonsokologi-i-fjellregionen\"}]},{\"id\":\"187f2cca-de31-4979-b786-feb262c16d98\",\"title\":\"\\u00D8kologisk landbruk\",\"url\":\"\\/tema\\/mat\\/okologisk-landbruk\",\"children\":[{\"id\":\"b3f96473-c56a-4aa0-9f42-620bf9e79792\",\"title\":\"\\u00D8kologisk husdyrhold\",\"url\":\"\\/tema\\/mat\\/okologisk-landbruk\\/okologisk-husdyrhold\"},{\"id\":\"5e521ca6-7e3b-4747-b724-8fab5d1a7658\",\"title\":\"\\u00D8kologisk f\\u00F4r\",\"url\":\"\\/tema\\/mat\\/okologisk-landbruk\\/okologisk-for\"},{\"id\":\"f3536844-d707-4623-ba3a-17aab22b6b45\",\"title\":\"\\u00D8kologisk korn og andre fr\\u00F8vekster\",\"url\":\"\\/tema\\/mat\\/okologisk-landbruk\\/okologisk-korn-og-andre-frovekster\"},{\"id\":\"0d051673-2722-4c88-afa9-d9bb6bf6ab50\",\"title\":\"\\u00D8kologiske gr\\u00F8nnsaker og potet\",\"url\":\"\\/tema\\/mat\\/okologisk-landbruk\\/okologiske-gronnsaker-og-potet\"},{\"id\":\"f141da8c-d8f7-4923-8ba3-817c0b3bae18\",\"title\":\"\\u00D8kologisk frukt og b\\u00E6r\",\"url\":\"\\/tema\\/mat\\/okologisk-landbruk\\/okologisk-frukt-og-baer\"},{\"id\":\"eea90794-3193-46f2-a3f3-7f49f3d76c25\",\"title\":\"\\u00D8konomi og marked i \\u00F8kologisk landbruk\",\"url\":\"\\/tema\\/mat\\/okologisk-landbruk\\/okonomi-og-marked-i-okologisk-landbruk\"}]},{\"id\":\"2ea7eacd-be11-44dc-8838-bedb00a8c8a6\",\"title\":\"Urbant landbruk\",\"url\":\"\\/tema\\/mat\\/urbant-landbruk\"},{\"id\":\"3456b51a-9269-4680-a14f-609976ef26fe\",\"title\":\"Mikroalger\",\"url\":\"\\/tema\\/mat\\/mikroalger\",\"children\":[{\"id\":\"9271065f-10d5-4f65-85ea-a7295fa0b4e0\",\"title\":\"Mikroalger til mat og f\\u00F4r\",\"url\":\"\\/tema\\/mat\\/mikroalger\\/mikroalger-til-mat-og-for\"},{\"id\":\"6b2ad4fc-6cd3-42fd-9e3f-f5f0c8848bab\",\"title\":\"Mikroalger og bioaktive forbindelser\",\"url\":\"\\/tema\\/mat\\/mikroalger\\/mikroalger-og-bioaktive-forbindelser\"}]},{\"id\":\"febb3b9d-2c43-463e-89b4-e6da1b52ebd3\",\"title\":\"Mattrygghet\",\"url\":\"\\/tema\\/mat\\/mattrygghet\"},{\"id\":\"64cca34c-f50e-4d0b-b9ca-19daa7b9d046\",\"title\":\"\\u00C9n-helse i landbruks- og matproduksjonen\",\"url\":\"\\/tema\\/mat\\/en-helse-i-landbruks-og-matproduksjonen\",\"children\":[{\"id\":\"73158900-40c3-4dbc-bfab-52412e372d6a\",\"title\":\"Folkehelse, matproduksjon og matforbruk - hva er sammenhengen?\",\"url\":\"\\/tema\\/mat\\/en-helse-i-landbruks-og-matproduksjonen\\/folkehelse-matproduksjon-og-matforbruk-hva-er-sammenhengen\"}]},{\"id\":\"6eaaaef6-f323-4b92-9481-ec33ce93e6f5\",\"title\":\"Dyrkingssystemfors\\u00F8k p\\u00E5 Apelsvoll\",\"url\":\"\\/tema\\/mat\\/langvarige-forsok-med-ulike-dyrkingssystemer\"},{\"id\":\"aecd4571-19e9-48c7-9531-1c3f2c8f5377\",\"title\":\"Fors\\u00F8k med dyr\",\"url\":\"\\/tema\\/mat\\/forsok-med-dyr\"},{\"id\":\"33af3ea0-fe5f-4ee6-97c9-7ff9f50877fb\",\"title\":\"Kompetansenettverk for lokalmat i nord\",\"url\":\"\\/tema\\/mat\\/kompetansenettverk-for-lokalmat-i-nord\",\"children\":[{\"id\":\"eb0b4197-f650-4076-a684-c2d6732909b5\",\"title\":\"Kurs\",\"url\":\"\\/tema\\/mat\\/kompetansenettverk-for-lokalmat-i-nord\\/kurs\"}]},{\"id\":\"059ff276-ed34-46fa-955a-617c2cd755c4\",\"title\":\"Plantegenetiske ressurser\",\"url\":\"\\/tema\\/mat\\/plantegenetiske-ressurser\",\"children\":[{\"id\":\"53969648-4381-4ce4-a781-609d451b0952\",\"title\":\"Nytteplanter i Norge\",\"url\":\"\\/tema\\/mat\\/plantegenetiske-ressurser\\/nytteplanter-i-norge\",\"children\":[{\"id\":\"7dc6f2df-0c63-4793-9381-4d8d0f642aad\",\"title\":\"Jordbruksplanter\",\"url\":\"\\/tema\\/mat\\/plantegenetiske-ressurser\\/nytteplanter-i-norge\\/jordbruksplanter\",\"children\":[{\"id\":\"92f6712b-aa8c-4df1-b021-d422e5cfda0b\",\"title\":\"Potet\",\"url\":\"\\/tema\\/mat\\/plantegenetiske-ressurser\\/nytteplanter-i-norge\\/jordbruksplanter\\/potet\"},{\"id\":\"7c022524-2396-4d31-863b-b765ae09beee\",\"title\":\"Engvekster\",\"url\":\"\\/tema\\/mat\\/plantegenetiske-ressurser\\/nytteplanter-i-norge\\/jordbruksplanter\\/engvekster\"},{\"id\":\"1afcfe39-8da0-4571-b83b-6af78d972d4d\",\"title\":\"Korn\",\"url\":\"\\/tema\\/mat\\/plantegenetiske-ressurser\\/nytteplanter-i-norge\\/jordbruksplanter\\/korn\"}]},{\"id\":\"f958ff77-f140-428d-853b-b53c4e314310\",\"title\":\"Hagebruksplanter\",\"url\":\"\\/tema\\/mat\\/plantegenetiske-ressurser\\/nytteplanter-i-norge\\/hagebruksplanter\",\"children\":[{\"id\":\"a77b7ea6-c2a7-40e5-b476-a4cff9d58c03\",\"title\":\"Fruktsorter\",\"url\":\"\\/tema\\/mat\\/plantegenetiske-ressurser\\/nytteplanter-i-norge\\/hagebruksplanter\\/fruktsorter\",\"children\":[{\"id\":\"3302b45b-36af-4477-babc-538673f73097\",\"title\":\"Eplesorter\",\"url\":\"\\/tema\\/mat\\/plantegenetiske-ressurser\\/nytteplanter-i-norge\\/hagebruksplanter\\/fruktsorter\\/eple\"},{\"id\":\"f6246fec-3b70-403d-93b1-01335e9188dc\",\"title\":\"Plomme\",\"url\":\"\\/tema\\/mat\\/plantegenetiske-ressurser\\/nytteplanter-i-norge\\/hagebruksplanter\\/fruktsorter\\/plomme\"}]},{\"id\":\"af1bd10f-9eed-4dde-98c7-d37fa80f1c47\",\"title\":\"Gr\\u00F8nnsakssorter\",\"url\":\"\\/tema\\/mat\\/plantegenetiske-ressurser\\/nytteplanter-i-norge\\/hagebruksplanter\\/gronnsakssorter\",\"children\":[{\"id\":\"eb651faa-500f-48be-8110-fa908ecf9903\",\"title\":\"Pepperrot\",\"url\":\"\\/tema\\/mat\\/plantegenetiske-ressurser\\/nytteplanter-i-norge\\/hagebruksplanter\\/gronnsakssorter\\/pepperrot\"},{\"id\":\"0d9616a7-921b-468b-9e60-20b2cf90bf3c\",\"title\":\"B\\u00F8nner\",\"url\":\"\\/tema\\/mat\\/plantegenetiske-ressurser\\/nytteplanter-i-norge\\/hagebruksplanter\\/gronnsakssorter\\/bonner\"},{\"id\":\"14e7727e-d59c-4f99-b170-19147ae02f77\",\"title\":\"L\\u00F8k\",\"url\":\"\\/tema\\/mat\\/plantegenetiske-ressurser\\/nytteplanter-i-norge\\/hagebruksplanter\\/gronnsakssorter\\/l%C3%B8k\"},{\"id\":\"1f879cd2-0385-453b-8dd2-4128cc0fc89e\",\"title\":\"Erter\",\"url\":\"\\/tema\\/mat\\/plantegenetiske-ressurser\\/nytteplanter-i-norge\\/hagebruksplanter\\/gronnsakssorter\\/erter\"},{\"id\":\"6ded7719-8105-409a-8bca-8579e25d084c\",\"title\":\"Hodek\\u00E5l\",\"url\":\"\\/tema\\/mat\\/plantegenetiske-ressurser\\/nytteplanter-i-norge\\/hagebruksplanter\\/gronnsakssorter\\/hodekal\"},{\"id\":\"6f0b73da-b32c-4c4e-a048-40e079b4cc21\",\"title\":\"Tomat\",\"url\":\"\\/tema\\/mat\\/plantegenetiske-ressurser\\/nytteplanter-i-norge\\/hagebruksplanter\\/gronnsakssorter\\/tomat\"},{\"id\":\"aa4371ab-77d1-44f9-adbb-30e6228cb029\",\"title\":\"Nepe\",\"url\":\"\\/tema\\/mat\\/plantegenetiske-ressurser\\/nytteplanter-i-norge\\/hagebruksplanter\\/gronnsakssorter\\/nepe\"},{\"id\":\"b5d4cf69-0e17-4895-907c-c0076afd2d68\",\"title\":\"K\\u00E5lrot\",\"url\":\"\\/tema\\/mat\\/plantegenetiske-ressurser\\/nytteplanter-i-norge\\/hagebruksplanter\\/gronnsakssorter\\/kalrot\"}]}]},{\"id\":\"a11640ba-105d-43d9-be3d-583afcf47ac9\",\"title\":\"Prydplanter\",\"url\":\"\\/tema\\/mat\\/plantegenetiske-ressurser\\/nytteplanter-i-norge\\/prydplanter\",\"children\":[{\"id\":\"954259ab-b09a-47db-93d7-dc5ff5a87e2d\",\"title\":\"Historiske stauder\",\"url\":\"\\/tema\\/mat\\/plantegenetiske-ressurser\\/nytteplanter-i-norge\\/prydplanter\\/stauder\"},{\"id\":\"2d15a160-8657-4702-a5e0-7f49a06a4ea8\",\"title\":\"Liljer og l\\u00F8kvekster\",\"url\":\"\\/tema\\/mat\\/plantegenetiske-ressurser\\/nytteplanter-i-norge\\/prydplanter\\/liljer-og-l%C3%B8kvekster\"}]},{\"id\":\"b9693395-b172-434f-b6aa-0730d766bb7d\",\"title\":\"Ville nytteplanter\",\"url\":\"\\/tema\\/mat\\/plantegenetiske-ressurser\\/nytteplanter-i-norge\\/ville-nytteplanter\"},{\"id\":\"3796d60e-d62b-424e-9807-0f3cb1fbfaba\",\"title\":\"Utvalgte kulturminneplanter\",\"url\":\"\\/tema\\/mat\\/plantegenetiske-ressurser\\/nytteplanter-i-norge\\/utvalgte-kulturminneplanter\",\"children\":[{\"id\":\"c18dd23f-c3dc-40a6-9d99-79818b6e69a0\",\"title\":\"Erter, l\\u00F8k og k\\u00E5lvekster\",\"url\":\"\\/tema\\/mat\\/plantegenetiske-ressurser\\/nytteplanter-i-norge\\/utvalgte-kulturminneplanter\\/erter-lok-og-kalvekster\"},{\"id\":\"5f05c98a-0951-44e0-8871-ad2db2c284e4\",\"title\":\"Frukt og b\\u00E6r\",\"url\":\"\\/tema\\/mat\\/plantegenetiske-ressurser\\/nytteplanter-i-norge\\/utvalgte-kulturminneplanter\\/frukt-og-baer\"},{\"id\":\"6bc79ac4-1113-4dc2-93cb-6b39c51090b7\",\"title\":\"Korn, potet og f\\u00F4rplanter\",\"url\":\"\\/tema\\/mat\\/plantegenetiske-ressurser\\/nytteplanter-i-norge\\/utvalgte-kulturminneplanter\\/korn-potet-og-forplanter\"},{\"id\":\"9fcf0f17-9a24-4060-b87c-676f7d3a5d7d\",\"title\":\"Roser, liljer og stauder\",\"url\":\"\\/tema\\/mat\\/plantegenetiske-ressurser\\/nytteplanter-i-norge\\/utvalgte-kulturminneplanter\\/roser-liljer-og-stauder\"},{\"id\":\"0021b66d-9f0b-43db-ad6f-4d32e2afef7f\",\"title\":\"Nytteplanter fra naturen\",\"url\":\"\\/tema\\/mat\\/plantegenetiske-ressurser\\/nytteplanter-i-norge\\/utvalgte-kulturminneplanter\\/nytteplanter-fra-naturen\"},{\"id\":\"0b837c67-767a-4de7-a8fd-50f45dfa1b29\",\"title\":\"Treslag med kulturhistorie\",\"url\":\"\\/tema\\/mat\\/plantegenetiske-ressurser\\/nytteplanter-i-norge\\/utvalgte-kulturminneplanter\\/treslag-med-kulturhistorie\"}]}]},{\"id\":\"3f45f351-61eb-49fd-83af-150d78f5f589\",\"title\":\"Bevaring av plantemateriale\",\"url\":\"\\/tema\\/mat\\/plantegenetiske-ressurser\\/bevaring-av-plantemateriale\",\"children\":[{\"id\":\"8051360b-c64e-4008-8cb7-9ce12b7eb2f5\",\"title\":\"Bevaring in situ \\u2013 Kulturplantenes ville slektninger\",\"url\":\"\\/tema\\/mat\\/plantegenetiske-ressurser\\/bevaring-av-plantemateriale\\/bevaring-in-situ\"},{\"id\":\"807d0a2e-b087-4678-886b-81dca6db7ea2\",\"title\":\"Bevaring av genressurser som fr\\u00F8\",\"url\":\"\\/tema\\/mat\\/plantegenetiske-ressurser\\/bevaring-av-plantemateriale\\/bevaring-av-genressurser-som-fro\"},{\"id\":\"716a3c0f-4ddd-43ee-b614-b93629cb20ab\",\"title\":\"Bevaring i klonarkiv \\/ feltgenbank\",\"url\":\"\\/tema\\/mat\\/plantegenetiske-ressurser\\/bevaring-av-plantemateriale\\/bevaring-i-klonarkiv-feltgenbank\",\"children\":[{\"id\":\"ee5f6bc4-224a-4ef0-bcd6-ac486ba52a50\",\"title\":\"Klonarkiv - historiske hageplanter\",\"url\":\"\\/tema\\/mat\\/plantegenetiske-ressurser\\/bevaring-av-plantemateriale\\/bevaring-i-klonarkiv-feltgenbank\\/klonariv\"},{\"id\":\"3da9b149-8907-4158-88e6-1ebd1f3bcc79\",\"title\":\"Klonarkiv - frukt\",\"url\":\"\\/tema\\/mat\\/plantegenetiske-ressurser\\/bevaring-av-plantemateriale\\/bevaring-i-klonarkiv-feltgenbank\\/klonarkiv-frukt\"},{\"id\":\"44084fbe-b68f-4201-98a3-de630cad37b9\",\"title\":\"Klonarkiv - poter, gr\\u00F8nnsaker, b\\u00E6r og urter\",\"url\":\"\\/tema\\/mat\\/plantegenetiske-ressurser\\/bevaring-av-plantemateriale\\/bevaring-i-klonarkiv-feltgenbank\\/klonarkiv-poter-gronnsaker-baer-og-urter\"},{\"id\":\"62fcfb5e-3816-4467-95ea-df8406c5fe17\",\"title\":\"Back-up samlinger\",\"url\":\"\\/tema\\/mat\\/plantegenetiske-ressurser\\/bevaring-av-plantemateriale\\/bevaring-i-klonarkiv-feltgenbank\\/back-up-samlinger\"},{\"id\":\"007d35a5-5c1c-4395-90ee-3b49d41f5089\",\"title\":\"Planteregister\",\"url\":\"\\/tema\\/mat\\/plantegenetiske-ressurser\\/bevaring-av-plantemateriale\\/bevaring-i-klonarkiv-feltgenbank\\/planteregister\"}]},{\"id\":\"7161fb27-cca3-4afa-a3b3-0ddd23ea133b\",\"title\":\"Bevaring av plantemateriale in-vitro og kryo\",\"url\":\"\\/tema\\/mat\\/plantegenetiske-ressurser\\/bevaring-av-plantemateriale\\/bevaring-av-plantemateriale-in-vitro-og-kryo\"},{\"id\":\"74b7ee5d-abca-4be8-8d4e-27bb59869ef7\",\"title\":\"Hva du kan gj\\u00F8re selv\",\"url\":\"\\/tema\\/mat\\/plantegenetiske-ressurser\\/bevaring-av-plantemateriale\\/hva-du-kan-gjore-selv\"}]},{\"id\":\"3400ad7f-28c1-460a-b158-850456276c2c\",\"title\":\" Planteforedling og godkjenning av plantesorter\",\"url\":\"\\/tema\\/mat\\/plantegenetiske-ressurser\\/planteforedling-og-godkjenning-av-plantesorter\",\"children\":[{\"id\":\"0bdff7b6-51b6-4e05-9849-0cb47e888a5e\",\"title\":\"Sortsgodkjenning for bevaringsform\\u00E5l\",\"url\":\"\\/tema\\/mat\\/plantegenetiske-ressurser\\/planteforedling-og-godkjenning-av-plantesorter\\/sortsgodkjenning-for-bevaringsformal\",\"children\":[{\"id\":\"eaca67f1-291f-457d-89b0-8a3ad5f6611e\",\"title\":\"Bevaringsverdige sorter\",\"url\":\"\\/tema\\/mat\\/plantegenetiske-ressurser\\/planteforedling-og-godkjenning-av-plantesorter\\/sortsgodkjenning-for-bevaringsformal\\/bevaringsverdige-sorter\"},{\"id\":\"7e376abb-d4c9-4b4f-8a7d-a4507d181e5f\",\"title\":\"Tradisjonssorter av gr\\u00F8nnsaker\",\"url\":\"\\/tema\\/mat\\/plantegenetiske-ressurser\\/planteforedling-og-godkjenning-av-plantesorter\\/sortsgodkjenning-for-bevaringsformal\\/tradisjonssorter-av-gronnsaker\"}]},{\"id\":\"31b53b8d-d2c6-4f30-8aa5-a561c45d7e82\",\"title\":\"Planteforedling\",\"url\":\"\\/tema\\/mat\\/plantegenetiske-ressurser\\/planteforedling-og-godkjenning-av-plantesorter\\/planteforedling\"},{\"id\":\"05efb6d7-8785-4fc6-84bb-d522ff7fc7a8\",\"title\":\"Sorter og offisiell sortsliste\",\"url\":\"\\/tema\\/mat\\/plantegenetiske-ressurser\\/planteforedling-og-godkjenning-av-plantesorter\\/sorter-og-offisiell-sortsliste\"}]},{\"id\":\"aafc94f9-cc35-4c7a-b7cc-24ed4ff54770\",\"title\":\"PLANTEARVEN-prisen\",\"url\":\"\\/tema\\/mat\\/plantegenetiske-ressurser\\/plantearven-prisen\",\"children\":[{\"id\":\"70bcc5e7-3a3c-42c0-86b0-932fd541c23f\",\"title\":\"Vinnere av PLANTEARVEN-prisen fra 2017\",\"url\":\"\\/tema\\/mat\\/plantegenetiske-ressurser\\/plantearven-prisen\\/vinnere-av-plantearven-prisen-fra-2017\"},{\"id\":\"0a0104e9-f703-4f05-93bb-39991692a97f\",\"title\":\"Vinnere av PLANTEARVEN-prisen 2006 - 2016\",\"url\":\"\\/tema\\/mat\\/plantegenetiske-ressurser\\/plantearven-prisen\\/vinnere-av-plantearven-prisen-2006-2016\"}]},{\"id\":\"1f904d48-c4dd-466b-950b-483df1c2162c\",\"title\":\"Internasjonal forankring og samarbeid\",\"url\":\"\\/tema\\/mat\\/plantegenetiske-ressurser\\/internasjonal-forankring-og-samarbeid\",\"children\":[{\"id\":\"da26b5c2-40f6-4828-a1ed-6f14b1380c39\",\"title\":\"Svalbard globale fr\\u00F8hvelv \",\"url\":\"\\/tema\\/mat\\/plantegenetiske-ressurser\\/internasjonal-forankring-og-samarbeid\\/svalbard-globale-frohvelv\"}]}]},{\"id\":\"b228edb8-15df-4dd5-aa32-fbb617a7cda1\",\"title\":\"Husdyrgenetiske ressurser\",\"url\":\"\\/tema\\/mat\\/husdyrgenetiske-ressurser\",\"children\":[{\"id\":\"727fcfc8-fe04-4f9b-83e5-24d4255171b2\",\"title\":\"Genbanken for verpeh\\u00F8ns\",\"url\":\"\\/tema\\/mat\\/husdyrgenetiske-ressurser\\/genbanken-for-verpehons\"},{\"id\":\"78e84480-aaed-4c22-a2c7-713cad27457e\",\"title\":\"Bevaringsverdige husdyrraser\",\"url\":\"\\/tema\\/mat\\/husdyrgenetiske-ressurser\\/bevaringsverdige-husdyrraser\",\"children\":[{\"id\":\"2c020b67-be27-4a18-b87d-af86596fd71c\",\"title\":\"Hest\",\"url\":\"\\/tema\\/mat\\/husdyrgenetiske-ressurser\\/bevaringsverdige-husdyrraser\\/hest\"},{\"id\":\"7d8c7432-0e0b-438f-a3f4-5d4ee3eddb7a\",\"title\":\"Bier\",\"url\":\"\\/tema\\/mat\\/husdyrgenetiske-ressurser\\/bevaringsverdige-husdyrraser\\/bier\"},{\"id\":\"2e55ee68-1ccb-436a-b0a8-7438d42543ce\",\"title\":\"Fj\\u00F8rfe\",\"url\":\"\\/tema\\/mat\\/husdyrgenetiske-ressurser\\/bevaringsverdige-husdyrraser\\/fj%C3%B8rfe\"},{\"id\":\"1aeca773-d0e6-4196-a3c5-c50646e0a40d\",\"title\":\"Kanin\",\"url\":\"\\/tema\\/mat\\/husdyrgenetiske-ressurser\\/bevaringsverdige-husdyrraser\\/kanin\"},{\"id\":\"dc1c639a-c046-4c1b-8022-81b58b2ed770\",\"title\":\"Hund\",\"url\":\"\\/tema\\/mat\\/husdyrgenetiske-ressurser\\/bevaringsverdige-husdyrraser\\/hund\"},{\"id\":\"79f65d97-0cd9-4a04-bb3f-e57117503465\",\"title\":\"Geit\",\"url\":\"\\/tema\\/mat\\/husdyrgenetiske-ressurser\\/bevaringsverdige-husdyrraser\\/geit\",\"children\":[{\"id\":\"13e95d61-069b-4372-889f-c267b44def69\",\"title\":\"Krav ved flytting av kystgeit mellom besetninger\",\"url\":\"\\/tema\\/mat\\/husdyrgenetiske-ressurser\\/bevaringsverdige-husdyrraser\\/geit\\/krav-ved-flytting-av-kystgeit-mellom-besetninger\"}]},{\"id\":\"4876fb6d-b2c3-454b-8db1-360aca98d6c8\",\"title\":\"Sau\",\"url\":\"\\/tema\\/mat\\/husdyrgenetiske-ressurser\\/bevaringsverdige-husdyrraser\\/sau\",\"children\":[{\"id\":\"fbd864fd-86ee-4db1-9fa6-4c43b4c3f700\",\"title\":\"Genkartlegging av bevaringsverdige sauer\",\"url\":\"\\/tema\\/mat\\/husdyrgenetiske-ressurser\\/bevaringsverdige-husdyrraser\\/sau\\/genkartlegging-av-bevaringsverdige-sauer\"},{\"id\":\"d822b0ac-6d1a-4407-9b7a-908f88aedba1\",\"title\":\"Krav ved flytting av sau mellom besetninger\",\"url\":\"\\/tema\\/mat\\/husdyrgenetiske-ressurser\\/bevaringsverdige-husdyrraser\\/sau\\/krav-ved-flytting-av-sau-mellom-besetninger\"}]},{\"id\":\"66bafd31-d03b-41bf-9e39-dddb71be27b6\",\"title\":\"Storfe\",\"url\":\"\\/tema\\/mat\\/husdyrgenetiske-ressurser\\/bevaringsverdige-husdyrraser\\/storfe\",\"children\":[{\"id\":\"06d2f85c-c28f-4096-94d1-ceb06ab24c3b\",\"title\":\"Horn i \\u00F8stlandsk r\\u00F8dkolle\",\"url\":\"\\/tema\\/mat\\/husdyrgenetiske-ressurser\\/bevaringsverdige-husdyrraser\\/storfe\\/horn-i-ostlandsk-rodkolle\"},{\"id\":\"3c592a4b-d5bd-40e8-be3e-1ce324473eb5\",\"title\":\"Nedarving av farger hos storfe\",\"url\":\"\\/tema\\/mat\\/husdyrgenetiske-ressurser\\/bevaringsverdige-husdyrraser\\/storfe\\/nedarving-av-farger-hos-storfe\"},{\"id\":\"9d6daa57-520a-4bd0-98a3-f7b3c4245fff\",\"title\":\"Inntak av seminokser\",\"url\":\"\\/tema\\/mat\\/husdyrgenetiske-ressurser\\/bevaringsverdige-husdyrraser\\/storfe\\/inntak-av-seminokser\",\"children\":[{\"id\":\"dc5bf0e4-4250-422a-ab5c-89c37ee54f86\",\"title\":\"Oksekalver som er vedtatt tatt inn til semin\",\"url\":\"\\/tema\\/mat\\/husdyrgenetiske-ressurser\\/bevaringsverdige-husdyrraser\\/storfe\\/inntak-av-seminokser\\/oksekalver-som-er-vedtatt-tatt-inn-til-semin\"}]}]}]},{\"id\":\"619d79d1-609e-4df4-845f-e2da9a5b4da2\",\"title\":\"Kuregisteret\",\"url\":\"\\/tema\\/mat\\/husdyrgenetiske-ressurser\\/kuregisteret\",\"children\":[{\"id\":\"fc982b72-4075-460e-860a-cd812b406f36\",\"title\":\"Avlsr\\u00E5d\",\"url\":\"\\/tema\\/mat\\/husdyrgenetiske-ressurser\\/kuregisteret\\/avlsrad\"},{\"id\":\"e591ae61-1289-4999-9d6d-25d6111c0d4e\",\"title\":\"Oppgradering av Kuregisteret i 2023\",\"url\":\"\\/tema\\/mat\\/husdyrgenetiske-ressurser\\/kuregisteret\\/oppgradering-av-kuregisteret-i-2023\"},{\"id\":\"50ca3ddc-a712-4ba4-9b43-6ef54fe2961f\",\"title\":\"Bruk av Kuregisteret\",\"url\":\"\\/tema\\/mat\\/husdyrgenetiske-ressurser\\/kuregisteret\\/bruk-av-kuregisteret\"},{\"id\":\"e7907a5a-37c2-47c6-bce3-fd28974093c5\",\"title\":\"Registrere i Kuregisteret\",\"url\":\"\\/tema\\/mat\\/husdyrgenetiske-ressurser\\/kuregisteret\\/registrere-i-kuregisteret\"},{\"id\":\"1bc11c8a-0b72-4ac6-9b9e-ddcc8ee2a3e9\",\"title\":\"Stambokf\\u00F8ring av gardsokser\",\"url\":\"\\/tema\\/mat\\/husdyrgenetiske-ressurser\\/kuregisteret\\/stambokf%C3%B8ring-av-gardsokser\"}]},{\"id\":\"6af52045-902c-475f-a2b1-3f71f43e33b4\",\"title\":\"Status for norske husdyrraser\",\"url\":\"\\/tema\\/mat\\/husdyrgenetiske-ressurser\\/status-for-norske-husdyrraser\",\"children\":[{\"id\":\"75ea7b5d-de82-4ab0-9c58-f740a2d501c0\",\"title\":\"Offisiell statistikk om bevaringsverdige husdyrraser \",\"url\":\"\\/tema\\/mat\\/husdyrgenetiske-ressurser\\/status-for-norske-husdyrraser\\/offisiell-statistikk-om-bevaringsverdige-husdyrraser\"},{\"id\":\"495d532a-876f-4853-9b91-96d9cefeba30\",\"title\":\"Hest\",\"url\":\"\\/tema\\/mat\\/husdyrgenetiske-ressurser\\/status-for-norske-husdyrraser\\/hest\"},{\"id\":\"0662f6bc-1a15-4da0-80bd-bc7a543e907e\",\"title\":\"Hund\",\"url\":\"\\/tema\\/mat\\/husdyrgenetiske-ressurser\\/status-for-norske-husdyrraser\\/hund\"},{\"id\":\"f491c27d-5fc3-438c-9ea4-9f823a3dc0f2\",\"title\":\"Sau og geit\",\"url\":\"\\/tema\\/mat\\/husdyrgenetiske-ressurser\\/status-for-norske-husdyrraser\\/sau-og-geit\"},{\"id\":\"ffd04f3f-2097-4057-a2d1-4f7324c14aa7\",\"title\":\"Storfe\",\"url\":\"\\/tema\\/mat\\/husdyrgenetiske-ressurser\\/status-for-norske-husdyrraser\\/storfe\"},{\"id\":\"bf6d9cb6-165a-4203-874e-9707fd089124\",\"title\":\"Grad av truethet for de nasjonale rasene\",\"url\":\"\\/tema\\/mat\\/husdyrgenetiske-ressurser\\/status-for-norske-husdyrraser\\/grad-av-truethet-for-de-nasjonale-rasene\"},{\"id\":\"9a945715-deca-495d-893d-5adb52850690\",\"title\":\"Populasjonsst\\u00F8rrelser for de kommersielle husdyrrasene\",\"url\":\"\\/tema\\/mat\\/husdyrgenetiske-ressurser\\/status-for-norske-husdyrraser\\/populasjonsst%C3%B8rrelser-for-de-kommersielle-husdyrrasene\"}]},{\"id\":\"cf1c441a-3265-458e-a30d-95dec4c2a817\",\"title\":\"Nyheter fra Norsk genressurssenter\",\"url\":\"\\/tema\\/mat\\/husdyrgenetiske-ressurser\\/nyheter-fra-norsk-genressurssenter\"}]}]},{\"id\":\"fd5383ef-2c7e-4da9-afe3-65778ab586f2\",\"slug\":\"plantehelse\",\"title\":\"Plantehelse\",\"description\":\"Hvorfor blir planter sjuke? NIBIO overv\\u00E5ker plantesjukdommer, skadedyr og ugras, studerer hvorfor skader p\\u00E5 planter oppst\\u00E5r, og hvordan vi kan holde planter friske. Vi analyserer ogs\\u00E5 rester av plantevernmidler og ulike andre stoffer i planter.\",\"displayName\":\"Plantehelse\",\"url\":\"\\/tema\\/plantehelse\",\"icon\":\"\\/_\\/image\\/f153fa3e-62cf-45ea-a77b-03cd3bcdd1e4:7282b2f2c4cc7835702496eeeecd5b2f88a51197\\/max-1280\\/Icon%204.svg?quality=60\",\"iconAlt\":\"Icon 4\",\"photo\":\"\\/_\\/image\\/09cefd63-7cd7-4c67-bfed-1f8aa4d3d5c1:e8d4cec9d6c2161c4cfad5d37ffa29df37fbfa14\\/block-375-250\\/ef-20130315-163326.jpg?quality=60\",\"childIcon\":\"\\/_\\/image\\/5d15ffdf-2d01-46f3-a1b8-f2ef940d09b4:3793ef8dd3072d5494bc10edb6086ceaac2c7546\\/max-1280\\/nibio-temaikon_plantehelse_neg.png?quality=60\",\"childIconAlt\":\"nibio-temaikon_plantehelse_neg\",\"children\":[{\"id\":\"8c2ef3df-3462-43f7-85e8-52cb95145d17\",\"title\":\"Plantesjukdommer\",\"url\":\"\\/tema\\/plantehelse\\/plantesjukdommer\",\"children\":[{\"id\":\"6755bfb8-0afb-43fa-a44a-457ea9d00291\",\"title\":\"Fusarium og mykotoksiner\",\"url\":\"\\/tema\\/plantehelse\\/plantesjukdommer\\/fusarium-og-mykotoksiner\"}]},{\"id\":\"ae344dcd-1433-41f0-96af-c61f6c6a0cd5\",\"title\":\"Ugras og fremmede invaderende planter\",\"url\":\"\\/tema\\/plantehelse\\/ugras-og-fremmede-invaderende-planter\",\"children\":[{\"id\":\"aefe2be0-6f50-4c83-bcfc-f014350c82a1\",\"title\":\"Framande plantearter\",\"url\":\"\\/tema\\/plantehelse\\/ugras-og-fremmede-invaderende-planter\\/framande-plantearter\"},{\"id\":\"61503749-3bb4-46c1-bb81-7a510983dd86\",\"title\":\"Presisjonstiltak mot ugras\",\"url\":\"\\/tema\\/plantehelse\\/ugras-og-fremmede-invaderende-planter\\/presisjonstiltak-mot-ugras\"},{\"id\":\"d4bc2e46-fd7d-445e-b0c0-ae26bec8b20a\",\"title\":\"Korsmos ugrashage\",\"url\":\"\\/tema\\/plantehelse\\/ugras-og-fremmede-invaderende-planter\\/korsmos-ugrashage\"}]},{\"id\":\"66cd1eba-475e-47b5-8d04-143da6efcf7e\",\"title\":\"Skade- og nyttedyr\",\"url\":\"\\/tema\\/plantehelse\\/skade-og-nyttedyr\",\"children\":[{\"id\":\"7d4322a3-d680-4208-8847-040106872d56\",\"title\":\"Snegler som skadedyr\",\"url\":\"\\/tema\\/plantehelse\\/skade-og-nyttedyr\\/snegler-som-skadedyr\"}]},{\"id\":\"03d3f9b4-a1cb-4ae9-a7ef-15401c953e9b\",\"title\":\"Integrert plantevern IPV\",\"url\":\"\\/tema\\/plantehelse\\/integrert-plantevern\",\"children\":[{\"id\":\"c2f32a14-b33c-4662-b464-f3f27f0c6d2a\",\"title\":\"Metoder for bekjempelse av skadegj\\u00F8rere p\\u00E5 planter\",\"url\":\"\\/tema\\/plantehelse\\/integrert-plantevern\\/metoder\"},{\"id\":\"4c27e8a3-893d-4722-96c8-ec93b83690c0\",\"title\":\"IPV-veiledere for viktige kulturer\",\"url\":\"\\/tema\\/plantehelse\\/integrert-plantevern\\/ipv-veiledere-for-viktige-kulturer-2\"},{\"id\":\"89a64252-e17f-4e18-a58a-2496ce954f03\",\"title\":\"8 prinsipper for IPV\",\"url\":\"\\/tema\\/plantehelse\\/integrert-plantevern\\/8-prinsipper-for-ipv-1\"},{\"id\":\"13009950-8227-4cff-9e8f-1db24fb9560f\",\"title\":\"Lenker, litteratur og prosjekter\",\"url\":\"\\/tema\\/plantehelse\\/integrert-plantevern\\/lenker-litteratur-og-prosjekter\"}]},{\"id\":\"d0cd9910-713c-4e8b-8ef0-01e3ff7ef5f2\",\"title\":\"Innovative metoder innen plantevern i landbruket\",\"url\":\"\\/tema\\/plantehelse\\/innovative-metoder-innen-plantevern-i-landbruket\",\"children\":[{\"id\":\"9cc8f7e3-0ca4-42d9-a220-09902fa71cf6\",\"title\":\"Optisk og kjemisk sensor-teknologi mot ugras og soppsykdommer\",\"url\":\"\\/tema\\/plantehelse\\/innovative-metoder-innen-plantevern-i-landbruket\\/optisk-og-kjemisk-sensor-teknologi-mot-ugras-og-soppsykdommer\"},{\"id\":\"b09f6356-a576-4c18-8842-47f805902e7a\",\"title\":\"Plantevern basert p\\u00E5 skadedyrs luktesans\",\"url\":\"\\/tema\\/plantehelse\\/innovative-metoder-innen-plantevern-i-landbruket\\/plantevern-basert-pa-skadedyrs-luktesans\"}]},{\"id\":\"378afa74-c4cc-4800-9219-2711ae2713ac\",\"title\":\"Plantevernmiddel-resistens\",\"url\":\"\\/tema\\/plantehelse\\/plantevernmiddel-resistens\",\"children\":[{\"id\":\"3847e6d2-abb2-4487-b542-7e4d03b1ab53\",\"title\":\"Resistens mot skadedyrmidler\",\"url\":\"\\/tema\\/plantehelse\\/plantevernmiddel-resistens\\/resistens-mot-skadedyrmidler\",\"children\":[{\"id\":\"f56bd6b0-e372-434a-828f-c63934ccbb7b\",\"title\":\"Generelle tiltak mot resistens\",\"url\":\"\\/tema\\/plantehelse\\/plantevernmiddel-resistens\\/resistens-mot-skadedyrmidler\\/generelle-tiltak-mot-resistens\"},{\"id\":\"89def9c1-1756-4a6d-87bc-014ef13ad1e7\",\"title\":\"Kulturspesifikke anti-resistensstrategier\",\"url\":\"\\/tema\\/plantehelse\\/plantevernmiddel-resistens\\/resistens-mot-skadedyrmidler\\/kulturspesifikke-anti-resistensstrategier\"}]},{\"id\":\"f74ed8e7-ee2e-49e2-9534-d41be9a21938\",\"title\":\"Resistens mot soppmidler\",\"url\":\"\\/tema\\/plantehelse\\/plantevernmiddel-resistens\\/resistens-mot-soppmidler\"},{\"id\":\"a225aaa9-6bde-4efa-80b7-fc468eced0a7\",\"title\":\"Resistens mot ugrasmidler\",\"url\":\"\\/tema\\/plantehelse\\/plantevernmiddel-resistens\\/resistens-mot-ugrasmidler\"},{\"id\":\"c0fad963-0fe7-4fca-b772-ba909f0601f8\",\"title\":\"Ordliste og forkortelser (Plantevernmiddelresistens)\",\"url\":\"\\/tema\\/plantehelse\\/plantevernmiddel-resistens\\/ordliste-og-forkortelser\"}]},{\"id\":\"aa85ebcc-68e0-431b-b694-625e84cd47bc\",\"title\":\"Planteklinikken\",\"url\":\"\\/tema\\/plantehelse\\/planteklinikken\"},{\"id\":\"d4894230-6b56-4a99-8aad-7796ef3eeb9d\",\"title\":\"Utpr\\u00F8ving av plantevernmidler i Norge\",\"url\":\"\\/tema\\/plantehelse\\/utproving-av-plantevernmidler-i-norge\"},{\"id\":\"7e3ab8ea-b0b1-4a7c-9e16-5ed70c058689\",\"title\":\"Analyser av plantevernmidler og andre organiske stoffer\",\"url\":\"\\/tema\\/plantehelse\\/analyser-av-plantevernmidler\",\"children\":[{\"id\":\"22b2d1f6-fef1-404b-838d-f192a337f6e2\",\"title\":\"Analyse av klopyralid og aminopyralid ved NIBIO\",\"url\":\"\\/tema\\/plantehelse\\/analyser-av-plantevernmidler\\/analyse-av-klopyralid-og-aminopyralid-ved-nibio\"}]},{\"id\":\"3994c51a-c186-49b3-978a-00966eb65205\",\"title\":\"Plantetoksiner\",\"url\":\"\\/tema\\/plantehelse\\/plantetoksiner\"},{\"id\":\"839785c6-bd33-43cf-8266-e447ee869aa5\",\"title\":\"Genmodifisering og genredigering av planter\",\"url\":\"\\/tema\\/plantehelse\\/genmodifisering-og-genredigering-av-planter\"},{\"id\":\"b9ad98a2-9ca9-46d1-b83a-83681dd5132b\",\"title\":\"Plantehelse\\u00E5ret 2020\",\"url\":\"\\/tema\\/plantehelse\\/plantehelsearet-2020\"}]},{\"id\":\"b9b124e0-9f80-4046-8ad7-47435df3c97d\",\"slug\":\"landskap\",\"title\":\"Landskap\",\"description\":\"I NIBIO forsker vi p\\u00E5 landskap som mennesker har p\\u00E5virket med jord- og skogbruk. Slike landskap finnes i lavlandet og p\\u00E5 fjellet, i daler og langs fjorder, landlig og byn\\u00E6rt. Vi kartlegger og overv\\u00E5ker bruk av arealer, biologisk mangfold og kulturminner.\",\"displayName\":\"Landskap\",\"url\":\"\\/tema\\/landskap\",\"icon\":\"\\/_\\/image\\/f7a92e0c-3192-49ea-a86c-72db5f4f31c3:1de954f6f28bc3d5336984fdea3442b9f885b96b\\/max-1280\\/Icon%205.svg?quality=60\",\"iconAlt\":\"Icon 5\",\"photo\":\"\\/_\\/image\\/b750c840-3e33-4ca4-829a-e5ce83dd032b:56eda4ecbaa90e831b32dd8f21d6abe1f42d373f\\/block-375-250\\/20170801-OSP-7204_tistler-korn-tun_fra-By-mot-Byvoll_Levanger_Nord-Tr%C3%B8nd....jpg?quality=60\",\"childIcon\":\"\\/_\\/image\\/be24ee1d-da74-4370-9269-8dfdbffbcd60:e1e243e4658c61d301573cf3371cf7760934136a\\/max-1280\\/nibio-temaikon_landskap_neg.png?quality=60\",\"childIconAlt\":\"nibio-temaikon_landskap_neg\",\"children\":[{\"id\":\"348ba4ce-877d-45e4-840c-4e17614f6d31\",\"title\":\"Insekter og insektforskning\",\"url\":\"\\/tema\\/landskap\\/insekter-og-insektforskning\"},{\"id\":\"29ba2098-b907-4df8-9632-c335b655ecf9\",\"title\":\"Systematisk overv\\u00E5king av jordbrukslandskap\",\"url\":\"\\/tema\\/landskap\\/systematisk-overvaking-av-jordbrukslandskap\",\"children\":[{\"id\":\"0fe4dfb8-7827-41ac-9c3a-bdcb0eff9940\",\"title\":\"Tilstandsoverv\\u00E5king og REsultatkontroll i jordbrukets KUlturlandskap - 3Q\",\"url\":\"\\/tema\\/landskap\\/systematisk-overvaking-av-jordbrukslandskap\\/3q\",\"children\":[{\"id\":\"e0b7a580-b3ea-4cef-a5d6-f33911f4b940\",\"title\":\"3Q-overv\\u00E5king av pollinatorer\",\"url\":\"\\/tema\\/landskap\\/systematisk-overvaking-av-jordbrukslandskap\\/3q\\/3q-overvaking-av-pollinatorer\"},{\"id\":\"7fa4d100-314b-4ad4-acb0-146a0f4cf5f0\",\"title\":\"3Q-overv\\u00E5king av planter\",\"url\":\"\\/tema\\/landskap\\/systematisk-overvaking-av-jordbrukslandskap\\/3q\\/3q-overvaking-av-planter\"},{\"id\":\"8f8348e1-de70-4654-bd2e-c5788cf10337\",\"title\":\"3Q-overv\\u00E5king av fugler\",\"url\":\"\\/tema\\/landskap\\/systematisk-overvaking-av-jordbrukslandskap\\/3q\\/3q-overvaking-av-fugler\"},{\"id\":\"d00e32d1-9781-4428-9d8d-c8e3fdcda801\",\"title\":\"3Q-overv\\u00E5king av bygninger\",\"url\":\"\\/tema\\/landskap\\/systematisk-overvaking-av-jordbrukslandskap\\/3q\\/3q-overvaking-av-bygninger\"},{\"id\":\"210b7714-2398-4076-8683-50e47def57ed\",\"title\":\"Blomster i kulturlandskapet\",\"url\":\"\\/tema\\/landskap\\/systematisk-overvaking-av-jordbrukslandskap\\/3q\\/blomster-i-kulturlandskapet\"}]},{\"id\":\"6b46ff4b-fbc9-4e80-b3e8-1347181795d3\",\"title\":\"Overv\\u00E5king av seterlandskap\",\"url\":\"\\/tema\\/landskap\\/systematisk-overvaking-av-jordbrukslandskap\\/overvaking-av-seterlandskap\"},{\"id\":\"c8df7084-6adf-4412-b7fa-1f73613cd0d1\",\"title\":\"Landskap i ruter\",\"url\":\"\\/tema\\/landskap\\/systematisk-overvaking-av-jordbrukslandskap\\/landskap-i-ruter\"}]},{\"id\":\"e2efa108-d2a3-458e-962b-cef26550a36f\",\"title\":\"Landskapshistorier\",\"url\":\"\\/tema\\/landskap\\/landskapshistorier\"},{\"id\":\"6bdab82e-adda-4256-baa2-20a90d2f4bbb\",\"title\":\"Tilbakeblikk - norske landskap i endring\",\"url\":\"\\/tema\\/landskap\\/tilbakeblikk\"},{\"id\":\"fcc842c6-a7ee-46f0-a287-39f07d4338be\",\"title\":\"Kulturlandskap og biologisk mangfold\",\"url\":\"\\/tema\\/landskap\\/kulturlandskap-og-biologisk-mangfold\",\"children\":[{\"id\":\"177597f5-665b-4a9e-bef0-d3af79d66966\",\"title\":\"Kulturarv og terroir \",\"url\":\"\\/tema\\/landskap\\/kulturlandskap-og-biologisk-mangfold\\/kulturarv-og-terroir\"},{\"id\":\"87f680be-3c3b-4fb4-8d7e-62ec3ff1ed27\",\"title\":\"Kulturmarkstyper\",\"url\":\"\\/tema\\/landskap\\/kulturlandskap-og-biologisk-mangfold\\/kulturmarkstyper\"},{\"id\":\"89601ae7-a618-44c7-9c5e-e3829fb7fb10\",\"title\":\"Brosjyrer og b\\u00F8ker\",\"url\":\"\\/tema\\/landskap\\/kulturlandskap-og-biologisk-mangfold\\/brosjyrer-og-boker\"},{\"id\":\"5922ebaa-5f36-442f-85fb-d4770a35ed87\",\"title\":\"Lag din egen blomstereng\",\"url\":\"\\/tema\\/landskap\\/kulturlandskap-og-biologisk-mangfold\\/lag-din-egen-blomstereng\"}]},{\"id\":\"b70722ff-af02-43dc-93b0-1bb7163079f1\",\"title\":\"Utmark, beitedyr og teknologi\",\"url\":\"\\/tema\\/landskap\\/utmark-beitedyr-og-teknologi\"},{\"id\":\"d170571f-d195-4454-8a85-833f51f13fc9\",\"title\":\"Folkeforskning ved NIBIO - Biomangfold\",\"url\":\"\\/tema\\/landskap\\/folkeforskning-ved-nibio-biomangfold\",\"children\":[{\"id\":\"a3a70cc6-2356-42d1-a243-762bbc808ade\",\"title\":\"Gratulerer med flaggermuskasse!\",\"url\":\"\\/tema\\/landskap\\/folkeforskning-ved-nibio-biomangfold\\/gratulerer-med-flaggermuskasse\"},{\"id\":\"c51d336e-395a-4110-a305-fff43620f4d2\",\"title\":\"Gratulerer med humlekasse!\",\"url\":\"\\/tema\\/landskap\\/folkeforskning-ved-nibio-biomangfold\\/gratulerer-med-humlekasse\"}]},{\"id\":\"ba05d2c9-4ebf-4247-8edf-e8fc22feb78c\",\"title\":\"Innsamling av biologisk materiale\",\"url\":\"\\/tema\\/landskap\\/innsamling-av-biologisk-materiale\",\"children\":[{\"id\":\"b4004263-627e-44f7-adef-21b7229c8ef3\",\"title\":\"Biologisk materiale fra bj\\u00F8rn\",\"url\":\"\\/tema\\/landskap\\/innsamling-av-biologisk-materiale\\/biologisk-materiale-fra-bjorn\",\"children\":[{\"id\":\"15dd3c1a-f3ac-401f-a0d6-c06cbfc35706\",\"title\":\"Isbj\\u00F8rn\",\"url\":\"\\/tema\\/landskap\\/innsamling-av-biologisk-materiale\\/biologisk-materiale-fra-bjorn\\/isbjorn\"},{\"id\":\"5ffb3cd5-f381-4871-874b-21d1c5edb10e\",\"title\":\"Nasjonal overv\\u00E5kning \",\"url\":\"\\/tema\\/landskap\\/innsamling-av-biologisk-materiale\\/biologisk-materiale-fra-bjorn\\/nasjonal-overvakning\",\"children\":[{\"id\":\"da0cf303-a810-4526-9f4e-339ed7a60563\",\"title\":\"Innsamling av bj\\u00F8rnepr\\u00F8ver\",\"url\":\"\\/tema\\/landskap\\/innsamling-av-biologisk-materiale\\/biologisk-materiale-fra-bjorn\\/nasjonal-overvakning\\/innsamling-av-bjorneprover\"}]},{\"id\":\"0e8d2777-c967-4743-ac22-99a7e2108671\",\"title\":\"H\\u00E5rfeller\",\"url\":\"\\/tema\\/landskap\\/innsamling-av-biologisk-materiale\\/biologisk-materiale-fra-bjorn\\/harfeller\"}]},{\"id\":\"9c664ddc-61b1-4017-a696-73b5e34999e7\",\"title\":\"Biologisk materiale fra fisk\",\"url\":\"\\/tema\\/landskap\\/innsamling-av-biologisk-materiale\\/biologisk-materiale-fra-fisk\",\"children\":[{\"id\":\"2b1f45d2-c148-4ea7-b33c-929e178752f9\",\"title\":\"Ferskvannsfisk i Pasvik\",\"url\":\"\\/tema\\/landskap\\/innsamling-av-biologisk-materiale\\/biologisk-materiale-fra-fisk\\/ferskvannsfisk-i-pasvik\"},{\"id\":\"3c060f83-988b-4901-8fb5-bcd9c16e4678\",\"title\":\"Lokal innlevering av fiskepr\\u00F8ver \",\"url\":\"\\/tema\\/landskap\\/innsamling-av-biologisk-materiale\\/biologisk-materiale-fra-fisk\\/lokal-innlevering-av-fiskeprover\"}]},{\"id\":\"824f3b92-6654-4bc2-b5c6-2128175c8a08\",\"title\":\"Biologisk materiale fra insekter\",\"url\":\"\\/tema\\/landskap\\/innsamling-av-biologisk-materiale\\/biologisk-materiale-fra-insekter\"},{\"id\":\"7f9b25cd-6692-46ed-a20c-94fb558a8b8b\",\"title\":\"Biologisk materiale fra fugl\",\"url\":\"\\/tema\\/landskap\\/innsamling-av-biologisk-materiale\\/biologisk-materiale-fra-fugl\"}]},{\"id\":\"fa161711-0a8e-4828-a87d-c5875dfd9c7c\",\"title\":\"Reindrift\",\"url\":\"\\/tema\\/landskap\\/reindrift\"},{\"id\":\"effdc032-605d-41a4-bcdf-ff759495cc71\",\"title\":\"Norsk viltskadesenter\",\"url\":\"\\/tema\\/landskap\\/norsk-viltskadesenter\",\"children\":[{\"id\":\"fd722668-0aaf-40bc-afc5-2e5e15729a65\",\"title\":\"Skader p\\u00E5 skog fra tamfe\",\"url\":\"\\/tema\\/landskap\\/norsk-viltskadesenter\\/skader-pa-skog-fra-tamfe\"},{\"id\":\"e4a8e7bd-4653-4eb7-853f-22d9820c22a6\",\"title\":\"Beiteskader p\\u00E5 skog fra klauvvilt\",\"url\":\"\\/tema\\/landskap\\/norsk-viltskadesenter\\/beiteskader-pa-skog-fra-klauvvilt\"},{\"id\":\"7cfb364b-6f2e-41b1-87d4-8a085b82bcd2\",\"title\":\"Forebyggende tiltak mot rovviltskader p\\u00E5 rein\",\"url\":\"\\/tema\\/landskap\\/norsk-viltskadesenter\\/forebyggende-tiltak-mot-rovviltskader-pa-rein\"},{\"id\":\"ee0b3678-6d1f-4e1a-b538-07dcf090c40d\",\"title\":\"Forebyggende tiltak mot rovviltskader p\\u00E5 sau\",\"url\":\"\\/tema\\/landskap\\/norsk-viltskadesenter\\/forebyggende-tiltak-mot-rovviltskader-pa-sau\"},{\"id\":\"091c0f2b-5a30-407b-9c98-8a9ca72ed746\",\"title\":\"Forebyggende tiltak i vandrebir\\u00F8ktet\",\"url\":\"\\/tema\\/landskap\\/norsk-viltskadesenter\\/forebyggende-tiltak-i-vandrebiroktet\"},{\"id\":\"237424e7-2e16-4910-8e11-fa5825d548a9\",\"title\":\"Taps\\u00E5rsaker hos sau og tamrein\",\"url\":\"\\/tema\\/landskap\\/norsk-viltskadesenter\\/tapsarsaker-hos-sau-og-tamrein\"},{\"id\":\"d31d83d4-4d18-48dc-be09-71397fd40e7b\",\"title\":\"Beiteskader for\\u00E5rsaket av gjess\",\"url\":\"\\/tema\\/landskap\\/norsk-viltskadesenter\\/beiteskader-forarsaket-av-gjess\"},{\"id\":\"62b67ed3-1a5d-4a5b-afda-9c09e6e2b003\",\"title\":\"Beiteskader p\\u00E5 eng for\\u00E5rsaket av hjortedyr\",\"url\":\"\\/tema\\/landskap\\/norsk-viltskadesenter\\/beiteskader-pa-eng-forarsaket-av-hjortedyr\"},{\"id\":\"6a1c572d-cf61-45d3-9503-b1fa9bd1926c\",\"title\":\"Tiltak mot p\\u00E5kj\\u00F8rsler av tamrein \",\"url\":\"\\/tema\\/landskap\\/norsk-viltskadesenter\\/tiltak-mot-pakjorsler-av-tamrein-og-hjortevilt\"},{\"id\":\"a94b384e-278c-4f53-8bdd-3f370a255d76\",\"title\":\"\\u00C5 leve med rovvilt\",\"url\":\"\\/tema\\/landskap\\/norsk-viltskadesenter\\/a-leve-med-rovvilt\"}]},{\"id\":\"ec641cd4-3f89-4532-83fb-e1518250a27d\",\"title\":\"NIBIO Landvik: Norsk kompetansesenter for blomstereng og naturfr\\u00F8\",\"url\":\"\\/tema\\/landskap\\/nibio-landvik-norsk-kompetansesenter-for-blomstereng-og-naturfro\",\"children\":[{\"id\":\"288fb938-1be7-485c-948a-2d073e751e38\",\"title\":\"Praktiske r\\u00E5d ved etablering av blomstereng \\/ naturgraseng\",\"url\":\"\\/tema\\/landskap\\/nibio-landvik-norsk-kompetansesenter-for-blomstereng-og-naturfro\\/praktiske-rad-ved-etablering-av-blomstereng--naturgraseng\"},{\"id\":\"6eff989d-d0fa-45e9-80b0-9c4545b31c60\",\"title\":\"Skj\\u00F8tsel av blomstereng\",\"url\":\"\\/tema\\/landskap\\/nibio-landvik-norsk-kompetansesenter-for-blomstereng-og-naturfro\\/skjotsel-av-blomstereng\"},{\"id\":\"e25c0159-d73f-42ee-a48f-988b5a8a3355\",\"title\":\"Regionale blomsterfr\\u00F8-blandinger og naturgras \\/ fjellfr\\u00F8blandinger\",\"url\":\"\\/tema\\/landskap\\/nibio-landvik-norsk-kompetansesenter-for-blomstereng-og-naturfro\\/regionale-blomsterfro-blandinger-og-naturgras-fjellfroblandinger\"},{\"id\":\"036d1b45-3179-4fe4-8147-41b599422631\",\"title\":\"Innsamling av eget fr\\u00F8\",\"url\":\"\\/tema\\/landskap\\/nibio-landvik-norsk-kompetansesenter-for-blomstereng-og-naturfro\\/innsamling-av-eget-fro\"},{\"id\":\"0d84424b-b68a-4bca-aa78-42496433d423\",\"title\":\"Spirer og sm\\u00E5planter av markblomster\",\"url\":\"\\/tema\\/landskap\\/nibio-landvik-norsk-kompetansesenter-for-blomstereng-og-naturfro\\/spirer-og-smaplanter-av-markblomster\"},{\"id\":\"fda2a31e-71cd-4ab0-8e65-1fc967bf30a3\",\"title\":\"Fr\\u00F8 til pollinatorstriper og andre st\\u00F8rre arealer\",\"url\":\"\\/tema\\/landskap\\/nibio-landvik-norsk-kompetansesenter-for-blomstereng-og-naturfro\\/fro-til-pollinatorstriper-og-andre-st%C3%B8rre-arealer\"},{\"id\":\"241ede84-3626-45ce-a8d0-f4dce6df47cd\",\"title\":\"Fr\\u00F8produksjon \\u2013 muligheter for kontraktfr\\u00F8avl\",\"url\":\"\\/tema\\/landskap\\/nibio-landvik-norsk-kompetansesenter-for-blomstereng-og-naturfro\\/froproduksjon--muligheter-for-kontraktfroavl\"}]},{\"id\":\"d808c1ac-1a72-471a-a829-9cb34f6d08f8\",\"title\":\"Fugleturisme i Nord-Norge\",\"url\":\"\\/tema\\/landskap\\/fugleturisme\",\"children\":[{\"id\":\"b2df6599-d5fd-45ee-b726-0995bae44408\",\"title\":\"Fugleomr\\u00E5der i Nord-Norge\",\"url\":\"\\/tema\\/landskap\\/fugleturisme\\/fugleomrader-i-nord-norge\"}]},{\"id\":\"e9b8bf52-4590-401a-bc3f-1584ffb8df9e\",\"title\":\"Hest som n\\u00E6ring og hobby\",\"url\":\"\\/tema\\/landskap\\/hest-som-naering-og-hobby\"},{\"id\":\"0b40ed97-493d-4169-8ff4-221aa8a72566\",\"title\":\"Landskapskart\",\"url\":\"\\/tema\\/landskap\\/landskapskart\",\"children\":[{\"id\":\"36102b5d-e0c8-4f7b-b8df-38500aa6d44c\",\"title\":\"Nasjonalt referansesystem for landskap\",\"url\":\"\\/tema\\/landskap\\/landskapskart\\/nasjonalt-referansesystem-for-landskap\",\"children\":[{\"id\":\"cd257301-9c6d-4333-aea9-085c3761a3ff\",\"title\":\"Landskapsregioner\",\"url\":\"\\/tema\\/landskap\\/landskapskart\\/nasjonalt-referansesystem-for-landskap\\/landskapsregioner\",\"children\":[{\"id\":\"6bebb516-7151-46b7-b93c-5a9948be0b40\",\"title\":\"Underregioner\",\"url\":\"\\/tema\\/landskap\\/landskapskart\\/nasjonalt-referansesystem-for-landskap\\/landskapsregioner\\/underregioner\"}]},{\"id\":\"1d958f3d-8e1a-4e03-8c14-d1061b5dd85c\",\"title\":\"Jordbruksregioner\",\"url\":\"\\/tema\\/landskap\\/landskapskart\\/nasjonalt-referansesystem-for-landskap\\/jordbruksregioner\"}]},{\"id\":\"624935d9-5fea-4524-93d6-c73ccfb86bf4\",\"title\":\"Temakart landskap\",\"url\":\"\\/tema\\/landskap\\/landskapskart\\/temakart-landskap\"}]},{\"id\":\"abeb63d4-ac42-42f8-9a46-11f3766584c0\",\"title\":\"Utmarksbeite\",\"url\":\"\\/tema\\/landskap\\/utmarksbeite\",\"children\":[{\"id\":\"d90caefd-46f7-4277-8ae0-f6c7662dc6ec\",\"title\":\"Ressursgrunnlag\",\"url\":\"\\/tema\\/landskap\\/utmarksbeite\\/ressursgrunnlag\",\"children\":[{\"id\":\"68aea051-b094-40de-999c-651edcc31e94\",\"title\":\"Vegetasjonskart\",\"url\":\"\\/tema\\/landskap\\/utmarksbeite\\/ressursgrunnlag\\/vegetasjonskart\"},{\"id\":\"02742088-fd97-4e43-807c-e1e4f01f1a24\",\"title\":\"Kartleggingsmetode\",\"url\":\"\\/tema\\/landskap\\/utmarksbeite\\/ressursgrunnlag\\/kartleggingsmetode\"},{\"id\":\"3ddb0b51-17b0-4bd1-983c-23fa19dd6873\",\"title\":\"Vegetasjonstypar\",\"url\":\"\\/tema\\/landskap\\/utmarksbeite\\/ressursgrunnlag\\/vegetasjonstyper\"},{\"id\":\"ac232156-1913-4625-a25a-ccc57af284a6\",\"title\":\"Gjengroing\",\"url\":\"\\/tema\\/landskap\\/utmarksbeite\\/ressursgrunnlag\\/gjengroing\"}]},{\"id\":\"8d1fd472-b7da-4dbb-a8b4-7c61b5b8de26\",\"title\":\"Beitebruk\",\"url\":\"\\/tema\\/landskap\\/utmarksbeite\\/beitebruk\",\"children\":[{\"id\":\"da07341e-f668-459a-8326-fd233e21d43d\",\"title\":\"Beitelagskart\",\"url\":\"\\/tema\\/landskap\\/utmarksbeite\\/beitebruk\\/beitebrukskart\"},{\"id\":\"5714f7e1-bf1e-4531-8fdc-414fde333d64\",\"title\":\"Beitestatistikk for sau i utmark\",\"url\":\"\\/tema\\/landskap\\/utmarksbeite\\/beitebruk\\/beitestatistikk-for-sau-i-utmark\"},{\"id\":\"6dbf3ccc-6efa-40cb-856b-880c4800ab17\",\"title\":\"Beitestatistikk - talgrunnlag\",\"url\":\"\\/tema\\/landskap\\/utmarksbeite\\/beitebruk\\/beitestatistikk\"}]},{\"id\":\"a0330fb3-98f2-41c7-a1fb-ffceb04c5694\",\"title\":\"Arealrekneskap\",\"url\":\"\\/tema\\/landskap\\/utmarksbeite\\/arealrekneskap\"},{\"id\":\"e633af1e-b651-4594-8606-b0d6847a6a45\",\"title\":\"Karttema\",\"url\":\"\\/tema\\/landskap\\/utmarksbeite\\/karttema\"},{\"id\":\"2d67d8da-f2e8-487f-a7e9-37071602aaf1\",\"title\":\"R\\u00E5dgjeving og litteratur\",\"url\":\"\\/tema\\/landskap\\/utmarksbeite\\/radgjeving-og-litteratur\"},{\"id\":\"c234366b-8b79-44d3-ad78-89178d1694ae\",\"title\":\"Nytt fr\\u00E5 utmarksbeite\",\"url\":\"\\/tema\\/landskap\\/utmarksbeite\\/nytt-fra-utmarksbeite\"}]}]},{\"id\":\"3d3fe093-76a7-41ac-b5c6-6bb634b9e478\",\"slug\":\"milj\\u00F8\",\"title\":\"Milj\\u00F8\",\"description\":\"Hvordan kan vi bruke naturen p\\u00E5 nye m\\u00E5ter, for eksempel ved \\u00E5 omdanne avfall til noe nyttig? NIBIO unders\\u00F8ker hvordan vi kan hente ut verdier fra naturen, samtidig som vi ivaretar milj\\u00F8 og klima. Vi forsker p\\u00E5 problematikk rundt forurensing av jord og vann, avrenning og avfallsh\\u00E5ndtering. Vi forsker ogs\\u00E5 p\\u00E5 klimagassutslipp fra jord- og skogbruk, og instituttet har ansvar for den delen av Norges klimagassregnskap under FNs klimakonvensjon om omfatter utslipp fra landarealene (LULUCF-sektoren).\",\"displayName\":\"Milj\\u00F8\",\"url\":\"\\/tema\\/miljo\",\"icon\":\"\\/_\\/image\\/ced0fdfb-3997-4716-8db4-3abed728f355:5bafe1b1ba36864e230e7d0694a044f1493031cc\\/max-1280\\/Icon%206.svg?quality=60\",\"iconAlt\":\"Icon 6\",\"photo\":\"\\/_\\/image\\/f8f65c6d-4a7f-4f9b-bf30-50a68e0ae3d6:6f9dce2ef592ef35c0a4abd03377e3a651b96598\\/block-375-250\\/ef-20140930-151039.jpg?quality=60\",\"childIcon\":\"\\/_\\/image\\/eaa1f78d-042d-41ac-9097-113cd41994c2:b8b6554e69bb9f92a01003cb690c6a62784a1a2e\\/max-1280\\/nibio-temaikon_miljo_neg.png?quality=60\",\"childIconAlt\":\"nibio-temaikon_miljo_neg\",\"children\":[{\"id\":\"3f516352-ea08-4576-87dc-5e5bd379e111\",\"title\":\"Plantevernmidler som forurensning\",\"url\":\"\\/tema\\/miljo\\/plantevernmidler-som-forurensning\"},{\"id\":\"ab3777ae-8aaa-42ef-9763-cbd80ad0b57c\",\"title\":\"Vannoverv\\u00E5king\",\"url\":\"\\/tema\\/miljo\\/vannovervaking\",\"children\":[{\"id\":\"0eec7afb-a9bb-4a6c-a7f3-a6734c32aa14\",\"title\":\"Sensoroverv\\u00E5king med sanntids-data \",\"url\":\"\\/tema\\/miljo\\/vannovervaking\\/sensorovervaking-med-sanntids-data\"},{\"id\":\"281ec71b-d37b-4cb6-9c5c-61988cc2d813\",\"title\":\"R\\u00E5d om overv\\u00E5king av vannkjemi i bekker og elver \",\"url\":\"\\/tema\\/miljo\\/vannovervaking\\/rad-om-overvaking-av-vannkjemi-i-bekker-og-elver\"}]},{\"id\":\"f7bb2691-776d-4d68-a8e4-a2f550c30ab3\",\"title\":\"Program for jord- og vannoverv\\u00E5king i landbruket (JOVA)\",\"url\":\"\\/tema\\/miljo\\/jord-og-vannovervaking-i-landbruket\",\"children\":[{\"id\":\"09f8558c-e5db-47b2-ad40-e226681633f0\",\"title\":\"Nedb\\u00F8rfeltene\",\"url\":\"\\/tema\\/miljo\\/jord-og-vannovervaking-i-landbruket\\/nedborfeltene\"},{\"id\":\"e153d009-b3f7-4abd-ab12-f63d69aab437\",\"title\":\"Metoder\",\"url\":\"\\/tema\\/miljo\\/jord-og-vannovervaking-i-landbruket\\/metoder\"}]},{\"id\":\"d79af2e5-ddbc-4c27-8006-b75a98959c31\",\"title\":\"Veileder for milj\\u00F8- og klimatiltak i landbruket\",\"url\":\"\\/tema\\/miljo\\/tiltaksveileder-for-landbruket\",\"children\":[{\"id\":\"ebdb5bfd-f62e-4b64-9036-fe32e00e3751\",\"title\":\"Vannmilj\\u00F8tiltak\",\"url\":\"\\/tema\\/miljo\\/tiltaksveileder-for-landbruket\\/vannmilljotiltak\",\"children\":[{\"id\":\"a9ce0796-9daa-4062-8445-6b55be5aee2a\",\"title\":\"Driftsformer og vannmilj\\u00F8tiltak\",\"url\":\"\\/tema\\/miljo\\/tiltaksveileder-for-landbruket\\/vannmilljotiltak\\/driftsformer-og-vannmiljotiltak\"},{\"id\":\"e175ea3b-28e1-4944-9767-d781462b411a\",\"title\":\"Milj\\u00F8tilpasset plantevern\",\"url\":\"\\/tema\\/miljo\\/tiltaksveileder-for-landbruket\\/vannmilljotiltak\\/miljotilpasset-plantevern\"},{\"id\":\"aa3d956e-614c-413f-af07-904e801f94f0\",\"title\":\"Tiltaksanalyser og andre verkt\\u00F8y (vannmilj\\u00F8)\",\"url\":\"\\/tema\\/miljo\\/tiltaksveileder-for-landbruket\\/vannmilljotiltak\\/tiltaksanalyser-og-andre-verktoy-vannmiljo\"},{\"id\":\"13438594-efb3-4bd6-b469-8bed340103a8\",\"title\":\"Juridiske og \\u00F8konomiske virkemidler\",\"url\":\"\\/tema\\/miljo\\/tiltaksveileder-for-landbruket\\/vannmilljotiltak\\/juridiske-og-okonomiske-virkemidler\"}]},{\"id\":\"bb696ece-fed7-4f7e-b81c-04d1fb5ede93\",\"title\":\"Skogbruk og vannmilj\\u00F8\",\"url\":\"\\/tema\\/miljo\\/tiltaksveileder-for-landbruket\\/skogbruk-og-vannmiljo\",\"children\":[{\"id\":\"d3559e94-ea58-4d39-8c95-1cbf7c541226\",\"title\":\"P\\u00E5virkning av skogbruk p\\u00E5 vann\",\"url\":\"\\/tema\\/miljo\\/tiltaksveileder-for-landbruket\\/skogbruk-og-vannmiljo\\/pavirkning-av-skogbruk-pa-vann\"},{\"id\":\"8be8ff30-39c6-4579-aa9d-94ca309d81c1\",\"title\":\"Vannmilj\\u00F8tiltak i skog\",\"url\":\"\\/tema\\/miljo\\/tiltaksveileder-for-landbruket\\/skogbruk-og-vannmiljo\\/vannmiljotiltak-i-skog\"},{\"id\":\"84635423-4ec1-40df-83b2-87ddb00b0968\",\"title\":\"Skogbruk og vannmilj\\u00F8 - Relevant lovverk\",\"url\":\"\\/tema\\/miljo\\/tiltaksveileder-for-landbruket\\/skogbruk-og-vannmiljo\\/skogbruk-og-vannmiljo-relevant-lovverk\"}]},{\"id\":\"3f5a98c2-a987-49c2-afba-07387ec4f002\",\"title\":\"Klimatilpasning\",\"url\":\"\\/tema\\/miljo\\/tiltaksveileder-for-landbruket\\/klimatilpasning\",\"children\":[{\"id\":\"872a63cf-84a9-4086-acbf-8fb4a7698323\",\"title\":\"Flom, ekstremepisoder og erosjon\",\"url\":\"\\/tema\\/miljo\\/tiltaksveileder-for-landbruket\\/klimatilpasning\\/flom-ekstremepisoder-og-erosjon\"},{\"id\":\"eeafff50-4db6-4696-83d0-0840b375c698\",\"title\":\"Plantedyrking i et endret klima \",\"url\":\"\\/tema\\/miljo\\/tiltaksveileder-for-landbruket\\/klimatilpasning\\/plantedyrking-i-et-endret-klima\"}]},{\"id\":\"59309e4a-e691-42be-a5af-272de36fe70b\",\"title\":\"Jordhelse\",\"url\":\"\\/tema\\/miljo\\/tiltaksveileder-for-landbruket\\/jordhelse\",\"children\":[{\"id\":\"02f4f70d-2f51-4871-9801-10cd598bba7e\",\"title\":\"Jordliv\",\"url\":\"\\/tema\\/miljo\\/tiltaksveileder-for-landbruket\\/jordhelse\\/Jordliv\"}]},{\"id\":\"44921a7a-c287-4800-9e02-6593e0b6d08b\",\"title\":\"Biomangfold\",\"url\":\"\\/tema\\/miljo\\/tiltaksveileder-for-landbruket\\/biomangfold\"},{\"id\":\"949acd15-2a93-471d-a50f-1f6daff6ea5f\",\"title\":\"Klimagassutslipp \",\"url\":\"\\/tema\\/miljo\\/tiltaksveileder-for-landbruket\\/klimagassutslipp\",\"children\":[{\"id\":\"e6331ccb-dca2-4f42-9c5c-cdf7264acf9e\",\"title\":\"Beitedyr og metangassutslipp\",\"url\":\"\\/tema\\/miljo\\/tiltaksveileder-for-landbruket\\/klimagassutslipp\\/beitedyr-og-metangassutslipp\"},{\"id\":\"3ad7a898-9477-4d1e-a280-2d058bd0151f\",\"title\":\"Myr og klimagasser\",\"url\":\"\\/tema\\/miljo\\/tiltaksveileder-for-landbruket\\/klimagassutslipp\\/myr-og-klimagasser\"},{\"id\":\"af50f0c0-5f01-4753-9dea-5dc83880b649\",\"title\":\"Klimagasstiltak\",\"url\":\"\\/tema\\/miljo\\/tiltaksveileder-for-landbruket\\/klimagassutslipp\\/klimagasstiltak\"},{\"id\":\"fa451cd1-49d2-44c7-a44b-5460cf0f3a60\",\"title\":\"Karbonlandbruk - Carbon farming\",\"url\":\"\\/tema\\/miljo\\/tiltaksveileder-for-landbruket\\/klimagassutslipp\\/karbonlandbruk-carbon-farming\"}]},{\"id\":\"a4eba873-6a24-4ab2-b3d3-65ebf2688d8b\",\"title\":\"Faktaark og rapporter \",\"url\":\"\\/tema\\/miljo\\/tiltaksveileder-for-landbruket\\/faktaark-og-rapporter\"}]},{\"id\":\"8650339d-c791-47af-b1c9-9ec65069c116\",\"title\":\"Vannmilj\\u00F8 - Naturbaserte l\\u00F8sninger\",\"url\":\"\\/tema\\/miljo\\/vannmiljo-naturbaserte-systemer\",\"children\":[{\"id\":\"2f3743e0-44af-4a5c-b008-df30d8fbc4ad\",\"title\":\"NBS for \\u00E5 bedre vannkvalitet\",\"url\":\"\\/tema\\/miljo\\/vannmiljo-naturbaserte-systemer\\/nbs-for-a-bedre-vannkvalitet\"},{\"id\":\"310dde7d-e36f-4c41-8ed1-395b17818074\",\"title\":\"NIBIOs tidligere og n\\u00E5v\\u00E6rende arbeid med NBS\",\"url\":\"\\/tema\\/miljo\\/vannmiljo-naturbaserte-systemer\\/nibios-tidligere-og-navaerende-arbeid-med-nbs\"}]},{\"id\":\"d7de8174-9889-4415-a3c0-dee458b857b2\",\"title\":\"Samferdselsprosjekter - kompetanse, erfaringer og fagkunnskap\",\"url\":\"\\/tema\\/miljo\\/samferdselsprosjekter-kompetanse-erfaringer-og-fagkunnskap\"},{\"id\":\"342cbd53-1ebd-4fe7-ae05-27e3e7e07483\",\"title\":\"Ivareta pollinatorer og deres leveomr\\u00E5der\",\"url\":\"\\/tema\\/miljo\\/ivareta-pollinatorer-og-deres-leveomrader\"},{\"id\":\"20cf8de0-6599-48a2-a66b-26e04590f210\",\"title\":\"Livsl\\u00F8psanalyser (LCA)\",\"url\":\"\\/tema\\/miljo\\/livslopsanalyser-lca\"},{\"id\":\"2f60ff56-41d2-4d53-a7eb-b95a3bc4b16a\",\"title\":\"Gress til gr\\u00F8ntanlegg\",\"url\":\"\\/tema\\/miljo\\/gress-til-grontanlegg\"},{\"id\":\"30b1b2dd-67c3-4e42-96e9-ffdaa75f3171\",\"title\":\"Klimagassregnskapet for arealbrukssektoren \",\"url\":\"\\/tema\\/miljo\\/klimagassregnskapet-for-arealbrukssektoren\"},{\"id\":\"84f59fec-0af4-438a-8aab-03c84f1cae0a\",\"title\":\"Sosio-\\u00F8kologiske innovasjoner\",\"url\":\"\\/tema\\/miljo\\/sosio-okologiske-innovasjoner\"},{\"id\":\"c16a7adb-cce5-4294-b8bf-b13adf82fb59\",\"title\":\"Kildesporing av fekal forurensing i vann\",\"url\":\"\\/tema\\/miljo\\/kildesporing-av-fekal-forurensing-i-vann\"},{\"id\":\"66968d3d-6440-4e2e-a466-bcc93d26f60c\",\"title\":\"Avlop.no - Mindre avl\\u00F8psanlegg\",\"url\":\"\\/tema\\/miljo\\/mindre-avlop\",\"children\":[{\"id\":\"fff79030-edd3-4bab-9fa9-3c6a1ae18f6b\",\"title\":\"Veiledning til kommunene\",\"url\":\"\\/tema\\/miljo\\/mindre-avlop\\/kommuneveiledning\",\"children\":[{\"id\":\"a4cc3daf-8ff4-487c-b7cc-c63c6051314e\",\"title\":\"Kommunal kompetanse\",\"url\":\"\\/tema\\/miljo\\/mindre-avlop\\/kommuneveiledning\\/kommunal-kompetanse\"},{\"id\":\"1692e7d4-5a0a-4f76-aa09-b62eb37c9f51\",\"title\":\"Vurdering av utslipp\",\"url\":\"\\/tema\\/miljo\\/mindre-avlop\\/kommuneveiledning\\/vurdering-av-utslipp\"},{\"id\":\"9a04f13a-088e-4fa0-b523-ea3de114856f\",\"title\":\"S\\u00F8knad om utslipp\",\"url\":\"\\/tema\\/miljo\\/mindre-avlop\\/kommuneveiledning\\/soknad-om-utslipp\"},{\"id\":\"259b210d-80fe-468d-b13b-1a30e0f28a51\",\"title\":\"Dokumentasjonskrav for rensegrad, dimensjonering og utforming\",\"url\":\"\\/tema\\/miljo\\/mindre-avlop\\/kommuneveiledning\\/dokumentasjonskrav-for-rensegrad-dimensjonering-og-utforming\"},{\"id\":\"5b74d816-4b62-4b04-a8ba-d4f6f5523ba1\",\"title\":\"Bygging av anlegg\",\"url\":\"\\/tema\\/miljo\\/mindre-avlop\\/kommuneveiledning\\/bygging-av-anlegg\"},{\"id\":\"60d408e5-f4ff-49ee-bb0b-c0e02baebc3d\",\"title\":\"Drift, service og vedlikehold av anlegg\",\"url\":\"\\/tema\\/miljo\\/mindre-avlop\\/kommuneveiledning\\/drift-service-og-vedlikehold-av-anlegg\"},{\"id\":\"a19d71dd-72c0-4121-b9a1-11b912e5fda5\",\"title\":\"Kontroll og tilsyn\",\"url\":\"\\/tema\\/miljo\\/mindre-avlop\\/kommuneveiledning\\/kontroll-og-tilsyn\"},{\"id\":\"12b3c660-0631-4501-9022-6a14236d2552\",\"title\":\"GIS i kommunalt avl\\u00F8p\",\"url\":\"\\/tema\\/miljo\\/mindre-avlop\\/kommuneveiledning\\/gis-i-kommunalt-avlop\"},{\"id\":\"ffc39b82-55e9-47fa-9f44-6669783f7da5\",\"title\":\"Sonekart for hytteavl\\u00F8p i kystsonen\",\"url\":\"\\/tema\\/miljo\\/mindre-avlop\\/kommuneveiledning\\/sonekart-for-hytteavlop-i-kystsonen\"},{\"id\":\"fbf8bb72-4a5e-4d89-9511-894ddc4458d7\",\"title\":\"Lokale forskrifter\",\"url\":\"\\/tema\\/miljo\\/mindre-avlop\\/kommuneveiledning\\/lokale-forskrifter\"},{\"id\":\"dc125e64-50ec-4e2c-990f-6e50070fd432\",\"title\":\"Tiltaksanalyser i nedb\\u00F8rsfelt\",\"url\":\"\\/tema\\/miljo\\/mindre-avlop\\/kommuneveiledning\\/tiltaksanalyser-i-nedborsfelt\"},{\"id\":\"af6b9f5a-9ecb-4055-9f6e-f275dbbeecff\",\"title\":\"Kommunal veiledning og informasjon\",\"url\":\"\\/tema\\/miljo\\/mindre-avlop\\/kommuneveiledning\\/kommunal-veiledning-og-informasjon\"},{\"id\":\"dce04fe4-2c96-49f9-925b-cbbd9d7dddbb\",\"title\":\"Sp\\u00F8rsm\\u00E5l og svar til forurensningsforskriften\",\"url\":\"\\/tema\\/miljo\\/mindre-avlop\\/kommuneveiledning\\/sporsmal-og-svar-til-forurensningsforskriften\"}]},{\"id\":\"2a335476-6d2e-4570-a430-fa0f9d699da3\",\"title\":\"Hvordan velge avl\\u00F8psl\\u00F8sning?\",\"url\":\"\\/tema\\/miljo\\/mindre-avlop\\/valg-av-renselosning\",\"children\":[{\"id\":\"ef048068-0fd7-47bd-967c-29280f571d1e\",\"title\":\"Aktuelle l\\u00F8sninger\",\"url\":\"\\/tema\\/miljo\\/mindre-avlop\\/valg-av-renselosning\\/aktuelle-losninger\"},{\"id\":\"fbcbc146-2a15-4918-97eb-8e91557e56d5\",\"title\":\"Kostnadsvurderinger\",\"url\":\"\\/tema\\/miljo\\/mindre-avlop\\/valg-av-renselosning\\/kostnadsvurderinger\"},{\"id\":\"dadb8cad-a38e-4a6f-b62b-e9193a984296\",\"title\":\"Lokale forutsetninger for valg og plassering av avl\\u00F8psanlegg\",\"url\":\"\\/tema\\/miljo\\/mindre-avlop\\/valg-av-renselosning\\/lokale-forutsetninger-for-valg-og-plassering-av-avlopsanlegg\"},{\"id\":\"e84ce303-23a8-4625-86f3-02339262235d\",\"title\":\"Rensekrav\",\"url\":\"\\/tema\\/miljo\\/mindre-avlop\\/valg-av-renselosning\\/rensekrav\"},{\"id\":\"29c718ff-0ef8-4c50-bf40-5cea82ddba3a\",\"title\":\"Valg av rensel\\u00F8sning\",\"url\":\"\\/tema\\/miljo\\/mindre-avlop\\/valg-av-renselosning\\/valg-av-renselosning\"}]},{\"id\":\"9076a8da-9e81-473a-8bec-8718dca5d3e9\",\"title\":\"Beskrivelser av ulike rensel\\u00F8sninger\",\"url\":\"\\/tema\\/miljo\\/mindre-avlop\\/rense-losninger\",\"children\":[{\"id\":\"003fc674-00a5-4e3d-b47a-84cf4665f397\",\"title\":\"Kildeseparerende l\\u00F8sninger\",\"url\":\"\\/tema\\/miljo\\/mindre-avlop\\/rense-losninger\\/kildeseparerende-losninger\"},{\"id\":\"8a3cff0a-b1fb-400b-a421-aa81a5f68ae0\",\"title\":\"Infiltrasjonsanlegg\",\"url\":\"\\/tema\\/miljo\\/mindre-avlop\\/rense-losninger\\/infiltrasjonsanlegg\"},{\"id\":\"b2c5ac1b-19c2-4ff9-960e-a5fbf649a1a6\",\"title\":\"Minirenseanlegg\",\"url\":\"\\/tema\\/miljo\\/mindre-avlop\\/rense-losninger\\/minirenseanlegg\"},{\"id\":\"319be960-49f9-48df-b76b-3dcd26462828\",\"title\":\"Filterbedanlegg\",\"url\":\"\\/tema\\/miljo\\/mindre-avlop\\/rense-losninger\\/filterbedanlegg\"},{\"id\":\"5eac7a6f-8bb4-4b51-8915-e47db9d3dd2d\",\"title\":\"Slamavskiller\",\"url\":\"\\/tema\\/miljo\\/mindre-avlop\\/rense-losninger\\/slamavskiller\"},{\"id\":\"fd2e070d-5936-432f-be03-21d53f61efd4\",\"title\":\"Biofilter for gr\\u00E5vann\",\"url\":\"\\/tema\\/miljo\\/mindre-avlop\\/rense-losninger\\/biofilter-for-gravann\"},{\"id\":\"aec25774-d681-4f98-9e13-49c98c6f09db\",\"title\":\"Sandfilteranlegg\",\"url\":\"\\/tema\\/miljo\\/mindre-avlop\\/rense-losninger\\/sandfilteranlegg\"}]},{\"id\":\"88a21f78-ed69-4d56-8898-fdd2cb0ef745\",\"title\":\"Dokumentasjonskrav for rensel\\u00F8sninger\",\"url\":\"\\/tema\\/miljo\\/mindre-avlop\\/dokumentasjonskrav-for-renselosninger\",\"children\":[{\"id\":\"a515bfaf-1b2e-4148-befe-75de9a91a339\",\"title\":\"Tekniske spesifikasjoner\",\"url\":\"\\/tema\\/miljo\\/mindre-avlop\\/dokumentasjonskrav-for-renselosninger\\/tekniske-spesifikasjoner\"},{\"id\":\"ea90695c-8292-41ef-930b-3cfdbf1768fc\",\"title\":\"Krav til drift og service\",\"url\":\"\\/tema\\/miljo\\/mindre-avlop\\/dokumentasjonskrav-for-renselosninger\\/krav-til-drift-og-service\"},{\"id\":\"e976c6a1-f5a4-4ac1-a228-b9372723edf8\",\"title\":\"Krav til renseeffekt\",\"url\":\"\\/tema\\/miljo\\/mindre-avlop\\/dokumentasjonskrav-for-renselosninger\\/krav-til-renseeffekt\"}]},{\"id\":\"07fe34f6-b315-49d2-a0bd-ee9c399ebd13\",\"title\":\"VA i hytte-\\/fritidsbebyggelse\",\"url\":\"\\/tema\\/miljo\\/mindre-avlop\\/va-i-hytte-fritidsbebyggelse\",\"children\":[{\"id\":\"d6586a8a-0dc1-469e-b2be-26bdffa1cd8c\",\"title\":\"Planlegging i fritidsbebyggelse\",\"url\":\"\\/tema\\/miljo\\/mindre-avlop\\/va-i-hytte-fritidsbebyggelse\\/planlegging-i-fritidsbebyggelse\"},{\"id\":\"a125e8a1-a8ef-446a-8fbd-e6fe96a11c33\",\"title\":\"Dimensjonering av renseanlegg\",\"url\":\"\\/tema\\/miljo\\/mindre-avlop\\/va-i-hytte-fritidsbebyggelse\\/dimensjonering-av-renseanlegg\"},{\"id\":\"7f48dc74-8b84-4338-a3a6-ffd6a542425d\",\"title\":\"Rensel\\u00F8sninger i fritidsbebyggelse\",\"url\":\"\\/tema\\/miljo\\/mindre-avlop\\/va-i-hytte-fritidsbebyggelse\\/renselosninger-i-fritidsbebyggelse\"},{\"id\":\"af1b7e1b-1585-4e79-afc7-091702c966ce\",\"title\":\"Drift og vedlikehold av renseanlegg\",\"url\":\"\\/tema\\/miljo\\/mindre-avlop\\/va-i-hytte-fritidsbebyggelse\\/drift-og-vedlikehold-av-renseanlegg\"},{\"id\":\"90d37ab2-a1f2-4572-8391-1e5eef4c860f\",\"title\":\"Utslipp i hyttebebyggelse\",\"url\":\"\\/tema\\/miljo\\/mindre-avlop\\/va-i-hytte-fritidsbebyggelse\\/utslipp-i-hyttebebyggelse\"},{\"id\":\"def80ec1-a764-4868-a312-aa7231df6791\",\"title\":\"Vannforsyning i fritidsbebyggelse\",\"url\":\"\\/tema\\/miljo\\/mindre-avlop\\/va-i-hytte-fritidsbebyggelse\\/vannforsyning-i-fritidsbebyggelse\"}]},{\"id\":\"0cf508ff-7b46-41a3-b82e-10d565cbd9e4\",\"title\":\"Vannforsyning i spredt bebyggelse\",\"url\":\"\\/tema\\/miljo\\/mindre-avlop\\/vannforsyning-i-spredt-bebyggelse\"},{\"id\":\"f28675bf-d07b-4489-9d54-be6540b998e5\",\"title\":\"Vannomr\\u00E5der\",\"url\":\"\\/tema\\/miljo\\/mindre-avlop\\/vannomrader\",\"children\":[{\"id\":\"548989a6-a2f3-4c59-8c9d-2da65516289b\",\"title\":\"Vannomr\\u00E5deutvalget Morsa\",\"url\":\"\\/tema\\/miljo\\/mindre-avlop\\/vannomrader\\/vannomradeutvalget-morsa\",\"children\":[{\"id\":\"17409ca2-14be-4512-9054-212ee8efdab5\",\"title\":\"Informasjonsmateriell til anleggseiere\",\"url\":\"\\/tema\\/miljo\\/mindre-avlop\\/vannomrader\\/vannomradeutvalget-morsa\\/informasjonsmateriell-til-anleggseiere\"},{\"id\":\"6243fcb9-9a06-4e2d-9f7b-aa162f2ddd2b\",\"title\":\"Maler\\/dokumenter i Morsakommunene\",\"url\":\"\\/tema\\/miljo\\/mindre-avlop\\/vannomrader\\/vannomradeutvalget-morsa\\/maler-dokumenter-i-morsakommunene\"},{\"id\":\"38023984-b1dd-4ce2-be64-fd34f1a55c75\",\"title\":\"Rapporter fra Vannomr\\u00E5det Morsa\",\"url\":\"\\/tema\\/miljo\\/mindre-avlop\\/vannomrader\\/vannomradeutvalget-morsa\\/rapporter-fra-vannomradet-morsa\"}]},{\"id\":\"abc0a2f4-8c51-4175-91f4-ee3d4d80689c\",\"title\":\"Vannomr\\u00E5de J\\u00E6ren\\/Aksjon J\\u00E6rvassdrag - Arbeidsgruppe avl\\u00F8p\",\"url\":\"\\/tema\\/miljo\\/mindre-avlop\\/vannomrader\\/vannomrade-jaeren-aksjon-jaervassdrag-arbeidsgruppe-avlop\"}]}]}]},{\"id\":\"05e56033-b2db-48cf-8e62-1f9dfdec617c\",\"slug\":\"landbruks\\u00F8konomi\",\"title\":\"Landbruks- \\u00F8konomi\",\"description\":\"I NIBIO produserer vi kunnskap om sammenhengene mellom samfunn, \\u00F8konomi og landbruket. Vi utarbeider statistikker og analyser om \\u00F8konomien i norsk landbruk. Materialet danner ogs\\u00E5 grunnlaget for de \\u00E5rlige jordbruksforhandlingene.\",\"displayName\":\"Landbruks\\u00F8konomi\",\"url\":\"\\/tema\\/landbruksokonomi\",\"icon\":\"\\/_\\/image\\/39f7b809-9c36-4d45-b790-a53501def3cf:20d47dd711866e7c77439913a67f0e38f20f3c8b\\/max-1280\\/Icon%207.svg?quality=60\",\"iconAlt\":\"Icon 7\",\"photo\":\"\\/_\\/image\\/7bde81cd-1f81-4417-bb84-d2c95388ca37:51d1fcef9d19edda09a9bee6dbfb71545f7e2db1\\/block-375-250\\/ef-20060831-155157-Edit.jpg?quality=60\",\"childIcon\":\"\\/_\\/image\\/9c25b06c-f17d-4eca-8878-eb8faa8664fa:558480e40c8b27def0e9a58e445a68cd14bad708\\/max-1280\\/nibio-temaikon_landbruksokonomi_neg.png?quality=60\",\"childIconAlt\":\"nibio-temaikon_landbruksokonomi_neg\",\"children\":[{\"id\":\"2dc436e4-3be7-49c5-9a5c-0abbd010913e\",\"title\":\"Offisiell statistikk om \\u00F8konomien i landbruket\",\"url\":\"\\/tema\\/landbruksokonomi\\/offisiell-statistikk-om-okonomien-i-landbruket\"},{\"id\":\"f79bcf67-2123-4304-9856-8132e5b73dd3\",\"title\":\"Totalkalkylen\",\"url\":\"\\/tema\\/landbruksokonomi\\/totalkalkylen\",\"children\":[{\"id\":\"37b969c7-23e0-4516-8281-17b57518f9ef\",\"title\":\"Prinsipper for beregning\",\"url\":\"\\/tema\\/landbruksokonomi\\/totalkalkylen\\/prinsipper-for-beregning\"},{\"id\":\"9cca2c46-ca01-4301-a9f3-f9df30be8bf3\",\"title\":\"Oppbyggingen av totalkalkyleregisteret \",\"url\":\"\\/tema\\/landbruksokonomi\\/totalkalkylen\\/oppbyggingen-av-totalkalkyleregisteret\"}]},{\"id\":\"5c8ec94b-beeb-45f2-95c4-3ca7503a09f3\",\"title\":\"Budsjettnemnda for jordbruket\",\"url\":\"\\/tema\\/landbruksokonomi\\/budsjettnemnda-for-jordbruket\",\"children\":[{\"id\":\"94663012-4150-461e-beb5-d6d5cdc72ee0\",\"title\":\"Medlemmer 2022 - 2024\",\"url\":\"\\/tema\\/landbruksokonomi\\/budsjettnemnda-for-jordbruket\\/medlemmer\"},{\"id\":\"f662c4c6-1334-4981-85ad-3489d3e9d86e\",\"title\":\"Jordbruksoppgjeret fr\\u00E5 A til \\u00C5\",\"url\":\"\\/tema\\/landbruksokonomi\\/budsjettnemnda-for-jordbruket\\/jordbruksoppgjeret-fra-a-til-a\"}]},{\"id\":\"af4e716f-bcc8-4ee5-93f1-a1d6431f2160\",\"title\":\"Grunnlagsmateriale til jordbruks-forhandlingene\",\"url\":\"\\/tema\\/landbruksokonomi\\/grunnlagsmateriale-til-jordbruksforhandlingene\"},{\"id\":\"b2766b33-9646-4051-b016-6c889f803d28\",\"title\":\"Driftsgranskingar i jord- og skogbruk\",\"url\":\"\\/tema\\/landbruksokonomi\\/driftsgranskingar-i-jordbruket\",\"children\":[{\"id\":\"efb61d5f-b855-41eb-b201-df2d341f4b95\",\"title\":\"Verdiskaping i jordbruket\",\"url\":\"\\/tema\\/landbruksokonomi\\/driftsgranskingar-i-jordbruket\\/verdiskaping-i-jordbruket\"}]},{\"id\":\"f0ba719e-2b17-4bdd-9476-a863c86878b8\",\"title\":\"\\u00D8konomistyring i landbruket\",\"url\":\"\\/tema\\/landbruksokonomi\\/okonomistyring-i-landbruket\"},{\"id\":\"ac21910b-38a6-4358-9637-8ef556573658\",\"title\":\"Selvforsyningsgrad og engrosforbruk\",\"url\":\"\\/tema\\/landbruksokonomi\\/selvforsyningsgrad-og-engrosforbruk\"},{\"id\":\"c32e1c30-4cf9-434f-adc1-afccbafc3297\",\"title\":\"Matpriser\",\"url\":\"\\/tema\\/landbruksokonomi\\/matpriser\",\"children\":[{\"id\":\"8f151fe4-a200-4536-bff1-ffbbbe4089d2\",\"title\":\"Prisutvikling 2023\",\"url\":\"\\/tema\\/landbruksokonomi\\/matpriser\\/prisutvikling-2023\"},{\"id\":\"a40d67f0-8f05-4cfa-802b-906be0dab932\",\"title\":\"Prisutvikling 2022\",\"url\":\"\\/tema\\/landbruksokonomi\\/matpriser\\/prisutvikling-2022\"},{\"id\":\"830e1e5c-1481-4a00-8b04-866aaa7f9e65\",\"title\":\"Prisutvikling 2021\",\"url\":\"\\/tema\\/landbruksokonomi\\/matpriser\\/prisutvikling-2021\"},{\"id\":\"7969cacc-452e-4bee-b742-4f9f2fbdeb18\",\"title\":\"Prisutvikling 2020\",\"url\":\"\\/tema\\/landbruksokonomi\\/matpriser\\/prisutvikling-2020\"},{\"id\":\"49806d92-9042-4c13-b93e-4399c0250b4b\",\"title\":\"Prisutvikling 2019\",\"url\":\"\\/tema\\/landbruksokonomi\\/matpriser\\/prisutvikling-2019\"},{\"id\":\"6cf78590-f0d0-41fd-a11e-5c8363629036\",\"title\":\"Prisutvikling 2018\",\"url\":\"\\/tema\\/landbruksokonomi\\/matpriser\\/prisutvikling-2018\"},{\"id\":\"d4acc704-b816-4cc7-9d17-b8f65d3c082b\",\"title\":\"Prisutvikling 2017\",\"url\":\"\\/tema\\/landbruksokonomi\\/matpriser\\/prisutvikling-2017\"}]},{\"id\":\"a59f9b60-5fea-4d12-8a72-575c5cb0216c\",\"title\":\"Standarder for koder i landbruket\",\"url\":\"\\/tema\\/landbruksokonomi\\/standarder-for-koder-i-landbruket\"}]}];\n",
              "  </script>\n",
              "<script id=\"tmpl-subject-nav-header\" type=\"text/x-handlebars-template\">\n",
              "    <div class=\"col-xs-push-8 col-xs-4 col-sm-push-0 col-sm-4 subject-photo\">\n",
              "        <img src=\"{{ photo }}\" class=\"img-responsive\" alt=\"Describing image text\">\n",
              "    </div>\n",
              "    <div class=\"col-xs-pull-4 col-xs-8 col-sm-pull-0 col-sm-8 col-md-6 subject-intro\">\n",
              "        <h2 class=\"hidden-xs hidden-sm hidden-md\">{{ title }}</h2>\n",
              "        <h2 class=\"hidden-lg\">{{#if title_small_widths }}{{ title_small_widths }}{{else}}{{ title }}{{/if}}</h2>\n",
              "        <p class=\"hidden-xs\">{{ description }}</p>\n",
              "    </div>\n",
              "    <div class=\"col-xs-12 hidden-sm hidden-md hidden-lg\">\n",
              "        <p>{{ description }}</p>\n",
              "    </div>\n",
              "</script>\n",
              "<script id=\"tmpl-subject-nav-column\" type=\"text/x-handlebars-template\">\n",
              "    <div class=\"col\">\n",
              "        {{#each children}}\n",
              "        <div>\n",
              "            <a href=\"{{ this.url }}\" data-id=\"{{ this.id }}\" class=\"follow{{#if children.length}} has-sub-items{{/if}}\">{{ this.title }}</a>\n",
              "            {{#if children.length}}\n",
              "            <a href=\"#\" class=\"expand\" data-id=\"{{ this.id }}\">\n",
              "                <span>+</span>\n",
              "                <div class=\"striper\">\n",
              "                    <div class=\"stripe\"></div>\n",
              "                    <div class=\"stripe\"></div>\n",
              "                    <div class=\"stripe\"></div>\n",
              "                </div>\n",
              "            </a>\n",
              "            {{/if}}\n",
              "        </div>\n",
              "        {{/each}}\n",
              "    </div>\n",
              "</script>\n",
              "<!-- END Subject navigation support -->\n",
              "<footer>\n",
              "<div class=\"container\">\n",
              "<div class=\"row\">\n",
              "<div class=\"col-sm-12 col-md-2 col-lg-2 logo\">\n",
              "<img alt=\"Describing image text\" class=\"img-responsive\" src=\"/_/asset/com.norsedigital.nibio:0000019024c86030/images/nibio-logo-neg.png\"/>\n",
              "<img alt=\"Miljfyrtarn ensfarget hvit logo\" class=\"img-responsive\" src=\"/_/asset/com.norsedigital.nibio:0000019024c86030/images/Miljfyrtarn-ensfarget-hvit.png\"/>\n",
              "</div>\n",
              "<div class=\"col-sm-4 col-md-offset-0 col-md-3 col-lg-3 col-lg-offset-1 contact\">\n",
              "<h3>Kontakt oss</h3>\n",
              "<table>\n",
              "<tr>\n",
              "<th>Post</th>\n",
              "<td><p>Postboks 115<br/>NO-1431 Ås</p></td>\n",
              "</tr>\n",
              "<tr>\n",
              "<th>Telefon</th>\n",
              "<td>\n",
              "<a href=\"tel:+ 47 406 04 100\">+ 47 406 04 100</a>\n",
              "</td>\n",
              "</tr>\n",
              "<tr>\n",
              "<th>E-post</th>\n",
              "<td>\n",
              "<a href=\"mailto:post@nibio.no\">post@nibio.no</a>\n",
              "</td>\n",
              "</tr>\n",
              "</table>\n",
              "</div>\n",
              "<div class=\"col-sm-4 col-md-3 col-lg-3 buttons\" style=\"width: auto;\">\n",
              "<div>\n",
              "<a class=\"btn btn-default btn-block\" href=\"/ansatte\">\n",
              "                    ANSATTE\n",
              "                    <i class=\"arrow-right\"></i>\n",
              "</a>\n",
              "</div>\n",
              "<div>\n",
              "<a class=\"btn btn-default btn-block\" href=\"/om-nibio/adresser\">\n",
              "                    ADRESSER\n",
              "                    <i class=\"arrow-right\"></i>\n",
              "</a>\n",
              "</div>\n",
              "<div>\n",
              "<a class=\"btn btn-default btn-block\" href=\"/om-nibio/nyhetsbrev-fra-nibio\">\n",
              "                    Nyhetsbrev\n",
              "                    <i class=\"arrow-right\"></i>\n",
              "</a>\n",
              "</div>\n",
              "<div>\n",
              "<a class=\"btn btn-default btn-block\" href=\"https://uustatus.no/nb/erklaringer/publisert/91f64cdf-15bc-47d4-9f3d-4eea523c6f87\">\n",
              "                    Tilgjengelighetserklæring\n",
              "                    <i class=\"arrow-right\"></i>\n",
              "</a>\n",
              "</div>\n",
              "<div>\n",
              "<a class=\"btn btn-default btn-block\" href=\"/om-nibio/personvernombudet-i-nibio/personvernerklaering-for-nibio\">\n",
              "                    Personvern\n",
              "                    <i class=\"arrow-right\"></i>\n",
              "</a>\n",
              "</div>\n",
              "</div>\n",
              "<div class=\"col-sm-4 col-md-3 col-md-offset-1 col-lg-2 col-lg-offset-1 some\" style=\"margin-left: 2%;\">\n",
              "<h3>Sosiale medier</h3>\n",
              "<div class=\"some\">\n",
              "<a href=\"https://nb-no.facebook.com/Nibio.no/ \">\n",
              "<img alt=\"facebook\" src=\"/_/image/539c1f67-fbd8-485b-895a-9a4a3646bf8f:eaebbef4c0cc8e057327afd2162e9bab75d66d4d/height-54/facebook.png\"/>\n",
              "</a><a href=\"https://twitter.com/nibio_no \">\n",
              "<img alt=\"Twitter\" src=\"/_/image/25a87da6-ee7c-48a7-aaae-b22f265b4f1b:f74b4a0e1843605b7e3fcbf45bdf87b062441dbc/height-54/twitter.png\"/>\n",
              "</a><a href=\"https://www.instagram.com/nibio_no/\">\n",
              "<img alt=\"Instagram\" src=\"/_/image/4d6ebfda-a997-4e74-9c4d-510e633c8f7a:7251a93b1b35b94c62b56b4fc4804cb4bd16b010/height-54/instagram.png\"/>\n",
              "</a><a href=\"https://www.linkedin.com/company/80106/\">\n",
              "<img alt=\"LinkedIn\" src=\"/_/image/23fc91ec-e8d8-40b3-9903-c54046577dda:64c803d65da303d0b896c7f54fc9b4779362f354/height-54/linkedin.png\"/>\n",
              "</a><a href=\"https://www.youtube.com/channel/UCfvBzDisycpX9ks3PkWiEFw\">\n",
              "<img alt=\"YouTube\" src=\"/_/image/52b3bd69-bd13-40c8-bd0e-613fd44c56ed:5feb5111d47ff9f44f30390b092c1674f1e7d5d5/height-54/youtube@2x%20(1).png\"/>\n",
              "</a><a href=\"https://www.nibio.no/utils/nibio-rss\">\n",
              "<img alt=\"Nibio RSS\" src=\"/_/image/f4b607fd-8336-4e96-8710-a96f6151bffb:57976b3fe71e15b4bad42bda4b899bfec4a48905/height-54/rss.png\"/>\n",
              "</a>\n",
              "</div>\n",
              "<hr/>\n",
              "<p>2024 © Norsk institutt for bioøkonomi</p>\n",
              "<!-- <p class=\"cookie-information\">\n",
              "                    <span data-th-text=\"${portal.localize({'_key=footer.cookiesinfo','_locale='+content.language})}\"\n",
              "                        data-th-remove=\"tag\"></span><br />\n",
              "                    <a href=\"#\" data-th-href=\"${PRIVACY_URL}\" class=\"privacy\" data-th-if=\"${PRIVACY_URL}\"\n",
              "                        data-th-text=\"${portal.localize({'_key=footer.privacylink','_locale='+content.language})}\">footer.privacylink</a>\n",
              "                </p> -->\n",
              "</div>\n",
              "</div>\n",
              "</div>\n",
              "</footer>\n",
              "<script>\n",
              "    var translations = {\"expandTable\":\"Utvid tabellen \"};\n",
              "    var ASSETS_PATH = \"\\/_\\/asset\\/com.norsedigital.nibio:0000019024c86030\\/.\";\n",
              "</script>\n",
              "<script src=\"/_/asset/com.norsedigital.nibio:0000019024c86030/scripts/vendor.js\"></script>\n",
              "<script src=\"/_/asset/com.norsedigital.nibio:0000019024c86030/scripts/plugins.js\"></script>\n",
              "<script src=\"/_/asset/com.norsedigital.nibio:0000019024c86030/scripts/main.js\"></script>\n",
              "<script src=\"/_/asset/com.norsedigital.nibio:0000019024c86030/scripts/mapbox.js\"></script>\n",
              "<!-- endbuild -->\n",
              "</body>\n",
              "</html>"
            ]
          },
          "metadata": {},
          "execution_count": 5
        }
      ]
    },
    {
      "cell_type": "markdown",
      "source": [
        "# Topics Hierarchy"
      ],
      "metadata": {
        "id": "-Nl0lmMXyRxr"
      }
    },
    {
      "cell_type": "markdown",
      "source": [
        "From the home webpage, we can download the main topics, their descriptions and urls to the more narrow and detailed webpages. This text data has hierarchical structure and is stored in in the script with the variable called\n",
        "\n",
        "\n",
        "```\n",
        "var subjectHierarchy\n",
        "```"
      ],
      "metadata": {
        "id": "xxAW-Pt-rtZb"
      }
    },
    {
      "cell_type": "code",
      "source": [
        "SCRIPT_VARIABLE_NAME = 'subjectHierarchy'"
      ],
      "metadata": {
        "id": "PyMiPiDR1ahY"
      },
      "execution_count": null,
      "outputs": []
    },
    {
      "cell_type": "markdown",
      "source": [
        "We find all the scripts containing the required variable"
      ],
      "metadata": {
        "id": "IG3xMdNVvnPm"
      }
    },
    {
      "cell_type": "code",
      "source": [
        "scripts = home_webpage.find_all('script')\n",
        "subject_hierarchy_scripts = [script for script in scripts if SCRIPT_VARIABLE_NAME in str(script)]\n",
        "len(subject_hierarchy_scripts)"
      ],
      "metadata": {
        "id": "jQlHS84BbcHa"
      },
      "execution_count": null,
      "outputs": []
    },
    {
      "cell_type": "markdown",
      "source": [
        "There is only one script on the webpage with variable= *'subjectHierarchy'*, we can retrieve it"
      ],
      "metadata": {
        "id": "lXnqw7zFCoQK"
      }
    },
    {
      "cell_type": "code",
      "source": [
        "subject_hierarchy_script = str(subject_hierarchy_scripts[0])\n",
        "subject_hierarchy_script"
      ],
      "metadata": {
        "id": "GuPMJD0aBJrq"
      },
      "execution_count": null,
      "outputs": []
    },
    {
      "cell_type": "markdown",
      "source": [
        "Let's extract the content of the subjectHierarchy variable"
      ],
      "metadata": {
        "id": "wTZbMsdZ5kt5"
      }
    },
    {
      "cell_type": "code",
      "source": [
        "text_to_remove_from_beginning = '<script>\\n    var subjectHierarchy = '\n",
        "text_to_remove_from_end = ';\\n  </script>'\n",
        "\n",
        "subjects_hierarchy_content = subject_hierarchy_script.lstrip(text_to_remove_from_beginning + '?')\n",
        "subjects_hierarchy_content = subjects_hierarchy_content.rstrip(text_to_remove_from_end + '?')"
      ],
      "metadata": {
        "id": "x8H0Od9q5wcf"
      },
      "execution_count": null,
      "outputs": []
    },
    {
      "cell_type": "code",
      "source": [
        "subjects_hierarchy_content"
      ],
      "metadata": {
        "id": "dXWeEMU15cIv"
      },
      "execution_count": null,
      "outputs": []
    },
    {
      "cell_type": "markdown",
      "source": [
        "Convert text into json format"
      ],
      "metadata": {
        "id": "5yR-YJcT0eU4"
      }
    },
    {
      "cell_type": "code",
      "source": [
        "subjects_json = json.loads(subjects_hierarchy_content)"
      ],
      "metadata": {
        "id": "uk_Nrg7r7qqQ"
      },
      "execution_count": null,
      "outputs": []
    },
    {
      "cell_type": "code",
      "source": [
        "print(json.dumps(subjects_json, ensure_ascii = False, indent = 4))"
      ],
      "metadata": {
        "id": "8Bkl6_fJ0pk3"
      },
      "execution_count": null,
      "outputs": []
    },
    {
      "cell_type": "markdown",
      "source": [
        "# Topics Description"
      ],
      "metadata": {
        "id": "6Y3NyqrDGyG7"
      }
    },
    {
      "cell_type": "markdown",
      "source": [
        "Form the subject json file, we can retrieve high level topics title and description."
      ],
      "metadata": {
        "id": "GPhii-bWUHI7"
      }
    },
    {
      "cell_type": "code",
      "source": [
        "subjects_description = {}\n",
        "\n",
        "for subject in subjects_json:\n",
        "    subject_dict = dict(subject)\n",
        "\n",
        "    title = subject_dict['title']\n",
        "    description = subject_dict['description']\n",
        "\n",
        "    subjects_description[title] = description"
      ],
      "metadata": {
        "id": "7v-WPqnpIdI8"
      },
      "execution_count": null,
      "outputs": []
    },
    {
      "cell_type": "code",
      "source": [
        "subjects_description"
      ],
      "metadata": {
        "id": "ZNuZ-qUPIvJG"
      },
      "execution_count": null,
      "outputs": []
    },
    {
      "cell_type": "markdown",
      "source": [
        "# Methods for Extracting Hierarchical Data"
      ],
      "metadata": {
        "id": "rtU5070lJo9w"
      }
    },
    {
      "cell_type": "markdown",
      "source": [
        "We can retrieve webpages text by following the links from the subject json file. We can use recursion to cover all links hierarchically"
      ],
      "metadata": {
        "id": "t_oHAsQ1UjsN"
      }
    },
    {
      "cell_type": "code",
      "source": [
        "def extract_subject_info(\n",
        "    content, info_type, extraction_method, children_extraction_method\n",
        "    ):\n",
        "\n",
        "    \"\"\" Fills up subject information and retreives children information\n",
        "    Uses provided extraction methods\n",
        "\n",
        "    Parameters\n",
        "    ----------\n",
        "    content: str\n",
        "          Content to extract information from\n",
        "    info_type: str\n",
        "          Type of information to extract\n",
        "    extraction_method: function\n",
        "          Method to extract current subject information\n",
        "    children_extraction_method: function\n",
        "          Method to extract children information\n",
        "\n",
        "    Output\n",
        "    ----------\n",
        "    subjects_info: dict\n",
        "    \"\"\"\n",
        "\n",
        "    subjects_info = {}\n",
        "\n",
        "    # extract subject information\n",
        "    title, info = extraction_method(content)\n",
        "\n",
        "    subjects_info['title'] = title\n",
        "    subjects_info[info_type] = info\n",
        "\n",
        "    # extract sub subjects information\n",
        "    subsubjects_info = children_extraction_method(\n",
        "        content, info_type, extraction_method\n",
        "        )\n",
        "\n",
        "    if subsubjects_info:\n",
        "        subjects_info['children'] = subsubjects_info\n",
        "\n",
        "    return subjects_info"
      ],
      "metadata": {
        "id": "2xv_ilO9XFkz"
      },
      "execution_count": null,
      "outputs": []
    },
    {
      "cell_type": "code",
      "source": [
        "def extract_children_info(\n",
        "    content, info_type, extraction_method\n",
        "    ):\n",
        "\n",
        "    \"\"\" Retrieves children\n",
        "    for each child retreives children information recursively\n",
        "    by calling extract_subject_info method providing itself as a parameter\n",
        "    (Depth First Search approach)\n",
        "\n",
        "    Parameters\n",
        "    ----------\n",
        "    content: str\n",
        "          Content to extract information from\n",
        "    info_type: str\n",
        "          Type of information to extract\n",
        "    extraction_method: function\n",
        "          Method used to extract information\n",
        "\n",
        "    Output\n",
        "    ----------\n",
        "    childrens_info: list\n",
        "    \"\"\"\n",
        "\n",
        "    content_dict = dict(content)\n",
        "    children = content_dict.get('children')\n",
        "\n",
        "    children_info = []\n",
        "    if children is not None and len(children) > 0:\n",
        "        for child in children:\n",
        "\n",
        "            child_info = extract_subject_info(\n",
        "                child, info_type, extraction_method, extract_children_info\n",
        "                )\n",
        "\n",
        "            children_info.append(child_info)\n",
        "\n",
        "    return children_info"
      ],
      "metadata": {
        "id": "aCINLWXvJl3y"
      },
      "execution_count": null,
      "outputs": []
    },
    {
      "cell_type": "markdown",
      "source": [
        "# URLs"
      ],
      "metadata": {
        "id": "xcbS1oRfI7Fm"
      }
    },
    {
      "cell_type": "markdown",
      "source": [
        "For each subject, we extract title and url. If a subject has multiple subtopics, we extract their titles and urls recursively"
      ],
      "metadata": {
        "id": "_MCZ9uAYMMhb"
      }
    },
    {
      "cell_type": "code",
      "source": [
        "def extract_subjects_url_info(content):\n",
        "\n",
        "    content_dict = dict(content)\n",
        "\n",
        "    title = content_dict['title']\n",
        "    url = content_dict['url']\n",
        "\n",
        "    return title, url"
      ],
      "metadata": {
        "id": "FD2Cx_gETV4Y"
      },
      "execution_count": null,
      "outputs": []
    },
    {
      "cell_type": "code",
      "source": [
        "subjects_data = []\n",
        "\n",
        "for subject in subjects_json:\n",
        "\n",
        "    subject_info = extract_subject_info(\n",
        "        subject, 'url', extract_subjects_url_info, extract_children_info\n",
        "        )\n",
        "\n",
        "    subjects_data.append(subject_info)"
      ],
      "metadata": {
        "id": "ILLhKjzrZJnv"
      },
      "execution_count": null,
      "outputs": []
    },
    {
      "cell_type": "code",
      "source": [
        "subjects_data"
      ],
      "metadata": {
        "id": "_IbUN3UFaRhp"
      },
      "execution_count": null,
      "outputs": []
    },
    {
      "cell_type": "markdown",
      "source": [
        "Extracting webpages takes time and we don't want anything to break during that process. So we perform two steps:\n",
        "1. Extracting webpages\n",
        "2. Extracting text from the webpages"
      ],
      "metadata": {
        "id": "8sg6mEoMS7-6"
      }
    },
    {
      "cell_type": "markdown",
      "source": [
        "# Webpages"
      ],
      "metadata": {
        "id": "6HkAfT8uLBfi"
      }
    },
    {
      "cell_type": "code",
      "source": [
        "def extract_subjects_webpage(content):\n",
        "\n",
        "    title, url = extract_subjects_url_info(content)\n",
        "    subject_url = NIBIO_URL + '/' + url\n",
        "\n",
        "    page = requests.get(subject_url)\n",
        "    page.encoding = page.apparent_encoding\n",
        "    soup = BeautifulSoup(page.text, 'html')\n",
        "\n",
        "    return title, soup"
      ],
      "metadata": {
        "id": "VqorfilAM_q6"
      },
      "execution_count": null,
      "outputs": []
    },
    {
      "cell_type": "markdown",
      "source": [
        "For each topic, extract topic webpage and webpages of subtopics recursively"
      ],
      "metadata": {
        "id": "3AqQhtbJynZ4"
      }
    },
    {
      "cell_type": "code",
      "source": [
        "subjects_webpage_data = []\n",
        "\n",
        "for subject in subjects_data:\n",
        "\n",
        "    subject_webpage = extract_subject_info(\n",
        "        subject, 'webpage', extract_subjects_webpage, extract_children_info\n",
        "        )\n",
        "\n",
        "    subjects_webpage_data.append(subject_webpage)"
      ],
      "metadata": {
        "id": "e9dk9kyALAXu"
      },
      "execution_count": null,
      "outputs": []
    },
    {
      "cell_type": "markdown",
      "source": [
        "# Text"
      ],
      "metadata": {
        "id": "vW4P6ROuU_Ja"
      }
    },
    {
      "cell_type": "markdown",
      "source": [
        "To retrieve text, we need to parse the webpages downloaded from the links"
      ],
      "metadata": {
        "id": "mB-MMi4QWDNR"
      }
    },
    {
      "cell_type": "code",
      "source": [
        "def extract_subject_info(\n",
        "    content, info_type, extraction_method, children_extraction_method\n",
        "    ):\n",
        "\n",
        "    subjects_info = {}\n",
        "\n",
        "    # extract subject information\n",
        "    title, info = extraction_method(content)\n",
        "    detailed_info = extract_detailed_subjects_text(content)\n",
        "\n",
        "    if info:\n",
        "        subjects_info['title'] = title\n",
        "\n",
        "        if detailed_info:\n",
        "            info = info + '\\n ' + detailed_info\n",
        "        subjects_info[info_type] = info\n",
        "\n",
        "    subsubjects_info = children_extraction_method(\n",
        "        content, info_type, extraction_method\n",
        "        )\n",
        "\n",
        "    if subsubjects_info:\n",
        "        subjects_info['children'] = subsubjects_info\n",
        "\n",
        "    return subjects_info"
      ],
      "metadata": {
        "id": "IA4Ds6-FINOP"
      },
      "execution_count": null,
      "outputs": []
    },
    {
      "cell_type": "markdown",
      "source": [
        "On each of the children webpages we have data of the structure shown in an example:\n",
        "```\n",
        "<section class=\"intro\">\n",
        "            <div class=\"container\">\n",
        "                <div class=\"row heading\">\n",
        "                    <div class=\"locale-switch-only text-right hidden-sm hidden-md hidden-lg\">\n",
        "                        \n",
        "                    </div>\n",
        "                    <div class=\"col-sm-5\">\n",
        "                        <h1>Bruksområder for frø- og skogplanter</h1>\n",
        "                    </div>\n",
        "                    <div class=\"col-sm-7\">\n",
        "                        <p>For å få en klimatilpasset skog er det viktig å bruke riktig plantemateriale til lokaliteten. I dag brukes det stort sett foredla materialer til foryngelse av granskogen. Det er norsk foredlet granfrø tilgjengelig for alle områder på Østlandet, Vestlandet og deler av Trøndelag</p>\n",
        "                    </div>\n",
        "                    <div class=\"col-sm-12 col-md-7 col-md-offset-5\">\n",
        "                        \n",
        "                        <a class=\"btn btn-default jump-down\" href=\"#section-summary\">\n",
        "                            <span>Les mer</span>\n",
        "                        </a>\n",
        "                    </div>\n",
        "                </div>\n",
        "            </div>\n",
        "        </section>\n",
        "```\n",
        "We can retieve title and description\n"
      ],
      "metadata": {
        "id": "hkS3gF3-YWY0"
      }
    },
    {
      "cell_type": "code",
      "source": [
        "def extract_subjects_text(content):\n",
        "\n",
        "    content_dict = dict(content)\n",
        "\n",
        "    webpage = content_dict['webpage']\n",
        "    intro_section = webpage.find(attrs = {'class' : 'intro'})\n",
        "\n",
        "    title = intro_section.find('h1').getText().strip()\n",
        "    title = title.lstrip('<h1>')\n",
        "    title = title.rstrip('</h1>')\n",
        "\n",
        "    description = intro_section.find('p').getText().strip()\n",
        "\n",
        "    return title, description"
      ],
      "metadata": {
        "id": "PKqA7L1fLeGR"
      },
      "execution_count": null,
      "outputs": []
    },
    {
      "cell_type": "markdown",
      "source": [
        "Each webpage contains text in the following sections:\n",
        "\n",
        "```\n",
        "<section data-portal-component-type=\"text\">\n",
        "<h3>Nasjonale anbefalinger&nbsp;</h3>\n",
        "\n",
        "<p>Det er Skogfrøverket som har ansvaret for å utarbeide de nasjonale anbefalingene for bruk av skoglig formeringsmaterialer. Skogfrøverket baserer sine anbefalinger på en rekke avkomforsøk, proveniensforsøk, vitenskapelige publikasjoner og gjeldende forskrifter og regler. De nasjonale anbefalinger skal sikre en best mulig klimatilpasset skog, genetisk- gevinst og variasjon.&nbsp;</p>\n",
        "\n",
        "<p>Skogfrøverket lanserte januar 2022 «Proveniensvelgeren» et nytt kartbasert verktøy for å finne de beste alternativene for foryngelse av skogen. Lenken til «proveniensvelgeren» finner du under \"Lenker\" lenger på siden.</p>\n",
        "\n",
        "<h3>Forskrift og OECD regelverk</h3>\n",
        "\n",
        "<p>Forskrift om skogfrø og skogplanter er hjemlet i skogbruksloven. Dagens forskrift er fra 1996 og er under revidering. Forskriften skal sikre at det brukes frø og planter av god kvalitet ved foryngelse av skog og at hensynet til det genetiske mangfoldet i skogen ivaretas. Forskriften gjelder for alle treslag som anvendes til skogbruksformål og omfatter produksjon, omsetning og bruk av skoglig formeringsmateriale.</p>\n",
        "\n",
        "<p>Alt formeringsmateriale som omsettes i Norge må være godkjent og sertifisert. Skoglig formeringsmateriale deles inn i og sertifiseres under fire forskjellige kategorier som følger OECD regelverket:</p>\n",
        "\n",
        "<ul>\n",
        "\t<li>Lokalitetsbestemt (source identified)</li>\n",
        "\t<li>Utvalgt (selected)</li>\n",
        "\t<li>Kvalifisert (qualified)</li>\n",
        "\t<li>Testet (tested).</li>\n",
        "</ul>\n",
        "\n",
        "<p>Alle krav knyttet til sertifiseringen er beskrevet i «OECD forest seed and plant scheme, rules and regulations. Dette er et internasjonalt sertifiseringssystem for handel med skoglig formeringsmateriale. Sertifiseringssystemet skal sikre at frø og planter i handelen har blitt samlet inn og produsert på en slik måte at identiteten til materialene er sikret. Et OECD sertifikat inneholder informasjon om den genetiske kvaliteten til materialene.</p>\n",
        "\n",
        "<p>Regelverket ble etablert i 1967, men revisjoner oppgjennom årene. Norge har vært medlem siden tidlig på 70-tallet.</p>\n",
        "\n",
        "</section>\n",
        "```\n",
        "\n",
        "A header might contain paragraphs and ordered/unordered lists. We can parse them\n",
        "\n"
      ],
      "metadata": {
        "id": "FAzR5fGbipmV"
      }
    },
    {
      "cell_type": "code",
      "source": [
        "def extract_detailed_subjects_text(content):\n",
        "\n",
        "    subsubjects_info = []\n",
        "\n",
        "    content_dict = dict(content)\n",
        "    webpage = content_dict['webpage']\n",
        "\n",
        "    content_sections = webpage.find_all(attrs = {\n",
        "        'data-portal-component-type' : 'text'\n",
        "        })\n",
        "    for content_section in content_sections:\n",
        "        for header in content_section.find_all(['h3']):\n",
        "\n",
        "            title = header.get_text()\n",
        "\n",
        "            text = []\n",
        "            text_started = False\n",
        "\n",
        "            for elem in header.find_next_siblings():\n",
        "\n",
        "                if text_started and not (\n",
        "                    elem.name == 'p' or\n",
        "                    elem.name == 'ul' or\n",
        "                    elem.name == 'li' or\n",
        "                    elem.name == 'ol'\n",
        "                    ):\n",
        "                    break\n",
        "\n",
        "                if not text_started and elem.name == 'p':\n",
        "                    text_started = True\n",
        "\n",
        "                if text_started:\n",
        "\n",
        "                    new_text = ''\n",
        "                    if elem.name == 'ul' or elem.name == 'ol':\n",
        "                        li_list = elem.find_all('li')\n",
        "                        li_list = [li.get_text() for li in li_list]\n",
        "                        new_text = ', '.join(li_list)\n",
        "                    else:\n",
        "                        new_text = elem.get_text()\n",
        "\n",
        "                    text.append(new_text)\n",
        "\n",
        "            text = '\\n '.join(text)\n",
        "            if text:\n",
        "                subsubjects_info.append(title)\n",
        "                subsubjects_info.append(text)\n",
        "\n",
        "    subsubjects_info = '\\n '.join(subsubjects_info)\n",
        "    return subsubjects_info"
      ],
      "metadata": {
        "id": "cjs4xoEBX1L-"
      },
      "execution_count": null,
      "outputs": []
    },
    {
      "cell_type": "markdown",
      "source": [
        "We will use\n",
        "- topics description extracted previously\n",
        "- information obtained from parsing webpages of subtopics recursively"
      ],
      "metadata": {
        "id": "LZNoUQ0d0cQD"
      }
    },
    {
      "cell_type": "code",
      "source": [
        "times_printed = 0\n",
        "\n",
        "subjects_text_data = []\n",
        "\n",
        "for subject in subjects_webpage_data:\n",
        "\n",
        "    title = subject['title']\n",
        "    description = subjects_description[title]\n",
        "\n",
        "    subject_text = {}\n",
        "    subject_text['title'] = title\n",
        "    subject_text['text'] = description\n",
        "\n",
        "    subsubjects_info = extract_children_info(\n",
        "        subject, 'text', extract_subjects_text\n",
        "        )\n",
        "\n",
        "    if subsubjects_info:\n",
        "        subject_text['children'] = subsubjects_info\n",
        "\n",
        "    subjects_text_data.append(subject_text)"
      ],
      "metadata": {
        "id": "0ggBGb0iVCYi"
      },
      "execution_count": null,
      "outputs": []
    },
    {
      "cell_type": "code",
      "source": [
        "agriculture_text_from_nibio = subjects_text_data"
      ],
      "metadata": {
        "id": "gW-mKAqazSci"
      },
      "execution_count": null,
      "outputs": []
    },
    {
      "cell_type": "markdown",
      "source": [
        "# Output"
      ],
      "metadata": {
        "id": "1C35dNVgzkT0"
      }
    },
    {
      "cell_type": "code",
      "source": [
        "print(json.dumps(agriculture_text_from_nibio, ensure_ascii = False, indent = 4))"
      ],
      "metadata": {
        "id": "SMGTq2-n3Nci"
      },
      "execution_count": null,
      "outputs": []
    },
    {
      "cell_type": "code",
      "source": [
        "output_text_data = json.dumps(agriculture_text_from_nibio, ensure_ascii = False, indent = 4)\n",
        "\n",
        "with open('nibio_text_data.json', 'w') as f:\n",
        "  f.write(str(output_text_data))\n",
        "\n",
        "files.download('nibio_text_data.json')"
      ],
      "metadata": {
        "id": "eWgyl_6xP2y4"
      },
      "execution_count": null,
      "outputs": []
    },
    {
      "cell_type": "markdown",
      "source": [
        "# Validation of Text Titles\n",
        "\n",
        "\n",
        "\n"
      ],
      "metadata": {
        "id": "W6NLJW43suHr"
      }
    },
    {
      "cell_type": "code",
      "source": [
        "all_titles = []\n",
        "\n",
        "def retrieve_text_data(topics):\n",
        "    for subject in topics:\n",
        "\n",
        "        title = subject.get('title')\n",
        "        all_titles.append(title)\n",
        "\n",
        "        children = subject.get('children')\n",
        "\n",
        "        # recursion\n",
        "        if children:\n",
        "            retrieve_text_data(children)"
      ],
      "metadata": {
        "id": "096YZibXsyAE"
      },
      "execution_count": null,
      "outputs": []
    },
    {
      "cell_type": "code",
      "source": [
        "retrieve_text_data(agriculture_text_from_nibio)"
      ],
      "metadata": {
        "id": "NGQoG6xhw7b_"
      },
      "execution_count": null,
      "outputs": []
    },
    {
      "cell_type": "code",
      "source": [
        "len(all_titles)"
      ],
      "metadata": {
        "id": "EPfqZQ6G1b19"
      },
      "execution_count": null,
      "outputs": []
    },
    {
      "cell_type": "code",
      "source": [
        "print(*all_titles, sep = '\\n ')"
      ],
      "metadata": {
        "id": "jnQ5sgQd23Ip"
      },
      "execution_count": null,
      "outputs": []
    },
    {
      "cell_type": "markdown",
      "source": [
        "### Duplicates"
      ],
      "metadata": {
        "id": "O89NuViL8AOy"
      }
    },
    {
      "cell_type": "code",
      "source": [
        "seen = set()\n",
        "duplicates_titles = [x for x in all_titles if x in seen or seen.add(x)]"
      ],
      "metadata": {
        "id": "kXplEmga7_GY"
      },
      "execution_count": null,
      "outputs": []
    },
    {
      "cell_type": "code",
      "source": [
        "print('Duplicates in titles:\\n')\n",
        "print(*duplicates_titles, sep = '\\n')"
      ],
      "metadata": {
        "id": "ABb5_0IF8NWN"
      },
      "execution_count": null,
      "outputs": []
    }
  ]
}
